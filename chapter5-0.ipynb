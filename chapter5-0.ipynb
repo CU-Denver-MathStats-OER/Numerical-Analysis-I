{
 "cells": [
  {
   "cell_type": "markdown",
   "id": "a40cea43",
   "metadata": {},
   "source": [
    "# Chapter 5 Numerical Quadrature and Differentiation"
   ]
  },
  {
   "cell_type": "markdown",
   "id": "7f3f9a14",
   "metadata": {},
   "source": [
    "Estimating $\\int_{a}^{b}f(x)dx$ using sums of the form $\\sum_{i=0}^{n}w_{i}f(x_{i})$\n",
    "is known as the quadrature problem. Here $w_{i}$ are called weights,\n",
    "and $x_{i}$ are called nodes. The objective is to determine the nodes\n",
    "and weights to minimize error."
   ]
  }
 ],
 "metadata": {
  "kernelspec": {
   "display_name": "Python 3 (ipykernel)",
   "language": "python",
   "name": "python3"
  },
  "language_info": {
   "codemirror_mode": {
    "name": "ipython",
    "version": 3
   },
   "file_extension": ".py",
   "mimetype": "text/x-python",
   "name": "python",
   "nbconvert_exporter": "python",
   "pygments_lexer": "ipython3",
   "version": "3.9.7"
  },
  "latex_envs": {
   "LaTeX_envs_menu_present": true,
   "autoclose": false,
   "autocomplete": true,
   "bibliofile": "biblio.bib",
   "cite_by": "apalike",
   "current_citInitial": 1,
   "eqLabelWithNumbers": true,
   "eqNumInitial": 1,
   "hotkeys": {
    "equation": "Ctrl-E",
    "itemize": "Ctrl-I"
   },
   "labels_anchors": false,
   "latex_user_defs": false,
   "report_style_numbering": false,
   "user_envs_cfg": false
  }
 },
 "nbformat": 4,
 "nbformat_minor": 5
}
