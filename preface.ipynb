{
 "cells": [
  {
   "cell_type": "markdown",
   "id": "25be8466",
   "metadata": {},
   "source": [
    "# Preface"
   ]
  },
  {
   "cell_type": "markdown",
   "id": "141a806d",
   "metadata": {},
   "source": [
    "The book is based on \"First semester in Numerical Analysis with Julia\", written by Giray Okten [^1].  The contents of the original book are retained, while all the algorithms are implemented in Python (Version 3.9.7). Python is an open source (under OSI), interpreted, general-purpose programming language that has a large number of users around the world. Python is ranked the third in August 2020 by the TIOBE programming community index [^2], a measure of popularity of programming languages, and is the top-ranked interpreted language. We hope this book will better serve readers who are interested in a first course in Numerical Analysis, but are more familiar with Python for the implementation of the algorithms.\n",
    "\n",
    "The first chapter of the book has a self-contained tutorial for Python, including how to set up the computer environment. Anaconda, the open-source individual edition, is recommended for an easy installation of Python and effortless management of Python packages, and the Jupyter environment, a web-based interactive development environment for Python as well as many other programming languages, was used throughout the book and is recommended to the readers for easy code developement, graph visualization and reproducibility.\n",
    "\n",
    "The book was also inspired by a series of Open Educational Resources workshops at University of Colorado Denver and supported partially by the professional development funding thereof. Yaning Liu also thanks his students in his Numerical Analysis classes, who enjoyed using Python to implement the algorithms and motivated him to write a Numerical Analysis textbook with codes in Python.\n",
    "\n",
    "\\begin{equation*}\n",
    "\\begin{array}[l l l]\n",
    "\\text{Yaning \\, Liu}  & &  \\text{Giray Okten}\\\\\n",
    "\\text{August 2020}  & & \\text{August 2020}\\\\\n",
    "\\text{Denver, Colorado} & & \\text{Tallahassee, Florida}\n",
    "\\end{array}\n",
    "\\end{equation*}\n",
    "\n",
    "[^1]: https://open.umn.edu/opentextbooks/textbooks/first-semester-in-numerical-analysis-with-julia\n",
    "[^2]: (https://www.tiobe.com/tiobe-index/)"
   ]
  }
 ],
 "metadata": {
  "kernelspec": {
   "display_name": "Python 3 (ipykernel)",
   "language": "python",
   "name": "python3"
  },
  "language_info": {
   "codemirror_mode": {
    "name": "ipython",
    "version": 3
   },
   "file_extension": ".py",
   "mimetype": "text/x-python",
   "name": "python",
   "nbconvert_exporter": "python",
   "pygments_lexer": "ipython3",
   "version": "3.9.7"
  },
  "latex_envs": {
   "LaTeX_envs_menu_present": true,
   "autoclose": false,
   "autocomplete": true,
   "bibliofile": "biblio.bib",
   "cite_by": "apalike",
   "current_citInitial": 1,
   "eqLabelWithNumbers": true,
   "eqNumInitial": 1,
   "hotkeys": {
    "equation": "Ctrl-E",
    "itemize": "Ctrl-I"
   },
   "labels_anchors": false,
   "latex_user_defs": false,
   "report_style_numbering": false,
   "user_envs_cfg": false
  }
 },
 "nbformat": 4,
 "nbformat_minor": 5
}
