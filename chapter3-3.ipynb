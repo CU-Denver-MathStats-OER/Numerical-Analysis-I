{
 "cells": [
  {
   "cell_type": "markdown",
   "id": "710f4052",
   "metadata": {},
   "source": [
    "# 3.3 Cholesky decomposition"
   ]
  },
  {
   "cell_type": "markdown",
   "id": "7a961c2e",
   "metadata": {},
   "source": [
    "We now consider a special form of LU decomposition, when the matrix satisfies certain properties."
   ]
  },
  {
   "cell_type": "markdown",
   "id": "aeb29d39",
   "metadata": {},
   "source": [
    "\\begin{definition}[Positive Definite]\\label{def:PD}\n",
    "A real matrix $A$ is positive definite if $\\boldsymbol{v}^TA\\boldsymbol{v}>0$ for any nonzero vector $\\boldsymbol{v}$.\n",
    "\\end{definition}"
   ]
  },
  {
   "cell_type": "markdown",
   "id": "51b90515",
   "metadata": {},
   "source": [
    "For a symmetric positive definite (SPD) matrix $A$, the LU decomposition has the particular form of\n",
    "\\begin{equation*}\n",
    "A =R^TR\n",
    "\\end{equation*}\n",
    "where $R$ is an upper triangular matrix. Such a decomposition is called **Cholesky decomposition**."
   ]
  },
  {
   "cell_type": "markdown",
   "id": "f3cb6e62",
   "metadata": {},
   "source": [
    "\\begin{theorem}\\label{theo:PD_properties}\n",
    "An SPD matrix has the following properties:\n",
    "\n",
    "1. Eigenvalues of an SPD matrix are positive\n",
    "\n",
    "2. The determinant of an SPD matrix is positive\n",
    "\n",
    "3. Any principal submatrix of an SPD matrix is SPD. (A principal submatrix is a submatrix whose diagonal elements are also those of the original matrix.)\n",
    "\\end{theorem}"
   ]
  },
  {
   "cell_type": "markdown",
   "id": "427b1330",
   "metadata": {},
   "source": [
    "We use a $2 \\times 2$ example to inspire us to the algorithm for a general $n \\times n$ SPD matrix.\n",
    "\n",
    "For a general $2 \\times 2$ SPD matrix,\n",
    "\\begin{equation*}\n",
    "A = \n",
    "\\begin{bmatrix}\n",
    "a & b \\\\\n",
    "b & c\n",
    "\\end{bmatrix},\n",
    "\\end{equation*}\n",
    "the factor $R$ in the Cholesky decomposition $A=R^TR$ has the following general form:\n",
    "\\begin{equation*}\n",
    "R = \n",
    "\\begin{bmatrix}\n",
    "\\alpha & \\beta \\\\\n",
    "0 & \\gamma\n",
    "\\end{bmatrix}.\n",
    "\\end{equation*}\n",
    "Then we have\n",
    "\\begin{equation*}\n",
    "R^TR = \n",
    "\\begin{bmatrix}\n",
    "\\alpha & 0 \\\\\n",
    "\\beta & \\gamma\n",
    "\\end{bmatrix}\n",
    "\\begin{bmatrix}\n",
    "\\alpha & \\beta \\\\\n",
    "0 & \\gamma\n",
    "\\end{bmatrix}\n",
    "=\n",
    "\\begin{bmatrix}\n",
    "\\alpha^2 & \\alpha\\beta \\\\\n",
    "\\alpha\\beta & \\beta^2+\\gamma^2\n",
    "\\end{bmatrix}\n",
    "=\n",
    "\\begin{bmatrix}\n",
    "a & b \\\\\n",
    "b & c\n",
    "\\end{bmatrix}\n",
    "= A.\n",
    "\\end{equation*}\n",
    "\n",
    "An elementwise comparison of the elements in $R^TR$ and $A$ gives the following system of equations\n",
    "\\begin{align*}\n",
    "\\alpha^2 &= a \\\\\n",
    "\\alpha\\beta &= b \\\\\n",
    "\\beta^2 + \\gamma^2 &= c,\n",
    "\\end{align*}\n",
    "which leads to\n",
    "\\begin{align}\n",
    "\\alpha &= \\sqrt{a} \\label{eq:sqrtalpha} \\\\\n",
    "\\beta &= b/\\alpha = b/\\sqrt{a} \\nonumber \\\\\n",
    "\\gamma &= \\sqrt{c-\\beta^2} = \\sqrt{(ac-b^2)/a}. \\label{eq:sqrtgamma}\n",
    "\\end{align}\n",
    "\n",
    "Note that $R$ is not unique, since a negative sign can be chosen for each of the two square roots in Eqns. \\eqref{eq:sqrtalpha} and \\eqref{eq:sqrtgamma}."
   ]
  },
  {
   "cell_type": "markdown",
   "id": "ab6eeb17",
   "metadata": {},
   "source": [
    "\\begin{example}\\label{example:2by2cholesky}\n",
    "Find the Cholesky decomposition for the $2 \\times 2$ SPD matrix \n",
    "\\begin{equation*}\n",
    "\\begin{bmatrix}\n",
    "4 & -2 \\\\\n",
    "-2 & 10\n",
    "\\end{bmatrix}.\n",
    "\\end{equation*}\n",
    "\\end{example}"
   ]
  },
  {
   "cell_type": "markdown",
   "id": "aa326404",
   "metadata": {},
   "source": [
    "**Solution.**\n",
    "\n",
    "\\begin{align*}\n",
    "\\alpha &= \\sqrt{a} = \\sqrt{4} = 2 \\\\\n",
    "\\beta &= b/\\sqrt{a} = -2/2 = -1 \\\\\n",
    "\\gamma &= \\sqrt{(ac-b^2)/a}= \\sqrt{(4(10)-(-2)(-2))/4} = 3.\n",
    "\\end{align*}\n",
    "\n",
    "So the Cholesky decomposition is\n",
    "\\begin{equation*}\n",
    "\\begin{bmatrix}\n",
    "4 & -2 \\\\\n",
    "-2 & 10\n",
    "\\end{bmatrix}\n",
    "=\n",
    "\\begin{bmatrix}\n",
    "2 & 0 \\\\\n",
    "-1 & 3\n",
    "\\end{bmatrix}\n",
    "\\begin{bmatrix}\n",
    "2 & -1 \\\\\n",
    "0 & 3\n",
    "\\end{bmatrix}.\n",
    "\\end{equation*}\n"
   ]
  },
  {
   "cell_type": "markdown",
   "id": "7a32b234",
   "metadata": {},
   "source": [
    "The Cholesky decomposition algorithm for a $2\\times 2$ SPD matrix can be extended to a general $n \\times n$ SPD matrix. The extension is done by partitioning the matrix into blocks in an iterative way and the algorithm is summarized below:\n",
    "\n",
    "1. Partition the matrix \n",
    "    \\begin{equation*}\n",
    "    A = \n",
    "    \\begin{bmatrix}\n",
    "    a_{11} & a_{12} & \\dots & a_{1n} \\\\\n",
    "    a_{21} & a_{22} & \\dots & a_{2n} \\\\\n",
    "    \\vdots & \\vdots & \\vdots & \\vdots \\\\\n",
    "    a_{n1} & a_{n2} & \\dots & a_{nn}\n",
    "    \\end{bmatrix}\n",
    "    = \n",
    "    \\begin{bmatrix}\n",
    "    a_{11} & \\boldsymbol{b}^T \\\\\n",
    "    \\boldsymbol{b} & C\n",
    "    \\end{bmatrix}\n",
    "    \\end{equation*}\n",
    "    where\n",
    "    \\begin{equation*}\n",
    "    \\boldsymbol{b} =\n",
    "    \\begin{bmatrix}\n",
    "    a_{21} \\\\\n",
    "    \\vdots \\\\\n",
    "    a_{n1}\n",
    "    \\end{bmatrix} = [a_{12}, \\dots, a_{1n}]^T\n",
    "    \\end{equation*}\n",
    "    due to the symmetry of $A$, and \n",
    "    \\begin{equation*}\n",
    "    C = \n",
    "    \\begin{bmatrix}\n",
    "    a_{22} & a_{23} & \\dots & a_{2n} \\\\\n",
    "    a_{32} & a_{33} & \\cdots & a_{3n} \\\\\n",
    "    \\vdots & \\vdots & \\vdots & \\vdots \\\\\n",
    "    a_{n2} & a_{n3} & \\dots & a_{nn}\n",
    "    \\end{bmatrix}\n",
    "    \\end{equation*}\n",
    "    is the symmetric lower $(n-1) \\times (n-1)$ submatrix of $A$.\n",
    "    \n",
    "2. Update the $(1,1)$ position of $R$ by setting $R_{11} = \\alpha = \\sqrt{a_{11}}$ and update $[R_{12},\\cdots,R_{1n}]=\\boldsymbol{\\beta}$ with $\\boldsymbol{b}^T/ \\sqrt{a_{11}}$.\n",
    "\n",
    "3. Repeat Steps 1 and 2 on the $(n-1) \\times (n-1)$ matrix $A^{(1)}=C-\\boldsymbol{\\beta}\\boldsymbol{\\beta}^T$ to update $R_{22}$ and $[R_{23},\\dots, R_{2n}]$. Note that $\\boldsymbol{\\beta}\\boldsymbol{\\beta}^T$ is an outer product that results in an $(n-1) \\times (n-1)$ matrix, and $C-\\boldsymbol{\\beta}\\boldsymbol{\\beta}^T$ resembles $c-\\beta^2$ in Eqn. \\eqref{eq:sqrtgamma} in the $2\\times 2$ case."
   ]
  },
  {
   "cell_type": "markdown",
   "id": "3a4c8c82",
   "metadata": {},
   "source": [
    "\\begin{theorem}\\label{theo:CholCost}\n",
    "The algorithm above for Cholesky decomposition has a cost of $\\frac{1}{3}n^3+\\frac{1}{2}n^2+\\frac{1}{6}n$ floating point operations (flops).\n",
    "\\end{theorem}"
   ]
  },
  {
   "cell_type": "markdown",
   "id": "cc5c9650",
   "metadata": {},
   "source": [
    "\\begin{proof}\n",
    "The first step involves computing the square root of $a_{11}$ (1 flop), dividing the vector $[a_{12}, \\dots, a_{1n}]$ by the square root (n-1 flops), and computing $A^{(1)}$, where calculating $\\boldsymbol{\\beta}\\boldsymbol{\\beta}^T$ costs $\\frac{(n-1)n}{2}$ flops, since only the upper or lower triangular part including the diagonal needs to be computed due to symmetry, and so does calculating $C-\\boldsymbol{\\beta}\\boldsymbol{\\beta}^T$. So the total cost of performing the first step is\n",
    "\\begin{equation*}\n",
    "1+(n-1)+\\frac{(n-1)n}{2} + \\frac{(n-1)n}{2}\n",
    "\\end{equation*}\n",
    "flops.\n",
    "In general, Step $k$ costs \n",
    "\\begin{equation*}\n",
    "1+(n-k)+\\frac{(n-k+1)(n-k)}{2}(2).\n",
    "\\end{equation*}\n",
    "Summing the costs of all steps leads to:\n",
    "\\begin{align*}\n",
    "\\sum_{k=1}^n 1+(n-k)+\\frac{(n-k+1)(n-k)}{2}(2) &= \\sum_{k=1}^n (n^2+2n+1) - (2n+2)\\sum_{k=1}^nk + \\sum_{k=1}^n k^2 \\\\\n",
    "&= (n^3+2n^2+n) - (2n+2)\\frac{(n+1)n}{2} + \\frac{n(n+1)(2n+1)}{6} \\\\\n",
    "&= \\frac{1}{3}n^3+\\frac{1}{2}n^2+\\frac{1}{6}n,\n",
    "\\end{align*}\n",
    "where we used the formula\n",
    "\\begin{equation*}\n",
    "\\sum_{k=1}^n k^2 = \\frac{n(n+1)(2n+1)}{6}.\n",
    "\\end{equation*}\n",
    "\\end{proof}"
   ]
  },
  {
   "cell_type": "markdown",
   "id": "43ae2a23",
   "metadata": {},
   "source": [
    "\\begin{remark}\\label{rem:Choluniqueness}\n",
    "Cholesky decomposition is not unique, unless the restriction that diagonal elements of $R$ are positive is posed.\n",
    "\\end{remark}\n"
   ]
  },
  {
   "cell_type": "markdown",
   "id": "fb9cfc01",
   "metadata": {},
   "source": [
    "\\begin{example}\\label{example:3by3cholesky}\n",
    "Find the Cholesky decomposition for the $3 \\times 3$ SPD matrix \n",
    "\\begin{equation*}\n",
    "\\begin{bmatrix}\n",
    "1 & -3 & -2 \\\\\n",
    "-3 & 10 & 9\\\\\n",
    "-2 & 9 & 29\n",
    "\\end{bmatrix}.\n",
    "\\end{equation*}\n",
    "\\end{example}"
   ]
  },
  {
   "cell_type": "markdown",
   "id": "d7a94b78",
   "metadata": {},
   "source": [
    "**Solution.**\n",
    "\n",
    "Step 1. Update $R_{11}$ and $\\boldsymbol{\\beta}=[R_{12},\\dots,R_{1n}]$ using $A_{11}=1$ and $\\boldsymbol{b}^T=[-3,-2]$:\n",
    "\\begin{equation*}\n",
    "R = \n",
    "\\begin{bmatrix}\n",
    "1 &\n",
    "\\begin{matrix}\n",
    "-3 & -2\n",
    "\\end{matrix} \\\\\n",
    "\\begin{matrix}\n",
    "0 \\\\ 0\n",
    "\\end{matrix}\n",
    "&\n",
    "\\begin{matrix}\n",
    "R^{(1)}\n",
    "\\end{matrix}\n",
    "\\end{bmatrix}\n",
    "\\end{equation*}\n",
    "where \n",
    "$R^{(1)}$ is the lower $(n-1) \\times (n-1)$ submatrix of $R$.\n",
    "\n",
    "\n",
    "Step 2. Calculate \n",
    "\\begin{equation*}\n",
    "A^{(1)}=C-\\boldsymbol{\\beta}\\boldsymbol{\\beta}^T = \n",
    "\\begin{bmatrix}\n",
    "10 & 9 \\\\\n",
    "9 & 29\n",
    "\\end{bmatrix}\n",
    "-\n",
    "\\begin{bmatrix}\n",
    "-3 \\\\\n",
    "-2\n",
    "\\end{bmatrix}\n",
    "\\begin{bmatrix}\n",
    "-3 & -2\n",
    "\\end{bmatrix}\n",
    "= \n",
    "\\begin{bmatrix}\n",
    "1 & 3 \\\\\n",
    "3 & 25\n",
    "\\end{bmatrix}.\n",
    "\\end{equation*}\n",
    "\n",
    "Step 3. Repeat Step 1 on $A^{(1)}$ to update $R^{(1)}$, i.e., update $R^{(1)}_{11}$ and $R^{(1)}_{12}$ by $1$ and $3/1=3$:\n",
    "\\begin{equation*}\n",
    "R^{(1)} = \n",
    "\\begin{bmatrix}\n",
    "1 & 3 \\\\\n",
    "0 & R^{(2)}\n",
    "\\end{bmatrix}\n",
    "\\end{equation*}\n",
    "where $R^{(2)}$ is a scalar that needs to be updated next. Now $R$ becomes\n",
    "\\begin{equation*}\n",
    "R = \n",
    "\\begin{bmatrix}\n",
    "1 & -3 & -2 \\\\\n",
    "0 & 1 & 3 \\\\\n",
    "0 & 0 & R^{(2)}\n",
    "\\end{bmatrix}.\n",
    "\\end{equation*}\n",
    "\n",
    "Step 4. Calculate $A^{(2)}=25-3(3)=16$, based on which $R^{(2)}$ can be computed by $R^{(2)}=\\sqrt{16}=4$. So the final Cholesky factor $R$ for $A$ is:\n",
    "\\begin{equation*}\n",
    "R = \n",
    "\\begin{bmatrix}\n",
    "1 & -3 & -2 \\\\\n",
    "0 & 1 & 3 \\\\\n",
    "0 & 0 & 4\n",
    "\\end{bmatrix}.\n",
    "\\end{equation*}"
   ]
  },
  {
   "cell_type": "markdown",
   "id": "85ac6b1b",
   "metadata": {},
   "source": [
    "The following Python function **chol** implements Cholesky factorization for symmetric postive-definite matrices."
   ]
  },
  {
   "cell_type": "code",
   "execution_count": null,
   "id": "1f8acdf3",
   "metadata": {},
   "outputs": [],
   "source": [
    "import numpy as np"
   ]
  },
  {
   "cell_type": "code",
   "execution_count": null,
   "id": "238ac29a",
   "metadata": {},
   "outputs": [],
   "source": [
    "def chol(A):\n",
    "    \"\"\"\n",
    "    Perform Cholesky algorithm for a symmetric positive-definite \n",
    "    matrix A\n",
    "    A: symmetric positive-definite matrix. A is changed in place in this code\n",
    "    Return: R, an upper-triangular matrix such that A=R^TR\n",
    "    \"\"\"\n",
    "    if not np.array_equal(A.T,A):\n",
    "        print('Error: the matrix A is not symmetric!')\n",
    "        return\n",
    "        \n",
    "    n = A.shape[0]\n",
    "    R = np.zeros((n,n))\n",
    "    for k in range(n):\n",
    "        if A[k,k]<0:\n",
    "            print('Error: the matrix is no positive-definite!')\n",
    "            return\n",
    "        R[k,k] = np.sqrt(A[k,k])\n",
    "        u = A[k,k+1:n]/R[k,k]\n",
    "        R[k,k+1:n] = u\n",
    "        A[k+1:n, k+1:n] -= np.outer(u,u)\n",
    "        \n",
    "    return R"
   ]
  },
  {
   "cell_type": "markdown",
   "id": "b9e2c6ad",
   "metadata": {},
   "source": [
    "Apply **chol** to the following matrix:\n",
    "\\begin{align*}\n",
    "\\begin{bmatrix}\n",
    "4 & -2 \\\\\n",
    "-2 & 10\n",
    "\\end{bmatrix}.\n",
    "\\end{align*}\n"
   ]
  },
  {
   "cell_type": "code",
   "execution_count": null,
   "id": "197737db",
   "metadata": {},
   "outputs": [],
   "source": [
    "A = np.array([[4., -2], [-2, 10]])\n",
    "R = chol(A)\n",
    "print('R = ', R)\n",
    "print('RT x R = ', R.T.dot(R))"
   ]
  },
  {
   "cell_type": "markdown",
   "id": "cefb2372",
   "metadata": {},
   "source": [
    "For the following matrix\n",
    "\\begin{align*}\n",
    "\\begin{bmatrix}\n",
    "1 & 1 & 2 \\\\\n",
    "1 & 5 & 0 \\\\\n",
    "2 & 0 & 9\n",
    "\\end{bmatrix},\n",
    "\\end{align*}\n",
    "the Python function gives"
   ]
  },
  {
   "cell_type": "code",
   "execution_count": null,
   "id": "9e903687",
   "metadata": {},
   "outputs": [],
   "source": [
    "A = np.array([[1., 1, 2], [1, 5, 0], [2, 0, 9]])\n",
    "R = chol(A)\n",
    "print('R = ', R)\n",
    "print('RT x R = ', R.T.dot(R))"
   ]
  },
  {
   "cell_type": "markdown",
   "id": "aef77f96",
   "metadata": {},
   "source": [
    "\\begin{exercise}\\label{ex:1}\n",
    "Find the Cholesky decomposition for the following matrix\n",
    "\\begin{equation*}\n",
    "\\begin{bmatrix}\n",
    "36 & -48 \\\\\n",
    "-48 & 73 \\\\\n",
    "\\end{bmatrix}.\n",
    "\\end{equation*}\n",
    "\\end{exercise}"
   ]
  },
  {
   "cell_type": "markdown",
   "id": "21b8caf3",
   "metadata": {},
   "source": [
    "\\begin{exercise}\\label{ex:2}\n",
    "Find the Cholesky decomposition for the following matrix\n",
    "\\begin{equation*}\n",
    "\\begin{bmatrix}\n",
    "4 & -6 & 2 \\\\\n",
    "-6 & 34 & 12 \\\\\n",
    "2 & 12 & 14\n",
    "\\end{bmatrix}.\n",
    "\\end{equation*}\n",
    "\\end{exercise}"
   ]
  },
  {
   "cell_type": "markdown",
   "id": "4d3bf503",
   "metadata": {},
   "source": [
    "\\begin{exercise}\\label{ex:3}\n",
    "Find the Cholesky decomposition for the following matrix. Does the algorithm work? If not, what is the problem?\n",
    "\\begin{equation*}\n",
    "\\begin{bmatrix}\n",
    "4 & -2 & 2 \\\\\n",
    "-2 & 5 & 1 \\\\\n",
    "2 & 1 & -2\n",
    "\\end{bmatrix}.\n",
    "\\end{equation*}\n",
    "\\end{exercise}"
   ]
  },
  {
   "cell_type": "markdown",
   "id": "697f0124",
   "metadata": {},
   "source": [
    "## Use Cholesky decomposition to solve linear systems"
   ]
  },
  {
   "cell_type": "markdown",
   "id": "b67c125f",
   "metadata": {},
   "source": [
    "Cholesky decomposition can be used to solve linear systems in the same fashion as how we used LU decomposition. Let the linear system be $A\\boldsymbol{x}=\\boldsymbol{b}$, where $A$ is symmetric positive-definite, with a Cholesky decomposition $A=R^TR$. Then the system can be rewritten as $R^TR\\boldsymbol{x}=\\boldsymbol{b}$, which can be split into two separate linear systems:\n",
    "\\begin{align*}\n",
    "R^T\\boldsymbol{c} &= \\boldsymbol{b} \\\\\n",
    "R\\boldsymbol{x} &= \\boldsymbol{c}.\n",
    "\\end{align*}\n",
    "Solving the two linear systems in turn using forward and back substitutions leads to the solution to the original linear system."
   ]
  },
  {
   "cell_type": "markdown",
   "id": "7ba5d2b4",
   "metadata": {},
   "source": [
    "\\begin{example}\\label{example:CholLA}\n",
    "Solve the system of linear equations\n",
    "\\begin{equation*}\n",
    "\\begin{bmatrix}\n",
    "1 & -3 & -2 \\\\\n",
    "-3 & 10 & 9\\\\\n",
    "-2 & 9 & 29 \n",
    "\\end{bmatrix}\n",
    "\\begin{bmatrix}\n",
    "x_1 \\\\\n",
    "x_2 \\\\\n",
    "x_3\n",
    "\\end{bmatrix}\n",
    "=\n",
    "\\begin{bmatrix}\n",
    "0 \\\\\n",
    "-5 \\\\\n",
    "-47\n",
    "\\end{bmatrix}.\n",
    "\\end{equation*}\n",
    "\\end{example}"
   ]
  },
  {
   "cell_type": "markdown",
   "id": "c43529ee",
   "metadata": {},
   "source": [
    "**Solution.**\n",
    "\n",
    "From Example \\ref{example:3by3cholesky}, we obtained \n",
    "\\begin{equation*}\n",
    "R = \n",
    "\\begin{bmatrix}\n",
    "1 & -3 & -2 \\\\\n",
    "0 & 1 & 3 \\\\\n",
    "0 & 0 & 4\n",
    "\\end{bmatrix}.\n",
    "\\end{equation*}\n",
    "So the two systems of linear equations to be solved are:\n",
    "\\begin{align*}\n",
    "\\begin{bmatrix}\n",
    "1 & 0 & 0 \\\\\n",
    "-3 & 1 & 0 \\\\\n",
    "-2 & 3 & 4\n",
    "\\end{bmatrix}\n",
    "\\begin{bmatrix}\n",
    "c_1 \\\\ c_2 \\\\ c_3\n",
    "\\end{bmatrix} &= \n",
    "\\begin{bmatrix}\n",
    "0 \\\\ -5 \\\\ -47\n",
    "\\end{bmatrix} \\\\\n",
    "\\begin{bmatrix}\n",
    "1 & -3 & -2 \\\\\n",
    "0 & 1 & 3 \\\\\n",
    "0 & 0 & 4\n",
    "\\end{bmatrix}\n",
    "\\begin{bmatrix}\n",
    "x_1 \\\\ x_2 \\\\ x_3\n",
    "\\end{bmatrix} &= \n",
    "\\begin{bmatrix}\n",
    "c_1 \\\\ c_2 \\\\ c_3\n",
    "\\end{bmatrix}.\n",
    "\\end{align*}\n",
    "The first linear system gives\n",
    "\\begin{equation*}\n",
    "\\boldsymbol{c} = \n",
    "\\begin{bmatrix}\n",
    "c_1 \\\\ c_2 \\\\ c_3\n",
    "\\end{bmatrix} =\n",
    "\\begin{bmatrix}\n",
    "0 \\\\ -5 \\\\ -8\n",
    "\\end{bmatrix}.\n",
    "\\end{equation*}\n",
    "The second leads to\n",
    "\\begin{equation*}\n",
    "\\begin{bmatrix}\n",
    "x_1 \\\\ x_2 \\\\ x_3\n",
    "\\end{bmatrix} =\n",
    "\\begin{bmatrix}\n",
    "-1 \\\\1 \\\\ -2\n",
    "\\end{bmatrix}.\n",
    "\\end{equation*}\n"
   ]
  },
  {
   "cell_type": "markdown",
   "id": "e34b0bc1",
   "metadata": {},
   "source": [
    "Cholesky decomposition has a wide range of applications, such as generating samples from a general multivariate normal distribution, non-linear optimization, etc., in addition to solving systems of linear equations."
   ]
  },
  {
   "cell_type": "markdown",
   "id": "9a76abb7",
   "metadata": {},
   "source": [
    "\\begin{exercise}\\label{ex:3}\n",
    "Solve the following linear system using Cholesky decomposition:\n",
    "\\begin{equation*}\n",
    "\\begin{bmatrix}\n",
    "4 & -6 & 2 \\\\\n",
    "-6 & 34 & 12 \\\\\n",
    "2 & 12 & 14\n",
    "\\end{bmatrix}\n",
    "\\begin{bmatrix}\n",
    "x_1 \\\\ x_2 \\\\ x_3\n",
    "\\end{bmatrix} = \n",
    "\\begin{bmatrix}\n",
    "-24 \\\\ 126 \\\\ 46\n",
    "\\end{bmatrix}.\n",
    "\\end{equation*}\n",
    "\\end{exercise}"
   ]
  },
  {
   "cell_type": "markdown",
   "id": "b9ed3e2a",
   "metadata": {},
   "source": [
    "# Conjugate gradient method"
   ]
  },
  {
   "cell_type": "markdown",
   "id": "a46c8301",
   "metadata": {},
   "source": [
    "\\begin{definition}[A-orthogonal (A-conjugate)]\\label{def:Aortho}\n",
    "Let $A$ be an $n \\times n$ symmetric positive definite matrix. Two vectors $\\boldsymbol{u}\\in \\mathbb{R}^{n}$ and $\\boldsymbol{v}\\in \\mathbb{R}^{n}$ are **A-orthogonal** or **A-conjugate** if $\\boldsymbol{u}^TA\\boldsymbol{v}=0$.\n",
    "\\end{definition}"
   ]
  },
  {
   "cell_type": "markdown",
   "id": "499d9bba",
   "metadata": {},
   "source": [
    "Note that the symmetric positive definite matrix $A$ induces an **inner product** on $\\mathbb{R}^n$, $\\langle\\boldsymbol{u}, \\boldsymbol{v} \\rangle_A=\\boldsymbol{u}^TA\\boldsymbol{v}$."
   ]
  },
  {
   "cell_type": "markdown",
   "id": "a95d1142",
   "metadata": {},
   "source": [
    "\\begin{definition}\\label{def:innerproduct}\n",
    "Let $V$ be a vector space. An inner product on $V$, is a function, $\\langle \\cdot, \\cdot \\rangle$,\n",
    "\n",
    "\\begin{equation*}\n",
    "V \\times V \\rightarrow \\mathbb{F} \\,\\,(\\mathbb{R} \\text{ or } \\mathbb{C})\n",
    "\\end{equation*}\n",
    "\n",
    "such that the following properties hold:\n",
    "1. For any $\\boldsymbol{u}\\in V$, $\\langle\\boldsymbol{u}, \\boldsymbol{u}\\rangle \\ge 0$ and the equality holds only when $\\boldsymbol{u}=\\boldsymbol{0}$\n",
    "\n",
    "2. For any $\\boldsymbol{u}, \\boldsymbol{v}, \\boldsymbol{w}\\in V$, $a, b\\in \\mathbb{F}$, $\\langle a\\boldsymbol{u}+b\\boldsymbol{v}, \\boldsymbol{w}  \\rangle = a\\langle \\boldsymbol{u}, \\boldsymbol{w}  \\rangle + b\\langle \\boldsymbol{v}, \\boldsymbol{w}  \\rangle$\n",
    "\n",
    "3. For any $\\boldsymbol{u}, \\boldsymbol{v}\\in V$, $\\langle\\boldsymbol{u}, \\boldsymbol{v}\\rangle = \\overline{\\langle\\boldsymbol{v}, \\boldsymbol{u}\\rangle}$, where $\\overline{\\boldsymbol{u}}$ denotes the conjugate of $\\boldsymbol{u}$.\\\n",
    "\\end{definition}"
   ]
  },
  {
   "cell_type": "markdown",
   "id": "8fa071b4",
   "metadata": {},
   "source": [
    "Now consider solving the linear system\n",
    "\\begin{equation}\\label{eq:linearsystem}\n",
    "A\\boldsymbol{x} = \\boldsymbol{b}\n",
    "\\end{equation}\n",
    "where $A\\in\\mathbb{R}^{n \\times n}$ and $\\boldsymbol{b}\\in\\mathbb{R}^{n}$. Suppose $\\boldsymbol{u}_1,\\boldsymbol{u}_2, \\dots, \\boldsymbol{u}_n$ is an A-orthogonal basis of $\\mathbb{R}^{n}$. Let $\\boldsymbol{x}^*$ be the solution to Eqn. \\eqref{eq:linearsystem}. Then $\\boldsymbol{x}^*$ can be written as a linear combination of the basis as\n",
    "\\begin{equation}\\label{eq:linearcomb}\n",
    "\\boldsymbol{x}^* = a_1\\boldsymbol{u}_1 + a_2\\boldsymbol{u}_2 + \\cdots + a_n\\boldsymbol{u}_n.\n",
    "\\end{equation}\n",
    "The coefficients $a_i$, $1\\le i\\le n$, can be obtained by\n",
    "\\begin{equation}\\label{eq:ai}\n",
    "a_i = \\frac{\\langle \\boldsymbol{b},\\boldsymbol{u}_i \\rangle}{\\langle \\boldsymbol{u}_i,\\boldsymbol{u}_i \\rangle_A} = \\frac{\\boldsymbol{b}^T\\boldsymbol{u}_i}{\\boldsymbol{u}_i^TA\\boldsymbol{u}_i}.\n",
    "\\end{equation}"
   ]
  },
  {
   "cell_type": "markdown",
   "id": "3db84f22",
   "metadata": {},
   "source": [
    "Before we get to the conjugate gradient algorithm, we first talk about the well-known Gram-Schmidt Orthogonalization algorithm."
   ]
  },
  {
   "cell_type": "markdown",
   "id": "5c896545",
   "metadata": {},
   "source": [
    "\\begin{theorem}\\label{theo:GramSchmidt}\n",
    "Given a set of linearly independent vectors $\\boldsymbol{v}_1, \\boldsymbol{v}_2, \\cdots, \\boldsymbol{v}_n\\in \\mathbb{R}^n$, the following process generates a set of orthogonal vectors:\n",
    "\n",
    "1. $\\boldsymbol{u}_1 = \\boldsymbol{v}_1$\n",
    "2. $\\boldsymbol{u}_2 = \\boldsymbol{v}_2 - \\frac{\\langle \\boldsymbol{v}_2, \\boldsymbol{u}_1 \\rangle}{\\langle \\boldsymbol{u}_1, \\boldsymbol{u}_1 \\rangle} \\boldsymbol{u}_1 = \\boldsymbol{v}_2 - \\frac{\\boldsymbol{v}_2 \\cdot \\boldsymbol{u}_1}{||\\boldsymbol{u}_1||_2^2}\\boldsymbol{u}_1$\n",
    "3. $\\boldsymbol{u}_3 = \\boldsymbol{v}_3 - \\frac{\\langle \\boldsymbol{v}_3, \\boldsymbol{u}_1 \\rangle}{\\langle \\boldsymbol{u}_1, \\boldsymbol{u}_1 \\rangle} \\boldsymbol{u}_1 - \\frac{\\langle \\boldsymbol{v}_3, \\boldsymbol{u}_2 \\rangle}{\\langle \\boldsymbol{u}_2, \\boldsymbol{u}_2 \\rangle} \\boldsymbol{u}_2 = \\boldsymbol{v}_3 - \\frac{\\boldsymbol{v}_3 \\cdot \\boldsymbol{u}_1}{||\\boldsymbol{u}_1||_2^2}\\boldsymbol{u}_1 - \\frac{\\boldsymbol{v}_3 \\cdot \\boldsymbol{u}_2}{||\\boldsymbol{u}_2||_2^2}\\boldsymbol{u}_2$\n",
    "4. Similarly, $\\boldsymbol{u}_4, \\dots, \\boldsymbol{u}_n$ can be obtained, and $\\boldsymbol{u}_1,\\dots, \\boldsymbol{u}_n$ is a set of orthogonal vectors.\n",
    "\\end{theorem}"
   ]
  },
  {
   "cell_type": "markdown",
   "id": "f1499a0b",
   "metadata": {},
   "source": [
    "\\begin{example}\\label{example:GramSchmidt}\n",
    "Orthogonalize the following set of vectors\n",
    "\\begin{equation*}\n",
    "\\boldsymbol{v}_1 = \n",
    "\\begin{bmatrix}\n",
    "1 \\\\ 2 \\\\ 2\n",
    "\\end{bmatrix},\n",
    "\\boldsymbol{v}_2 = \n",
    "\\begin{bmatrix}\n",
    "-1 \\\\ 2 \\\\ 3\n",
    "\\end{bmatrix},\n",
    "\\boldsymbol{v}_3 = \n",
    "\\begin{bmatrix}\n",
    "3 \\\\ 0 \\\\ 3\n",
    "\\end{bmatrix}.\n",
    "\\end{equation*}\n",
    "\\end{example}"
   ]
  },
  {
   "cell_type": "markdown",
   "id": "ccfd3ddc",
   "metadata": {},
   "source": [
    "**Solution.**\n",
    "\n",
    "1. \\begin{equation*}\n",
    "    \\boldsymbol{u_1} = \\boldsymbol{v}_1 = \n",
    "    \\begin{bmatrix}\n",
    "    1 \\\\ 2 \\\\ 2\n",
    "    \\end{bmatrix}.\n",
    "   \\end{equation*}\n",
    "2. \\begin{equation*}\n",
    "   \\boldsymbol{u}_2 = \\boldsymbol{v}_2 - \\frac{\\langle \\boldsymbol{v}_2, \\boldsymbol{u}_1 \\rangle}{\\langle \\boldsymbol{u}_1, \\boldsymbol{u}_1 \\rangle} \\boldsymbol{u}_1 = \n",
    "   \\begin{bmatrix}\n",
    "    -1 \\\\ 2 \\\\ 3\n",
    "    \\end{bmatrix}\n",
    "    -\n",
    "    \\frac{[-1,2,3]\n",
    "    \\begin{bmatrix}\n",
    "    1 \\\\ 2 \\\\ 2\n",
    "    \\end{bmatrix}\n",
    "    }{1^2+2^2+2^2}\n",
    "    \\begin{bmatrix}\n",
    "    1 \\\\ 2 \\\\ 2\n",
    "    \\end{bmatrix} = \n",
    "    \\begin{bmatrix}\n",
    "    -2 \\\\ 0 \\\\ 1\n",
    "    \\end{bmatrix}.\n",
    "   \\end{equation*}\n",
    "3. \\begin{equation*}\n",
    "   \\boldsymbol{u}_3 = \\boldsymbol{v}_3 - \\frac{\\langle \\boldsymbol{v}_3, \\boldsymbol{u}_1 \\rangle}{\\langle \\boldsymbol{u}_1, \\boldsymbol{u}_1 \\rangle} \\boldsymbol{u}_1 - \\frac{\\langle \\boldsymbol{v}_3, \\boldsymbol{u}_2 \\rangle}{\\langle \\boldsymbol{u}_2, \\boldsymbol{u}_2 \\rangle} \\boldsymbol{u}_2 = \n",
    "   \\begin{bmatrix}\n",
    "    3 \\\\ 0 \\\\ 3\n",
    "    \\end{bmatrix}\n",
    "    -\n",
    "    \\frac{[3,0,3]\n",
    "    \\begin{bmatrix}\n",
    "    1 \\\\ 2 \\\\ 2\n",
    "    \\end{bmatrix}\n",
    "    }{1^2+2^2+2^2}\n",
    "    \\begin{bmatrix}\n",
    "    1 \\\\ 2 \\\\ 2\n",
    "    \\end{bmatrix} -\n",
    "    \\frac{[3,0,3]\n",
    "    \\begin{bmatrix}\n",
    "    -2 \\\\ 0 \\\\ 1\n",
    "    \\end{bmatrix}\n",
    "    }{(-2)^2+0^2+1^2}\n",
    "    \\begin{bmatrix}\n",
    "    -2 \\\\ 0 \\\\ 1\n",
    "    \\end{bmatrix}\n",
    "    = \n",
    "    \\begin{bmatrix}\n",
    "    \\frac{4}{5} \\\\ -2 \\\\ \\frac{8}{5}\n",
    "    \\end{bmatrix}.\n",
    "   \\end{equation*}"
   ]
  },
  {
   "cell_type": "markdown",
   "id": "954c45a2",
   "metadata": {},
   "source": [
    "Similarly, we can generate a set of A-orthogonal vectors from a set of linearly independent vectors by slightly modifying the algorithm above."
   ]
  },
  {
   "cell_type": "markdown",
   "id": "6dd520e3",
   "metadata": {},
   "source": [
    "\\begin{theorem}\\label{theo:AorthoGramSchmidt}\n",
    "Given a set of linearly independent vectors $\\boldsymbol{v}_1, \\boldsymbol{v}_2, \\cdots, \\boldsymbol{v}_n\\in \\mathbb{R}^n$, the following process generates a set of A-orthogonal vectors:\n",
    "\n",
    "1. $\\boldsymbol{u}_1 = \\boldsymbol{v}_1$\n",
    "2. $\\boldsymbol{u}_2 = \\boldsymbol{v}_2 - \\frac{\\langle \\boldsymbol{v}_2, \\boldsymbol{u}_1 \\rangle_A}{\\langle \\boldsymbol{u}_1, \\boldsymbol{u}_1 \\rangle_A} \\boldsymbol{u}_1 = \\boldsymbol{v}_2 - \\frac{\\boldsymbol{v}_2 A \\boldsymbol{u}_1}{\\boldsymbol{u}_1A\\boldsymbol{u}_1}\\boldsymbol{u}_1$\n",
    "3. $\\boldsymbol{u}_3 = \\boldsymbol{v}_3 - \\frac{\\langle \\boldsymbol{v}_3, \\boldsymbol{u}_1 \\rangle_A}{\\langle \\boldsymbol{u}_1, \\boldsymbol{u}_1 \\rangle_A} \\boldsymbol{u}_1 - \\frac{\\langle \\boldsymbol{v}_3, \\boldsymbol{u}_2 \\rangle_A}{\\langle \\boldsymbol{u}_2, \\boldsymbol{u}_2 \\rangle_A} \\boldsymbol{u}_2 = \\boldsymbol{v}_3 - \\frac{\\boldsymbol{v}_3 A \\boldsymbol{u}_1}{\\boldsymbol{u}_1A\\boldsymbol{u}_1}\\boldsymbol{u}_1 - \\frac{\\boldsymbol{v}_3 A \\boldsymbol{u}_2}{\\boldsymbol{u}_2A\\boldsymbol{u}_2}\\boldsymbol{u}_2$\n",
    "4. Similarly, $\\boldsymbol{u}_4, \\dots, \\boldsymbol{u}_n$ can be obtained, and $\\boldsymbol{u}_1,\\dots, \\boldsymbol{u}_n$ is a set of A-orthogonal vectors.\n",
    "\\end{theorem}"
   ]
  },
  {
   "cell_type": "markdown",
   "id": "3f4be266",
   "metadata": {},
   "source": [
    "Now we continue the discussion of using a set of A-orthogonal vectors to find the solution to Eqn. \\eqref{eq:linearsystem}. Since the set of A-orthogonal vectors are not ready in the first place, our goal is to generate them on the fly. Suppose we start with an initial guess of the solution $\\boldsymbol{x}_0=\\boldsymbol{0}$. The corresponding residual is $\\boldsymbol{u}_0 = \\boldsymbol{r}_0=\\boldsymbol{b}-A\\boldsymbol{x}_0=\\boldsymbol{b}$, which serves as the first vector in the set of $n$ A-orthogonal vectors. Now, we update the estimate of the solution by Eqns. \\eqref{eq:linearcomb} and \\eqref{eq:ai}:\n",
    "\\begin{equation*}\n",
    "\\boldsymbol{x}_1 = \\boldsymbol{x}_0 + a_0 \\boldsymbol{u}_0\n",
    "\\end{equation*}\n",
    "where \n",
    "\\begin{equation*}\n",
    "a_0 = \\frac{\\boldsymbol{u}_0^T \\boldsymbol{b}}{\\boldsymbol{u}_0^TA\\boldsymbol{u}_0} = \\frac{\\boldsymbol{u}_0^T \\boldsymbol{r}_0}{\\boldsymbol{u}_0^TA\\boldsymbol{u}_0}.\n",
    "\\end{equation*}\n",
    "\n",
    "In the second step, update the residual:\n",
    "\\begin{equation*}\n",
    "\\boldsymbol{r}_1 = \\boldsymbol{b}-A\\boldsymbol{x}_1.\n",
    "\\end{equation*}\n",
    "Note that $\\boldsymbol{u}_0$ and $\\boldsymbol{r}_1$ are not A-orthogonal in general, so we apply the Gram-Schmidt algorithm to $\\boldsymbol{r}_1$:\n",
    "\\begin{equation*}\n",
    "\\boldsymbol{u}_1 = \\boldsymbol{r}_1 - \\frac{\\boldsymbol{r}_1^TA\\boldsymbol{u}_0}{\\boldsymbol{u}_0^TA\\boldsymbol{u}_0}\\boldsymbol{u}_0.\n",
    "\\end{equation*}\n",
    "Now $\\boldsymbol{u}_0$ and $\\boldsymbol{u}_1$ are a set of two A-orthogonal vectors. Again, update the estimated solution by\n",
    "Eqns. \\eqref{eq:linearcomb} and \\eqref{eq:ai}:\n",
    "\\begin{equation*}\n",
    "\\boldsymbol{x}_2 = \\boldsymbol{x}_1 + a_1 \\boldsymbol{u}_1\n",
    "\\end{equation*}\n",
    "where\n",
    "\\begin{equation*}\n",
    "a_1 = \\frac{\\boldsymbol{u}_1^T \\boldsymbol{b}}{\\boldsymbol{u}_1^TA\\boldsymbol{u}_1} = \\frac{\\boldsymbol{u}_1^T \\boldsymbol{r}_1}{\\boldsymbol{u}_1^TA\\boldsymbol{u}_1}.\n",
    "\\end{equation*}\n",
    "The second equality holds since\n",
    "\\begin{equation*}\n",
    "\\boldsymbol{u}_1^T \\boldsymbol{r}_1 = \\boldsymbol{u}_1^T(\\boldsymbol{b}-A\\boldsymbol{x}_1) = \\boldsymbol{u}_1^T\\boldsymbol{b} - \\boldsymbol{u}_1^TA\\boldsymbol{x}_1.\n",
    "\\end{equation*}\n",
    "Note that $\\boldsymbol{x}_1$ only involves vectors that are A-orthogonal to $\\boldsymbol{u}_1$, so the last term in the equation above vanishes."
   ]
  },
  {
   "cell_type": "markdown",
   "id": "8db61320",
   "metadata": {},
   "source": [
    "The algorithm can proceed and it converges with at most $n$ steps, when a set of $n$ A-orthogonal vectors (directions) are found. In addition, it is not necessary to start from a zero initial guess $\\boldsymbol{x}_0=\\boldsymbol{0}$. If $\\boldsymbol{x}_0\\ne\\boldsymbol{0}$, the algorithm actually solves the linear system $A\\hat{\\boldsymbol{x}}=\\boldsymbol{b}-A\\boldsymbol{x}_0$, and $\\hat{\\boldsymbol{x}}+\\boldsymbol{x}_0$ is the solution to the original linear system.\n",
    "\n",
    "The algorithm can be summarized as follows."
   ]
  },
  {
   "cell_type": "markdown",
   "id": "05790c71",
   "metadata": {},
   "source": [
    "1. Initialize $\\boldsymbol{x}_0$ as any vector. Set $\\boldsymbol{r}_0=\\boldsymbol{b}-A\\boldsymbol{x}_0$ and $\\boldsymbol{u}_0=\\boldsymbol{r}_0$.\n",
    "\n",
    "2. For $k=0, 1, \\dots, n-1$:\n",
    "    1. $a_k=\\frac{\\boldsymbol{u}_k^T \\boldsymbol{r}_k}{\\boldsymbol{u}_k^TA\\boldsymbol{u}_k}$\n",
    "    2. $\\boldsymbol{x}_{k+1} = \\boldsymbol{x}_k + a_k \\boldsymbol{u}_k$\n",
    "    3. $\\boldsymbol{r}_{k+1} = \\boldsymbol{b}-A\\boldsymbol{x}_{k+1}$\n",
    "    4. if ($||\\boldsymbol{r}_{k+1}|| < \\epsilon$):\n",
    "        1. break\n",
    "    5. $\\boldsymbol{u}_{k+1} = \\boldsymbol{r}_{k+1} - \\sum_{i<=k}\\frac{\\boldsymbol{r}_{k+1}^TA\\boldsymbol{u}_{i}}{\\boldsymbol{u}_{i}^TA\\boldsymbol{u}_{i}}\\boldsymbol{u}_{i}$\n",
    "\n",
    "3. return $\\boldsymbol{x}_{k+1}$."
   ]
  },
  {
   "cell_type": "markdown",
   "id": "6836dcb7",
   "metadata": {},
   "source": [
    "Here $\\epsilon$ is a tolerance, and if the norm of the residual is less than it, the algorithm is considered to converge. The algorithm is implemented in the following Python function **ConjGrad_v1**."
   ]
  },
  {
   "cell_type": "code",
   "execution_count": null,
   "id": "92f47e2b",
   "metadata": {},
   "outputs": [],
   "source": [
    "# Conjugate Gradient Method\n",
    "def ConjGrad_v1(A, b, x0, eps):\n",
    "    \"\"\"\n",
    "    Perform conjugate gradient method, the first version.\n",
    "    A: a symmetric positive definite matrix\n",
    "    b: the right-hand side\n",
    "    x0: the initial guess\n",
    "    eps: the tolerance for stopping the algorithm\n",
    "    \"\"\"\n",
    "    \n",
    "    if not np.array_equal(A.T, A):\n",
    "        print('Error: the matrix A is not symmetric!')\n",
    "        return\n",
    "        \n",
    "    n = A.shape[0]\n",
    "    r = np.zeros((n,n+1)) # The ith column stores r_i  \n",
    "    u = np.zeros((n,n+1)) # The ith column stores u_i\n",
    "    r[:,0] = b-np.dot(A, x0)\n",
    "    if np.linalg.norm(r) < eps:\n",
    "        return x0\n",
    "    u[:,0] = r[:,0]\n",
    "    x = x0.copy()\n",
    "    \n",
    "    for k in range(n):        \n",
    "        a = np.dot(u[:,k], r[:,k])/np.dot(u[:,k], np.dot(A,u[:,k]))\n",
    "        x += a*u[:,k]\n",
    "        r[:,k+1] = b - np.dot(A, x)\n",
    "        if np.linalg.norm(r) < eps:\n",
    "            return x\n",
    "        sum = np.zeros(n)\n",
    "        for i in range(k+1):\n",
    "            sum += np.dot(r[:,k+1], np.dot(A, u[:,i]))/np.dot(u[:,i], np.dot(A, u[:,i]))*u[:,i]\n",
    "        u[:,k+1] = r[:,k+1] - sum\n",
    "        \n",
    "    return x"
   ]
  },
  {
   "cell_type": "markdown",
   "id": "36092150",
   "metadata": {},
   "source": [
    "\\begin{example}\\label{example:gramschmidt_v1_2by2}\n",
    "Use Conjugate Gradient to solve the following $2\\times 2$ linear system:\n",
    "\\begin{equation*}\n",
    "\\begin{bmatrix}\n",
    "4 & -2 \\\\\n",
    "-2 & 10\n",
    "\\end{bmatrix}\n",
    "\\begin{bmatrix}\n",
    "x_1 \\\\\n",
    "x_2\n",
    "\\end{bmatrix}\n",
    "=\n",
    "\\begin{bmatrix}\n",
    "4 \\\\\n",
    "34\n",
    "\\end{bmatrix}.\n",
    "\\end{equation*}\n",
    "\\end{example}"
   ]
  },
  {
   "cell_type": "code",
   "execution_count": null,
   "id": "03b84321",
   "metadata": {},
   "outputs": [],
   "source": [
    "A = np.array([[4., -2], [-2, 10]])\n",
    "b = np.array([4., 34])\n",
    "x0 = np.zeros(2)\n",
    "eps = 1e-9\n",
    "\n",
    "sol = ConjGrad_v1(A, b, x0, eps)\n",
    "print(sol)"
   ]
  },
  {
   "cell_type": "markdown",
   "id": "d7ce5b0c",
   "metadata": {},
   "source": [
    "We take a closer look at the process using the following animation. Both $\\boldsymbol{u}$ and $\\boldsymbol{r}$ directions are shown, along with the solutions."
   ]
  },
  {
   "cell_type": "code",
   "execution_count": null,
   "id": "d1c6a50d",
   "metadata": {},
   "outputs": [],
   "source": [
    "import matplotlib.pyplot as plt\n",
    "%matplotlib inline\n",
    "from matplotlib.animation import FuncAnimation\n",
    "from IPython.display import HTML"
   ]
  },
  {
   "cell_type": "code",
   "execution_count": null,
   "id": "17aac800",
   "metadata": {
    "tags": [
     "hide-input"
    ]
   },
   "outputs": [],
   "source": [
    "# Conjugate Gradient Method for the animation\n",
    "def ConjGrad(A, b, x0, nstep):\n",
    "    \"\"\"\n",
    "    Perform conjugate gradient method, the first version.\n",
    "    A: a symmetric positive definite matrix\n",
    "    b: the right-hand side\n",
    "    x0: the initial guess\n",
    "    nstep: the number of steps of conjugate gradient\n",
    "    \"\"\"\n",
    "    \n",
    "    if not np.array_equal(A.T, A):\n",
    "        print('Error: the matrix A is not symmetric!')\n",
    "        return\n",
    "        \n",
    "    n = A.shape[0]\n",
    "    r_old = b-np.dot(A, x0)\n",
    "    r_new = r_old.copy()\n",
    "    u = r_old\n",
    "    x = x0.copy()\n",
    "    \n",
    "    for k in range(nstep):        \n",
    "        a = np.dot(r_old, r_old)/np.dot(u, np.dot(A,u))\n",
    "        x += a*u\n",
    "        r_new = r_old - a*np.dot(A, u)\n",
    "        b = np.dot(r_new, r_new)/np.dot(r_old, r_old)\n",
    "        u = r_new + b*u\n",
    "        r_old = r_new.copy()\n",
    "    a = np.dot(r_old, r_old)/np.dot(u, np.dot(A,u))\n",
    "    return x, r_new, u, a\n",
    "\n",
    "# Animation for the conjugate gradient method\n",
    "A = np.array([[4., -2], [-2, 10]])\n",
    "b = np.array([4., 34])\n",
    "x0 = np.array([0.0, 0.0])\n",
    "true_sol = np.linalg.solve(A, b)\n",
    "fig, ax = plt.subplots(figsize=(12,5))\n",
    "def animate(i):\n",
    "    ax.cla()\n",
    "    ax.set_xlim(-5, 5)\n",
    "    ax.set_ylim(-5, 5)\n",
    "    x, r, u, a = ConjGrad(A, b, x0, i)\n",
    "    ax.plot(x[0], x[1], 'o', ms=8, label='CG')\n",
    "    ax.quiver([x[0]], [x[1]], [a*u[0]], [a*u[1]], angles='xy', scale_units='xy', scale=1, \n",
    "              color='r', label='u direction')\n",
    "    ax.quiver([x[0]], [x[1]], [r[0]], [r[1]], angles='xy', \n",
    "              color='c', label='r direction')\n",
    "    ax.plot(true_sol[0], true_sol[1], 's', color='green', ms=8, label='True solution')\n",
    "    ax.axhline()\n",
    "    ax.axvline()\n",
    "    ax.set_title('Conjugate gradient method: iteration step '+str(i), size=16)\n",
    "    ax.set_xlabel('$x_1$', size=16)\n",
    "    ax.set_ylabel('$x_2$', size=16)\n",
    "    ax.legend(loc='upper right')\n",
    "plt.close()\n",
    "anim = FuncAnimation(fig, animate, frames=3, interval=2000)\n",
    "HTML(anim.to_jshtml())"
   ]
  },
  {
   "cell_type": "markdown",
   "id": "16a32471",
   "metadata": {},
   "source": [
    "\\begin{example}\\label{example:gramschmidt_v1_3by3}\n",
    "Solve the linear system shown in Example \\ref{example:CholLA} using the conjugate gradient method.\n",
    "\\end{example}"
   ]
  },
  {
   "cell_type": "markdown",
   "id": "0e3d85d6",
   "metadata": {},
   "source": [
    "**Solution.**"
   ]
  },
  {
   "cell_type": "code",
   "execution_count": null,
   "id": "5eb66345",
   "metadata": {},
   "outputs": [],
   "source": [
    "A = np.array([[1., -3, -2], [-3, 10, 9], [-2, 9, 29]])\n",
    "b = np.array([0., -5, -47])\n",
    "x0 = np.zeros(3)\n",
    "eps = 1e-9\n",
    "\n",
    "sol = ConjGrad_v1(A, b, x0, eps)\n",
    "print(sol)"
   ]
  },
  {
   "cell_type": "markdown",
   "id": "5f2bb076",
   "metadata": {},
   "source": [
    "Note that the above conjugate gradient algorithm requires spaces to store $\\boldsymbol{r}$ and $\\boldsymbol{u}$, which is very inefficient for large $n$. The following modification of the conjugate gradient algorithm avoids the need to store the two variables. It can be shown that the two algorithms are equivalent."
   ]
  },
  {
   "cell_type": "markdown",
   "id": "61a82f15",
   "metadata": {},
   "source": [
    "1. Initialize $\\boldsymbol{x}_0$ as any vector. Set $\\boldsymbol{r}_0=\\boldsymbol{b}-A\\boldsymbol{x}_0$ and $\\boldsymbol{u}_0=\\boldsymbol{r}_0$.\n",
    "\n",
    "2. For $k=0, 1, \\dots, n-1$:\n",
    "\n",
    "    1. $a_k=\\frac{\\boldsymbol{r}_k^T \\boldsymbol{r}_k}{\\boldsymbol{u}_k^TA\\boldsymbol{u}_k}$\n",
    "    2. $\\boldsymbol{x}_{k+1} = \\boldsymbol{x}_k + a_k \\boldsymbol{u}_k$\n",
    "    3. $\\boldsymbol{r}_{k+1} = \\boldsymbol{r}_{k}-a_kA\\boldsymbol{u}_{k}$\n",
    "    4. if ($||\\boldsymbol{r}_{k+1}|| < \\epsilon$):\n",
    "        1. break\n",
    "    5. $\\boldsymbol{b}_k = \\frac{\\boldsymbol{r}_{k+1}^T\\boldsymbol{r}_{k+1}}{\\boldsymbol{r}_{k}^T\\boldsymbol{r}_{k}}$\n",
    "    6. $\\boldsymbol{u}_{k+1} = \\boldsymbol{r}_{k+1} + \\boldsymbol{b}_k\\boldsymbol{u}_{k}$\n",
    "\n",
    "3. return $\\boldsymbol{x}_{k+1}$."
   ]
  },
  {
   "cell_type": "markdown",
   "id": "bded1d99",
   "metadata": {},
   "source": [
    "We implement the algorithm in the following Python function **ConjGrad_v2**."
   ]
  },
  {
   "cell_type": "code",
   "execution_count": null,
   "id": "73347f63",
   "metadata": {},
   "outputs": [],
   "source": [
    "# Conjugate Gradient Method\n",
    "def ConjGrad_v2(A, b, x0, eps):\n",
    "    \"\"\"\n",
    "    Perform conjugate gradient method, the second version.\n",
    "    A: a symmetric positive definite matrix\n",
    "    b: the right-hand side\n",
    "    x0: the initial guess\n",
    "    eps: the tolerance for stopping the algorithm\n",
    "    \"\"\"\n",
    "    \n",
    "    if not np.array_equal(A.T, A):\n",
    "        print('Error: the matrix A is not symmetric!')\n",
    "        return\n",
    "        \n",
    "    n = A.shape[0]\n",
    "    r_old = b-np.dot(A, x0)\n",
    "    r_new = r_old.copy()\n",
    "    if np.linalg.norm(r_old) < eps:\n",
    "        return x0\n",
    "    u = r_old\n",
    "    x = x0.copy()\n",
    "    \n",
    "    for k in range(n):        \n",
    "        a = np.dot(r_old, r_old)/np.dot(u, np.dot(A,u))\n",
    "        x += a*u\n",
    "        r_new = r_old - a*np.dot(A, u)\n",
    "        if np.linalg.norm(r_new) < eps:\n",
    "            return x\n",
    "        b = np.dot(r_new, r_new)/np.dot(r_old, r_old)\n",
    "        u = r_new + b*u\n",
    "        r_old = r_new.copy()\n",
    "        \n",
    "    return x"
   ]
  },
  {
   "cell_type": "markdown",
   "id": "2d3f9cc9",
   "metadata": {},
   "source": [
    "Applying the new code to Example \\ref{example:gramschmidt_v1_3by3} generates the same result."
   ]
  },
  {
   "cell_type": "code",
   "execution_count": null,
   "id": "697305cf",
   "metadata": {},
   "outputs": [],
   "source": [
    "A = np.array([[1., -3, -2], [-3, 10, 9], [-2, 9, 29]])\n",
    "b = np.array([0., -5, -47])\n",
    "x0 = np.zeros(3)\n",
    "eps = 1e-9\n",
    "\n",
    "sol = ConjGrad_v2(A, b, x0, eps)\n",
    "print(sol)"
   ]
  },
  {
   "cell_type": "markdown",
   "id": "4ea92d5c",
   "metadata": {},
   "source": [
    "\\begin{exercise}\\label{ex:Aorthoinnerproduct}\n",
    "Show that $\\boldsymbol{u}^TA\\boldsymbol{v}$ in Definition \\ref{def:Aortho} defines an inner product.\n",
    "\\end{exercise}"
   ]
  },
  {
   "cell_type": "markdown",
   "id": "f2f1ea0a",
   "metadata": {},
   "source": [
    "\\begin{exercise}\\label{ex:Aorthoinnerproduct}\n",
    "Prove Eqn. \\eqref{eq:ai}\n",
    "\\end{exercise}"
   ]
  }
 ],
 "metadata": {
  "kernelspec": {
   "display_name": "Python 3 (ipykernel)",
   "language": "python",
   "name": "python3"
  },
  "language_info": {
   "codemirror_mode": {
    "name": "ipython",
    "version": 3
   },
   "file_extension": ".py",
   "mimetype": "text/x-python",
   "name": "python",
   "nbconvert_exporter": "python",
   "pygments_lexer": "ipython3",
   "version": "3.9.7"
  },
  "latex_envs": {
   "LaTeX_envs_menu_present": true,
   "autoclose": false,
   "autocomplete": true,
   "bibliofile": "biblio.bib",
   "cite_by": "apalike",
   "current_citInitial": 1,
   "eqLabelWithNumbers": true,
   "eqNumInitial": 1,
   "hotkeys": {
    "equation": "Ctrl-E",
    "itemize": "Ctrl-I"
   },
   "labels_anchors": false,
   "latex_user_defs": false,
   "report_style_numbering": false,
   "user_envs_cfg": false
  }
 },
 "nbformat": 4,
 "nbformat_minor": 5
}
