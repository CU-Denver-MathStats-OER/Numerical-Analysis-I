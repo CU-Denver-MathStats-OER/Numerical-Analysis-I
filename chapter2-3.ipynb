{
 "cells": [
  {
   "cell_type": "markdown",
   "id": "983df1c9",
   "metadata": {},
   "source": [
    "# 2.3 Newton's method"
   ]
  },
  {
   "cell_type": "markdown",
   "id": "9f17d681",
   "metadata": {},
   "source": [
    "Suppose $f\\in C^{2}[a,b],$ i.e., $f,f',f''$ are continuous on $[a,b].$\n",
    "Let $p_{0}$ be a \"good\" approximation to $p$ such that $f'(p_{0})\\neq0$\n",
    "and $|p-p_{0}|$ is \"small\". First Taylor polynomial for $f$\n",
    "at $p_{0}$ with the remainder term is\n",
    "\\begin{equation*}\n",
    "f(x)=f(p_{0})+(x-p_{0})f'(p_{0})+\\frac{(x-p_{0})^{2}}{2!}f''(\\xi(x))\n",
    "\\end{equation*}\n",
    "where $\\xi(x)$ is a number between $x$ and $p_{0}.$ Substitute\n",
    "$x=p$ and note $f(p)=0$ to get:\n",
    "\\begin{equation*}\n",
    "0=f(p_{0})+(p-p_{0})f'(p_{0})+\\frac{(p-p_{0})^{2}}{2!}f''(\\xi(p))\n",
    "\\end{equation*}\n",
    "where $\\xi(p)$ is a number between $p$ and $p_{0}.$ Rearrange the\n",
    "equation to get\n",
    "\\begin{equation}\\label{eq:Newton's iteration w error part 1}\n",
    "p=p_{0}-\\frac{f(p_{0})}{f'(p_{0})}-\\frac{(p-p_{0})^{2}}{2}\\frac{f''(\\xi(p))}{f'(p_{0})}.\n",
    "\\end{equation}\n",
    "If $|p-p_{0}|$ is \"small\" then $(p-p_{0})^{2}$ is even smaller,\n",
    "and the error term can be dropped to obtain the following approximation:\n",
    "\\begin{equation*}\n",
    "p\\approx p_{0}-\\frac{f(p_{0})}{f'(p_{0})}.\n",
    "\\end{equation*}\n",
    "The idea in Newton's method is to set the next iterate, $p_{1}$,\n",
    "to this approximation:\n",
    "\\begin{equation*}\n",
    "p_{1}=p_{0}-\\frac{f(p_{0})}{f'(p_{0})}.\n",
    "\\end{equation*}\n",
    "Equation \\eqref{eq:Newton's iteration w error part 1} can be written as\n",
    "\\begin{equation}\\label{eq:Newton's iteration w error}\n",
    "p=p_{1}-\\frac{(p-p_{0})^{2}}{2}\\frac{f''(\\xi(p))}{f'(p_{0})}.\n",
    "\\end{equation}\n",
    "\n",
    "**Summary:** Start with an initial approximation $p_{0}$ to $p$\n",
    "and generate the sequence $\\{p_{n}\\}_{n=1}^{\\infty}$ by\n",
    "\\begin{equation}\\label{eq:eq_newton}\n",
    "p_{n}=p_{n-1}-\\frac{f(p_{n-1})}{f'(p_{n-1})},n\\geq 1.\n",
    "\\end{equation}\n",
    "\n",
    "This is called Newton's method."
   ]
  },
  {
   "cell_type": "markdown",
   "id": "23e5f54a",
   "metadata": {},
   "source": [
    "**Graphical interpretation:** \n",
    "\n",
    "Start with $p_{0}.$ Draw the tangent line at $(p_{0},f(p_{0}))$\n",
    "and approximate $p$ by the intercept $p_{1}$ of the line:\n",
    "\\begin{equation*}\n",
    "f'(p_{0})=\\frac{0-f(p_{0})}{p_{1}-p_{0}}\\Rightarrow p_{1}-p_{0}=-\\frac{f(p_{0})}{f'(p_{0})}\\Rightarrow p_{1}=p_{0}-\\frac{f(p_{0})}{f'(p_{0})}.\n",
    "\\end{equation*}\n",
    "Now draw the tangent at $(p_{1},f(p_{1}))$ and continue."
   ]
  },
  {
   "cell_type": "markdown",
   "id": "ee2c7c76",
   "metadata": {},
   "source": [
    "\\begin{remark}\\label{rem:chap2_rem31}\n",
    "\\begin{itemize}\n",
    "\n",
    "\\item Clearly Newton's method will fail if $f'(p_{n})=0$ for some $n$.\n",
    "Graphically this means the tangent line is parallel to the $x$-axis\n",
    "so we cannot get the $x$-intercept.\n",
    "\\item Newton's method may fail to converge if the initial guess $p_{0}$\n",
    "is not close to $p.$ In the following figure, either choice for $p_{0}$ results in a sequence that oscillates between two points.\n",
    "\n",
    "![Non-converging behavior for Newton's method](images/Newton_div.png)\n",
    "\\item Newton's method requires $f'(x)$ is known explicitly.\n",
    "\\end{itemize}\n",
    "\\end{remark}"
   ]
  },
  {
   "cell_type": "markdown",
   "id": "32d7dbf9",
   "metadata": {},
   "source": [
    "**Exercise 2.3-1**\n",
    "\n",
    "Sketch the graph for $f(x)=x^2-1$. What are the roots of the equation $f(x)=0$?\n",
    "\n",
    "1. Let $p_0=1/2$ and find the first two iterations $p_1,p_2$ of Newton's method by hand. Mark the iterates on the graph of $f$ you sketched. Do you think the iterates will converge to a zero of $f$?\n",
    "2. Let $p_0=0$ and find $p_1$. What are your conclusions about the convergence of the iterates?"
   ]
  },
  {
   "cell_type": "markdown",
   "id": "61b96d6f",
   "metadata": {},
   "source": [
    "## Python code for Newton's method"
   ]
  },
  {
   "cell_type": "markdown",
   "id": "9e1c828a",
   "metadata": {},
   "source": [
    "The Python code below is based on Equation \\eqref{eq:eq_newton}`. The variable *pin* in the code corresponds to $p_{n-1}$, and $p$ corresponds to $p_n$. The code overwrites these variables as the iteration continues. Also notice that the code has two functions as inputs; $f$ and *fprime* (the derivative $f'$)."
   ]
  },
  {
   "cell_type": "code",
   "execution_count": 1,
   "id": "ac38dba3",
   "metadata": {},
   "outputs": [],
   "source": [
    "def newton(f, fprime, pin, eps, N):\n",
    "    n = 1\n",
    "    p = 0. # to ensure the value of p carries out of the while loop\n",
    "    while n <= N:\n",
    "        p = pin - f(pin)/fprime(pin)\n",
    "        if np.isclose(f(p), 0) or np.abs(p-pin) < eps:\n",
    "            print('p is ', p, ' and the iteration number is ', n)\n",
    "            return\n",
    "        pin = p\n",
    "        n += 1\n",
    "    y = f(p)\n",
    "    print('Method did not converge. The last iteration gives ', \n",
    "          p, ' with function value ', y)"
   ]
  },
  {
   "cell_type": "markdown",
   "id": "ae356d7d",
   "metadata": {},
   "source": [
    "Let's apply Newton's method to find the root of \\(f(x)=x^5+2x^3-5x-2\\), a function we considered before. First, we plot the function."
   ]
  },
  {
   "cell_type": "code",
   "execution_count": 2,
   "id": "1500b170",
   "metadata": {},
   "outputs": [],
   "source": [
    "import matplotlib.pyplot as plt\n",
    "%matplotlib inline\n",
    "import numpy as np"
   ]
  },
  {
   "cell_type": "code",
   "execution_count": 3,
   "id": "22ef8d83",
   "metadata": {},
   "outputs": [
    {
     "data": {
      "image/png": "[encoded data removed]",
      "text/plain": [
       "<Figure size 432x288 with 1 Axes>"
      ]
     },
     "metadata": {
      "needs_background": "light"
     },
     "output_type": "display_data"
    }
   ],
   "source": [
    "x = np.linspace(-2, 2, 1000)\n",
    "y = x**5+2*x**3-5*x-2\n",
    "ax = plt.gca()\n",
    "ax.spines['left'].set_position('center')\n",
    "ax.spines['right'].set_position('center')\n",
    "ax.spines['bottom'].set_position('center')\n",
    "ax.spines['top'].set_position('center')\n",
    "ax.set_ylim([-40, 40])\n",
    "plt.plot(x,y);"
   ]
  },
  {
   "cell_type": "markdown",
   "id": "53d888f3",
   "metadata": {},
   "source": [
    " The derivative is $f'=5x^4+6x^2-5$, we set $\\text{pin}=1$, $\\text{eps}=\\epsilon=10^{-4}$, and $N=20$, in the code."
   ]
  },
  {
   "cell_type": "code",
   "execution_count": 4,
   "id": "6c3e0e5a",
   "metadata": {},
   "outputs": [
    {
     "name": "stdout",
     "output_type": "stream",
     "text": [
      "p is  1.3196411672093726  and the iteration number is  6\n"
     ]
    }
   ],
   "source": [
    "newton(lambda x: x**5+2*x**3-5*x-2, lambda x: 5*x**4+6*x**2-5, 1, 1e-4, 20)"
   ]
  },
  {
   "cell_type": "markdown",
   "id": "892037f6",
   "metadata": {},
   "source": [
    " Recall that the bisection method required 16 iterations to approximate\n",
    "the root in $[0,2]$ as $p=1.31967$. (However, the stopping criterion\n",
    "used in bisection and Newton's methods are slightly different.) 1.3196 is the rightmost root in the plot. But there are other roots of\n",
    "the function. Let's run the code with pin = 0.\n"
   ]
  },
  {
   "cell_type": "code",
   "execution_count": 5,
   "id": "2416e1dd",
   "metadata": {},
   "outputs": [
    {
     "name": "stdout",
     "output_type": "stream",
     "text": [
      "p is  -0.43641313299799755  and the iteration number is  4\n"
     ]
    }
   ],
   "source": [
    "newton(lambda x: x**5+2*x**3-5*x-2, lambda x: 5*x**4+6*x**2-5, 0, 1e-4, 20)"
   ]
  },
  {
   "cell_type": "markdown",
   "id": "035a1e08",
   "metadata": {},
   "source": [
    " Now we use pin = $-2.0$ which will give the leftmost root."
   ]
  },
  {
   "cell_type": "code",
   "execution_count": 6,
   "id": "ac99787b",
   "metadata": {},
   "outputs": [
    {
     "name": "stdout",
     "output_type": "stream",
     "text": [
      "p is  -1.0000000001014682  and the iteration number is  7\n"
     ]
    }
   ],
   "source": [
    "newton(lambda x: x**5+2*x**3-5*x-2, lambda x: 5*x**4+6*x**2-5, -2, 1e-4, 20)"
   ]
  },
  {
   "cell_type": "markdown",
   "id": "26858d8d",
   "metadata": {},
   "source": [
    "\\begin{theorem}\\label{theo:chap2_thm32}\n",
    "Let $f\\in C^{2}[a,b]$ and assume\n",
    "$f(p)=0,f'(p)\\neq0$ for $p\\in(a,b).$ If $p_{0}$ is chosen sufficiently\n",
    "close to $p,$ then Newton's method generates a sequence that converges\n",
    "to $p$ with\n",
    "\\begin{equation*}\n",
    "\\lim_{n\\rightarrow\\infty}\\frac{p-p_{n+1}}{(p-p_{n})^{2}}=-\\frac{f''(p)}{2f'(p)}.\n",
    "\\end{equation*}\n",
    "\\end{theorem}"
   ]
  },
  {
   "cell_type": "markdown",
   "id": "50a0eb3f",
   "metadata": {},
   "source": [
    "\\begin{proof}\n",
    "Since $f'$ is continuous and $f'(p)\\neq0,$ there exists an interval\n",
    "$I=[p-\\epsilon,p+\\epsilon]$ on which $f'\\neq0.$ Let\n",
    "\n",
    "\\begin{equation*}\n",
    "M=\\frac{\\max_{x\\in I}|f''(x)|}{2\\min_{x\\in I}|f'(x)|}.\n",
    "\\end{equation*}\n",
    "Pick $p_{0}$ from the interval $I$ (which means $|p-p_{0}|\\leq\\epsilon$), sufficiently close to $p$ so that $M|p-p_{0}|<1.$ From Equation \\eqref{eq:Newton's iteration w error}\n",
    "we have:\n",
    "\\begin{equation}\\label{eq:newtonpf}\n",
    "|p-p_{1}|=\\frac{|p-p_{0}||p-p_{0}|}{2}\\left|\\frac{f''(\\xi(p))}{f'(p_{0})}\\right|<|p-p_{0}||p-p_{0}|M<|p-p_{0}|\\leq\\epsilon.\n",
    "\\end{equation}\n",
    "Multiply both sides of $|p-p_{1}|<|p-p_{0}|$ by $M$ to get $M|p-p_{1}|<M|p-p_{0}|<1.$\n",
    "Therefore, we have obtained: $|p-p_{1}| < \\epsilon$ and $M|p-p_{1}|<1.$ Repeating the same argument used in \\eqref{eq:newtonpf} to $|p-p_2|$, we can show $|p-p_{2}|<\\epsilon$ and\n",
    "$M|p-p_{2}|<1.$ Therefore by induction $|p-p_{n}|<\\epsilon$ and\n",
    "$M|p-p_{n}|<1,$ for all $n.$ This implies that all the iterates\n",
    "$p_{n}$ are in the interval $I$ so $f'(p_{n})$ is never zero in\n",
    "Newton's iteration.\n",
    "\n",
    "If we replace $p_{1}$ by $p_{n+1}$, and $p_{0}$ by $p_{n}$\n",
    "in Equation \\eqref{eq:Newton's iteration w error}, we get\n",
    "\\begin{equation}\\label{eq:newtonpf2}\n",
    "p-p_{n+1}=-\\frac{(p-p_{n})^{2}}{2}\\frac{f''(\\xi(p))}{f'(p_{n})}.\n",
    "\\end{equation}\n",
    "\n",
    "Here $\\xi(p)$ is a number between $p$ and $p_{n}.$ Since $\\xi(p)$\n",
    "changes recursively with $n$, let's update our notation as: $\\xi(p)=\\xi_{n}.$\n",
    "Then, Equation \\eqref{eq:newtonpf2} implies\n",
    "\\begin{equation*}\n",
    "|p-p_{n+1}|\\leq M|p-p_{n}|^{2}\\Rightarrow M|p-p_{n+1}|\\leq\\left(M|p-p_{n}|\\right)^{2}.\n",
    "\\end{equation*}\n",
    "Similarly, $|p-p_{n}|\\leq M|p-p_{n-1}|^{2}$, or $M|p-p_{n}|\\leq\\left(M|p-p_{n-1}|\\right)^{2}$,\n",
    "and thus $M|p-p_{n+1}|\\leq\\left(M|p-p_{n-1}|\\right)^{2^{2}}.$ By\n",
    "induction, we can show\n",
    "\\begin{equation*}\n",
    "M|p-p_{n}|\\leq\\left(M|p-p_{0}|\\right)^{2^{n}}\\Rightarrow|p-p_{n}|\\leq\\frac{1}{M}\\left(M|p-p_{0}|\\right)^{2^{n}}.\n",
    "\\end{equation*}\n",
    "Since $M|p-p_{0}|<1,$ $|p-p_{n}|\\rightarrow0$ as $n\\rightarrow\\infty.$\n",
    "Therefore $\\lim_{n\\rightarrow\\infty}p_{n}=p.$ Finally,\n",
    "\\begin{equation*}\n",
    "\\lim_{n\\rightarrow\\infty}\\frac{p-p_{n+1}}{(p-p_{n})^{2}}=\\lim_{n\\rightarrow\\infty}-\\frac{1}{2}\\frac{f''(\\xi_{n})}{f'(p_{n})},\n",
    "\\end{equation*}\n",
    "and since $p_{n}\\rightarrow p,$ and $\\xi_{n}$ is between $p_{n}$\n",
    "and $p,$ $\\xi_{n}\\rightarrow p$, and therefore\n",
    "\\begin{equation*}\n",
    "\\lim_{n\\rightarrow\\infty}\\frac{p-p_{n+1}}{(p-p_{n})^{2}}=-\\frac{1}{2}\\frac{f''(p)}{f'(p)}\n",
    "\\end{equation*}\n",
    "proving the theorem.\n",
    "\\end{proof}"
   ]
  },
  {
   "cell_type": "markdown",
   "id": "73c20205",
   "metadata": {},
   "source": [
    "\\begin{corollary}\\label{cor:chap2_cor33}\n",
    "Newton's method has quadratic convergence.\n",
    "\\end{corollary}"
   ]
  },
  {
   "cell_type": "markdown",
   "id": "05d80b81",
   "metadata": {},
   "source": [
    "\\begin{proof}\n",
    "Newton's method has quadratic convergence.\n",
    "Recall that quadratic convergence means\n",
    "\\begin{equation*}\n",
    "|p_{n+1}-p| \\leq C |p_n-p|^2,\n",
    "\\end{equation*}\n",
    "for some constant $C>0$. Taking the absolute values of the limit established in the previous theorem, we obtain\n",
    "\\begin{equation*}\n",
    "\\lim_{n\\rightarrow\\infty}\\left | \\frac{p-p_{n+1}}{(p-p_{n})^{2}} \\right |= \\lim_{n\\rightarrow\\infty} \\frac{|p_{n+1}-p|}{|p_{n}-p|^{2}}=\\left | \\frac{1}{2}\\frac{f''(p)}{f'(p)} \\right |.\n",
    "\\end{equation*}\n",
    "Let $C'=\\left | \\frac{1}{2}\\frac{f''(p)}{f'(p)} \\right |$. From the definition of limit of a sequence, for any $\\epsilon>0$, there exists an integer $N>0$ such that $ \\frac{|p_{n+1}-p|}{|p_{n}-p|^{2}}  <C'+\\epsilon$ whenever $n>N.$ Set $C=C'+\\epsilon$ to obtain $|p_{n+1}-p| \\leq C |p_n-p|^2$ for $n>N$.\n",
    "\\end{proof}"
   ]
  },
  {
   "cell_type": "markdown",
   "id": "ee123b9d",
   "metadata": {},
   "source": [
    "\\begin{example}\\label{example:chap2_exa34}\n",
    "The Black-Scholes-Merton (BSM) formula, for which Myron Scholes and Robert Merton were awarded the Nobel prize in economics in 1997, computes the fair price of a contract known as the **European call option**. This contract gives its owner the right to purchase the asset the contract is written on (for example, a stock), for a specific price denoted by $K$ and called the strike price (or exercise price), at a future time denoted by $T$ and called the expiry. The formula gives the value of the European call option, $C$, as\n",
    "\n",
    "\\begin{equation*}\n",
    "C=S\\phi(\\mathbb{d_1})-Ke^{-rT}\\phi(\\mathbb{d_2})\n",
    "\\end{equation*}\n",
    "where $S$ is the price of the asset at the present time, $r$ is the risk-free interest rate, and $\\phi(x)$ is the distribution function of the standard normal random variable, given by\n",
    "\\begin{equation*}\n",
    "\\phi(x)=\\frac{1}{\\sqrt{2\\pi}} \\int_{-\\infty}^x e^{-t^2/2}dt.\n",
    "\\end{equation*}\n",
    "The constants $\\mathbb{d_1},\\mathbb{d_2}$ are obtained from\n",
    "\\begin{equation*}\n",
    "\\mathbb{d_1}=\\frac{\\log(S/K)+(r+\\sigma^2/2)T}{\\sigma \\sqrt{T}}, \\thinspace \\mathbb{d_2}=\\mathbb{d_1}-\\sigma \\sqrt{T}.\n",
    "\\end{equation*}\n",
    "All the constants in the BSM formula can be observed, except for $\\sigma$, which is called the volatility of the underlying asset. It has to be estimated from empirical data in some way. We want to concentrate on the relationship between $C$ and $\\sigma$, and think of $C$ as a function of $\\sigma$ only. We rewrite the BSM formula emphasizing $\\sigma$:\n",
    "\\begin{equation*}\n",
    "C(\\color{red}{\\sigma})=S\\phi(\\color{red}{\\mathbb{d_1}})-Ke^{-rT}\\phi(\\color{red}{\\mathbb{d_2}})\n",
    "\\end{equation*}\n",
    "It may look like the independent variable $\\sigma$ is missing on the right hand side of the above formula, but it is not: the constants $\\mathbb{d_1},\\mathbb{d_2}$ both depend on $\\sigma$. We can also think about $\\mathbb{d_1},\\mathbb{d_2}$ as functions of $\\sigma$.\n",
    "\n",
    "There are two questions financial engineers are interested in:\n",
    "\n",
    "- Compute the option price $C$ based on an estimate of $\\sigma$\n",
    "- Observe the price of an option $\\hat{C}$ traded in the market, and find $\\sigma^*$ for which the BSM formula gives the output $\\hat{C}$, i.e, $C(\\sigma^*)=\\hat{C}$. The volatility $\\sigma^*$ obtained in this way is called the **implied volatility**.\n",
    "\n",
    "\n",
    "The second question can be answered using a root-finding method, in particular, Newton's method. To summarize, we want to solve the equation:\n",
    "\\begin{equation*}\n",
    "C(\\sigma)-\\hat{C}=0\n",
    "\\end{equation*}\n",
    "where $\\hat{C}$ is a given constant, and\n",
    "\\begin{equation*}\n",
    "C(\\sigma)=S\\phi(\\mathbb{d_1})-Ke^{-rT}\\phi(\\mathbb{d_2}).\n",
    "\\end{equation*}\n",
    "To use Newton's method, we need $C'(\\sigma)=\\frac{dC}{d\\sigma}$. Since $\\mathbb{d_1},\\mathbb{d_2}$ are functions of $\\sigma$, we have\n",
    "\\begin{equation}\\label{eq:BSM_der}\n",
    "\\frac{dC}{d\\sigma}=S\\frac{d\\phi(\\mathbb{d_1})}{d\\sigma} - K e^{-rT} \\frac{d\\phi(\\mathbb{d_2})}{d\\sigma}.\n",
    "\\end{equation}\n",
    "\n",
    "Let's compute the derivatives on the right hand side of \\eqref{eq:BSM_der}.\n",
    "\\begin{equation*}\n",
    "\\frac{d\\phi(\\mathbb{d_1})}{d\\sigma}=\\frac{d}{d\\sigma} \\left( \\frac{1}{\\sqrt{2\\pi}} \\int_{-\\infty}^{\\mathbb{d_1}} e^{-t^2/2} dt \\right)=\\frac{1}{\\sqrt{2\\pi}} \\left( \\frac{d}{d\\sigma}\\underbrace{ \\int_{-\\infty}^{\\mathbb{d_1}} e^{-t^2/2} dt}_{u} \\right).\n",
    "\\end{equation*}\n",
    "We will use the chain rule to compute the derivative $\\frac{d}{d\\sigma}\\underbrace{ \\int_{-\\infty}^{\\mathbb{d_1}} e^{-t^2/2} dt}_{u}=\\frac{du}{d\\sigma}$:\n",
    "\\begin{equation*}\n",
    "\\frac{du}{d\\sigma}=\\frac{du}{d\\mathbb{d_1}}\\frac{d\\mathbb{d_1}}{d\\sigma}.\n",
    "\\end{equation*}\n",
    "The first derivative follows from the Fundamental Theorem of Calculus\n",
    "\\begin{equation*}\n",
    "\\frac{du}{d\\mathbb{d_1}}=e^{-\\mathbb{d_1}^2/2},\n",
    "\\end{equation*}\n",
    "and the second derivative is an application of the quotient rule of differentiation\n",
    "\\begin{equation*}\n",
    "\\frac{d\\mathbb{d_1}}{d\\sigma}=\\frac{d}{d\\sigma}\\left(\\frac{\\log(S/K)+(r+\\sigma^2/2)T}{\\sigma \\sqrt{T}}\\right)=\\sqrt{T}-\\frac{\\log(S/K)+(r+\\sigma^2/2)T}{\\sigma^2 \\sqrt{T}}.\n",
    "\\end{equation*}\n",
    "Putting the pieces together, we have\n",
    "\\begin{equation*}\n",
    "\\frac{d\\phi(\\mathbb{d_1})}{d\\sigma}=\\frac{e^{-\\mathbb{d_1}^2/2}}{\\sqrt{2\\pi}}  \\left( \\sqrt{T}-\\frac{\\log(S/K)+(r+\\sigma^2/2)T}{\\sigma^2 \\sqrt{T}} \\right).\n",
    "\\end{equation*}\n",
    "Going back to the second derivative we need to compute in Equation \\eqref{eq:BSM_der}, we have:\n",
    "\\begin{equation*}\n",
    "\\frac{d\\phi(\\mathbb{d_2})}{d\\sigma}=\\frac{1}{\\sqrt{2\\pi}} \\left( \\frac{d}{d\\sigma} \\int_{-\\infty}^{\\mathbb{d_2}} e^{-t^2/2} dt \\right).\n",
    "\\end{equation*}\n",
    "Using the chain rule and the Fundamental Theorem of Calculus we obtain\n",
    "\\begin{equation*}\n",
    "\\frac{d\\phi(\\mathbb{d_2})}{d\\sigma}=\\frac{e^{-\\mathbb{d_2}^2/2}}{\\sqrt{2\\pi}}\\frac{d\\mathbb{d_2}}{d\\sigma}.\n",
    "\\end{equation*}\n",
    "Since $\\mathbb{d_2}$ is defined as $\\mathbb{d_2}=\\mathbb{d_1}-\\sigma \\sqrt{T}$, we can express $d\\mathbb{d_2}/d\\sigma$ in terms of $d\\mathbb{d_1}/d\\sigma$ as:\n",
    "\\begin{equation*}\n",
    "\\frac{d\\mathbb{d_2}}{d\\sigma}= \\frac{d\\mathbb{d_1}}{d\\sigma}-\\sqrt{T}.\n",
    "\\end{equation*}\n",
    "Finally, we have the derivative we need:\n",
    "\\begin{equation}\\label{eq:call_deriv}\n",
    "\\frac{dC}{d\\sigma}=\\frac{Se^{-\\frac{\\mathbb{d_1}^2}{2}}}{\\sqrt{2\\pi}}  \\left( \\sqrt{T}-\\frac{\\log(\\frac{S}{K})+(r+\\frac{\\sigma^2}{2})T}{\\sigma^2 \\sqrt{T}} \\right)+ K \\frac{e^{-(rT+\\frac{\\mathbb{d_2}^2}{2})} }{\\sqrt{2\\pi}} \\left( \\frac{\\log(\\frac{S}{K})+(r+\\frac{\\sigma^2}{2})T}{\\sigma^2 \\sqrt{T}} \\right)\n",
    "\\end{equation}\n",
    "\\end{example}"
   ]
  },
  {
   "cell_type": "markdown",
   "id": "ddc258f7",
   "metadata": {},
   "source": [
    "We are ready to apply Newton's method to solve the equation $C(\\sigma)-\\hat{C}=0$. Now let's find some data.\n",
    "\n",
    "The General Electric Company (GE) stock is $\\$7.01$ on Dec 8, 2018, and a European call option on this stock, expiring on Dec 14, 2018, is priced at $\\$0.10$. The option has strike price $K=\\$7.5$. The risk-free interest rate is 2.25\\%. The expiry $T$ is measured in years, and since there are 252 trading days in a year, $T=6/252$. We put this information in Python:"
   ]
  },
  {
   "cell_type": "code",
   "execution_count": 7,
   "id": "f655c5d5",
   "metadata": {},
   "outputs": [],
   "source": [
    "S = 7.01\n",
    "K = 7.5\n",
    "r = 0.0225\n",
    "T = 6/252"
   ]
  },
  {
   "cell_type": "markdown",
   "id": "8ce9e16b",
   "metadata": {},
   "source": [
    "We have not discussed how to compute the distribution function of the standard normal random variable $\\phi(x)=\\frac{1}{\\sqrt{2\\pi}} \\int_{-\\infty}^x e^{-t^2/2}dt$. In Chapter 4, we will discuss how to compute integrals numerically, but for this example, we will use the built-in function Python has for $\\phi(x)$. It is in a subpackage of SciPy called **stats**:"
   ]
  },
  {
   "cell_type": "code",
   "execution_count": 8,
   "id": "d92cf467",
   "metadata": {},
   "outputs": [],
   "source": [
    "from scipy import stats"
   ]
  },
  {
   "cell_type": "markdown",
   "id": "1e595252",
   "metadata": {},
   "source": [
    "The following defines **stdnormal** as the standard normal random variable."
   ]
  },
  {
   "cell_type": "code",
   "execution_count": 9,
   "id": "03c54d1b",
   "metadata": {},
   "outputs": [],
   "source": [
    "stdnormal = stats.norm(loc=0, scale=1)"
   ]
  },
  {
   "cell_type": "markdown",
   "id": "8165a172",
   "metadata": {},
   "source": [
    "The member function **cdf**(x)of **stdnormal** computes the standard normal distribution function at $x$. We write a function **phi**(x) based on this member function, matching our notation $\\phi(x)$ for the distribution function."
   ]
  },
  {
   "cell_type": "code",
   "execution_count": 10,
   "id": "af70e209",
   "metadata": {},
   "outputs": [],
   "source": [
    "phi = lambda x: stdnormal.cdf(x)"
   ]
  },
  {
   "cell_type": "markdown",
   "id": "c29e09c5",
   "metadata": {},
   "source": [
    "Next we define $C(\\sigma)$ and $C'(\\sigma)$. In the Python code, we replace $\\sigma$ by $x$."
   ]
  },
  {
   "cell_type": "code",
   "execution_count": 11,
   "id": "e6ef92a9",
   "metadata": {},
   "outputs": [],
   "source": [
    "def c(x):\n",
    "    d1 = (np.log(S/K)+(r+x**2/2)*T) / (x*np.sqrt(T))\n",
    "    d2 = d1 - x*np.sqrt(T)\n",
    "    return S*phi(d1) - K*np.exp(-r*T)*phi(d2)"
   ]
  },
  {
   "cell_type": "markdown",
   "id": "bf3f966a",
   "metadata": {},
   "source": [
    "The function **cprime**(x) is based on equation \\eqref{eq:call_deriv}:"
   ]
  },
  {
   "cell_type": "code",
   "execution_count": 12,
   "id": "a3b19d62",
   "metadata": {},
   "outputs": [],
   "source": [
    "def cprime(x):\n",
    "    d1 = (np.log(S/K)+(r+x**2/2)*T) / (x*np.sqrt(T))\n",
    "    d2 = d1 - x*np.sqrt(T)\n",
    "    A = (np.log(S/K)+(r+x**2/2)*T) / (np.sqrt(T)*x**2)\n",
    "    return S*(np.exp(-d1**2/2) / np.sqrt(2*np.pi)) * (np.sqrt(T)-A) \\\n",
    "    + K*np.exp(-(r*T+d2**2/2)) * A / np.sqrt(2*np.pi)"
   ]
  },
  {
   "cell_type": "markdown",
   "id": "e4ef03f3",
   "metadata": {},
   "source": [
    "We then load the **newton** function and run it to find the implied volatility which turns out to be 62\\%."
   ]
  },
  {
   "cell_type": "code",
   "execution_count": 13,
   "id": "573b276d",
   "metadata": {},
   "outputs": [
    {
     "name": "stdout",
     "output_type": "stream",
     "text": [
      "p is  0.6231138483741047  and the iteration number is  3\n"
     ]
    }
   ],
   "source": [
    "newton(lambda x: c(x)-0.1, cprime, 1, 1e-4, 60)"
   ]
  }
 ],
 "metadata": {
  "kernelspec": {
   "display_name": "Python 3 (ipykernel)",
   "language": "python",
   "name": "python3"
  },
  "language_info": {
   "codemirror_mode": {
    "name": "ipython",
    "version": 3
   },
   "file_extension": ".py",
   "mimetype": "text/x-python",
   "name": "python",
   "nbconvert_exporter": "python",
   "pygments_lexer": "ipython3",
   "version": "3.9.7"
  },
  "latex_envs": {
   "LaTeX_envs_menu_present": true,
   "autoclose": false,
   "autocomplete": true,
   "bibliofile": "biblio.bib",
   "cite_by": "apalike",
   "current_citInitial": 1,
   "eqLabelWithNumbers": true,
   "eqNumInitial": 1,
   "hotkeys": {
    "equation": "Ctrl-E",
    "itemize": "Ctrl-I"
   },
   "labels_anchors": false,
   "latex_user_defs": false,
   "report_style_numbering": false,
   "user_envs_cfg": false
  }
 },
 "nbformat": 4,
 "nbformat_minor": 5
}
