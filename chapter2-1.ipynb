{
 "cells": [
  {
   "cell_type": "markdown",
   "id": "45dff7e8",
   "metadata": {},
   "source": [
    "# 2.1 Error analysis for iterative methods"
   ]
  },
  {
   "cell_type": "markdown",
   "id": "1ef14008",
   "metadata": {},
   "source": [
    "Assume we have an iterative method $\\{p_{n}\\}$ that converges to the root $p$ of some function. How can we assess the rate of convergence?"
   ]
  },
  {
   "cell_type": "markdown",
   "id": "f5672145",
   "metadata": {},
   "source": [
    "\\begin{definition}\\label{def:chap2_def24}\n",
    "Suppose $\\{p_{n}\\}$ converges to $p$. If there are constants $C>0$ and $\\alpha >1$ such that\n",
    "\\begin{equation}\\label{eq:convorder}\n",
    "|p_{n+1}-p| \\leq C |p_{n}-p|^{\\alpha},\n",
    "\\end{equation}\n",
    "for $n\\geq 1$, then we say $\\{p_{n}\\}$ converges to $p$ with order $\\alpha$.\n",
    "\\end{definition}"
   ]
  },
  {
   "cell_type": "markdown",
   "id": "7240ec19",
   "metadata": {},
   "source": [
    "**Special cases:**\n",
    "\n",
    "- If $\\alpha=1$ and $C<1$, we say the convergence is linear, and the rate of convergence is $C$. In this case, using induction, we can show\n",
    "   \\begin{equation}\\label{eq:linconv}\n",
    "   |p_{n+1}-p| \\leq C^n |p_{1}-p|.\n",
    "   \\end{equation}\n",
    "\n",
    "   There are some methods for which Equation \\eqref{eq:linconv}  holds, but Equation \\eqref{eq:convorder} does not hold for any    $C<1$. We still call these methods to be of linear convergence. An example is the bisection method.\n",
    "\n",
    "-  If $\\alpha>1$, we say the convergence is superlinear. In particular, the case $\\alpha=2$ is called quadratic convergence."
   ]
  },
  {
   "cell_type": "markdown",
   "id": "a304405d",
   "metadata": {},
   "source": [
    "\\begin{example}\\label{example:chap2_exa25}\n",
    "Consider the sequences defined by\n",
    "\\begin{align*}\n",
    "p_{n+1}&=0.7 p_n \\text{  and  } p_1=1\\\\\n",
    "p_{n+1}&=0.7 p^2_n \\text{  and  } p_1=1.\n",
    "\\end{align*}\n",
    "The first sequence converges to 0 linearly, and the second quadratically. Here are a few iterations of the sequences:\n",
    "\\begin{equation*}\n",
    "\\begin{array}{ccc}\n",
    "n & \\text{Linear} & \\text{Quadratic} \\\\\n",
    "\\hline\n",
    "1 & 0.7 & 0.7\\\\\n",
    "4 & 0.24 & 4.75\\times10^{-3}\\\\\n",
    "8 & 5.76\\times10^{-2} & 3.16\\times10^{-40}\\\\\n",
    "\\end{array}\n",
    "\\end{equation*}\n",
    "Observe how fast quadratic convergence is compared to linear convergence.\n",
    "\\end{example}"
   ]
  }
 ],
 "metadata": {
  "kernelspec": {
   "display_name": "Python 3 (ipykernel)",
   "language": "python",
   "name": "python3"
  },
  "language_info": {
   "codemirror_mode": {
    "name": "ipython",
    "version": 3
   },
   "file_extension": ".py",
   "mimetype": "text/x-python",
   "name": "python",
   "nbconvert_exporter": "python",
   "pygments_lexer": "ipython3",
   "version": "3.9.7"
  },
  "latex_envs": {
   "LaTeX_envs_menu_present": true,
   "autoclose": false,
   "autocomplete": true,
   "bibliofile": "biblio.bib",
   "cite_by": "apalike",
   "current_citInitial": 1,
   "eqLabelWithNumbers": true,
   "eqNumInitial": 1,
   "hotkeys": {
    "equation": "Ctrl-E",
    "itemize": "Ctrl-I"
   },
   "labels_anchors": false,
   "latex_user_defs": false,
   "report_style_numbering": false,
   "user_envs_cfg": false
  }
 },
 "nbformat": 4,
 "nbformat_minor": 5
}
