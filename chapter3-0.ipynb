{
 "cells": [
  {
   "cell_type": "markdown",
   "id": "75ffd3fe",
   "metadata": {},
   "source": [
    "# Chapter 3 Solutions to linear systems"
   ]
  },
  {
   "cell_type": "markdown",
   "id": "1054f858",
   "metadata": {},
   "source": [
    "In this chapter, we introduce numerical methods for solving systems of linear equations. These methods are generally categorized as *direct* and *iterative* methods. Direct methods, represented by Gaussian elimination and its variants, are discussed first, followed by iterative methods, including Jacobi, Gauss-Seidel and successive over-relaxation methods. We also introduce techniques that are specifically designed for matrices with certain special properties."
   ]
  }
 ],
 "metadata": {
  "kernelspec": {
   "display_name": "Python 3 (ipykernel)",
   "language": "python",
   "name": "python3"
  },
  "language_info": {
   "codemirror_mode": {
    "name": "ipython",
    "version": 3
   },
   "file_extension": ".py",
   "mimetype": "text/x-python",
   "name": "python",
   "nbconvert_exporter": "python",
   "pygments_lexer": "ipython3",
   "version": "3.9.7"
  },
  "latex_envs": {
   "LaTeX_envs_menu_present": true,
   "autoclose": false,
   "autocomplete": true,
   "bibliofile": "biblio.bib",
   "cite_by": "apalike",
   "current_citInitial": 1,
   "eqLabelWithNumbers": true,
   "eqNumInitial": 1,
   "hotkeys": {
    "equation": "Ctrl-E",
    "itemize": "Ctrl-I"
   },
   "labels_anchors": false,
   "latex_user_defs": false,
   "report_style_numbering": false,
   "user_envs_cfg": false
  }
 },
 "nbformat": 4,
 "nbformat_minor": 5
}
