{
 "cells": [
  {
   "cell_type": "markdown",
   "id": "a40cea43",
   "metadata": {},
   "source": [
    "# 5.2 Composite Newton-Cotes formulas"
   ]
  },
  {
   "cell_type": "markdown",
   "id": "7f3f9a14",
   "metadata": {},
   "source": [
    "If the interval $[a,b]$ in the quadrature is large, then the Newton-Cotes\n",
    "formulas will give poor approximations. The quadrature error depends\n",
    "on $h=(b-a)/n$ (closed formulas), and if $b-a$ is large, then so\n",
    "is $h$, hence error. If we raise $n$ to compensate for large interval,\n",
    "then we face a problem discussed earlier: error due to the oscillatory\n",
    "behavior of high-degree interpolating polynomials that use equally-spaced\n",
    "nodes. A solution is to break up the domain into smaller intervals\n",
    "and use a Newton-Cotes rule with a smaller $n$ on each subinterval: this is known as a composite rule."
   ]
  },
  {
   "cell_type": "markdown",
   "id": "d01ad8c3",
   "metadata": {},
   "source": [
    "\\begin{example}\\label{example:chap4_exa74}\n",
    "Let's compute $\\int_{0}^{2}e^{x}\\sin xdx$. The antiderivative can be computed using integration by parts, and the true value of the integral to 6 digits\n",
    "is 5.39689. If we apply the Simpson's rule we get:\n",
    "\\begin{equation*}\n",
    "\\int_{0}^{2}e^{x}\\sin xdx\\approx\\frac{1}{3}(e^{0}\\sin 0+4e\\sin 1+e^{2}\\sin 2)=5.28942.\n",
    "\\end{equation*}\n",
    "If we partition the integration domain $(0,2)$ into $(0,1)$ and $(1,2)$, and apply Simpson's\n",
    "rule to each domain separately, we get\n",
    "\\begin{align*}\n",
    "\\int_{0}^{2}e^{x}\\sin xdx & =\\int_{0}^{1}e^{x}\\sin xdx+\\int_{1}^{2}e^{x}\\sin xdx\\\\\n",
    "&\\approx  \\frac{1}{6}(e^{0}\\sin 0+4e^{0.5}\\sin(0.5)+e\\sin 1)+\\frac{1}{6}(e\\sin 1+4e^{1.5}\\sin(1.5)+e^{2}\\sin 2)\\\\\n",
    "&=  5.38953,\n",
    "\\end{align*}\n",
    "improving the accuracy significantly. Note that we have used five nodes, $0,0.5,1,1.5,2$, which split the domain $(0,2)$ into four subintervals.\n",
    "\\end{example}"
   ]
  },
  {
   "cell_type": "markdown",
   "id": "028bb373",
   "metadata": {},
   "source": [
    "The composite rules for midpoint, trapezoidal, and Simpson's rule, with their error terms, are:\n",
    "\n",
    "- **Composite Midpoint rule**\n",
    "\n",
    "Let $f\\in C^{2}[a,b],$ $n$ be even, $h=\\frac{b-a}{n+2},$ and $x_{j}=a+(j+1)h$\n",
    "for $j=-1,0,...,n+1.$ The composite Midpoint rule for $n+2$ subintervals\n",
    "is\n",
    "\\begin{align}\n",
    "\\int_{a}^{b}f(x)dx=2h\\sum_{j=0}^{n/2}f(x_{2j})+\\frac{b-a}{6}h^{2}f''(\\xi)\n",
    "\\end{align}\n",
    "for some $\\xi\\in(a,b)$.\n",
    "\n",
    "- **Composite Trapezoidal rule**\n",
    "Let $f\\in C^{2}[a,b],$ $h=\\frac{b-a}{n}$, and $x_{j}=a+jh$ for $j=0,1,...,n.$\n",
    "The composite Trapezoidal rule for $n$ subintervals is\n",
    "\\begin{align}\n",
    "\\int_{a}^{b}f(x)dx=\\frac{h}{2}\\left[f(a)+2\\sum_{j=1}^{n-1}f(x_{j})+f(b)\\right]-\\frac{b-a}{12}h^{2}f''(\\xi)\n",
    "\\end{align}\n",
    "for some $\\xi\\in(a,b)$.\n",
    "\n",
    "- **Composite Simpson's rule**\n",
    "Let $f\\in C^{4}[a,b],$ $n$ be even, $h=\\frac{b-a}{n},$ and $x_{j}=a+jh$\n",
    "for $j=0,1,...,n.$ The composite Simpson's rule for $n$ subintervals\n",
    "is\n",
    "\n",
    "\\begin{equation}\\label{eq:compS}\n",
    "\\int_{a}^{b}f(x)dx=\\frac{h}{3}\\left[f(a)+2\\sum_{j=1}^{\\frac{n}{2}-1}f(x_{2j})+4\\sum_{j=1}^{n/2}f(x_{2j-1})+f(b)\\right]-\\frac{b-a}{180}h^{4}f^{(4)}(\\xi)\n",
    "\\end{equation}\n",
    "for some $\\xi\\in(a,b)$."
   ]
  },
  {
   "cell_type": "markdown",
   "id": "1596e04c",
   "metadata": {},
   "source": [
    "**Exercise 5.2-1**\n",
    "\n",
    "Show that the quadrature rule in Example \\ref{example:chap4_exa74} corresponds to taking $n=4$ in the composite Simpson's formula \\eqref{eq:compS}."
   ]
  },
  {
   "cell_type": "markdown",
   "id": "123fff49",
   "metadata": {},
   "source": [
    "**Exercise 5.2-2**\n",
    "\n",
    "Show that the absolute error for the composite trapezoidal rule decays at the rate of $1/n^2$, and the absolute error for the composite Simpson's rule decays at the rate of $1/n^4$, where $n$ is the number of subintervals."
   ]
  },
  {
   "cell_type": "markdown",
   "id": "cc5468dd",
   "metadata": {},
   "source": [
    "\\begin{example}\\label{example:chap4_exa75}\n",
    "Determine $n$ that ensures the composite Simpson's rule approximates $\\int_{1}^{2}x\\log xdx$ with an absolute error of at most $10^{-6}$.\n",
    "\\end{example}"
   ]
  },
  {
   "cell_type": "markdown",
   "id": "d6bcaadc",
   "metadata": {},
   "source": [
    "**Solution.**\n",
    "\n",
    "The error term for the composite Simpson's rule is $\\frac{b-a}{180}h^{4}f^{(4)}(\\xi)$\n",
    "where $\\xi$ is some number between $a=1$ and $b=2$, and $h=(b-a)/n.$\n",
    "Differentiate to get $f^{(4)}(x)=\\frac{2}{x^{3}}.$ Then\n",
    "\\begin{equation*}\n",
    "\\frac{b-a}{180}h^{4}f^{(4)}(\\xi)=\\frac{1}{180}h^{4}\\frac{2}{\\xi^{3}}\\leq\\frac{h^{4}}{90}\n",
    "\\end{equation*}\n",
    "where we used the fact that $\\frac{2}{\\xi^{3}}\\leq\\frac{2}{1}=2$\n",
    "when $\\xi\\in(1,2)$. Now make the upper bound less than $10^{-6}$,\n",
    "that is,\n",
    "\\begin{equation*}\n",
    "\\frac{h^{4}}{90}\\leq10^{-6}\\Rightarrow\\frac{1}{n^{4}(90)}\\leq10^{-6}\\Rightarrow n^{4}\\geq\\frac{10^{6}}{90}\\approx11111.11\n",
    "\\end{equation*}\n",
    "which implies $n\\geq 10.27.$ Since $n$ must be even for Simpson's rule, this means the smallest value of $n$ to ensure an error of at most $10^{-6}$ is 12.\n",
    "\n",
    "Using the Python code for the composite Simpson's rule that will be introduced next, we get 0.6362945608 as the estimate, using 10 digits. The correct integral to 10 digits is $0.6362943611$, which means\n",
    "an absolute error of $2\\times10^{-7}$, better than the expected $10^{-6}$."
   ]
  },
  {
   "cell_type": "markdown",
   "id": "3cd394fd",
   "metadata": {},
   "source": [
    "## Python codes for Newton-Cotes formulas"
   ]
  },
  {
   "cell_type": "markdown",
   "id": "486a0e02",
   "metadata": {},
   "source": [
    "We write codes for the trapezoidal and Simpson's rules, and the composite Simpson's rule. Coding trapezoidal and Simpson's rule is straightforward."
   ]
  },
  {
   "cell_type": "markdown",
   "id": "390e8cb7",
   "metadata": {},
   "source": [
    "### Trapezoidal rule"
   ]
  },
  {
   "cell_type": "code",
   "execution_count": 1,
   "id": "4e9dd26a",
   "metadata": {},
   "outputs": [],
   "source": [
    "def trap(f, a, b):\n",
    "    return (f(a)+f(b))*(b-a)/2"
   ]
  },
  {
   "cell_type": "markdown",
   "id": "ac66a9f0",
   "metadata": {},
   "source": [
    "Let's verify the calculations of Example 1 in Chapter 5-1:"
   ]
  },
  {
   "cell_type": "code",
   "execution_count": 2,
   "id": "211848ac",
   "metadata": {},
   "outputs": [
    {
     "data": {
      "text/plain": [
       "0.42677669529663687"
      ]
     },
     "execution_count": 2,
     "metadata": {},
     "output_type": "execute_result"
    }
   ],
   "source": [
    "trap(lambda x: x**x, 0.5, 1)"
   ]
  },
  {
   "cell_type": "markdown",
   "id": "ad736770",
   "metadata": {},
   "source": [
    "### Simpson's rule"
   ]
  },
  {
   "cell_type": "code",
   "execution_count": 3,
   "id": "ecc3c028",
   "metadata": {},
   "outputs": [],
   "source": [
    "def simpson(f, a, b):\n",
    "    return (f(a)+4*f((a+b)/2)+f(b))*(b-a)/6"
   ]
  },
  {
   "cell_type": "code",
   "execution_count": 4,
   "id": "2b041cf8",
   "metadata": {},
   "outputs": [
    {
     "data": {
      "text/plain": [
       "0.4109013813880978"
      ]
     },
     "execution_count": 4,
     "metadata": {},
     "output_type": "execute_result"
    }
   ],
   "source": [
    "simpson(lambda x: x**x, 0.5, 1)"
   ]
  },
  {
   "cell_type": "markdown",
   "id": "a517bb9c",
   "metadata": {},
   "source": [
    " Recall that the degree of accuracy of Simpson's rule is 3. This means\n",
    "the rule integrates polynomials $1, x, x^2,x^3$ exactly, but not\n",
    "$x^4$. We can use this as a way to verify our code:"
   ]
  },
  {
   "cell_type": "code",
   "execution_count": 5,
   "id": "48aa0355",
   "metadata": {},
   "outputs": [
    {
     "data": {
      "text/plain": [
       "0.5"
      ]
     },
     "execution_count": 5,
     "metadata": {},
     "output_type": "execute_result"
    }
   ],
   "source": [
    "simpson(lambda x: x, 0, 1)"
   ]
  },
  {
   "cell_type": "code",
   "execution_count": 6,
   "id": "59fafd98",
   "metadata": {},
   "outputs": [
    {
     "data": {
      "text/plain": [
       "0.3333333333333333"
      ]
     },
     "execution_count": 6,
     "metadata": {},
     "output_type": "execute_result"
    }
   ],
   "source": [
    "simpson(lambda x: x**2, 0, 1)"
   ]
  },
  {
   "cell_type": "code",
   "execution_count": 7,
   "id": "f7d67d81",
   "metadata": {},
   "outputs": [
    {
     "data": {
      "text/plain": [
       "0.25"
      ]
     },
     "execution_count": 7,
     "metadata": {},
     "output_type": "execute_result"
    }
   ],
   "source": [
    "simpson(lambda x: x**3, 0, 1)"
   ]
  },
  {
   "cell_type": "code",
   "execution_count": 8,
   "id": "bea9fe95",
   "metadata": {},
   "outputs": [
    {
     "data": {
      "text/plain": [
       "0.20833333333333334"
      ]
     },
     "execution_count": 8,
     "metadata": {},
     "output_type": "execute_result"
    }
   ],
   "source": [
    "simpson(lambda x: x**4, 0, 1)"
   ]
  },
  {
   "cell_type": "markdown",
   "id": "4d012b1b",
   "metadata": {},
   "source": [
    "### Composite Simpson's rule"
   ]
  },
  {
   "cell_type": "markdown",
   "id": "9ffb1e10",
   "metadata": {},
   "source": [
    " Next we code the composite Simpson's rule, and verify the result of Example \\ref{example:chap4_exa75}."
   ]
  },
  {
   "cell_type": "code",
   "execution_count": 9,
   "id": "e20060f5",
   "metadata": {},
   "outputs": [],
   "source": [
    "import numpy as np"
   ]
  },
  {
   "cell_type": "code",
   "execution_count": 10,
   "id": "d05206d1",
   "metadata": {},
   "outputs": [],
   "source": [
    "def compsimpson(f, a, b, n):\n",
    "    h = (b-a)/n\n",
    "    nodes = np.zeros(n+1)\n",
    "    for i in range(n+1):\n",
    "        nodes[i] = a+i*h\n",
    "    sum = f(a)+f(b)\n",
    "    for i in range(2, n-1, 2):\n",
    "        sum += 2*f(nodes[i])\n",
    "    for i in range(1, n, 2):\n",
    "        sum += 4*f(nodes[i])\n",
    "    return sum*h/3"
   ]
  },
  {
   "cell_type": "code",
   "execution_count": 11,
   "id": "1208b715",
   "metadata": {},
   "outputs": [
    {
     "data": {
      "text/plain": [
       "0.636294560831306"
      ]
     },
     "execution_count": 11,
     "metadata": {},
     "output_type": "execute_result"
    }
   ],
   "source": [
    "compsimpson(lambda x: x*np.log(x), 1, 2, 12)"
   ]
  },
  {
   "cell_type": "markdown",
   "id": "2bbb499f",
   "metadata": {},
   "source": [
    "**Exercise 5.2-3**\n",
    "\n",
    "Determine the value of $n$ required to approximate\n",
    "\\begin{equation*}\n",
    "\\int_{0}^{2}\\frac{1}{x+1}dx\n",
    "\\end{equation*}\n",
    "to within $10^{-4}$, and compute the approximation, using the composite\n",
    "trapezoidal and composite Simpson's rule."
   ]
  },
  {
   "cell_type": "markdown",
   "id": "640d087d",
   "metadata": {},
   "source": [
    "## Composite rules and roundoff error"
   ]
  },
  {
   "cell_type": "markdown",
   "id": "25c66fb3",
   "metadata": {},
   "source": [
    "As we increase $n$ in the composite rules to lower error, the number\n",
    "of function evaluations increases, and a natural question to ask would\n",
    "be whether roundoff error could accumulate and cause problems. Somewhat\n",
    "remarkably, the answer is no. Let's assume the roundoff error associated\n",
    "with computing $f(x)$ is bounded for all $x,$ by some positive\n",
    "constant $\\epsilon$. And let's try to compute the roundoff error\n",
    "in composite Simpson rule. Since each function evaluation in the composite\n",
    "rule incorporates an error of (at most) $\\epsilon$, the total error\n",
    "is bounded by\n",
    "\\begin{align*}\n",
    "\\frac{h}{3}\\left[\\epsilon+2\\sum_{j=1}^{\\frac{n}{2}-1}\\epsilon+4\\sum_{j=1}^{n/2}\\epsilon+\\epsilon\\right] & \\leq\\frac{h}{3}\\left[\\epsilon+2\\left(\\frac{n}{2}-1\\right)\\epsilon+4\\left(\\frac{n}{2}\\right)\\epsilon+\\epsilon\\right]\n",
    "  =\\frac{h}{3}(3n\\epsilon)=hn\\epsilon.\n",
    "\\end{align*}\n",
    "However, since $h=(b-a)/n$, the bound simplifies as $hn\\epsilon=(b-a)\\epsilon.$\n",
    "Therefore no matter how large $n$ is, that is, how large the number\n",
    "of function evaluations is, the roundoff error is bounded by the same\n",
    "constant $(b-a)\\epsilon$ which only depends on the size of the interval."
   ]
  },
  {
   "cell_type": "markdown",
   "id": "6b792409",
   "metadata": {},
   "source": [
    "**Exercise 5.2-4**\n",
    "\n",
    "(This problem shows that numerical quadrature is stable with respect to error in function\n",
    "values.) Assume the function values $f(x_{i})$ are approximated by\n",
    "$\\tilde{f}(x_{i})$, so that $|f(x_{i})-\\tilde{f}(x_{i})|<\\epsilon$\n",
    "for any $x_{i}\\in(a,b).$ Find an upper bound on the error of numerical\n",
    "quadrature $\\sum w_{i}f(x_{i})$ when it is actually computed as $\\sum w_{i}\\tilde{f}(x_{i})$."
   ]
  }
 ],
 "metadata": {
  "kernelspec": {
   "display_name": "Python 3 (ipykernel)",
   "language": "python",
   "name": "python3"
  },
  "language_info": {
   "codemirror_mode": {
    "name": "ipython",
    "version": 3
   },
   "file_extension": ".py",
   "mimetype": "text/x-python",
   "name": "python",
   "nbconvert_exporter": "python",
   "pygments_lexer": "ipython3",
   "version": "3.9.7"
  },
  "latex_envs": {
   "LaTeX_envs_menu_present": true,
   "autoclose": false,
   "autocomplete": true,
   "bibliofile": "biblio.bib",
   "cite_by": "apalike",
   "current_citInitial": 1,
   "eqLabelWithNumbers": true,
   "eqNumInitial": 1,
   "hotkeys": {
    "equation": "Ctrl-E",
    "itemize": "Ctrl-I"
   },
   "labels_anchors": false,
   "latex_user_defs": false,
   "report_style_numbering": false,
   "user_envs_cfg": false
  }
 },
 "nbformat": 4,
 "nbformat_minor": 5
}
