{
 "cells": [
  {
   "cell_type": "markdown",
   "id": "13fba747",
   "metadata": {},
   "source": [
    "# 5.5 Improper integrals"
   ]
  },
  {
   "cell_type": "markdown",
   "id": "82676408",
   "metadata": {},
   "source": [
    "The quadrature rules we have learned so far cannot be applied (or\n",
    "applied with a poor performance) to integrals such as $\\int_{a}^{b}f(x)dx$\n",
    "if $a,b=\\pm\\infty$ or if $a,b$ are finite but $f$ is not continuous\n",
    "at one or both of the endpoints: recall that both Newton-Cotes and\n",
    "Gauss-Legendre error bound theorems require the integrand to have\n",
    "a number of continuous derivatives on the closed interval $[a,b]$.\n",
    "For example, an integral in the form\n",
    "\\begin{equation*}\n",
    "\\int_{-1}^{1}\\frac{f(x)}{\\sqrt{1-x^{2}}}dx\n",
    "\\end{equation*}\n",
    "clearly cannot be approximated using the trapezoidal or Simpson's\n",
    "rule without any modifications, since both rules require the values\n",
    "of the integrand at the end points which do not exist. One could try\n",
    "using the Gauss-Legendre rule, but the fact that the integrand does not\n",
    "satisfy the smoothness conditions required by the Gauss-Legendre error\n",
    "bound means the error of the approximation might be large.\n",
    "\n",
    "A simple remedy to the problem of improper integrals is to change\n",
    "the variable of integration and transform the integral, if possible, to one that\n",
    "behaves well.\n",
    "\n",
    "\\begin{example}\\label{example:chap4_exa82}\n",
    "Consider the previous integral $\\int_{-1}^{1}\\frac{f(x)}{\\sqrt{1-x^{2}}}dx.$\n",
    "Try the transformation $\\theta=\\cos^{-1}x.$ Then $d\\theta=-dx/\\sqrt{1-x^{2}}$\n",
    "and\n",
    "\\begin{equation*}\n",
    "\\int_{-1}^{1}\\frac{f(x)}{\\sqrt{1-x^{2}}}dx=-\\int_{\\pi}^{0}f(\\cos\\theta)d\\theta=\\int_{0}^{\\pi}f(\\cos\\theta)d\\theta.\n",
    "\\end{equation*}\n",
    "The latter integral can be evaluated using, for example, Simpson's\n",
    "rule, provided $f$ is smooth on $[0,\\pi]$.\n",
    "\\end{example}\n",
    "\n",
    "If the interval of integration is infinite, another approach that might work is truncation of the interval to a finite one. The success of this approach depends on whether we can estimate the resulting error."
   ]
  },
  {
   "cell_type": "markdown",
   "id": "b7b636f1",
   "metadata": {},
   "source": [
    "\\begin{example}\\label{example:chap4_exa83}\n",
    "Consider the improper integral $\\int_0^\\infty e^{-x^2}dx$. Write the integral as\n",
    "\\begin{equation*}\n",
    "\\int_0^\\infty e^{-x^2}dx=\\int_0^t e^{-x^2}dx+\\int_t^\\infty e^{-x^2}dx,\n",
    "\\end{equation*}\n",
    "where $t$ is the \"level of truncation\" to determine. We can estimate the first integral on the right-hand side using a quadrature rule. The second integral on the right-hand side is the error due to approximating $\\int_0^\\infty e^{-x^2}dx$ by $\\int_0^t e^{-x^2}dx$. An upper bound for the error can be found easily for this example: note that when $x\\geq t$, $ x^2=xx \\geq tx$, thus\n",
    "\\begin{equation*}\n",
    "\\int_t^\\infty e^{-x^2}dx \\leq \\int_t^\\infty e^{-tx} dx =e^{-t^2}/t.\n",
    "\\end{equation*}\n",
    "When $t=5$, $e^{-t^2}/t \\approx 10^{-12}$, therefore, approximating the integral $\\int_0^\\infty e^{-x^2}dx$ by $\\int_0^5 e^{-x^2}dx$ will be accurate within $10^{-12}$. Additional error will come from estimating the latter integral by numerical quadrature.\n",
    "\\end{example}"
   ]
  }
 ],
 "metadata": {
  "kernelspec": {
   "display_name": "Python 3 (ipykernel)",
   "language": "python",
   "name": "python3"
  },
  "language_info": {
   "codemirror_mode": {
    "name": "ipython",
    "version": 3
   },
   "file_extension": ".py",
   "mimetype": "text/x-python",
   "name": "python",
   "nbconvert_exporter": "python",
   "pygments_lexer": "ipython3",
   "version": "3.9.7"
  },
  "latex_envs": {
   "LaTeX_envs_menu_present": true,
   "autoclose": false,
   "autocomplete": true,
   "bibliofile": "biblio.bib",
   "cite_by": "apalike",
   "current_citInitial": 1,
   "eqLabelWithNumbers": true,
   "eqNumInitial": 1,
   "hotkeys": {
    "equation": "Ctrl-E",
    "itemize": "Ctrl-I"
   },
   "labels_anchors": false,
   "latex_user_defs": false,
   "report_style_numbering": false,
   "user_envs_cfg": false
  }
 },
 "nbformat": 4,
 "nbformat_minor": 5
}
