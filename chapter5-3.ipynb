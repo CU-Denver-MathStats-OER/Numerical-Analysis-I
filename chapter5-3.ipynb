{
 "cells": [
  {
   "cell_type": "markdown",
   "id": "a40cea43",
   "metadata": {},
   "source": [
    "# 5.3 Gaussian quadrature"
   ]
  },
  {
   "cell_type": "markdown",
   "id": "7f3f9a14",
   "metadata": {},
   "source": [
    "Newton-Cotes formulas were obtained by integrating interpolating polynomials\n",
    "with equally-spaced nodes. The equal spacing is convenient in deriving\n",
    "simple expressions for the composite rules. However, this placement\n",
    "of nodes is not necessarily the optimal placement. For example, the\n",
    "trapezoidal rule approximates the integral by integrating a linear\n",
    "function that joins the endpoints of the function. The fact that this is not the optimal choice can be seen by sketching a simple parabola.\n",
    "\n",
    "The idea of Gaussian quadrature is the following: in the numerical\n",
    "quadrature rule\n",
    "\\begin{equation*}\n",
    "\\int_{a}^{b}f(x)dx\\approx\\sum_{i=1}^{n}w_{i}f(x_{i})\n",
    "\\end{equation*}\n",
    "choose $x_{i}$ and $w_{i}$ in such a way that the quadrature rule\n",
    "has the highest possible accuracy. Note that unlike Newton-Cotes formulas where we started labeling the nodes with $x_0$, in the Gaussian quadrature the first node is $x_1$. This difference in notation is common in the literature, and each choice makes the subsequent equations in the corresponding theory easier to read."
   ]
  },
  {
   "cell_type": "markdown",
   "id": "ce49866e",
   "metadata": {},
   "source": [
    "\\begin{example}\\label{example:chap4_exa76}\n",
    "Let $(a,b)=(-1,1),$ and $n=2.$ Find the ``best'' $x_{i}$ and\n",
    "$w_{i}$.\n",
    "\n",
    "There are four parameters to determine: $x_{1},x_{2},w_{1},w_{2}.$ We\n",
    "need four constraints. Let's require the rule to integrate the following\n",
    "functions exactly: $f(x)=1,f(x)=x,f(x)=x^{2}$, and $f(x)=x^{3}$.\n",
    "\n",
    "If the rule integrates $f(x)=1$ exactly, then $\\int_{-1}^{1}dx=\\sum_{i=1}^{2}w_{i}$,\n",
    "i.e., $w_{1}+w_{2}=2.$ If the rule integrates $f(x)=x$ exactly,\n",
    "then $\\int_{-1}^{1}xdx=\\sum_{i=1}^{2}w_{i}x_{i}$, i.e., $w_{1}x_{1}+w_{2}x_{2}=0.$\n",
    "Continuing this for $f(x)=x^{2}$, and $f(x)=x^{3},$ we obtain the\n",
    "following equations:\n",
    "\\begin{align*}\n",
    "w_{1}+w_{2} & =2\\\\\n",
    "w_{1}x_{1}+w_{2}x_{2} & =0\\\\\n",
    "w_{1}x_{1}^{2}+w_{2}x_{2}^{2} & =\\frac{2}{3}\\\\\n",
    "w_{1}x_{1}^{3}+w_{2}x_{2}^{3} & =0.\n",
    "\\end{align*}\n",
    "Solving the equations gives: $w_{1}=w_{2}=1,x_{1}=\\frac{-\\sqrt{3}}{3},x_{2}=\\frac{\\sqrt{3}}{3}$.\n",
    "Therefore the quadrature rule is:\n",
    "\\begin{equation*}\n",
    "\\int_{-1}^{1}f(x)dx\\approx f\\left(\\frac{-\\sqrt{3}}{3}\\right)+f\\left(\\frac{\\sqrt{3}}{3}\\right).\n",
    "\\end{equation*}\n",
    "\\end{example}"
   ]
  },
  {
   "cell_type": "markdown",
   "id": "532275cb",
   "metadata": {},
   "source": [
    "Observe that:\n",
    "\n",
    "- The two nodes are not equally spaced on $(-1,1)$.\n",
    "- The accuracy of the rule is three, and it uses only two nodes. Recall that\n",
    "the accuracy of Simpson's rule is also three but it uses three nodes. In general\n",
    "Gaussian quadrature gives a degree of accuracy of $2n-1$ using only\n",
    "$n$ nodes.\n",
    "\n",
    "We were able to solve for the nodes and weights in the simple example\n",
    "above; however, as the number of nodes increases, the resulting non-linear\n",
    "system of equations will be very difficult to solve. There is an alternative\n",
    "approach using the theory of orthogonal polynomials, a topic we will\n",
    "discuss in detail later. Here, we will use a particular set of orthogonal\n",
    "polynomials $\\{L_{0}(x),L_{1}(x),...,L_{n}(x),...\\}$ called Legendre\n",
    "polynomials. We will give a definition of these polynomials in the next chapter. For this discussion, we just need the following properties of these polynomials:\n",
    "\n",
    "- $L_{n}(x)$ is a monic polynomial of degree $n$ for each $n$.\n",
    "- $\\int_{-1}^{1}P(x)L_{n}(x)dx=0$ for any polynomial $P(x)$ of degree\n",
    "less than $n$.\n",
    "\n",
    "The first few Legendre polynomials are\n",
    "\\begin{align*}\n",
    "L_{0}(x)  =1,L_{1}(x)=x,L_{2}(x)=x^{2}-\\frac{1}{3}, L_{3}(x) =x^{3}-\\frac{3}{5}x,L_{4}(x)=x^{4}-\\frac{6}{7}x^{2}+\\frac{3}{35}.\n",
    "\\end{align*}\n",
    "How do these polynomials help with finding the nodes and the weights\n",
    "of the Gaussian quadrature rule? The answer is short: the **roots** of the Legendre\n",
    "polynomials are the **nodes** of the quadrature rule!\n",
    "\n",
    "To summarize, the **Gauss-Legendre quadrature rule** for the integral of $f$ over $(-1,1)$ is\n",
    "\\begin{equation*}\n",
    "\\int_{-1}^1 f(x)dx = \\sum_{i=1}^n w_i f(x_i)\n",
    "\\end{equation*}\n",
    "where $x_{1},x_{2},...,x_{n}$ are the roots of the $n$th Legendre polynomial, and the weights are computed using the following theorem."
   ]
  },
  {
   "cell_type": "markdown",
   "id": "7d3d099b",
   "metadata": {},
   "source": [
    "\\begin{theorem}\\label{theo:chap4_thm77}\n",
    "Suppose that $x_{1},x_{2},...,x_{n}$ are the roots of the $n$th\n",
    "Legendre polynomial $L_{n}(x)$ and the weights are given by\n",
    "\\begin{equation*}\n",
    "w_{i}=\\int_{-1}^{1}\\prod_{j=1,j\\neq i}^{n}\\frac{x-x_{j}}{x_{i}-x_{j}}dx.\n",
    "\\end{equation*}\n",
    "Then the Gauss-Legendre quadrature rule has degree of accuracy $2n-1$. In other words, if $P(x)$ is any polynomial of degree less than or equal to $2n-1$,\n",
    "then\n",
    "\\begin{equation*}\n",
    "\\int_{-1}^{1}P(x)dx=\\sum_{i=1}^{n}w_{i}P(x_{i}).\n",
    "\\end{equation*}\n",
    "\\end{theorem}"
   ]
  },
  {
   "cell_type": "markdown",
   "id": "702b1bd9",
   "metadata": {},
   "source": [
    "\\begin{proof}\n",
    "Let's start with a polynomial $P(x)$ with degree less than $n$.\n",
    "Construct the Lagrange interpolant for $P(x),$ using the nodes as\n",
    "$x_{1},...,x_{n}$\n",
    "\n",
    "\\begin{equation*}\n",
    "P(x)=\\sum_{i=1}^{n}P(x_{i})l_{i}(x)=\\sum_{i=1}^{n}\\prod_{j=1,j\\neq i}^{n}\\frac{x-x_{j}}{x_{i}-x_{j}}P(x_{i}).\n",
    "\\end{equation*}\n",
    "There is no error term above because the error term depends on the\n",
    "$n$th derivative of $P(x)$, but $P(x)$ is a polynomial of degree\n",
    "less than $n$, so that derivative is zero. Integrate both sides to\n",
    "get\n",
    "\\begin{align*}\n",
    "\\int_{-1}^{1}P(x)dx  =\\int_{-1}^{1}\\left[\\sum_{i=1}^{n}\\prod_{j=1,j\\neq i}^{n}\\frac{x-x_{j}}{x_{i}-x_{j}}P(x_{i})\\right]dx\n",
    " & =\\int_{-1}^{1}\\left[\\sum_{i=1}^{n}P(x_{i})\\prod_{j=1,j\\neq i}^{n}\\frac{x-x_{j}}{x_{i}-x_{j}}\\right]dx\\\\\n",
    " & =\\sum_{i=1}^{n}\\left[\\int_{-1}^{1}P(x_{i})\\prod_{j=1,j\\neq i}^{n}\\frac{x-x_{j}}{x_{i}-x_{j}}dx\\right]\\\\\n",
    " & =\\sum_{i=1}^{n}\\left[\\int_{-1}^{1}\\prod_{j=1,j\\neq i}^{n}\\frac{x-x_{j}}{x_{i}-x_{j}}dx\\right]P(x_{i})\\\\\n",
    " & =\\sum_{i=1}^{n}w_{i}P(x_{i}).\n",
    "\\end{align*}\n",
    "Therefore the theorem is correct for polynomials of degree less than $n$.\n",
    "Now let $P(x)$ be a polynomial of degree greater than or equal to $n$, but less\n",
    "than or equal to $2n-1$. Divide $P(x)$ by the Legendre polynomial\n",
    "$L_{n}(x)$ to get\n",
    "\\begin{equation*}\n",
    "P(x)=Q(x)L_{n}(x)+R(x).\n",
    "\\end{equation*}\n",
    "Note that\n",
    "\\begin{equation*}\n",
    "P(x_{i})=Q(x_{i})L_{n}(x_{i})+R(x_{i})=R(x_{i})\n",
    "\\end{equation*}\n",
    "since $L_{n}(x_{i})=0$ , for $i=1,2,...,n.$ Also observe the following\n",
    "facts:\n",
    "\n",
    "1. $\\int_{-1}^{1}Q(x)L_{n}(x)dx=0,$ since $Q(x)$ is a polynomial\n",
    "of degree less than $n,$ and from the second property of Legendre polynomials.\n",
    "2. $\\int_{-1}^{1}R(x)dx=\\sum_{i=1}^{n}w_{i}R(x_{i}),$ since $R(x)$\n",
    "is a polynomial of degree less than $n,$ and from the first part\n",
    "of the proof.\n",
    "\n",
    "Putting these facts together we get:\n",
    "\\begin{equation*}\n",
    "\\int_{-1}^{1}P(x)dx=\\int_{-1}^{1}\\left[Q(x)L_{n}(x)+R(x)\\right]dx=\\int_{-1}^{1}R(x)dx=\\sum_{i=1}^{n}w_{i}R(x_{i})=\\sum_{i=1}^{n}w_{i}P(x_{i}).\n",
    "\\end{equation*}\n",
    "\\end{proof}"
   ]
  },
  {
   "cell_type": "markdown",
   "id": "1accd43f",
   "metadata": {},
   "source": [
    "Table \\ref{eq:legendre_roots} displays the roots of the Legendre polynomials $L_2,L_3,L_4,L_5$ and the corresponding weights.\n",
    "\n",
    "\\begin{equation}\\label{eq:legendre_roots}\n",
    "\\begin{array}{ccc}\n",
    "\\hline\n",
    "n & \\text{Roots} & \\text{Weights}\\\\\n",
    "%\\hline\n",
    "\\hline\n",
    "2 & \\frac{1}{\\sqrt{3}}=0.5773502692 & 1\\\\\n",
    " & -\\frac{1}{\\sqrt{3}}=-0.5773502692 & 1\\\\\n",
    "\\hline\n",
    "3 & -(\\frac{3}{5})^{1/2}=-0.7745966692 & \\frac{5}{9}=0.5555555556\\\\\n",
    " & 0.0 & $\\frac{8}{9}=0.8888888889$\\\\\n",
    " & (\\frac{3}{5})^{1/2}=0.7745966692 & \\frac{5}{9}=0.5555555556\\\\\n",
    " \\hline\n",
    "4 & 0.8611363116 & 0.3478548451\\\\\n",
    "& 0.3399810436 & 0.6521451549\\\\\n",
    "& -0.3399810436 & 0.6521451549\\\\\n",
    "& -0.8611363116 & 0.3478548451\\\\\n",
    "\\hline\n",
    "5 & 0.9061798459 & 0.2369268850\\\\\n",
    "&0.5384693101 & 0.4786286705\\\\\n",
    "& 0.0 & 0.5688888889\\\\\n",
    "& -0.5384693101 & 0.4786286705\\\\\n",
    "& -0.9061798459 & 0.2369268850\\\\\n",
    "\\hline\n",
    "\\end{array}\n",
    "\\end{equation}"
   ]
  },
  {
   "cell_type": "markdown",
   "id": "cc5b748e",
   "metadata": {},
   "source": [
    "\\begin{example}\\label{example:chap4_exa78}\n",
    "Approximate $\\int_{-1}^1 \\cos x dx$ using Gauss-Legendre quadrature with $n=3$ nodes.\n",
    "\\end{example}"
   ]
  },
  {
   "cell_type": "markdown",
   "id": "e574b052",
   "metadata": {},
   "source": [
    "**Solution.**\n",
    "\n",
    "From \\eqref{eq:legendre_roots}, and using two-digit rounding, we have\n",
    "\\begin{equation*}\n",
    "\\int_{-1}^1 \\cos x dx \\approx 0.56 \\cos (-0.77) + 0.89 \\cos 0 + 0.56 \\cos (0.77)=1.69\n",
    "\\end{equation*}\n",
    "and the true solution is $\\sin(1)-\\sin(-1)=1.68$."
   ]
  },
  {
   "cell_type": "markdown",
   "id": "5f3d5bdb",
   "metadata": {},
   "source": [
    "So far we discussed integrating functions over the interval $(-1,1).$ What if we have a different integration domain? The answer is simple: change of variables! To compute $\\int_{a}^{b}f(x)dx$ for any $a<b$, we use the following change of variables:\n",
    "\n",
    "\\begin{equation*}\n",
    "t=\\frac{2x-a-b}{b-a}\\Leftrightarrow x=\\frac{1}{2}\\left[(b-a)t+a+b\\right]\n",
    "\\end{equation*}\n",
    "With this substitution, we have\n",
    "\\begin{equation*}\n",
    "\\int_a^b f(x) dx = \\frac{b-a}{2} \\int_{-1}^1 f \\left( \\frac{1}{2}\\left[(b-a)t+a+b\\right] \\right)dt.\n",
    "\\end{equation*}\n",
    "Now we can approximate the integral on the right-hand side as before."
   ]
  },
  {
   "cell_type": "markdown",
   "id": "871fca1a",
   "metadata": {},
   "source": [
    "\\begin{example}\\label{example:chap4_exa79}\n",
    "Approximate $\\int_{0.5}^{1}x^x dx$ using Gauss-Legendre quadrature\n",
    "with $n=2$ nodes.\n",
    "\\end{example}"
   ]
  },
  {
   "cell_type": "markdown",
   "id": "dcf4bdb2",
   "metadata": {},
   "source": [
    "**Solution.**\n",
    "\n",
    "Transform the integral using $x=\\frac{1}{2}\\left(0.5t+1.5\\right)=\\frac{1}{2}(\\frac{t}{2}+\\frac{3}{2})=\\frac{t+3}{4},dx=\\frac{dt}{4}$ to get:\n",
    "\\begin{equation*}\n",
    "\\int_{0.5}^{1}x^x dx=\\frac{1}{4}\\int_{-1}^{1} \\left(\\frac{t+3}{4}\\right)^{\\frac{t+3}{4}}dt.\n",
    "\\end{equation*}\n",
    "For $n=2$\n",
    "\\begin{align*}\n",
    "\\frac{1}{4}\\int_{-1}^{1} \\left(\\frac{t+3}{4}\\right)^{\\frac{t+3}{4}}dt\\approx \\frac{1}{4} \\left[ \\left( \\frac{1}{4\\sqrt{3}}+\\frac{3}{4}\\right)^{\\left( \\frac{1}{4\\sqrt{3}}+\\frac{3}{4}\\right)}+\\left(- \\frac{1}{4\\sqrt{3}}+\\frac{3}{4}\\right)^{\\left( -\\frac{1}{4\\sqrt{3}}+\\frac{3}{4}\\right)} \\right]=0.410759,\n",
    "\\end{align*}\n",
    "using six significant digits.\n",
    "We will next use Python for a five-node computation of the integral."
   ]
  },
  {
   "cell_type": "markdown",
   "id": "63c2b1bb",
   "metadata": {},
   "source": [
    "## Python code for Gauss-Legendre rule with five nodes"
   ]
  },
  {
   "cell_type": "markdown",
   "id": "033f54a0",
   "metadata": {},
   "source": [
    "The following code computes the Gauss-Legendre rule for $\\int_{-1}^1 f(x)dx$ using $n=5$ nodes. The nodes and weights are from \\eqref{eq:legendre_roots}."
   ]
  },
  {
   "cell_type": "code",
   "execution_count": 1,
   "id": "f32a7ded",
   "metadata": {},
   "outputs": [],
   "source": [
    "def gauss(f):\n",
    "    return 0.2369268851*f(-0.9061798459) + 0.2369268851*f(0.9061798459) + \\\n",
    "           0.5688888889*f(0) + 0.4786286705*f(0.5384693101) + \\\n",
    "           0.4786286705*f(-0.5384693101)"
   ]
  },
  {
   "cell_type": "markdown",
   "id": "16e00d5f",
   "metadata": {},
   "source": [
    "Now we compute $\\frac{1}{4}\\int_{-1}^{1} \\left(\\frac{t+3}{4}\\right)^{\\frac{t+3}{4}}dt$ using the code:"
   ]
  },
  {
   "cell_type": "code",
   "execution_count": 2,
   "id": "3bcef49f",
   "metadata": {},
   "outputs": [
    {
     "data": {
      "text/plain": [
       "0.41081564812239885"
      ]
     },
     "execution_count": 2,
     "metadata": {},
     "output_type": "execute_result"
    }
   ],
   "source": [
    "0.25*gauss(lambda t: (t/4+3/4)**(t/4+3/4))"
   ]
  },
  {
   "cell_type": "markdown",
   "id": "ec462a86",
   "metadata": {},
   "source": [
    "The next theorem is about the error of the Gauss-Legendre rule. Its proof can be found in Atkinson [1989]. The theorem shows, in particular, that the degree of accuracy of the quadrature rule, using $n$ nodes, is $2n-1$."
   ]
  },
  {
   "cell_type": "markdown",
   "id": "acc6a90b",
   "metadata": {},
   "source": [
    "\\begin{theorem}\\label{theo:chap4_thm80}\n",
    "Let $f\\in C^{2n}[-1,1].$ The error of Gauss-Legendre rule satisfies\n",
    "\\begin{equation*}\n",
    "\\int_{a}^{b}f(x)dx-\\sum_{i=1}^{n}w_{i}f(x_{i})=\\color{blue}{\\frac{2^{2n+1}(n!)^{4}}{(2n+1)\\left[(2n)!\\right]^{2}}}\\frac{f^{(2n)}(\\xi)}{(2n)!}\n",
    "\\end{equation*}\n",
    "for some $\\xi\\in(-1,1)$.\n",
    "\\end{theorem}"
   ]
  },
  {
   "cell_type": "markdown",
   "id": "6934fe59",
   "metadata": {},
   "source": [
    "Using Stirling's formula $n! \\sim e^{-n} n^n (2\\pi n)^{1/2}$, where the symbol $\\sim$ means the ratio of the two sides converges to 1 as $n\\rightarrow \\infty$, it can be shown that\n",
    "\\begin{equation*}\n",
    "\\color{blue}{\\frac{2^{2n+1}(n!)^{4}}{(2n+1)\\left[(2n)!\\right]^{2}}}\\sim \\frac{\\pi}{4^{n}}.\n",
    "\\end{equation*}\n",
    "This means the error of Gauss-Legendre rule decays at an exponential rate of\n",
    "$1/4^{n}$ as opposed to, for example, the polynomial rate of $1/n^{4}$ for composite Simpson's\n",
    "rule."
   ]
  },
  {
   "cell_type": "markdown",
   "id": "a043949f",
   "metadata": {},
   "source": [
    "**Exercise 5.3-1**\n",
    "\n",
    "Prove that the sum of the weights in Gauss-Legendre quadrature is\n",
    "2, for any $n$."
   ]
  },
  {
   "cell_type": "markdown",
   "id": "2c4c1195",
   "metadata": {},
   "source": [
    "**Exercise 5.3-2**\n",
    "\n",
    "Take $f(x)=1$ in $\\int_{-1}^1 f(x)dx=\\sum_{i=1}^n w_i f(x_i)$ (the error term is zero because the derivative of $f$ is zero) to get $2=\\sum_{i=1}^n w_i$."
   ]
  },
  {
   "cell_type": "markdown",
   "id": "bb79159c",
   "metadata": {},
   "source": [
    "**Exercise 5.3-3**\n",
    "\n",
    "Approximate $\\int_{1}^{1.5}x^{2}\\log xdx$ using Gauss-Legendre rule\n",
    "with $n=2$ and $n=3$. Compare the approximations to the exact value\n",
    "of the integral."
   ]
  },
  {
   "cell_type": "markdown",
   "id": "764b5df1",
   "metadata": {},
   "source": [
    "**References**"
   ]
  },
  {
   "cell_type": "markdown",
   "id": "06092b98",
   "metadata": {},
   "source": [
    "K.E. Atkinson. An Introduction to Numerical Analysis. John Wiley & Sons, 2nd edition, 1989."
   ]
  }
 ],
 "metadata": {
  "kernelspec": {
   "display_name": "Python 3 (ipykernel)",
   "language": "python",
   "name": "python3"
  },
  "language_info": {
   "codemirror_mode": {
    "name": "ipython",
    "version": 3
   },
   "file_extension": ".py",
   "mimetype": "text/x-python",
   "name": "python",
   "nbconvert_exporter": "python",
   "pygments_lexer": "ipython3",
   "version": "3.9.7"
  },
  "latex_envs": {
   "LaTeX_envs_menu_present": true,
   "autoclose": false,
   "autocomplete": true,
   "bibliofile": "biblio.bib",
   "cite_by": "apalike",
   "current_citInitial": 1,
   "eqLabelWithNumbers": true,
   "eqNumInitial": 1,
   "hotkeys": {
    "equation": "Ctrl-E",
    "itemize": "Ctrl-I"
   },
   "labels_anchors": false,
   "latex_user_defs": false,
   "report_style_numbering": false,
   "user_envs_cfg": false
  }
 },
 "nbformat": 4,
 "nbformat_minor": 5
}
