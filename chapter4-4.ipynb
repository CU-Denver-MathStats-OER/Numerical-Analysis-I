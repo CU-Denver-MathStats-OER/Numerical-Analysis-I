{
 "cells": [
  {
   "cell_type": "markdown",
   "id": "f22876d5",
   "metadata": {},
   "source": [
    "# 4.4 Piecewise polynomials: spline interpolation"
   ]
  },
  {
   "cell_type": "markdown",
   "id": "565982df",
   "metadata": {},
   "source": [
    "As we observed in Section [](section4.2), a polynomial interpolant of high degree can have large oscillations, and thus provide an overall poor approximation to the underlying function. Recall that the degree of the interpolating polynomial is directly linked to the number of data points: we do not have the freedom to choose the degree of the polynomial.\n",
    "\n",
    "In spline interpolation, we take a very different approach: instead of finding a single polynomial that fits the given data, we find one low-degree polynomial that fits every **pair** of data. This results in several polynomial pieces joined together, and we typically impose some smoothness conditions on different pieces. The term **spline function** means a function that consists of polynomial pieces\n",
    "joined together with some smoothness conditions.\n",
    "\n",
    "In **linear spline interpolation**, we simply join data points (the nodes), by line\n",
    "segments, that is, linear polynomials. For example, consider the following figure that plots three data points $(x_{i-1},y_{i-1}),(x_i,y_i),(x_{i+1},y_{i+1})$. We fit a linear polynomial $P(x)$ to the first pair of data points $(x_{i-1},y_{i-1}),(x_i,y_i)$, and another linear polynomial $Q(x)$ to the second pair of data points $(x_i,y_i),(x_{i+1},y_{i+1})$."
   ]
  },
  {
   "cell_type": "markdown",
   "id": "b7751bd1",
   "metadata": {},
   "source": [
    "![Linear spline.](./images/linear_spline_fig.png)"
   ]
  },
  {
   "cell_type": "markdown",
   "id": "e80c6af5",
   "metadata": {},
   "source": [
    "Let $P(x)=ax+b$ and $Q(x)=cx+d$. We find the coefficients $a,b,c,d$ by solving\n",
    "\\begin{align*}\n",
    "P(x_{i-1}) & =y_{i-1}\\\\\n",
    "P(x_{i}) & =y_{i}\\\\\n",
    "Q(x_{i}) & =y_{i}\\\\\n",
    "Q(x_{i+1}) & =y_{i+1}\n",
    "\\end{align*}\n",
    "which is a system of four equations and four unknowns. We then repeat this procedure for all data points, $(x_0,y_0),(x_1,y_1),\\ldots,(x_n,y_n)$, to determine all of the linear polynomials.\n",
    "\n",
    "One disadvantage\n",
    "of linear spline interpolation is the lack of smoothness. The first derivative of the\n",
    "spline is not continuous at the nodes (unless the data fall on a line). We can obtain better smoothness by increasing the degree of the piecewise polynomials. In **quadratic spline interpolation**, we connect the nodes via second\n",
    "degree polynomials."
   ]
  },
  {
   "cell_type": "markdown",
   "id": "975c142d",
   "metadata": {},
   "source": [
    "![Quadratic spline.](./images/quadratic_spline_fig.png)"
   ]
  },
  {
   "cell_type": "markdown",
   "id": "bc5cf0a8",
   "metadata": {},
   "source": [
    "Let $P(x)=a_{0}+a_{1}x+a_{2}x^{2}$ and $Q(x)=b_{0}+b_{1}x+b_{2}x^{2}.$\n",
    "There are six unknowns to determine, but only four equations from the interpolation conditions:\n",
    " $P(x_{i-1})=y_{i-1},P(x_{i})=y_{i},Q(x_{i})=y_{i},Q(x_{i+1})=y_{i+1}$.\n",
    "We can find two extra conditions by requiring some smoothness, $P'(x_{i})=Q'(x_{i})$,\n",
    "and another equation by requiring $P'$ or $Q'$ take a certain value at one\n",
    "of the end points."
   ]
  },
  {
   "cell_type": "markdown",
   "id": "3c132070",
   "metadata": {},
   "source": [
    "## Cubic spline interpolation"
   ]
  },
  {
   "cell_type": "markdown",
   "id": "8121131d",
   "metadata": {},
   "source": [
    "This is the most common spline\n",
    "interpolation. It uses cubic polynomials to connect the nodes. Consider the data\n",
    "\\begin{equation*}\n",
    "(x_0,y_0),(x_1,y_1),\\ldots,(x_n,y_n),\n",
    "\\end{equation*}\n",
    "where $x_0<x_1<\\cdots<x_n$. In the figure below, the cubic polynomials interpolating pairs of data are labeled as $S_{0},\\ldots,S_{n-1}$ (we ignore the $y$-coordinates in the plot)."
   ]
  },
  {
   "cell_type": "markdown",
   "id": "9e2fca42",
   "metadata": {},
   "source": [
    "![Cubic spline.](./images/cubic_spline_fig.png)"
   ]
  },
  {
   "cell_type": "markdown",
   "id": "9222c141",
   "metadata": {},
   "source": [
    "The polynomial $S_i$ interpolates the nodes $(x_i,y_i),(x_{i+1},y_{i+1})$. Let\n",
    "\\begin{equation*}\n",
    "S_{i}(x)=a_{i}+b_{i}x+c_{i}x^{2}+d_{i}x^{3}\n",
    "\\end{equation*}\n",
    "for $i=0,1,...,n-1.$ There are $4n$ unknowns to determine: $a_i,b_i,c_i,d_i$, as $i$ takes on values from 0 to $n-1$. Let's describe the\n",
    "equations $S_i$ must satisfy. First, the interpolation conditions, that is, the requirement that $S_i$ pass through the nodes $(x_i,y_i),(x_{i+1},y_{i+1})$:\n",
    "\\begin{align*}\n",
    "S_{i}(x_{i}) & =y_{i}\\\\\n",
    "S_{i}(x_{i+1}) & =y_{i+1}\n",
    "\\end{align*}\n",
    "for $i=0,1,...,n-1$, which gives $2n$ equations. The next group\n",
    "of equations are about smoothness:\n",
    "\\begin{align*}\n",
    "S'_{i-1}(x_{i}) & =S_{i}'(x_{i})\\\\\n",
    "S''_{i-1}(x_{i}) & =S''_{i}(x_{i})\n",
    "\\end{align*}\n",
    "for $i=1,2,...,n-1$, which gives $2(n-1)=2n-2$ equations. Last two\n",
    "equations are called the boundary conditions. There are two choices:\n",
    "\n",
    "- Free or natural boundary: $S_{0}''(x_{0})=S_{n-1}''(x_{n})=0$\n",
    "- Clamped boundary: $S_{0}'(x_{0})=f'(x_{0})$ and $S_{n-1}'(x_{n})=f'(x_{n})$.\n",
    "\n",
    "Each boundary choice gives another two equations, bringing the total number of equations to $4n$. There are $4n$ unknowns as well. Do these systems of equations have a unique solution? The answer is yes, and a proof can be found in Burden et al. [2016]. The spline obtained from the first boundary choice is called a **natural spline**, and the other one is called a **clamped spline**."
   ]
  },
  {
   "cell_type": "markdown",
   "id": "d90d8da3",
   "metadata": {},
   "source": [
    "\\begin{example}\\label{example:chap3_exa64}\n",
    "Find the natural cubic spline that interpolates the data $(0,0),(1,1),(2,0)$.\n",
    "\\end{example}"
   ]
  },
  {
   "cell_type": "markdown",
   "id": "e1da0cdf",
   "metadata": {},
   "source": [
    "**Solution.**\n",
    "\n",
    "We have two cubic polynomials to determine:\n",
    "\\begin{align*}\n",
    "S_0(x)&=a_0+b_0x+c_0x^2+d_0x^3\\\\\n",
    "S_1(x)&=a_1+b_1x+c_1x^2+d_1x^3.\n",
    "\\end{align*}\n",
    "The interpolation equations are:\n",
    "\\begin{align*}\n",
    "S_0(0)=0 &\\Rightarrow a_0=0\\\\\n",
    "S_0(1)=1 &\\Rightarrow a_0+b_0+c_0+d_0=1\\\\\n",
    "S_1(1)=1 &\\Rightarrow a_1+b_1+c_1+d_1=1\\\\\n",
    "S_1(2)=0 &\\Rightarrow a_1+2b_1+4c_1+8d_1=0.\n",
    "\\end{align*}\n",
    "We need the derivatives of the polynomials for the other equations:\n",
    "\\begin{align*}\n",
    "S_0'(x)&=b_0+2c_0x+3d_0x^2\\\\\n",
    "S_1'(x)&=b_1+2c_1x+3d_1x^2\\\\\n",
    "S_0''(x)&=2c_0+6d_0x\\\\\n",
    "S_1''(x)&=2c_1+6d_1x.\n",
    "\\end{align*}\n",
    "The smoothness conditions are:\n",
    "\\begin{align*}\n",
    "S_0'(1)=S_1'(1) &\\Rightarrow b_0+2c_0+3d_0=b_1+2c_1+3d_1\\\\\n",
    "S_0''(1)=S_1''(1) &\\Rightarrow 2c_0+6d_0=2c_1+6d_1.\n",
    "\\end{align*}\n",
    "The natural boundary conditions are:\n",
    "\\begin{align*}\n",
    "S_0''(0)=0 &\\Rightarrow 2c_0=0\\\\\n",
    "S_1''(2)=0 &\\Rightarrow 2c_1+12d_1=0.\n",
    "\\end{align*}\n",
    "There are eight equations and eight unknowns. However, $a_0=c_0=0$, so that reduces the number of equations and unknowns to six. We rewrite the equations below, substituting $a_0=c_0=0$, and simplifying when possible:\n",
    "\\begin{align*}\n",
    "b_0+d_0&=1\\\\\n",
    "a_1+b_1+c_1+d_1&=1\\\\\n",
    "a_1+2b_1+4c_1+8d_1&=0\\\\\n",
    "b_0+3d_0&=b_1+2c_1+3d_1\\\\\n",
    "3d_0&=c_1+3d_1\\\\\n",
    "c_1+6d_1&=0.\n",
    "\\end{align*}\n",
    "We will use Python to solve this system of equations. To do that, we first rewrite the system of equations as a matrix equation\n",
    "\\begin{equation*}\n",
    "Ax=v\n",
    "\\end{equation*}\n",
    "where\n",
    "\\begin{equation*}\n",
    "A=\\begin{bmatrix}\n",
    "1 & 1& 0&0&0&0\\\\\n",
    "0&0&1&1&1&1\\\\\n",
    "0 & 0& 1&2&4&8\\\\\n",
    "1&3&0&-1&-2&-3\\\\\n",
    "0&3&0&0&-1&-3\\\\\n",
    "0&0&0&0&1&6\n",
    "\\end{bmatrix},\n",
    "x=\\begin{bmatrix}\n",
    "b_0\\\\\n",
    "d_0\\\\\n",
    "a_1\\\\\n",
    "b_1\\\\\n",
    "c_1\\\\\n",
    "d_1\n",
    "\\end{bmatrix},\n",
    "v=\\begin{bmatrix}\n",
    "1\\\\\n",
    "1\\\\\n",
    "0\\\\\n",
    "0\\\\\n",
    "0\\\\\n",
    "0\n",
    "\\end{bmatrix}.\n",
    "\\end{equation*}\n",
    "\n",
    "We enter the matrices $A,v$ in Python and solve the equation $Ax=v$ using the command $np.linalg.solve$."
   ]
  },
  {
   "cell_type": "code",
   "execution_count": null,
   "id": "00a945ce",
   "metadata": {},
   "outputs": [],
   "source": [
    "import numpy as np"
   ]
  },
  {
   "cell_type": "code",
   "execution_count": null,
   "id": "3910e438",
   "metadata": {},
   "outputs": [],
   "source": [
    "A = np.array([[1, 1, 0, 0, 0, 0], [0, 0, 1, 1, 1, 1],\n",
    "              [0, 0, 1, 2, 4, 8], [1, 3, 0, -1, -2, -3],\n",
    "              [0, 3, 0, 0, -1, -3], [0, 0, 0, 0, 1, 6]])\n",
    "A"
   ]
  },
  {
   "cell_type": "code",
   "execution_count": null,
   "id": "169ad988",
   "metadata": {},
   "outputs": [],
   "source": [
    "v = np.array([1, 1, 0, 0, 0, 0])\n",
    "v"
   ]
  },
  {
   "cell_type": "code",
   "execution_count": null,
   "id": "4041cfd2",
   "metadata": {},
   "outputs": [],
   "source": [
    "np.linalg.solve(A, v)"
   ]
  },
  {
   "cell_type": "markdown",
   "id": "4f3ff9ea",
   "metadata": {},
   "source": [
    "Therefore, the polynomials are:\n",
    "\\begin{align*}\n",
    "S_0(x)&=1.5x-0.5x^3\\\\\n",
    "S_1(x)&=-1+4.5x-3x^2+0.5x^3.\n",
    "\\end{align*}\n",
    "\n",
    "Solving the equations of a spline even for three data points can be tedious. Fortunately, there is a general approach to solving the equations for natural and clamped splines, for any number of data points. We will use this approach when we write Python codes for splines next."
   ]
  },
  {
   "cell_type": "markdown",
   "id": "d19e5670",
   "metadata": {},
   "source": [
    "**Exercise 4.4-1**\n",
    "\n",
    "Find the natural cubic spline interpolant for the following\n",
    "data:\n",
    "\\begin{equation*}\n",
    "\\begin{array}{cccc}\n",
    "x & -1 & 0 & 1\\\\\n",
    "\\hline\n",
    "y & 1 & 2 & 0\\\\\n",
    "\\end{array}\n",
    "\\end{equation*}"
   ]
  },
  {
   "cell_type": "markdown",
   "id": "b4d3ef95",
   "metadata": {},
   "source": [
    "**Exercise 4.4-2**\n",
    "\n",
    "The following is a clamped cubic spline for a function $f$ defined on $[1,3]$:\n",
    "\\begin{equation*}\n",
    "s(x)=\\begin{cases}\n",
    "s_{0}(x)=(x-1)+(x-1)^{2}-(x-1)^{3}, & \\text{if }1\\leq x<2\\\\\n",
    "s_{1}(x)=a+b(x-2)+c(x-2)^{2}+d(x-2)^{3} & \\text{if }2\\leq x<3.\n",
    "\\end{cases}\n",
    "\\end{equation*}\n",
    "Find $a,b,c,$ and $d,$ if $f'(1)=1$ and $f'(3)=2$."
   ]
  },
  {
   "cell_type": "markdown",
   "id": "88260d43",
   "metadata": {},
   "source": [
    "## Python code for spline interpolation"
   ]
  },
  {
   "cell_type": "code",
   "execution_count": null,
   "id": "aff4197e",
   "metadata": {},
   "outputs": [],
   "source": [
    "import numpy as np\n",
    "import matplotlib.pyplot as plt\n",
    "%matplotlib inline"
   ]
  },
  {
   "cell_type": "markdown",
   "id": "4931fe10",
   "metadata": {},
   "source": [
    " The function **CubicNatural** takes the $x$- and\n",
    "$y$-coordinates of the data as input, and computes the natural cubic\n",
    "spline interpolating the data, by solving the resulting matrix equation.\n",
    "The code is based on Algorithm 3.4 of Burden et al. [2016]. The output is the coefficients of the $m-1$ cubic\n",
    "polynomials, $a_i,b_i,c_i,d_i,i=0,...,m-2$ where $m$ is the number of\n",
    "data points. These coefficients are stored in the arrays $a,b,c,d$ and returned at the end of the function, so that we can access these arrays later to\n",
    "evaluate the spline for a given value $w$."
   ]
  },
  {
   "cell_type": "code",
   "execution_count": null,
   "id": "b15bbc84",
   "metadata": {},
   "outputs": [],
   "source": [
    "def CubicNatural(x, y):\n",
    "    m = x.size # m is the number of data points\n",
    "    n = m-1\n",
    "    a = np.zeros(m)\n",
    "    b = np.zeros(n)\n",
    "    c = np.zeros(m)\n",
    "    d = np.zeros(n)\n",
    "    for i in range(m):\n",
    "        a[i] = y[i]\n",
    "    h = np.zeros(n)\n",
    "    for i in range(n):\n",
    "        h[i] = x[i+1] - x[i]\n",
    "    u = np.zeros(n)\n",
    "    u[0] = 0\n",
    "    for i in range(1, n):\n",
    "        u[i] = 3*(a[i+1]-a[i])/h[i]-3*(a[i]-a[i-1])/h[i-1]\n",
    "    s = np.zeros(m)\n",
    "    z = np.zeros(m)\n",
    "    t = np.zeros(n)\n",
    "    s[0] = 1\n",
    "    z[0] = 0\n",
    "    t[0] = 0\n",
    "    for i in range(1, n):\n",
    "        s[i] = 2*(x[i+1]-x[i-1])-h[i-1]*t[i-1]\n",
    "        t[i] = h[i]/s[i]\n",
    "        z[i]=(u[i]-h[i-1]*z[i-1])/s[i]\n",
    "    s[m-1] = 1\n",
    "    z[m-1] = 0\n",
    "    c[m-1] = 0\n",
    "    for i in np.flip(np.arange(n)):\n",
    "        c[i] = z[i]-t[i]*c[i+1]\n",
    "        b[i] = (a[i+1]-a[i])/h[i]-h[i]*(c[i+1]+2*c[i])/3\n",
    "        d[i] = (c[i+1]-c[i])/(3*h[i])\n",
    "    return a, b, c, d"
   ]
  },
  {
   "cell_type": "markdown",
   "id": "b34ec82a",
   "metadata": {},
   "source": [
    "Once the matrix equation is solved, and the coefficients of the cubic\n",
    "polynomials are computed by **CubicNatural**, the next step is\n",
    "to evaluate the spline at a given value. This is done by the following\n",
    "function **CubicNaturalEval**. The inputs are the value at\n",
    "which the spline is evaluated, $w$, the $x$-coordinates of the\n",
    "data and the coefficients computed by **CubicNatural**. The function first finds the interval $[x_i,x_{i+1}],i\\in\\{0,\\ldots,m-2\\}$,\n",
    "$w$ belongs to, and then evaluates the spline at $w$ using the\n",
    "corresponding cubic polynomial."
   ]
  },
  {
   "cell_type": "code",
   "execution_count": null,
   "id": "73cecab7",
   "metadata": {},
   "outputs": [],
   "source": [
    "def CubicNaturalEval(w, x, coeff):\n",
    "    m = x.size\n",
    "    if w<x[0] or w>x[m-1]:\n",
    "        print('error: spline evaluated outside its domain')\n",
    "        return\n",
    "    n = m-1\n",
    "    p = 0\n",
    "    for i in range(n):\n",
    "        if w <= x[i+1]:\n",
    "            break\n",
    "        else:\n",
    "            p += 1\n",
    "    # p is the number of the subinterval w falls into, i.e., p=i means\n",
    "    # w falls into the ith subinterval $(x_i,x_{i+1}), and therefore\n",
    "    # the value of the spline at w is\n",
    "    # a_i+b_i*(w-x_i)+c_i*(w-x_i)^2+d_i*(w-x_i)^3.\n",
    "    a = coeff[0]\n",
    "    b = coeff[1]\n",
    "    c = coeff[2]\n",
    "    d = coeff[3]\n",
    "    return a[p]+b[p]*(w-x[p])+c[p]*(w-x[p])**2+d[p]*(w-x[p])**3"
   ]
  },
  {
   "cell_type": "markdown",
   "id": "0c810e1a",
   "metadata": {},
   "source": [
    " Next we will compare Newton and natural cubic spline interpolations when\n",
    "applied to Runge's function. We import the functions for Newton\n",
    "interpolation first."
   ]
  },
  {
   "cell_type": "code",
   "execution_count": null,
   "id": "674690e9",
   "metadata": {},
   "outputs": [],
   "source": [
    "def diff(x, y):\n",
    "    m = x.size #here m is the number of data points.\n",
    "    a = np.zeros(m)\n",
    "    for i in range(m):\n",
    "        a[i] = y[i]\n",
    "    for j in range(1, m):\n",
    "        for i in np.flip(np.arange(j,m)):\n",
    "            a[i] = (a[i]-a[i-1]) / (x[i]-x[i-(j)])\n",
    "    return a"
   ]
  },
  {
   "cell_type": "code",
   "execution_count": null,
   "id": "15315081",
   "metadata": {},
   "outputs": [],
   "source": [
    "def newton(x, y, z):\n",
    "    m = x.size # here m is the number of data points, not the degree\n",
    "    # of the polynomial\n",
    "    a = diff(x, y)\n",
    "    sum = a[0]\n",
    "    pr = 1.0\n",
    "    for j in range(m-1):\n",
    "        pr *= (z-x[j])\n",
    "        sum += a[j+1]*pr\n",
    "    return sum"
   ]
  },
  {
   "cell_type": "markdown",
   "id": "5a53f2af",
   "metadata": {},
   "source": [
    "Here is the code that computes the cubic spline, Newton interpolation,\n",
    "and plots them."
   ]
  },
  {
   "cell_type": "code",
   "execution_count": null,
   "id": "71e455ba",
   "metadata": {},
   "outputs": [],
   "source": [
    "xaxis = np.linspace(-5, 5, 1000)\n",
    "f = lambda x: 1/(1+x**2)\n",
    "runge = f(xaxis)\n",
    "xi = np.arange(-5, 6)\n",
    "yi = f(xi)\n",
    "coeff = CubicNatural(xi, yi)\n",
    "naturalspline = np.array(list(map(lambda x: CubicNaturalEval(x, xi, coeff), xaxis)))\n",
    "interp = newton(xi, yi, xaxis) # Interpolating polynomial for the data\n",
    "plt.plot(xaxis, runge, label='$1/(1+x^2)$')\n",
    "plt.plot(xaxis, interp, label='Interpolating poly')\n",
    "plt.plot(xaxis, naturalspline, label='Natural cubic spline')\n",
    "plt.plot(xi, yi, 'o', label='Data')\n",
    "plt.legend(loc='upper center');"
   ]
  },
  {
   "cell_type": "markdown",
   "id": "61add57d",
   "metadata": {},
   "source": [
    "The cubic spline gives an excellent fit to Runge's function on this\n",
    "scale: we cannot visually separate it from the function itself.\n",
    "\n",
    "The following function **CubicClamped** computes the clamped\n",
    "cubic spline; the code is based on Algorithm 3.5 of Burden et al. [2016]. The function\n",
    "**CubicClampedEval** evaluates the spline at a given value."
   ]
  },
  {
   "cell_type": "code",
   "execution_count": null,
   "id": "27195f4c",
   "metadata": {},
   "outputs": [],
   "source": [
    "def CubicClamped(x, y, yprime_left, yprime_right):\n",
    "    m = x.size # m is the number of data points\n",
    "    n = m-1\n",
    "    A = np.zeros(m)\n",
    "    B = np.zeros(n)\n",
    "    C = np.zeros(m)\n",
    "    D = np.zeros(n)\n",
    "    for i in range(m):\n",
    "        A[i] = y[i]\n",
    "    h = np.zeros(n)\n",
    "    for i in range(n):\n",
    "        h[i] = x[i+1] - x[i]\n",
    "    u = np.zeros(m)\n",
    "    u[0] = 3*(A[1]-A[0])/h[0]-3*yprime_left\n",
    "    u[m-1] = 3*yprime_right-3*(A[m-1]-A[m-2])/h[m-2]\n",
    "    for i in range(1, n):\n",
    "        u[i] = 3*(A[i+1]-A[i])/h[i]-3*(A[i]-A[i-1])/h[i-1]\n",
    "    s = np.zeros(m)\n",
    "    z = np.zeros(m)\n",
    "    t = np.zeros(n)\n",
    "    s[0] = 2*h[0]\n",
    "    t[0] = 0.5\n",
    "    z[0] = u[0]/s[0]\n",
    "    for i in range(1, n):\n",
    "        s[i] = 2*(x[i+1]-x[i-1])-h[i-1]*t[i-1]\n",
    "        t[i] = h[i]/s[i]\n",
    "        z[i] = (u[i]-h[i-1]*z[i-1])/s[i]\n",
    "    s[m-1] = h[m-2]*(2-t[m-2])\n",
    "    z[m-1] = (u[m-1]-h[m-2]*z[m-2])/s[m-1]\n",
    "    C[m-1] = z[m-1]\n",
    "    for i in np.flip(np.arange(n)):\n",
    "        C[i] = z[i]-t[i]*C[i+1]\n",
    "        B[i] = (A[i+1]-A[i])/h[i]-h[i]*(C[i+1]+2*C[i])/3\n",
    "        D[i] = (C[i+1]-C[i])/(3*h[i])\n",
    "    return A, B, C, D"
   ]
  },
  {
   "cell_type": "code",
   "execution_count": null,
   "id": "efff72fd",
   "metadata": {},
   "outputs": [],
   "source": [
    "def CubicClampedEval(w, x, coeff):\n",
    "    m = x.size\n",
    "    if w<x[0] or w>x[m-1]:\n",
    "        print('error: spline evaluated outside its domain')\n",
    "        return\n",
    "    n = m-1\n",
    "    p = 0\n",
    "    for i in range(n):\n",
    "        if w <= x[i+1]:\n",
    "            break\n",
    "        else:\n",
    "            p += 1\n",
    "    A = coeff[0]\n",
    "    B = coeff[1]\n",
    "    C = coeff[2]\n",
    "    D = coeff[3]\n",
    "    return A[p]+B[p]*(w-x[p])+C[p]*(w-x[p])**2+D[p]*(w-x[p])**3"
   ]
  },
  {
   "cell_type": "markdown",
   "id": "3599358c",
   "metadata": {},
   "source": [
    "In the following, we use natural and clamped cubic splines to\n",
    "interpolate data coming from $\\sin x$ at the x-coordinates:\n",
    "$0,\\pi,3 \\pi/2, 2\\pi$. The derivatives at the end points are both\n",
    "equal to 1."
   ]
  },
  {
   "cell_type": "code",
   "execution_count": null,
   "id": "4bde31aa",
   "metadata": {},
   "outputs": [],
   "source": [
    "xaxis = np.linspace(0, 2*np.pi, 600)\n",
    "f = lambda x: np.sin(x)\n",
    "funct = f(xaxis)\n",
    "xi = np.array([0, np.pi, 3*np.pi/2, 2*np.pi])\n",
    "yi = f(xi)\n",
    "coeff = CubicNatural(xi, yi)\n",
    "naturalspline = np.array(list(map(lambda x: CubicNaturalEval(x, xi, coeff), xaxis)))\n",
    "coeff = CubicClamped(xi, yi, 1, 1)\n",
    "clampedspline = np.array(list(map(lambda x: CubicClampedEval(x, xi, coeff), xaxis)))\n",
    "\n",
    "plt.plot(xaxis, funct, label='sin(x)')\n",
    "plt.plot(xaxis, naturalspline, linestyle='--', label='Natural cubic spline')\n",
    "plt.plot(xaxis, clampedspline, label='Clamped cubic spline')\n",
    "plt.plot(xi, yi, 'o', label='Data')\n",
    "plt.legend(loc='upper right');"
   ]
  },
  {
   "cell_type": "markdown",
   "id": "a7b93c39",
   "metadata": {},
   "source": [
    "Especially on the interval $(0,\\pi)$, the clamped spline gives a much\n",
    "better approximation to $\\sin x$ than the natural spline. However,\n",
    "adding an extra data point between 0 and $\\pi$ removes the visual\n",
    "differences between the splines."
   ]
  },
  {
   "cell_type": "code",
   "execution_count": null,
   "id": "17ed68b8",
   "metadata": {},
   "outputs": [],
   "source": [
    "xaxis = np.linspace(0, 2*np.pi, 600)\n",
    "f = lambda x: np.sin(x)\n",
    "funct = f(xaxis)\n",
    "xi = np.array([0, np.pi/2, np.pi, 3*np.pi/2, 2*np.pi])\n",
    "yi = f(xi)\n",
    "coeff = CubicNatural(xi, yi)\n",
    "naturalspline = np.array(list(map(lambda x: CubicNaturalEval(x, xi, coeff), xaxis)))\n",
    "coeff = CubicClamped(xi, yi, 1, 1)\n",
    "clampedspline = np.array(list(map(lambda x: CubicClampedEval(x, xi, coeff), xaxis)))\n",
    "\n",
    "plt.plot(xaxis, funct, label='sin(x)')\n",
    "plt.plot(xaxis, naturalspline, linestyle='--', label='Natural cubic spline')\n",
    "plt.plot(xaxis, clampedspline, label='Clamped cubic spline')\n",
    "plt.plot(xi, yi, 'o', label='Data')\n",
    "plt.legend(loc='upper right');"
   ]
  },
  {
   "cell_type": "markdown",
   "id": "553b2bb8",
   "metadata": {},
   "source": [
    "## Arya and the letter NUH"
   ]
  },
  {
   "cell_type": "markdown",
   "id": "3e5328be",
   "metadata": {},
   "source": [
    "Arya loves Dr. Seuss (who doesn't?), and she is writing her term paper in an English class on *On Beyond Zebra!*[^1]. In this book Dr. Seuss invents new letters, one of which is called NUH. He writes:\n",
    "\n",
    "<img src=\"./images/Seuss.png\" width=\"200\" height=\"100\">\n",
    "\n",
    "> And NUH is the letter I use to spell Nutches\n",
    ">\n",
    "> Who live in small caves, known as Nitches, for hutches.\n",
    ">\n",
    "> These Nutches have troubles, the biggest of which is\n",
    ">\n",
    "> The fact there are many more Nutches than Nitches.\n",
    "\n",
    "\n",
    "What does this letter look like? Well, something like this."
   ]
  },
  {
   "cell_type": "markdown",
   "id": "3f2e2bb7",
   "metadata": {},
   "source": [
    "<img src=\"./images/NUH_sketch.png\" width=\"200\" height=\"100\">"
   ]
  },
  {
   "cell_type": "markdown",
   "id": "665650ab",
   "metadata": {},
   "source": [
    "What Arya wants is a digitized version of the sketch; a figure that is smooth and can be manipulated using graphics software. The letter NUH is a little complicated to apply a spline interpolation directly, since it has some cusps.   For such planar curves, we can use their parametric representation, and use a cubic spline interpolation for $x$- and $y$-coordinates separately. To this end, Arya picks eight points on the letter NUH, and labels them as $t=1,2,\\ldots,8$; see the figure below."
   ]
  },
  {
   "cell_type": "markdown",
   "id": "f2175d7e",
   "metadata": {},
   "source": [
    "<img src=\"./images/NUHprime.png\" width=\"200\" height=\"100\">"
   ]
  },
  {
   "cell_type": "markdown",
   "id": "78acdf66",
   "metadata": {},
   "source": [
    "Then for each point she eyeballs the $x$ and $y$-coordinates with the help of a graph paper. The results are displayed in the table below.\n",
    "\n",
    "\\begin{equation*}\n",
    "\\begin{array}{c|cccccccc}\n",
    "t & 1 & 2    & 3     & 4   & 5   & 6    & 7   & 8\\\\\n",
    "\\hline\n",
    "x & 0 & 0    & -0.05 & 0.1 & 0.4 & 0.65 & 0.7   & 0.76\\\\\n",
    "\\hline\n",
    "y & 0 & 1.25 & 2.5     & 1   & 0.3 & 0.9  & 1.5 & 0\\\\\n",
    "\\end{array}\n",
    "\\end{equation*}\n",
    "\n",
    "\n",
    "The next step is to fit a cubic spline to the data $(t_1,x_1),\\ldots,(t_8,x_8)$, and another cubic spline to the data $(t_1,y_1),\\ldots,(t_8,y_8)$. Let's call these splines $\\text{xspline}(t),\\text{yspline}(t)$, respectively, since they represent the $x$- and $y$-coordinates as  functions of the parameter $t$. Plotting $\\text{xspline}(t),\\text{yspline}(t)$ will produce the letter NUH, as we can see in the following Python codes.\n",
    "\n",
    "First, load the NumPy and Matplotlib packages, and copy and evaluate the functions **CubicNatural** and **CubicNaturalEval** that we discussed earlier. Here is the letter NUH, obtained by spline interpolation:"
   ]
  },
  {
   "cell_type": "code",
   "execution_count": null,
   "id": "009a21ba",
   "metadata": {},
   "outputs": [],
   "source": [
    "t = np.array([1,2,3,4,5,6,7,8])\n",
    "x = np.array([0,0,-0.05,0.1,0.4,0.65,0.7,0.76])\n",
    "y = np.array([0,1.25,2.5,1,0.3,0.9,1.5,0])\n",
    "taxis = np.linspace(1, 8, 700)\n",
    "coeff = CubicNatural(t, x)\n",
    "xspline = np.array(list(map(lambda x: CubicNaturalEval(x, t, coeff), taxis)))\n",
    "    \n",
    "coeff = CubicNatural(t, y)\n",
    "yspline = np.array(list(map(lambda x: CubicNaturalEval(x, t, coeff), taxis)))\n",
    "    \n",
    "plt.plot(xspline, yspline, linewidth=5);"
   ]
  },
  {
   "cell_type": "markdown",
   "id": "02b2f123",
   "metadata": {},
   "source": [
    "This looks like it needs to be squeezed! Adjusting the aspect ratio\n",
    "gives a better image. In the following, we use the commands"
   ]
  },
  {
   "cell_type": "raw",
   "id": "b0162f54",
   "metadata": {
    "tags": [
     "remove-output"
    ]
   },
   "source": [
    "w, h = plt.figaspect(2);\n",
    "plt.figure(figsize=(w, h));"
   ]
  },
  {
   "cell_type": "markdown",
   "id": "00e7b502",
   "metadata": {},
   "source": [
    "to adjust the aspect ratio."
   ]
  },
  {
   "cell_type": "code",
   "execution_count": null,
   "id": "72da9e08",
   "metadata": {},
   "outputs": [],
   "source": [
    "t = np.array([1,2,3,4,5,6,7,8])\n",
    "x = np.array([0,0,-0.05,0.1,0.4,0.65,0.7,0.76])\n",
    "y = np.array([0,1.25,2.5,1,0.3,0.9,1.5,0])\n",
    "taxis = np.linspace(1, 8, 700)\n",
    "coeff = CubicNatural(t, x)\n",
    "xspline = np.array(list(map(lambda x: CubicNaturalEval(x, t, coeff), taxis)))\n",
    "    \n",
    "coeff = CubicNatural(t, y)\n",
    "yspline = np.array(list(map(lambda x: CubicNaturalEval(x, t, coeff), taxis)))\n",
    "\n",
    "w, h = plt.figaspect(2)\n",
    "plt.figure(figsize=(w, h))\n",
    "plt.plot(xspline, yspline, linewidth=5);"
   ]
  },
  {
   "cell_type": "markdown",
   "id": "e1206974",
   "metadata": {},
   "source": [
    "**Exercise 4.4-3**\n",
    "\n",
    "Limacon is a curve, named after a French word for snail, which appears in the study of planetary motion. The polar equation for the curve is $r=1+c\\sin\\theta$ where $c$ is a constant. Below is a plot of the curve when $c=1$."
   ]
  },
  {
   "cell_type": "markdown",
   "id": "1bc65bea",
   "metadata": {},
   "source": [
    "<img src=\"./images/limacon.png\" width=\"400\" height=\"200\">"
   ]
  },
  {
   "cell_type": "markdown",
   "id": "8061ed0b",
   "metadata": {},
   "source": [
    "The $x,y$ coordinates of the dots on the curve are displayed in the following table:\n",
    "\n",
    "\\begin{equation*}\n",
    "\\begin{array}{c|ccccccccc}\n",
    "x & 0 & 0.5 & 1 & 1.3 & 0 & -1.3 & -1 &  -0.5 & 0\\\\\n",
    "\\hline\n",
    "y & 0 & -0.25 & 0 & 0.71 & 2 & 0.71 & 0 & -0.25 & 0\\\\\n",
    "\\end{array}\n",
    "\\end{equation*}\n",
    "\n",
    "Recreate the limacon above, by applying the spline interpolation for plane curves approach used in *Arya and the letter NUH* example to the points given in the table."
   ]
  },
  {
   "cell_type": "markdown",
   "id": "988d9c9d",
   "metadata": {},
   "source": [
    "[^1]: Seuss, 1955. On Beyond Zebra! Random House for Young Readers."
   ]
  },
  {
   "cell_type": "markdown",
   "id": "1e7ad057",
   "metadata": {},
   "source": [
    "**References**"
   ]
  },
  {
   "cell_type": "markdown",
   "id": "13fe62a2",
   "metadata": {},
   "source": [
    "R.L. Burden, D. Faires, and A.M. Burden. Numerical Analysis. Cengate, 10th edition, 2016."
   ]
  }
 ],
 "metadata": {
  "celltoolbar": "Edit Metadata",
  "kernelspec": {
   "display_name": "Python 3 (ipykernel)",
   "language": "python",
   "name": "python3"
  },
  "language_info": {
   "codemirror_mode": {
    "name": "ipython",
    "version": 3
   },
   "file_extension": ".py",
   "mimetype": "text/x-python",
   "name": "python",
   "nbconvert_exporter": "python",
   "pygments_lexer": "ipython3",
   "version": "3.9.7"
  },
  "latex_envs": {
   "LaTeX_envs_menu_present": true,
   "autoclose": false,
   "autocomplete": true,
   "bibliofile": "biblio.bib",
   "cite_by": "apalike",
   "current_citInitial": 1,
   "eqLabelWithNumbers": true,
   "eqNumInitial": 1,
   "hotkeys": {
    "equation": "Ctrl-E",
    "itemize": "Ctrl-I"
   },
   "labels_anchors": false,
   "latex_user_defs": false,
   "report_style_numbering": false,
   "user_envs_cfg": false
  }
 },
 "nbformat": 4,
 "nbformat_minor": 5
}
