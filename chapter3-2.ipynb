{
 "cells": [
  {
   "cell_type": "markdown",
   "id": "0523c147",
   "metadata": {},
   "source": [
    "# 3.2 Iterative methods for solving linear systems"
   ]
  },
  {
   "cell_type": "markdown",
   "id": "225c36e2",
   "metadata": {},
   "source": [
    "Gaussian elimination is considered a **direct method**, which produces the exact solution if we ignore finite precision. There are other methods for solving linear systems that follow the mechanism of iterative methods such as Newton's method and secant method. Starting from an initial guess of the solution vector $\\boldsymbol{x}^0$, such methods generate a sequence of estimates that converge to the true solution under certain conditions."
   ]
  },
  {
   "cell_type": "markdown",
   "id": "eb417ff7",
   "metadata": {},
   "source": [
    "## Jacobi method"
   ]
  },
  {
   "cell_type": "markdown",
   "id": "3ed568ce",
   "metadata": {},
   "source": [
    "Consider the following linear system:\n",
    "\\begin{align}\\label{eq:linear2by2}\n",
    "4x_1 - 3x_2 &= -1 \\\\\n",
    "2x_1 + 5x_2 &= 19.\n",
    "\\end{align}\n",
    "\n",
    "Solving for $x_1$ from the first equation, and $x_2$ from the second equation gives:\n",
    "\\begin{align*}\n",
    "x_1 &= \\frac{-1+3x_2}{4} \\\\\n",
    "x_2 &= \\frac{19-2x_1}{5}.\n",
    "\\end{align*}\n",
    "\n",
    "This suggests an iterative scheme to update the estimated solution if we start from an initial guess $\\boldsymbol{x}^0=(x_1^0, x_2^0)$. If we add a superscript $(k)$ to the $x$ variables on the right hand side, and $(k+1)$ to those on the left, where $(k)$ and $(k+1)$ denote the iteration numbers, then the iterative scheme, known as **Jacobi method**, is:\n",
    "\\begin{align*}\n",
    "x_1^{(k+1)} &= \\frac{-1+3x_2^{(k)}}{4} \\\\\n",
    "x_2^{(k+1)} &= \\frac{19-2x_1^{(k)}}{5}.\n",
    "\\end{align*}"
   ]
  },
  {
   "cell_type": "markdown",
   "id": "20c54d0e",
   "metadata": {},
   "source": [
    "The following Python code runs $10$ steps of Jacobi method starting from the initial guess $[0,0]^T$."
   ]
  },
  {
   "cell_type": "code",
   "execution_count": null,
   "id": "518a7fc5",
   "metadata": {},
   "outputs": [],
   "source": [
    "import numpy as np"
   ]
  },
  {
   "cell_type": "code",
   "execution_count": null,
   "id": "f32dabd4",
   "metadata": {},
   "outputs": [],
   "source": [
    "x = np.array([0,0])\n",
    "nsteps = 10\n",
    "for i in range(nsteps):\n",
    "    x = np.array([(-1+3*x[1])/4, (19-2*x[0])/5])\n",
    "    print('x1 = {0:10.6f}, x2 = {1:10.6f}'.format(x[0], x[1]))"
   ]
  },
  {
   "cell_type": "markdown",
   "id": "d355bb25",
   "metadata": {},
   "source": [
    "After $6$ steps, the solution gets close to the true solution $[2,3]^T$, and stays there, indicating the method works. "
   ]
  },
  {
   "cell_type": "markdown",
   "id": "ea461efe",
   "metadata": {},
   "source": [
    "Now consider the equivalent linear system, with the two equations swapped:\n",
    "\\begin{align*}\n",
    "2x_1 + 5x_2 &= 19 \\\\\n",
    "4x_1 - 3x_2 &= -1.\n",
    "\\end{align*}\n",
    "Derive the Jacobi iterative scheme\n",
    "\\begin{align*}\n",
    "x_1^{(k+1)} &= \\frac{19-5x_2^{(k)}}{2} \\\\\n",
    "x_2^{(k+1)} &= \\frac{1+4x_1^{(k)}}{3} \\\\\n",
    "\\end{align*}\n",
    "and run the scheme for $10$ iterations."
   ]
  },
  {
   "cell_type": "code",
   "execution_count": null,
   "id": "96ae63cf",
   "metadata": {},
   "outputs": [],
   "source": [
    "x = np.array([0,0])\n",
    "nsteps = 10\n",
    "for i in range(nsteps):\n",
    "    x = np.array([(19-5*x[1])/2, (1+4*x[0])/3])\n",
    "    print('x1 = {0:10.6f}, x2 = {1:10.6f}'.format(x[0], x[1]))"
   ]
  },
  {
   "cell_type": "markdown",
   "id": "1af1ba2d",
   "metadata": {},
   "source": [
    "This time Jacobi method diverges! Jacobi method does not work for any linear system. The coefficient matrix in linear system \\eqref{eq:linear2by2} satisfies a property called **strictly diagonally dominance**, which is defined below:"
   ]
  },
  {
   "cell_type": "markdown",
   "id": "475cedaf",
   "metadata": {},
   "source": [
    "\\begin{definition}[Strictly diagonally dominant]\\label{def:sdd}\n",
    "An $n\\times n$ matrix $A$ is said to be **strictly diagonally dominant** if for each $i$, $1\\le i\\le n$, $|a_{ii}|>\\sum_{j\\ne i}|a_{ij}|$, i.e., the absolute value of each diagonal elment of $A$ is strictly greater than the absolute sum of the rest of the elemtents in the same row.\n",
    "\\end{definition}"
   ]
  },
  {
   "cell_type": "markdown",
   "id": "ae9146c7",
   "metadata": {},
   "source": [
    "The following theorem provides a sufficient condition for Jacobi method to converge. "
   ]
  },
  {
   "cell_type": "markdown",
   "id": "2e36892e",
   "metadata": {},
   "source": [
    "\\begin{theorem}\\label{theo:JacobiConverge}\n",
    "If the coefficient matrix of a linear system is strictly diagonally dominant, then Jacobi method applied to the linear system converges to the unique solution for any initial guess.\n",
    "\\end{theorem}"
   ]
  },
  {
   "cell_type": "markdown",
   "id": "ecc0d273",
   "metadata": {},
   "source": [
    "It can be easily verified that once we swap the two equations of linear system \\eqref{eq:linear2by2}, the coefficient matrix is no longer strictly diagonally dominant."
   ]
  },
  {
   "cell_type": "markdown",
   "id": "ba489c79",
   "metadata": {},
   "source": [
    "Jacobi method can be derived from another perspective. Rewrite the linear system $A\\boldsymbol{x}=\\boldsymbol{b}$ as\n",
    "\\begin{equation}\\label{eq:LDU}\n",
    "(L+D+U)\\boldsymbol{x}=\\boldsymbol{b}\n",
    "\\end{equation}\n",
    "where $L$ is the strictly lower triangular part of $A$, $D$ is the diagonal of $A$, and $U$ is the strictly upper triangular part of $A$. \n",
    "\n",
    "Further rewriting Eqn. \\eqref{eq:LDU} as\n",
    "\\begin{equation*}\n",
    "\\boldsymbol{x}=D^{-1}(\\boldsymbol{b}-(L+U)\\boldsymbol{x})\n",
    "\\end{equation*}\n",
    "and adding superscripts to denote iteration steps:\n",
    "\\begin{equation*}\n",
    "\\boldsymbol{x}^{(k+1)}=D^{-1}(\\boldsymbol{b}-(L+U)\\boldsymbol{x}^{(k)})\n",
    "\\end{equation*}\n",
    "we derived Jacobi scheme in matrix form. \n",
    "\n",
    "The following Python function **jacobi** implements Jacobi iteration."
   ]
  },
  {
   "cell_type": "code",
   "execution_count": null,
   "id": "1c59340a",
   "metadata": {},
   "outputs": [],
   "source": [
    "# Jacobi method\n",
    "def jacobi(A, b, x_0, k):\n",
    "    \"\"\"\n",
    "    Perform k steps of Jacobi method\n",
    "    A: the matrix\n",
    "    b: the right-hand-side\n",
    "    x_0: initial guess x0\n",
    "    k: number of steps\n",
    "    \"\"\"\n",
    "    d = np.diag(A)\n",
    "    r  = A-np.diag(d)\n",
    "    # Initialize the solution vector\n",
    "    x = x_0.copy()\n",
    "    for j in range(k):\n",
    "        x = (b-np.dot(r,x))/d\n",
    "        \n",
    "    return x"
   ]
  },
  {
   "cell_type": "markdown",
   "id": "a1bd8074",
   "metadata": {},
   "source": [
    "Convergence of Jacobi iteration for linear system \\eqref{eq:linear2by2} is shown in the following animation. The initial guess is $[-1, 1]^T$, and only after a few steps, the solution approaches the true solution $[2,3]$."
   ]
  },
  {
   "cell_type": "code",
   "execution_count": null,
   "id": "7a89d3d0",
   "metadata": {},
   "outputs": [],
   "source": [
    "import matplotlib.pyplot as plt\n",
    "%matplotlib inline\n",
    "from matplotlib.animation import FuncAnimation\n",
    "from IPython.display import HTML"
   ]
  },
  {
   "cell_type": "code",
   "execution_count": null,
   "id": "eb2daeae",
   "metadata": {
    "tags": [
     "hide-input"
    ]
   },
   "outputs": [],
   "source": [
    "# Animation for the Jacobi method\n",
    "A = np.array([[4., -3], [2, 5]])\n",
    "b = np.array([-1., 19])\n",
    "x0 = np.array([-1.0, 1.0])\n",
    "fig, ax = plt.subplots(figsize=(12,5))\n",
    "true_sol = np.linalg.solve(A, b)\n",
    "def animate(i):\n",
    "    ax.cla()\n",
    "    ax.set_xlim(-4, 4)\n",
    "    ax.set_ylim(-5, 5)\n",
    "    x = jacobi(A, b, x0, i)\n",
    "    ax.plot(x[0], x[1], 'o', ms=8, label='Jacobi')\n",
    "    ax.plot(true_sol[0], true_sol[1], 's', color='green', ms=8, label='True solution')\n",
    "    ax.axhline()\n",
    "    ax.axvline()\n",
    "    ax.set_title('Jacobi method: iteration step '+str(i), size=16)\n",
    "    ax.set_xlabel('$x_1$', size=16)\n",
    "    ax.set_ylabel('$x_2$', size=16)\n",
    "    ax.legend(loc='upper right')\n",
    "plt.close()\n",
    "anim = FuncAnimation(fig, animate, frames=30, interval=500)\n",
    "HTML(anim.to_jshtml())"
   ]
  },
  {
   "cell_type": "markdown",
   "id": "96f27c28",
   "metadata": {},
   "source": [
    "## Gauss-Seidel method"
   ]
  },
  {
   "cell_type": "markdown",
   "id": "a26561c9",
   "metadata": {},
   "source": [
    "In the Jacobi scheme, if we slightly tweak the algorithm by using newly updated solutions immediately in the current iteration, instead of waiting until the next, then the algoirithm is called **Gauss-Seidel method**. Consider linear system \\eqref{eq:linear2by2} again. If we use updated $x_1$ instantly to update $x_2$, then the algorithm can be written as\n",
    "\\begin{align*}\n",
    "x_1^{(k+1)} &= \\frac{-1+3x_2^{(k)}}{4} \\\\\n",
    "x_2^{(k+1)} &= \\frac{19-2x_1^{(k+1)}}{5}.\n",
    "\\end{align*}\n",
    "\n",
    "Equivalently, Gauss-Seidel iteration can be derived by matrix notation. Eqn. \\eqref{eq:LDU} can be rewritten as\n",
    "\\begin{equation*}\n",
    "(L+D)\\boldsymbol{x} = \\boldsymbol{b}-U\\boldsymbol{x}.\n",
    "\\end{equation*}\n",
    "Add superscripts to distinguish the solutions at the current and next iterations:\n",
    "\\begin{equation*}\n",
    "(L+D)\\boldsymbol{x}^{(k+1)} = \\boldsymbol{b}-U\\boldsymbol{x}^{(k)}\n",
    "\\end{equation*}\n",
    "which is \n",
    "\\begin{equation*}\n",
    "\\boldsymbol{x}^{(k+1)} = D^{-1}(\\boldsymbol{b}-U\\boldsymbol{x}^{(k)}-L\\boldsymbol{x}^{(k+1)}).\n",
    "\\end{equation*}\n",
    "\n",
    "The sufficient condition for Jacobi method to converge also applies to Gauss-Seidel."
   ]
  },
  {
   "cell_type": "markdown",
   "id": "c2bf8b44",
   "metadata": {},
   "source": [
    "We implement Gauss-Seidel by the following Python function **Gauss_Seidel**."
   ]
  },
  {
   "cell_type": "code",
   "execution_count": null,
   "id": "51e58770",
   "metadata": {},
   "outputs": [],
   "source": [
    "# Gauss-Seidel method\n",
    "def Gauss_Seidel(A, b, x_0, k):\n",
    "    \"\"\"\n",
    "    Run k steps of Gauss_Seidel method\n",
    "    A: the matrix\n",
    "    b: the right-hand-side\n",
    "    x_0: initial guess x0\n",
    "    k: the number of steps\n",
    "    \"\"\" \n",
    "    # Get the size of the system\n",
    "    n = A.shape[0]\n",
    "    # Initialize the solution vector\n",
    "    x = x_0.copy()\n",
    "    \n",
    "    for l in range(k):\n",
    "        for i in range(n):\n",
    "            sum = 0.\n",
    "            for j in range(n):            \n",
    "                if i != j:\n",
    "                    sum += A[i,j]*x[j]\n",
    "            x[i] = (b[i]-sum)/A[i,i]   \n",
    "    return x"
   ]
  },
  {
   "cell_type": "markdown",
   "id": "b3a99d0a",
   "metadata": {},
   "source": [
    "Animation of Gauss-Seidel applied to linear system \\eqref{eq:linear2by2} is shown below. Gauss-Seidel converges within only a few steps."
   ]
  },
  {
   "cell_type": "code",
   "execution_count": null,
   "id": "988b9b06",
   "metadata": {
    "tags": [
     "hide-input"
    ]
   },
   "outputs": [],
   "source": [
    "# Animation for the Gauss-Seidel method\n",
    "A = np.array([[4., -3], [2, 5]])\n",
    "b = np.array([-1., 19])\n",
    "x0 = np.array([-1.0, 1.0])\n",
    "true_sol = np.linalg.solve(A, b)\n",
    "fig, ax = plt.subplots(figsize=(12,5))\n",
    "def animate(i):\n",
    "    ax.cla()\n",
    "    ax.set_xlim(-4, 4)\n",
    "    ax.set_ylim(-5, 5)\n",
    "    x = Gauss_Seidel(A, b, x0, i)\n",
    "    ax.plot(x[0], x[1], 'o', ms=8, label='Gauss Seidel')\n",
    "    ax.plot(true_sol[0], true_sol[1], 's', color='green', ms=8, label='True solution')\n",
    "    ax.axhline()\n",
    "    ax.axvline()\n",
    "    ax.set_title('Gauss Seidel method: iteration step '+str(i), size=16)\n",
    "    ax.set_xlabel('$x_1$', size=16)\n",
    "    ax.set_ylabel('$x_2$', size=16)\n",
    "    ax.legend(loc='upper right')\n",
    "plt.close()\n",
    "anim = FuncAnimation(fig, animate, frames=30, interval=500)\n",
    "HTML(anim.to_jshtml())"
   ]
  },
  {
   "cell_type": "markdown",
   "id": "769a2203",
   "metadata": {},
   "source": [
    "The following animation compares Jacobi and Gauss-Seidel methods applied to linear system \\eqref{eq:linear2by2}. It is found that Gauss-Seidel converges faster than Jacobi, which makes sense since Gauss-Seidel utilizes new information more quickly compared to Jacobi."
   ]
  },
  {
   "cell_type": "code",
   "execution_count": null,
   "id": "a2b85c76",
   "metadata": {
    "tags": [
     "hide-input"
    ]
   },
   "outputs": [],
   "source": [
    "# Comparison of Jacobi and Gauss-Seidel\n",
    "A = np.array([[4., -3], [2, 5]])\n",
    "b = np.array([-1., 19])\n",
    "x0 = np.array([-1.0, 1.0])\n",
    "true_sol = np.linalg.solve(A, b)\n",
    "fig, ax = plt.subplots(figsize=(12,5))\n",
    "def animate(i):\n",
    "    ax.cla()\n",
    "    ax.set_xlim(-4, 4)\n",
    "    ax.set_ylim(-5, 5)\n",
    "    x1 = jacobi(A, b, x0, i)\n",
    "    x2 = Gauss_Seidel(A, b, x0, i)\n",
    "    ax.plot(x1[0], x1[1], 'o', color='b', label='Jacobi', ms=8)\n",
    "    ax.plot(x2[0], x2[1], 'x', color='r', label='Gauss-Seidel', ms=8)\n",
    "    ax.plot(true_sol[0], true_sol[1], 's', color='green', ms=8, label='True solution')\n",
    "    ax.axhline()\n",
    "    ax.axvline()\n",
    "    ax.set_title('Jacobi and Gauss Seidel methods: iteration step '+str(i), size=16)\n",
    "    ax.set_xlabel('$x_1$', size=16)\n",
    "    ax.set_ylabel('$x_2$', size=16)\n",
    "    ax.legend(loc='upper right')\n",
    "plt.close()\n",
    "anim = FuncAnimation(fig, animate, frames=30, interval=500)\n",
    "HTML(anim.to_jshtml())"
   ]
  },
  {
   "cell_type": "markdown",
   "id": "4e77e69b",
   "metadata": {},
   "source": [
    "## Successive over-relaxation (SOR)"
   ]
  },
  {
   "cell_type": "markdown",
   "id": "60c2a2ba",
   "metadata": {},
   "source": [
    "Successive over-relaxation is obtained by further modifying the Gauss-Seidel iterative scheme so that a new estimate of solution is obtained by a linear combination of the current solution and the Gauss-Seidel formula, with $1-\\omega$ and $\\omega$ as the coefficients respectively. For linear system \\eqref{eq:linear2by2}, the SOR scheme is\n",
    "\\begin{align*}\n",
    "x_1^{(k+1)} &= (1-\\omega)x_1^{(k)} + \\omega\\frac{-1+3x_2^{(k)}}{4} \\\\\n",
    "x_2^{(k+1)} &= (1-\\omega)x_2^{(k)} + \\omega\\frac{19-2x_1^{(k+1)}}{5}.\n",
    "\\end{align*}\n",
    "The additional parameter $\\omega$ is called the **relaxation factor**. Note that if $\\omega=1$, then SOR is reduced to Gauss-Seidel. \n",
    "\n",
    "SOR is not guaranteed to converge. A suffcient condition for SOR to converge when applied to a symmetric and positive-definite coefficient matrix $A$ is $0<\\omega<2$ (refer to Chapter 4 of Kincaid and Cheney (2009) for a proof)."
   ]
  },
  {
   "cell_type": "markdown",
   "id": "cc515b69",
   "metadata": {},
   "source": [
    "To derive the matrix notation for SOR, first multiply Eqn. \\eqref{eq:LDU} by $\\omega$:\n",
    "\\begin{equation*}\n",
    "\\omega(L+D+U)\\boldsymbol{x} = \\omega\\boldsymbol{b}.\n",
    "\\end{equation*}\n",
    "Split  $\\omega D$ on the left into two terms:\n",
    "\\begin{equation*}\n",
    "(\\omega(L+U)+(\\omega-1)D+D)\\boldsymbol{x} = \\omega\\boldsymbol{b}\n",
    "\\end{equation*}\n",
    "which can be rewritten as\n",
    "\\begin{equation*}\n",
    "(\\omega L+D)\\boldsymbol{x} = \\omega\\boldsymbol{b}-\\omega U\\boldsymbol{x} - (\\omega-1)D\\boldsymbol{x}.\n",
    "\\end{equation*}\n",
    "With the superscripts added, the equation can further be written as\n",
    "\\begin{equation*}\n",
    "(\\omega L+D)\\boldsymbol{x}^{(k+1)} = \\omega\\boldsymbol{b}-\\omega U\\boldsymbol{x}^{(k)} - (\\omega-1)D\\boldsymbol{x}^{(k)}.\n",
    "\\end{equation*}\n",
    "Rearranging it, we have\n",
    "\\begin{equation*}\n",
    "\\boldsymbol{x}^{(k+1)} = D^{-1}\\omega(\\boldsymbol{b}- U \\boldsymbol{x}^{(k)}-L \\boldsymbol{x}^{(k+1)}) + (1-\\omega)\\boldsymbol{x}^{(k)}.\n",
    "\\end{equation*}"
   ]
  },
  {
   "cell_type": "markdown",
   "id": "6be0b5d9",
   "metadata": {},
   "source": [
    "The choice of $\\omega$ is important, since it determines how fast SOR converges. In practice, one can run pilot simulations with a wide range of $\\omega$'s without convergence, use the best $\\omega$, and let it converge.\n",
    "\n",
    "The following Python code **SOR** performs SOR for a specified number of steps."
   ]
  },
  {
   "cell_type": "code",
   "execution_count": null,
   "id": "ecfa9e48",
   "metadata": {
    "tags": []
   },
   "outputs": [],
   "source": [
    "# SOR method\n",
    "def SOR(A, b, x_0, omega, k):\n",
    "    \"\"\"\n",
    "    Run k steps of the SOR method\n",
    "    A: the matrix\n",
    "    b: the right-hand-side\n",
    "    x_0: initial guess x0\n",
    "    omega: the relaxation parameter\n",
    "    k: the number of steps\n",
    "    \"\"\" \n",
    "    # Get the size of the system\n",
    "    n = A.shape[0]\n",
    "    # Initialize the solution vector\n",
    "    x = x_0.copy()\n",
    "    \n",
    "    for l in range(k):\n",
    "        for i in range(n):\n",
    "            sum = 0.\n",
    "            for j in range(n):            \n",
    "                if i != j:\n",
    "                    sum += A[i,j]*x[j]\n",
    "            x[i] = omega*(b[i]-sum)/A[i,i] + (1.-omega)*x[i]   \n",
    "    return x"
   ]
  },
  {
   "cell_type": "markdown",
   "id": "716b3fc8",
   "metadata": {},
   "source": [
    "The following animation displays the convergence of SOR applied to linear system \\eqref{eq:linear2by2} with $\\omega=0.5$."
   ]
  },
  {
   "cell_type": "code",
   "execution_count": null,
   "id": "c70e05e7",
   "metadata": {
    "tags": [
     "hide-input"
    ]
   },
   "outputs": [],
   "source": [
    "# Animation for the SOR method\n",
    "A = np.array([[4., -3], [2, 5]])\n",
    "b = np.array([-1., 19])\n",
    "x0 = np.array([-1.0, 1.0])\n",
    "true_sol = np.linalg.solve(A, b)\n",
    "fig, ax = plt.subplots(figsize=(12,5))\n",
    "def animate(i):\n",
    "    ax.cla()\n",
    "    ax.set_xlim(-4, 4)\n",
    "    ax.set_ylim(-5, 5)\n",
    "    x = SOR(A, b, x0, 0.5, i)\n",
    "    ax.plot(x[0], x[1], 'o', ms=8, label='SOR, $\\omega=0.5$')\n",
    "    ax.plot(true_sol[0], true_sol[1], 's', color='green', ms=8, label='True solution')\n",
    "    ax.axhline()\n",
    "    ax.axvline()\n",
    "    ax.set_title('SOR method: iteration step '+str(i), size=16)\n",
    "    ax.set_xlabel('$x_1$', size=16)\n",
    "    ax.set_ylabel('$x_2$', size=16)\n",
    "    ax.legend(loc='upper right')\n",
    "plt.close()\n",
    "anim = FuncAnimation(fig, animate, frames=30, interval=500)\n",
    "HTML(anim.to_jshtml())"
   ]
  },
  {
   "cell_type": "markdown",
   "id": "492e5fd3",
   "metadata": {},
   "source": [
    "We compare the convergence speeds of Jacobi method, Gauss-Seidel method and SOR with two different $\\omega$'s in the following animation. It demonstrates that SOR outperforms both Jacobi and Gauss-Seidel when $\\omega=0.8$, while it slows down significantly when $\\omega=0.2$."
   ]
  },
  {
   "cell_type": "code",
   "execution_count": null,
   "id": "8545a2f2",
   "metadata": {
    "scrolled": true,
    "tags": [
     "hide-input"
    ]
   },
   "outputs": [],
   "source": [
    "# Comparison of Jacobi, Gauss-Seidel and SOR\n",
    "A = np.array([[4., -3], [2, 5]])\n",
    "b = np.array([-1., 19])\n",
    "x0 = np.array([-1.0, 1.0])\n",
    "true_sol = np.linalg.solve(A, b)\n",
    "fig, ax = plt.subplots(figsize=(12,5))\n",
    "def animate(i):\n",
    "    ax.cla()\n",
    "    ax.set_xlim(-4, 4)\n",
    "    ax.set_ylim(-5, 5)\n",
    "    x1 = jacobi(A, b, x0, i)\n",
    "    x2 = Gauss_Seidel(A, b, x0, i)\n",
    "    x3 = SOR(A, b, x0, 0.8, i)\n",
    "    x4 = SOR(A, b, x0, 0.2, i)\n",
    "    ax.plot(x1[0], x1[1], 'o', color='b', label='Jacobi', ms=8)\n",
    "    ax.plot(x2[0], x2[1], 'x', color='r', label='Gauss-Seidel', ms=8)\n",
    "    ax.plot(x3[0], x3[1], 's', color='m', label='SOR, $\\omega=0.8$', ms=8)\n",
    "    ax.plot(x4[0], x4[1], 's', color='c', label='SOR, $\\omega=0.2$', ms=8)\n",
    "    ax.plot(true_sol[0], true_sol[1], 's', color='green', ms=8, label='True solution')\n",
    "    ax.axhline()\n",
    "    ax.axvline()\n",
    "    ax.set_title('Jacobi, Gauss Seidel and SOR methods: iteration step '+str(i), size=16)\n",
    "    ax.set_xlabel('$x_1$', size=16)\n",
    "    ax.set_ylabel('$x_2$', size=16)\n",
    "    ax.legend(loc='upper right')\n",
    "plt.close()\n",
    "anim = FuncAnimation(fig, animate, frames=30, interval=800)\n",
    "HTML(anim.to_jshtml())"
   ]
  },
  {
   "cell_type": "markdown",
   "id": "b54d26c0",
   "metadata": {},
   "source": [
    "\\begin{exercise}\\label{ex:IterativeAll}\n",
    "Apply Jacobi, Gauss-Seidel and SOR ($\\omega=1.2$) to the following linear system\n",
    "\\begin{align*}\n",
    "6x-3y+z=-20\\\\\n",
    "x+5y-2z=12\\\\\n",
    "3x-2y+7z=-24.\n",
    "\\end{align*}\n",
    "Let the algorithms stop if the 2-norm of the difference between two successive solutions is less than $10^{-5}$.\n",
    "\\end{exercise}\n"
   ]
  }
 ],
 "metadata": {
  "celltoolbar": "Edit Metadata",
  "kernelspec": {
   "display_name": "Python 3 (ipykernel)",
   "language": "python",
   "name": "python3"
  },
  "language_info": {
   "codemirror_mode": {
    "name": "ipython",
    "version": 3
   },
   "file_extension": ".py",
   "mimetype": "text/x-python",
   "name": "python",
   "nbconvert_exporter": "python",
   "pygments_lexer": "ipython3",
   "version": "3.9.7"
  },
  "latex_envs": {
   "LaTeX_envs_menu_present": true,
   "autoclose": false,
   "autocomplete": true,
   "bibliofile": "biblio.bib",
   "cite_by": "apalike",
   "current_citInitial": 1,
   "eqLabelWithNumbers": true,
   "eqNumInitial": 1,
   "hotkeys": {
    "equation": "Ctrl-E",
    "itemize": "Ctrl-I"
   },
   "labels_anchors": false,
   "latex_user_defs": false,
   "report_style_numbering": false,
   "user_envs_cfg": false
  }
 },
 "nbformat": 4,
 "nbformat_minor": 5
}
