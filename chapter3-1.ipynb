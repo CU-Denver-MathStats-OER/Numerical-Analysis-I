{
 "cells": [
  {
   "cell_type": "markdown",
   "id": "5d4576fb",
   "metadata": {},
   "source": [
    "# Gaussian elimination"
   ]
  },
  {
   "cell_type": "markdown",
   "id": "c11d25c5",
   "metadata": {},
   "source": [
    "Recall in a linear algebra course that a system of linear equations can be solved by three types of elementary row operations (ERO）:\n",
    "\n",
    "1. Exchange two rows\n",
    "2. Multiply a row by a nonzero constant\n",
    "3. Add a multiple of a row to another row\n",
    "\n",
    "None of the ERO will change the solution to the linear system.\n",
    "\n",
    "\n",
    "Now we use a couple of examples to show how linear systems can be solved with ERO."
   ]
  },
  {
   "cell_type": "markdown",
   "id": "0531bfc5",
   "metadata": {},
   "source": [
    "\\begin{example}\\label{example:GE}\n",
    "Solve the following linear system by (naive) Gaussian Elimination:\n",
    "\\begin{align*}\n",
    "2x + 3y &= 8 \\\\\n",
    "3x - 4y &= -5\n",
    "\\end{align*}  \n",
    "\\end{example}"
   ]
  },
  {
   "cell_type": "markdown",
   "id": "8631a0bc",
   "metadata": {},
   "source": [
    "**Solution.**\n",
    "\n",
    "We use matrix form and start with the augmented matrix:\n",
    "\\begin{align*}\n",
    "\\left[\\begin{array}{rrrr}{2} & {3} & { |} & {8} \\\\ {3} & {-4} & { |} & {-5}\\end{array}\\right] &\\rightarrow R_2=R_2-\\frac{3}{2}R_1 \\rightarrow\\left[\\begin{array}{rrrr}{2} & {3} & {|} & {8} \\\\ {0} & {-\\frac{17}{2}} & {|} & {-\\frac{34}{2}}\\end{array}\\right]\\\\\n",
    " &\\rightarrow R_2=R_2/\\left(-\\frac{17}{2}\\right) \\rightarrow \\left[\\begin{array}{rrrr}{1} & {1} & {|} & {3} \\\\ {0} & {1} & {|} & {2}\\end{array}\\right] \\\\\n",
    " &\\rightarrow R_1=R_1-R_2 \\rightarrow \\left[\\begin{array}{rrrr}{1} & {0} & {|} & {1} \\\\ {0} & {1} & {|} & {2}\\end{array}\\right]\n",
    "\\end{align*}\n",
    "\n",
    "Here the notation for the first ERO means multiplying the first row by $\\frac{3}{2}$ and subtract it from the second row (or equivalently, multiplying the first row by $-\\frac{3}{2}$ and add it to the second row), the second ERO means dividing the second row by $-\\frac{17}{2}$, and the third means subtracting the second row from the first (or multiplying the second row by $-1$ and add it to the first row.\n",
    "\n",
    "The resulting linear system is in reduced echelon form from which one can directly read the solution:\n",
    "\\begin{equation*}\n",
    "x_1 = 1, \\, x_2 = 2\n",
    "\\end{equation*}\n"
   ]
  },
  {
   "cell_type": "markdown",
   "id": "29f5165f",
   "metadata": {},
   "source": [
    "Now we look at a $3\\times 3$ system."
   ]
  },
  {
   "cell_type": "markdown",
   "id": "b86bca0a",
   "metadata": {},
   "source": [
    "\\begin{example}\\label{example:3by3GE}\n",
    "Solve the following linear system by (naive) Gaussian Elimination:\n",
    "\\begin{align*}\n",
    "2x + 3y -z &= -3 \\\\\n",
    "4x - 2y +3z &= 12 \\\\\n",
    "2x -y + 2z &= 7\n",
    "\\end{align*}  \n",
    "\\end{example}"
   ]
  },
  {
   "cell_type": "markdown",
   "id": "edbdcf95",
   "metadata": {},
   "source": [
    "**Solution.**\n",
    "\n",
    "In matrix form, the system is:\n",
    "\\begin{equation*}\n",
    "\\left[\\begin{array}{rrrr}{2} & {3} & {-1} & {|} & {-3} \\\\ {4} & {-2} & {3} & { |} & {12} \\\\ {2} & {-1} & {2} & { |} & {7}\\end{array}\\right]\n",
    "\\end{equation*}\n",
    "\n",
    "Performing Gaussian Elimination:\n",
    "\\begin{align*}\n",
    "\\left[\\begin{array}{rrrr}{2} & {3} & {-1} & {|} & {-3} \\\\ {4} & {-2} & {3} & {|} & {12} \\\\ {2} & {-1} & {2} & { |} & {7}\\end{array}\\right] &\\rightarrow R_2=R_2-2R_1 \\rightarrow \\left[\\begin{array}{rrrrr}{2} & {3} & {-1} & { |} & {-3} \\\\ {0} & {-8} & {5} & { |} & {18} \\\\ {2} & {-1} & {2} & { |} & {7}\\end{array}\\right] \\\\\n",
    "&\\rightarrow R_3=R_3-R_1 \\rightarrow \\left[\\begin{array}{rrrrr}{2} & {3} & {-1} & { |} & {-3} \\\\ {0} & {-8} & {5} & { |} & {18} \\\\ {0} & {-4} & {3} & { |} & {10}\\end{array}\\right] \\\\\n",
    "&\\rightarrow R_3=R_3-\\frac{1}{2}R_2 \\rightarrow\\left[\\begin{array}{rrrrr}{2} & {3} & {-1} & { |} & {-3} \\\\ {0} & {-8} & {5} & { |} & {18} \\\\ {0} & {0} & {\\frac{1}{2}} & { |} & {1}\\end{array}\\right]\n",
    "\\end{align*}\n",
    "\n",
    "So the equivalent system is:\n",
    "\\begin{align*} \n",
    "2x+3 y-z &=-3 \\\\\n",
    "-8 y +5z &=18 \\\\\n",
    "\\frac{1}{2} z &=1\n",
    "\\end{align*}\n",
    "\n",
    "\n",
    "The solution is \n",
    "\\begin{equation*}\n",
    "x_1 = 1, \\, x_2 = -1, \\, x_3 =2\n",
    "\\end{equation*}"
   ]
  },
  {
   "cell_type": "markdown",
   "id": "a3bbfc32",
   "metadata": {},
   "source": [
    "Gaussian elimination involes identifying a pivot position (the $(i,i)$ poisition on the diagonal) at each step, multiplying the row where pivot is by a separate factor, and subtract it from each row below. Note that no zeros were encountered in the Gaussian elimiation processes in the two examples above, and hence such Gaussian elimination is called \"naive\". In addition, if echelon form, instead of reduced echelon form, is obtained from Gaussian elimination, a **back substitution** algorithm is needed to solve the upper-triangular system for $x$'s from bottom to top. The back substitution algorithm solves for $x_n$ from the last equation, $x_{n-1}$ from the second to last equation, and all the way up, until $x_1$ is solved for from the first equation. The following code performs back subsitution for an upper triangular system, and the solution to the system is stored in place in $\\boldsymbol{b}$."
   ]
  },
  {
   "cell_type": "code",
   "execution_count": 1,
   "id": "22204f10",
   "metadata": {},
   "outputs": [],
   "source": [
    "import numpy as np"
   ]
  },
  {
   "cell_type": "code",
   "execution_count": 2,
   "id": "cd816852",
   "metadata": {},
   "outputs": [],
   "source": [
    "def back_sub(A, b):\n",
    "    \"\"\"\n",
    "    Backward substitution\n",
    "    The right hand side b is changed in place to store the solution\n",
    "    A: the coefficient matrix of size n x n\n",
    "    b: the right hand side of size n\n",
    "    \"\"\"\n",
    "    if A.shape[0] != A.shape[1]:\n",
    "        print('Error: the given coefficient matrix is not square')\n",
    "        return\n",
    "    \n",
    "    if A.shape[0] != b.size:\n",
    "        print('Error: the shape of the coefficient matrix does not match the size of the RHS')\n",
    "        return\n",
    "     \n",
    "    n = A.shape[0]\n",
    "    \n",
    "    for i in range(n-1, -1, -1):\n",
    "        for j in range(i+1, n):\n",
    "            b[i] = b[i] - A[i,j]*b[j]\n",
    "        b[i] = b[i]/A[i,i]"
   ]
  },
  {
   "cell_type": "markdown",
   "id": "d293313c",
   "metadata": {},
   "source": [
    "The following Python function performs Gaussian elimination, where the final upper triangular matrix is stored in $A$, and the final right hand side is stored in $b$, so that additional storage is not needed. However, if the original coefficient matrix and righ hand side are needed later, one should make a copy of them before calling the function. "
   ]
  },
  {
   "cell_type": "code",
   "execution_count": 3,
   "id": "dbee6852",
   "metadata": {},
   "outputs": [],
   "source": [
    "def GaussianElim(A, b):\n",
    "    \"\"\"\n",
    "    Gaussian Elimination without pivoting. \n",
    "    The coefficient matrix A and the right hand side b are modified in place.\n",
    "    Input:\n",
    "    A: the coefficient matrix of size n x n\n",
    "    b: the right hand side of size n    \n",
    "    Return:\n",
    "    None. The solution is stored in b\n",
    "    \"\"\"\n",
    "    if A.shape[0] != A.shape[1]:\n",
    "        print('Error: the given coefficient matrix is not square')\n",
    "        return\n",
    "    \n",
    "    if A.shape[0] != b.size:\n",
    "        print('Error: the shape of the coefficient matrix does not match the size of the RHS')\n",
    "        return\n",
    "     \n",
    "    # We hard code the epsilon here. It can be an input parameter.\n",
    "    eps = 1e-5 \n",
    "    n = A.shape[0]\n",
    "\n",
    "    for j in range(n-1):\n",
    "        if np.abs(A[j,j]) < eps:\n",
    "            print('Error: zero pivot encountered!')\n",
    "            return\n",
    "        for i in range(j+1, n):\n",
    "            # The multiplier\n",
    "            mp = A[i,j]/A[j,j]\n",
    "            for k in range(j+1,n):\n",
    "                A[i,k] = A[i,k] - mp*A[j,k]\n",
    "            b[i] = b[i] - mp*b[j]\n",
    "    \n",
    "    # No need to return. Both A and b are changed in place"
   ]
  },
  {
   "cell_type": "markdown",
   "id": "f9174c06",
   "metadata": {},
   "source": [
    "Now combined with back subsitution, a linear system can be solved. We apply the code to the linear system in Example \\ref{example:3by3GE}."
   ]
  },
  {
   "cell_type": "code",
   "execution_count": 4,
   "id": "5104876d",
   "metadata": {},
   "outputs": [
    {
     "name": "stdout",
     "output_type": "stream",
     "text": [
      "Solve the linear system: \n",
      "[[ 2.  3. -1.]\n",
      " [ 4. -2.  3.]\n",
      " [ 2. -1.  2.]] x =  [-3 12  7]\n",
      "The solution is  [ 1 -1  2]\n"
     ]
    }
   ],
   "source": [
    "A = np.array([[2., 3, -1], [4, -2, 3], [2, -1, 2]])\n",
    "b = np.array([-3, 12, 7])\n",
    "print('Solve the linear system: ')\n",
    "print(A, 'x = ', b)\n",
    "GaussianElim(A, b)\n",
    "back_sub(A, b)\n",
    "print('The solution is ', b)"
   ]
  },
  {
   "cell_type": "markdown",
   "id": "31043df0",
   "metadata": {},
   "source": [
    "The code produces the same results as we obtained analytically."
   ]
  },
  {
   "cell_type": "markdown",
   "id": "c6114e4d",
   "metadata": {},
   "source": [
    "## Computational Cost of Gaussian elimination"
   ]
  },
  {
   "cell_type": "markdown",
   "id": "4ca7f851",
   "metadata": {},
   "source": [
    "We now determine the costs of Gaussian elimination and the subsequent back substitution."
   ]
  },
  {
   "cell_type": "markdown",
   "id": "94c96f6a",
   "metadata": {},
   "source": [
    "\\begin{theorem}\\label{theo:GEcost}\n",
    "The cost of Gaussian elimination for an $n\\times n$ linear system is $O\\left(\\frac{2}{3}n^3\\right)$.\n",
    "\\end{theorem}\n"
   ]
  },
  {
   "cell_type": "markdown",
   "id": "22ac7cf4",
   "metadata": {},
   "source": [
    "\\begin{proof}\n",
    "For the general linear system:\n",
    "\n",
    "\\begin{equation*}\n",
    "\\left[\\begin{array}{ccccc}{a_{11}} & {a_{12}} & {\\dots} & {a_{1 n}} & { |} & {b_{1}} \\\\ {a_{21}} & {a_{22}} & {\\dots} & {a_{2 n}} & { |} & {b_{2}} \\\\ {\\vdots} & {\\vdots} & {\\ldots} & {\\vdots} & { |} & {\\vdots} \\\\ {a_{n 1}} & {a_{n 2}} & {\\dots} & {a_{n n}} & { |} & {b_{n}}\\end{array}\\right]\n",
    "\\end{equation*}\n",
    "\n",
    "Note in the first step, only the first two rows are involved:\n",
    "\\begin{equation*}\n",
    "\\begin{array}{llllll}{a_{11}} & {a_{12}} & {\\dots} & {a_{1 n}} & { |} & {b_{1}} \\\\ {a_{21}} & {a_{22}} & {\\dots} & {a_{2 n}} & { |} & {b_{2}}\\end{array}\n",
    "\\end{equation*}\n",
    "The two rows are changed to\n",
    "\\begin{equation*}\n",
    "\\begin{array}{llll}\n",
    "{a_{11}} & {a_{12}} & {\\dots} & {a_{1 n}} & { |} & {b_{1}} \\\\ \n",
    "{0} & {a_{22}-\\frac{a_{21}}{a_{11}} a_{12}} & {\\dots} & {a_{2 n}-\\frac{a_{21}}{a_{1 1}} a_{1 n}} & { |} & {b_{2}-\\frac{a_{21}}{a_{11}} b_{1}}\n",
    "\\end{array}\n",
    "\\end{equation*}\n",
    "This involves $1$ divison ($a_{21}/a_{11}$), $n$ multiplications and $n$ additions. The same number of operations are needed for the other rows to get\n",
    "\\begin{equation*}\n",
    "\\begin{array}{llll}\n",
    "{a_{11}} & {a_{12}} & {\\dots} & {a_{1 n}} & { |} & {b_{1}} \\\\ \n",
    "{\\vdots} & {\\vdots} & {\\dots} & {\\vdots} & { |} & {\\vdots} \\\\\n",
    "{0} & {a_{i2}-\\frac{a_{i1}}{a_{11}} a_{12}} & {\\dots} & {a_{i n}-\\frac{a_{i1}}{a_{1 1}} a_{1 n}} & { |} & {b_{i}-\\frac{a_{i1}}{a_{11}} b_{1}}\n",
    "\\end{array}\n",
    "\\end{equation*}\n",
    "\n",
    "So to eliminate the first column, the total number of operations is\n",
    "\\begin{equation*}\n",
    "(2n+1)(n-1)\n",
    "\\end{equation*}\n",
    "\n",
    "Similarly, to eliminate the second column (make $a_{i2}, i>2$ zero), for each row, the total number of operations involve $1$ division, $n-1$ multiplications, and $n-1$ additions. \n",
    "\\begin{equation*}\n",
    "(2(n-1)+1)(n-2)\n",
    "\\end{equation*}\n",
    "\n",
    "Repeat this for column $3$ to column $n$. The total number of operations is\n",
    "\\begin{align*}\n",
    "&(2n+1)(n-1) + (2(n-1)+1)(n-2) + (2(n-2)+1)(n-3)+\\cdots+(2(n-(n-2))+1)(n-(n-1)) \\\\\n",
    "&= (2(n-1)+3)(n-1) + (2(n-2)+3)(n-2) + (2(n-3)+3)(n-3)+\\cdots+(2(n-(n-1))+3)(n-(n-1)) \\\\\n",
    "&= \\sum_{j=1}^{n-1} (2(n-j)+3)(n-j) = \\sum_{j=1}^{n-1} (2n^2+3n)-(4n+3)j+2j^2 \\\\\n",
    "&= (2n^2+3n)(n-1) - (4n+3)\\frac{n(n-1)}{2} + 2\\frac{(n-1)(n)(2n-1)}{6} \\\\\n",
    "&= \\frac{2}{3}n^3 + \\frac{1}{2}n^2 - \\frac{7}{6}n\n",
    "\\end{align*}\n",
    "where we used the following two identities:\n",
    "\\begin{align*}\n",
    "1+2+3+4+\\dots+n &=n (n+1) / 2 \\\\\n",
    "1^{2}+2^{2}+3^{2}+4^{2}+\\dots+n^{2} &= n(n+1)(2 n+1) / 6\n",
    "\\end{align*}\n",
    "\\end{proof}\n",
    "\n",
    "We use $O\\left(\\frac{2}{3}n^3\\right)$ to denote \"of the order of\", i.e., the cost of Gaussian elimination is dominated by the term $\\frac{2}{3}n^3$."
   ]
  },
  {
   "cell_type": "markdown",
   "id": "be6dd909",
   "metadata": {},
   "source": [
    "\\begin{theorem}\\label{theo:backsubcost}\n",
    "The cost of back substitution is $n^2$.\n",
    "\\end{theorem}"
   ]
  },
  {
   "cell_type": "markdown",
   "id": "f7f3b7dd",
   "metadata": {},
   "source": [
    "\\begin{proof}\n",
    "Note that the last equation of a triangular system involves 1 division, the second to last equation involves one multiplication, one subtraction and one division, the third to last involves 5 total operations, etc., so total number of operations of back substitution is \n",
    "\\begin{equation*}\n",
    "1+3+5+\\cdots+(2n-1) = \\frac{[1+(2n-1)]n}{2} = n^2\n",
    "\\end{equation*}\n",
    "\\end{proof}"
   ]
  },
  {
   "cell_type": "markdown",
   "id": "d44084da",
   "metadata": {},
   "source": [
    "Therefore, the total number of operations of solving a linear system with Gaussian elimination and back substitution is\n",
    "\\begin{equation*}\n",
    "\\frac{2}{3}n^3 + \\frac{1}{2}n^2 - \\frac{7}{6}n + n^2 = \\frac{2}{3}n^3 + \\frac{3}{2}n^2 - \\frac{7}{6}n = O\\left(\\frac{2}{3}n^3\\right)\n",
    "\\end{equation*}"
   ]
  },
  {
   "cell_type": "markdown",
   "id": "3b34e27f",
   "metadata": {},
   "source": [
    "\\begin{example}\\label{example:cost}\n",
    "If it takes 1 second to run back substitution for a $1000\\times 1000$ upper triangular system, how long does it take to solve a linear system of the same size with Gaussian elimination?\n",
    "\\end{example}"
   ]
  },
  {
   "cell_type": "markdown",
   "id": "6d96f72e",
   "metadata": {},
   "source": [
    "**Solution**\n",
    "\n",
    "Since back substitution costs $n^2=1000^2=10^6$ operations, one operation takes $1/10^6 = 10^{-6}$ second. The total cost of Gaussian elimination is dominated by $\\frac{2}{3}n^3=\\frac{2}{3}10^9$ operations, which costs $\\frac{2}{3}10^3\\approx 667$ seconds.\n",
    "\n",
    "Note that there is no need to consider the exact cost of $\\frac{2}{3}n^3 + \\frac{3}{2}n^2 - \\frac{7}{6}n\\approx 668$, since the extra terms contribute only $0.15\\%$ of the total time."
   ]
  },
  {
   "cell_type": "markdown",
   "id": "cf632107",
   "metadata": {},
   "source": [
    "## LU factorization"
   ]
  },
  {
   "cell_type": "markdown",
   "id": "f6f57aad",
   "metadata": {},
   "source": [
    "Gausian elimination produces a byproduct, a factorization of the coefficient matrix $A$, for free. The factorization takes the form of $A=LU$, where $L$ is a lower triangular matrix whose diagonal elements are all ones, and $U$ is an upper triangular matrix. LU factorization can be utilized to solve a system of linear systems of the following form\n",
    "\\begin{equation*}\n",
    "A\\boldsymbol{x}_i = \\boldsymbol{b}_i, \\, i=1,2,\\dots,K\n",
    "\\end{equation*}\n",
    "All of the linear systems share the same coefficient matrix while the right hand sides are different. If Gaussian elimination were used to solve all linear systems, the total cost would be $\\frac{2}{3}n^3K$, which could be computationally intractable if both $n$ and $K$ are large. However, by using $A=LU$, a linear system can be rewritten as\n",
    "\\begin{equation*}\n",
    "LU\\boldsymbol{x} = \\boldsymbol{b}\n",
    "\\end{equation*}\n",
    "which can further be written as a system of two linear systems:\n",
    "\\begin{align*}\n",
    "L\\boldsymbol{c} &= \\boldsymbol{b} \\\\\n",
    "U\\boldsymbol{x} &= \\boldsymbol{c}\n",
    "\\end{align*}\n",
    "The first linear system involves a **forward substitution**, which solves a lower triangular system from top to bottom, and the second can be solved by back substibution. Similar to back substitution, the cost of forward substitution is also $n^2$. So the total cost solve the system of linear systems is $\\frac{2}{3}n^3+2n^2K$, which is in general much computationally efficient than solving all linear systems by Gaussian elimination."
   ]
  },
  {
   "cell_type": "markdown",
   "id": "e5d046fe",
   "metadata": {},
   "source": [
    "Next, we use an example to show how LU factorization can be obtained from the Gaussian elimination process without any additional computation and storage."
   ]
  },
  {
   "cell_type": "markdown",
   "id": "f32b6bc1",
   "metadata": {},
   "source": [
    "\\begin{example}\\label{example:LU}\n",
    "Obtain the LU factorization of the coefficient matrix $A$ in Example \\ref{example:3by3GE}.\n",
    "\\end{example}"
   ]
  },
  {
   "cell_type": "markdown",
   "id": "a8e1c91b",
   "metadata": {},
   "source": [
    "**Solution.**\n",
    "\n",
    "Repeat the Gaussian Elimination process, however, with the multipliers (factors) of elementary row operations stored in the corresponding lower triangular positions (the numbers in boxes)\n",
    "\\begin{align*}\n",
    "\\left[\\begin{array}{rrrr}{2} & {3} & {-1} & {|} & {-3} \\\\ {4} & {-2} & {3} & {|} & {12} \\\\ {2} & {-1} & {2} & { |} & {7}\\end{array}\\right] &\\rightarrow R_2=R_2-2R_1 \\rightarrow \\left[\\begin{array}{rrrrr}{2} & {3} & {-1} & { |} & {-3} \\\\ \\fbox{2} & {-8} & {5} & { |} & {18} \\\\ {2} & {-1} & {2} & { |} & {7}\\end{array}\\right] \\\\\n",
    "&\\rightarrow R_3=R_3-R_1 \\rightarrow \\left[\\begin{array}{rrrrr}{2} & {3} & {-1} & { |} & {-3} \\\\ \\fbox{2} & {-8} & {5} & { |} & {18} \\\\ \\fbox{1} & {-4} & {3} & { |} & {10}\\end{array}\\right] \\\\\n",
    "&\\rightarrow R_3=R_3-\\frac{1}{2}R_2 \\rightarrow\\left[\\begin{array}{rrrrr}{2} & {3} & {-1} & { |} & {-3} \\\\ \\fbox{2} & {-8} & {5} & { |} & {18} \\\\ \\fbox{1} & \\fbox{1/2} & {1/2} & { |} & {1}\\end{array}\\right]\n",
    "\\end{align*}\n",
    "\n",
    "So the multipliers in boxes define the lower-triangular part of $L$, and the upper triangular part including the diagonal of the row echelon form (without the right hand side) define the matrix $U$. In this example, we have\n",
    "\\begin{equation*}\n",
    "L = \n",
    "\\begin{bmatrix}\n",
    "1 & 0 & 0 \\\\\n",
    "2 & 1 & 0 \\\\\n",
    "1 & 1/2 & 1\n",
    "\\end{bmatrix},\\,\n",
    "U = \n",
    "\\begin{bmatrix}\n",
    "2 & 3 & -1 \\\\\n",
    "0 & -8 & 5 \\\\\n",
    "0 & 0 & 1/2\n",
    "\\end{bmatrix}\n",
    "\\end{equation*}\n",
    "\n",
    "It is easy to verfity $A=LU$."
   ]
  },
  {
   "cell_type": "markdown",
   "id": "5b7de396",
   "metadata": {},
   "source": [
    "Note that the lower triangular part of the coefficient matrix stores the multipliers, instead of zeros, so no additional storage is needed for LU factorization."
   ]
  },
  {
   "cell_type": "markdown",
   "id": "f9bbdc6a",
   "metadata": {},
   "source": [
    "\\begin{example}\\label{example:LUSolveLE}\n",
    "Use LU factorization to solve the linear system in Example \\ref{example:3by3GE}.\n",
    "\\end{example}"
   ]
  },
  {
   "cell_type": "markdown",
   "id": "b9dff999",
   "metadata": {},
   "source": [
    "**Solution.**\n",
    "\n",
    "The two linear systems, $L\\boldsymbol{c} = \\boldsymbol{b}$ and $U\\boldsymbol{x} = \\boldsymbol{c}$ now become\n",
    "\\begin{equation*}\n",
    "\\begin{bmatrix}\n",
    "1 & 0 & 0 \\\\\n",
    "2 & 1 & 0 \\\\\n",
    "1 & 1/2 & 1\n",
    "\\end{bmatrix}\n",
    "\\begin{bmatrix}\n",
    "c_1 \\\\ c_2 \\\\ c_3\n",
    "\\end{bmatrix} = \n",
    "\\begin{bmatrix}\n",
    "-3 \\\\ 12 \\\\ 7\n",
    "\\end{bmatrix}\n",
    "\\end{equation*}\n",
    "and\n",
    "\\begin{equation*}\n",
    "\\begin{bmatrix}\n",
    "2 & 3 & -1 \\\\\n",
    "0 & -8 & 5 \\\\\n",
    "0 & 0 & 1/2\n",
    "\\end{bmatrix}\n",
    "\\begin{bmatrix}\n",
    "x_1 \\\\ x_2 \\\\ x_3\n",
    "\\end{bmatrix} = \n",
    "\\begin{bmatrix}\n",
    "c_1 \\\\ c_2 \\\\ c_3\n",
    "\\end{bmatrix}\n",
    "\\end{equation*}\n",
    "\n",
    "Solving the first linear system using forward substitution, we obtain $\\boldsymbol{c}$:\n",
    "\\begin{equation*}\n",
    "\\boldsymbol{c} = \n",
    "\\begin{bmatrix}\n",
    "c_1 \\\\ c_2 \\\\ c_3\n",
    "\\end{bmatrix} = \n",
    "\\begin{bmatrix}\n",
    "-3 \\\\ 18 \\\\ 1\n",
    "\\end{bmatrix}\n",
    "\\end{equation*}\n",
    "Then solving for $\\boldsymbol{x}$ from the second equation using back substitution, we have\n",
    "\\begin{equation*}\n",
    "\\boldsymbol{x} = \n",
    "\\begin{bmatrix}\n",
    "x_1 \\\\ x_2 \\\\ x_3\n",
    "\\end{bmatrix} = \n",
    "\\begin{bmatrix}\n",
    "1 \\\\ -1 \\\\ 2\n",
    "\\end{bmatrix}\n",
    "\\end{equation*}\n",
    "which is identical to the solution obtained from Gaussian elimination."
   ]
  },
  {
   "cell_type": "markdown",
   "id": "24fbb6e2",
   "metadata": {},
   "source": [
    "The following Python function **LU** performs LU factorization. Note that the coefficient matrix itself is replaced by the entries of the matrices $L$ and $U$. At each step of Gaussian elimination, the pivot position is checked for its value. If the absolute value of the pivot is greater than a hard-coded threshold $10^{-5}$, the pivot is considered nonzero. Otherwise, the algorithm stops."
   ]
  },
  {
   "cell_type": "code",
   "execution_count": 5,
   "id": "50a96673",
   "metadata": {},
   "outputs": [],
   "source": [
    "def LU(A):\n",
    "    \"\"\"\n",
    "    LU factorization without pivoting. \n",
    "    The coefficient matrix A is modified in place.\n",
    "    The lower triangular part of A represents the L matrix, the upper triangular part \n",
    "    (including the diagonal) represents U\n",
    "    A: the coefficient matrix of size n x n   \n",
    "    \"\"\"\n",
    "    if A.shape[0] != A.shape[1]:\n",
    "        print('Error: the given coefficient matrix is not square')\n",
    "        return   \n",
    "     \n",
    "    # We hard code the epsilon here. It can be an input parameter.\n",
    "    eps = 1e-5 \n",
    "    n = A.shape[0]\n",
    "\n",
    "    for j in range(n-1):\n",
    "        if np.abs(A[j,j]) < eps:\n",
    "            print('Error: zero pivot encountered!')\n",
    "            return\n",
    "        for i in range(j+1, n):\n",
    "            # The multiplier\n",
    "            mp = A[i,j]/A[j,j]\n",
    "            A[i,j] = mp\n",
    "            for k in range(j+1,n):\n",
    "                A[i,k] = A[i,k] - mp*A[j,k]\n",
    "    \n",
    "    # No need to return. Both A and b are changed in place"
   ]
  },
  {
   "cell_type": "markdown",
   "id": "cfb398c8",
   "metadata": {},
   "source": [
    "We now apply **LU** to the coefficient matrix in Example \\ref{example:3by3GE}, and the same result is obtained."
   ]
  },
  {
   "cell_type": "code",
   "execution_count": 6,
   "id": "bcd4cdd3",
   "metadata": {},
   "outputs": [
    {
     "name": "stdout",
     "output_type": "stream",
     "text": [
      "Perform LU decomposition of A = : \n",
      "[[ 2.  3. -1.]\n",
      " [ 4. -2.  3.]\n",
      " [ 2. -1.  2.]]\n",
      "The result is \n",
      "[[ 2.   3.  -1. ]\n",
      " [ 2.  -8.   5. ]\n",
      " [ 1.   0.5  0.5]]\n"
     ]
    }
   ],
   "source": [
    "A = np.array([[2.,3,-1], [4,-2,3], [2, -1, 2]])\n",
    "print('Perform LU decomposition of A = : ')\n",
    "print(A)\n",
    "LU(A)\n",
    "print('The result is ')\n",
    "print(A)"
   ]
  },
  {
   "cell_type": "markdown",
   "id": "0eff7454",
   "metadata": {},
   "source": [
    "To use LU factorization to solve linear systems with Python, a function that implements forward substitution is needed. The following Python function **forward_sub** serves the purpose. The solution replaces the right hand side vector."
   ]
  },
  {
   "cell_type": "code",
   "execution_count": 7,
   "id": "6945433e",
   "metadata": {},
   "outputs": [],
   "source": [
    "def forward_sub(A, b, A_from_LU):\n",
    "    \"\"\"\n",
    "    Forward substitution\n",
    "    The right hand side b is changed in place to store the solution\n",
    "    A: the coefficient matrix of size n x n\n",
    "    b: the right hand side of size n\n",
    "    A_from_LU: True, if the matrix A is from LU factorization (diagonals are 1).\n",
    "               False, if A is just a regular coefficient matrix\n",
    "    \"\"\"\n",
    "    if A.shape[0] != A.shape[1]:\n",
    "        print('Error: the given coefficient matrix is not square')\n",
    "        return\n",
    "    \n",
    "    if A.shape[0] != b.size:\n",
    "        print('Error: the shape of the coefficient matrix does not match the size of the RHS')\n",
    "        return\n",
    "     \n",
    "    n = A.shape[0]\n",
    "    \n",
    "    if A_from_LU:\n",
    "        for j in range(0,n):       \n",
    "            b[j+1:] = b[j+1:] - A[j+1:,j]*b[j]\n",
    "    else:\n",
    "        for j in range(0,n):  \n",
    "            b[j] = b[j]/A[j,j]\n",
    "            b[j+1:] = b[j+1:] - A[j+1:,j]*b[j]"
   ]
  },
  {
   "cell_type": "markdown",
   "id": "03f6117e",
   "metadata": {},
   "source": [
    "Now we use Python to solve the linear system in Example \\ref{example:3by3GE}."
   ]
  },
  {
   "cell_type": "code",
   "execution_count": 8,
   "id": "dd73a88e",
   "metadata": {},
   "outputs": [
    {
     "name": "stdout",
     "output_type": "stream",
     "text": [
      "The matrix A after LU decomposition is \n",
      "[[ 2.   3.  -1. ]\n",
      " [ 2.  -8.   5. ]\n",
      " [ 1.   0.5  0.5]]\n",
      "After forward substition, the vector b is\n",
      "[-3 18  1]\n",
      "After backward substition, the vector b is\n",
      "[ 1 -1  2]\n"
     ]
    }
   ],
   "source": [
    "A = np.array([[2.,3,-1], [4,-2,3], [2, -1, 2]])\n",
    "b = np.array([-3,12,7])\n",
    "# Perform LU factorization\n",
    "LU(A)\n",
    "print('The matrix A after LU decomposition is ')\n",
    "print(A)\n",
    "# Perform forward substitution\n",
    "forward_sub(A,b,True)\n",
    "print('After forward substition, the vector b is')\n",
    "print(b)\n",
    "# Perform back substitution\n",
    "back_sub(A,b)\n",
    "print('After backward substition, the vector b is')\n",
    "print(b)"
   ]
  },
  {
   "cell_type": "markdown",
   "id": "b1cc5d02",
   "metadata": {},
   "source": [
    "\\begin{exercise}\\label{ex:LUProp1}\n",
    "\n",
    "Let $A$ be an $n\\times n$ matrix. $I^{i,j}(m)$ is also an $n\\times n$ matrix that is similar to an identity matrix, but the $(i,j)$ position, where $i>j$, has a value of $m$. For example, supposing $n=3$, \n",
    "\\begin{equation*}\n",
    "I^{2,1}(-2)=\n",
    "\\begin{bmatrix}\n",
    "1 & 0 & 0 \\\\\n",
    "-2 & 1 & 0 \\\\\n",
    "0 & 0 & 1\n",
    "\\end{bmatrix}\n",
    "\\end{equation*}\n",
    "\n",
    "\n",
    "1. What is $I^{i,j}(m)A$ for a general $n$?\n",
    "2. Let $(i_1,j_1) \\ne (i_2,j_2)$, what is $I^{i_1,j_1}(m_1)I^{i_2,j_2}(m_2)$?\n",
    "3. What is the inverse of $I^{i,j}(m)$? \n",
    "\\end{exercise}"
   ]
  },
  {
   "cell_type": "markdown",
   "id": "b056f464",
   "metadata": {},
   "source": [
    "\\begin{exercise}\\label{ex:LUProp2}\n",
    "Show the algorithm descibed in Example \\ref{example:LU} leads to the LU factorization for $A$.\n",
    "\\end{exercise}"
   ]
  },
  {
   "cell_type": "markdown",
   "id": "542336fd",
   "metadata": {},
   "source": [
    "## Gaussian elimination with partial pivoting"
   ]
  },
  {
   "cell_type": "markdown",
   "id": "2bba0d9b",
   "metadata": {},
   "source": [
    "To improve the stability of Gaussian elimination, pivots should be as large as possible, so that multipliers are as small as possible. The reason is that multiplying the row where the pivot is by a large multiplier and adding the product to another row will \"overwhelm\" the latter by losing significant information due to finite precision. There are various strategies to place large numbers at the pivot positions. One idea is to compare the absolute values of the pivot and all numbers below it, and the row where the largest number in magnitude is located is swapped with the row where pivot is, if they are not the same row. This variant of Gaussian elimination is called Gaussian elimination with partial pivoting. The algorithm is summarized below."
   ]
  },
  {
   "cell_type": "markdown",
   "id": "069d1745",
   "metadata": {},
   "source": [
    "### Partial Pivoting\n",
    "\n",
    "The partial pivoting process works as follows:\n",
    "1. The first step: instead of using $a_{11}$ as the pivot, select the $p$th row, where\n",
    "\\begin{equation*}\n",
    "|a_{p1}|= \\max_{1\\le j\\le n}|a_{j1}|\n",
    "\\end{equation*}\n",
    "if $p\\ne 1$, then exchange rows $1$ and $p$. \n",
    "\n",
    "2. The second step: select the $p$th row, where\n",
    "\\begin{equation*}\n",
    "|a_{p2}|= \\max_{2\\le j\\le n}|a_{j2}|\n",
    "\\end{equation*}\n",
    "if $p\\ne 2$, then exchange rows $2$ and $p$. \n",
    "\n",
    "3. A general $i$the step: select the $p$th row, where\n",
    "\\begin{equation*}\n",
    "|a_{pi}|= \\max_{i\\le j\\le n}|a_{ji}|\n",
    "\\end{equation*}\n",
    "If $p\\ne i$, then exchange rows $i$ and $p$.\n",
    "\n",
    "Note, in this way, the multiplier is no greater than $1$, so the problem of swamping is avoided."
   ]
  },
  {
   "cell_type": "markdown",
   "id": "211af422",
   "metadata": {},
   "source": [
    "Using the partial pivoting strategy, we can also treat the cases where zeros appear in the pivot position, which would cause the naive Gaussian elimination to fail. Note that there must be at least one nonzero value below each pivot; otherwise the coefficient matrix is not invertible."
   ]
  },
  {
   "cell_type": "markdown",
   "id": "8e4e7870",
   "metadata": {},
   "source": [
    "\\begin{example}\\label{example:PartialPivoting}\n",
    "Apply Gaussian elimination with partial pivoting to the linear system in Example \\ref{example:3by3GE}.\n",
    "\\end{example}"
   ]
  },
  {
   "cell_type": "markdown",
   "id": "4ed5e531",
   "metadata": {},
   "source": [
    "**Solution.**\n",
    "\n",
    "As before, we start from the augmented matrix:\n",
    "\\begin{align*}\n",
    "\\left[\\begin{array}{rrrr}{2} & {3} & {-1} & {|} & {-3} \\\\ \\color{red}{4} & {-2} & {3} & {|} & {12} \\\\ {2} & {-1} & {2} & { |} & {7}\\end{array}\\right] &\\rightarrow R_2\\leftrightarrow R_1 \\rightarrow\n",
    "\\left[\\begin{array}{rrrr} {4} & {-2} & {3} & {|} & {12} \\\\ {2} & {3} & {-1} & {|} & {-3} \\\\ {2} & {-1} & {2} & { |} & {7}\\end{array}\\right]\n",
    "\\\\ &\\rightarrow R_2=R_2-\\frac{1}{2}R_1 \\rightarrow \\left[\\begin{array}{rrrrr}{4} & {-2} & {3} & {|} & {12} \\\\ {0} & {4} & {-\\frac{5}{2}} & { |} & {-9} \\\\ {2} & {-1} & {2} & { |} & {7}\\end{array}\\right] \\\\\n",
    "&\\rightarrow R_3=R_3-\\frac{1}{2}R_1 \\rightarrow \\left[\\begin{array}{rrrrr}{4} & {-2} & {3} & {|} & {12} \\\\ {0} & {4} & {-\\frac{5}{2}} & { |} & {-9} \\\\ {0} & {0} & {\\frac{1}{2}} & { |} & {1}\\end{array}\\right]\n",
    "\\end{align*}\n",
    "\n",
    "So the equivalent system is:\n",
    "\\begin{aligned} \n",
    "4x-2 y+3z &=12 \\\\\n",
    "4 y -\\frac{5}{2}z &=-9 \\\\\n",
    "\\frac{1}{2} z &=1\n",
    "\\end{aligned}\n",
    "\n",
    "The solution is \n",
    "\\begin{equation*}\n",
    "x_1 = 1, \\, x_2 = -1, \\, x_3 =2\n",
    "\\end{equation*}\n",
    "\n",
    "Here, we marked the number that needs to be placed in the pivot position in red. The notation $R_1\\leftrightarrow R_2$ means swapping Rows $R_1$ and $R_2$. For this example, we only needed to switch rows once, since the $(3,2)$ position vanishes when we used the first pivot to eliminate the $(3,1)$ position."
   ]
  },
  {
   "cell_type": "markdown",
   "id": "144f235b",
   "metadata": {},
   "source": [
    "\\begin{example}\\label{example:PartialPivoting2}\n",
    "Apply Gaussian elimination with partial pivoting to the following linear system:\n",
    "\\begin{align*}\n",
    "3x - 2y + z &= -1 \\\\\n",
    "6x + y -3 z &= 18 \\\\\n",
    "-4x +3 y - 2 z &= 3\n",
    "\\end{align*}  \n",
    "\\end{example}"
   ]
  },
  {
   "cell_type": "markdown",
   "id": "18ac6a40",
   "metadata": {},
   "source": [
    "**Solution.**\n",
    "\n",
    "\\begin{align*}\n",
    "\\left[\\begin{array}{rrrr}{3} & {-2} & {1} & {|} & {-1} \\\\ \\color{red}{6} & {1} & {-3} & {|} & {18} \\\\ {-4} & {3} & {-2} & { |} & {3}\\end{array}\\right] &\\rightarrow R_2\\leftrightarrow R_1 \\rightarrow\n",
    "\\left[\\begin{array}{rrrr} {6} & {1} & {-3} & {|} & {18} \\\\ {3} & {-2} & {1} & {|} & {-1} \\\\ {-4} & {3} & {-2} & { |} & {3}\\end{array}\\right]\n",
    "\\\\ &\\rightarrow R_2=R_2-\\frac{1}{2}R_1 \\rightarrow \\left[\\begin{array}{rrrrr}{6} & {1} & {-3} & {|} & {18} \\\\ {0} & {-\\frac{5}{2}} & {\\frac{5}{2}} & { |} & {-10} \\\\ {-4} & {3} & {-2} & { |} & {3}\\end{array}\\right] \\\\\n",
    "&\\rightarrow R_3=R_3-\\left(-\\frac{2}{3}\\right)R_1 \\rightarrow \\left[\\begin{array}{rrrrr}{6} & {1} & {-3} & {|} & {18} \\\\ {0} & {-\\frac{5}{2}} & {\\frac{5}{2}} & { |} & {-10} \\\\ {0} & \\color{red}{\\frac{11}{3}} & {-4} & { |} & {15}\\end{array}\\right]\\\\\n",
    "&\\rightarrow R_3\\leftrightarrow R_2 \\rightarrow \\left[\\begin{array}{rrrrr}{6} & {1} & {-3} & {|} & {18} \\\\ {0} & {\\frac{11}{3}} & {-4} & { |} & {15} \\\\ {0} & {-\\frac{5}{2}} & {\\frac{5}{2}} & { |} & {-10}\\end{array}\\right]\\\\\n",
    "&\\rightarrow R_3=R_3-\\left(-\\frac{15}{22}\\right)R_2 \\rightarrow \\left[\\begin{array}{rrrrr}{6} & {1} & {-3} & {|} & {18} \\\\ {0} & {\\frac{11}{3}} & {-4} & { |} & {15} \\\\ {0} & {0} & {-\\frac{5}{22}} & { |} & {\\frac{5}{22}}\\end{array}\\right]\n",
    "\\end{align*}\n",
    "\n",
    "So the equivalent system is:\n",
    "\\begin{aligned} \n",
    "6x +y-3z &=18 \\\\\n",
    "\\frac{11}{3} y -4z &=15 \\\\\n",
    "-\\frac{5}{22} z &=\\frac{5}{22}\n",
    "\\end{aligned}\n",
    "\n",
    "The solution is \n",
    "\\begin{equation*}\n",
    "x_1 = 2, \\, x_2 = 3, \\, x_3 =-1\n",
    "\\end{equation*}"
   ]
  },
  {
   "cell_type": "markdown",
   "id": "1c546f13",
   "metadata": {},
   "source": [
    "The following Python function **GEPP** performs Gaussian elimination with partial pivoting. Both the coefficient matrix and right-hand side vector $A$ and $b$ are changed in place and they together represent the echelon form of the augmented matrix."
   ]
  },
  {
   "cell_type": "code",
   "execution_count": 9,
   "id": "302927b9",
   "metadata": {},
   "outputs": [],
   "source": [
    "def GEPP(A, b):\n",
    "    \"\"\"\n",
    "    Gaussian elimination with partial pivoting. \n",
    "    The coefficient matrix A is modified in place.\n",
    "    A: the coefficient matrix of size n x n\n",
    "    b: the right hand side of size n    \n",
    "    Return:\n",
    "    None. The solution is stored in b\n",
    "    \"\"\"\n",
    "    if A.shape[0] != A.shape[1]:\n",
    "        print('Error: the given coefficient matrix is not square')\n",
    "        return  \n",
    "     \n",
    "    n = A.shape[0]\n",
    "\n",
    "    for j in range(n-1):\n",
    "        # find p\n",
    "        p = np.argmax(A[j:,j])        \n",
    "        if p+j != j:\n",
    "            # change rows p and j of A and b:\n",
    "            A[[p+j, j]] = A[[j, p+j]]\n",
    "            b[[p+j, j]] = b[[j, p+j]]\n",
    "        for i in range(j+1, n):\n",
    "            # The multiplier\n",
    "            mp = A[i,j]/A[j,j]\n",
    "            A[i,j] = 0.\n",
    "            b[i] = b[i] - mp*b[j]\n",
    "            for k in range(j+1,n):\n",
    "                A[i,k] = A[i,k] - mp*A[j,k]"
   ]
  },
  {
   "cell_type": "markdown",
   "id": "c98c6fd1",
   "metadata": {},
   "source": [
    "We apply **GEPP** to the linear system in Example \\ref{example:PartialPivoting2}, and print out the matrix $A$ and vector $b$ at the end. The final solution is the same as obtained earlier."
   ]
  },
  {
   "cell_type": "code",
   "execution_count": 10,
   "id": "8fa4a579",
   "metadata": {},
   "outputs": [
    {
     "name": "stdout",
     "output_type": "stream",
     "text": [
      "Solve the linear system: \n",
      "[[ 3. -2.  1.]\n",
      " [ 6.  1. -3.]\n",
      " [-4.  3. -2.]] x =  [-1. 18.  3.]\n",
      "After Gaussian elimination with partial pivoting, A becomes:\n",
      "[[ 6.          1.         -3.        ]\n",
      " [ 0.          3.66666667 -4.        ]\n",
      " [ 0.          0.         -0.22727273]]\n",
      "After Gaussian elimination with partial pivoting, b becomes:\n",
      "[18.         15.          0.22727273]\n",
      "The solution is  [ 2.  3. -1.]\n"
     ]
    }
   ],
   "source": [
    "A = np.array([[3., -2, 1], [6, 1, -3], [-4, 3, -2]])\n",
    "b = np.array([-1., 18, 3])\n",
    "print('Solve the linear system: ')\n",
    "print(A, 'x = ', b)\n",
    "GEPP(A, b)\n",
    "print('After Gaussian elimination with partial pivoting, A becomes:')\n",
    "print(A)\n",
    "print('After Gaussian elimination with partial pivoting, b becomes:')\n",
    "print(b)\n",
    "back_sub(A, b)\n",
    "print('The solution is ', b)"
   ]
  },
  {
   "cell_type": "markdown",
   "id": "87662cf4",
   "metadata": {},
   "source": [
    "## PA=LU factorization"
   ]
  },
  {
   "cell_type": "markdown",
   "id": "44d42a12",
   "metadata": {},
   "source": [
    "The partial pivoting algorithm leads to a new matrix factorization for $A$, which takes the form of\n",
    "\\begin{equation*}\n",
    "PA=LU\n",
    "\\end{equation*}\n",
    "where $L$ and $U$ have the same forms as defined in LU factorization, and $P$ is a permutation matrix."
   ]
  },
  {
   "cell_type": "markdown",
   "id": "14fc0026",
   "metadata": {},
   "source": [
    "\\begin{definition}[Permutation Matrix]\\label{def:permmat}\n",
    "An $n\\times n$ permutation matrix is such that each column or row contains only one 1 and the rest are 0's.\n",
    "\\end{definition}"
   ]
  },
  {
   "cell_type": "markdown",
   "id": "17fd23a6",
   "metadata": {},
   "source": [
    "For example,\n",
    "\\begin{equation*}\n",
    "\\begin{bmatrix}\n",
    "0 & 1 \\\\\n",
    "1 & 0\n",
    "\\end{bmatrix}\n",
    "\\end{equation*}\n",
    "is a $2\\times 2$ permutation matrix and\n",
    "\\begin{equation*}\n",
    "\\begin{bmatrix}\n",
    "1 & 0 & 0 \\\\\n",
    "0 & 0 & 1 \\\\\n",
    "0 & 1 & 0\n",
    "\\end{bmatrix}\n",
    "\\end{equation*}\n",
    "is a $3\\times 3$ permuation matrix."
   ]
  },
  {
   "cell_type": "markdown",
   "id": "03d32609",
   "metadata": {},
   "source": [
    "A permutation matrix can be obtained by a sequence exchanges of rows or columns of the identity matrix of the same dimension. For example, \n",
    "\\begin{equation*}\n",
    "\\begin{bmatrix}\n",
    "0 & 1 & 0 \\\\\n",
    "0 & 0 & 1 \\\\\n",
    "1 & 0 & 0\n",
    "\\end{bmatrix}\n",
    "\\end{equation*}\n",
    "is obtained by first exchanging the first two rows of the $3\\times 3$ identity matrix $I_3$, and then exchanging the first and third columns of the resulting matrix."
   ]
  },
  {
   "cell_type": "markdown",
   "id": "1dd715b9",
   "metadata": {},
   "source": [
    "The algorithm for PA=LU factorization is similar to LU factorization. The multipliers of elementary operations are stored in $A$. To obtain the $P$ permutation matrix, we start from an identity matrix and perform row exchanges to the identity matrix and the subsequent matrices whenever row exchanges are needed for $A$. The following example illustrate the process."
   ]
  },
  {
   "cell_type": "markdown",
   "id": "4d3c8339",
   "metadata": {},
   "source": [
    "\\begin{example}\\label{example:PALU}\n",
    "Find PA=LU factorization for the coefficient matrix in Example \\ref{example:PartialPivoting2}\n",
    "\\end{example}"
   ]
  },
  {
   "cell_type": "markdown",
   "id": "399f232a",
   "metadata": {},
   "source": [
    "**Solution.**\n",
    "\n",
    "Initially, let $P=I_3$,\n",
    "\\begin{equation*}\n",
    "P = \n",
    "\\begin{bmatrix}\n",
    "1 & 0 & 0 \\\\ 0 & 1 & 0 \\\\ 0 & 0 & 1\n",
    "\\end{bmatrix}\n",
    "\\end{equation*}\n",
    "\n",
    "The first step of Gaussian elimination with partial pivoting involves exchanging the first two rows:\n",
    "\\begin{equation*}\n",
    "\\left[\\begin{array}{rrrr}{3} & {-2} & {1} \\\\ \\color{red}{6} & {1} & {-3} \\\\ {-4} & {3} & {-2} \\end{array}\\right] \\rightarrow R_2\\leftrightarrow R_1 \\rightarrow\n",
    "\\left[\\begin{array}{rrrr} {6} & {1} & {-3}  \\\\ {3} & {-2} & {1}  \\\\ {-4} & {3} & {-2} \\end{array}\\right]\n",
    "\\end{equation*}\n",
    "Accordingly, we update $P$ by switching its first two rows:\n",
    "\\begin{equation*}\n",
    "P = \n",
    "\\begin{bmatrix}\n",
    "1 & 0 & 0 \\\\ 0 & 1 & 0 \\\\ 0 & 0 & 1\n",
    "\\end{bmatrix} \\rightarrow R_2\\leftrightarrow R_1 \\rightarrow\n",
    "\\begin{bmatrix}\n",
    "0 & 1 & 0 \\\\ 1 & 0 & 0 \\\\ 0 & 0 & 1\n",
    "\\end{bmatrix}\n",
    "\\end{equation*}\n",
    "\n",
    "Now eliminate the two numbers below the pivot ($(1,1)$ position), and store the multipliers in those positions:\n",
    "\\begin{align*}\n",
    "\\left[\\begin{array}{rrrr} {6} & {1} & {-3}  \\\\ {3} & {-2} & {1} \\\\ {-4} & {3} & {-2} \\end{array}\\right]&\\rightarrow R_2=R_2-\\frac{1}{2}R_1 \\rightarrow \\left[\\begin{array}{rrrrr}{6} & {1} & {-3}  \\\\ {\\fbox{1/2}} & {-\\frac{5}{2}} & {\\frac{5}{2}}  \\\\ {-4} & {3} & {-2} \\end{array}\\right] \\\\\n",
    "&\\rightarrow R_3=R_3-\\left(-\\frac{2}{3}\\right)R_1 \\rightarrow \\left[\\begin{array}{rrrrr}{6} & {1} & {-3} \\\\ \\fbox{1/2} & {-\\frac{5}{2}} & {\\frac{5}{2}} \\\\ {\\fbox{-2/3}} & \\color{red}{\\frac{11}{3}} & {-4} \\end{array}\\right]\n",
    "\\end{align*}\n",
    "\n",
    "The next step involves swapping the second and third rows of $A$：\n",
    "\\begin{equation*}\n",
    "\\left[\\begin{array}{rrrrr}{6} & {1} & {-3} \\\\ \\fbox{1/2} & {-\\frac{5}{2}} & {\\frac{5}{2}} \\\\ {\\fbox{-2/3}} & \\color{red}{\\frac{11}{3}} & {-4} \\end{array}\\right] \\rightarrow\n",
    "\\left[\\begin{array}{rrrrr}{6} & {1} & {-3}  \\\\ {\\fbox{-2/3}} & {\\frac{11}{3}} & {-4}  \\\\ \\fbox{1/2} & {-\\frac{5}{2}} & {\\frac{5}{2}}  \\end{array}\\right]\n",
    "\\end{equation*}\n",
    "\n",
    "Correspondingly we update $P$:\n",
    "\\begin{equation*}\n",
    "P = \n",
    "\\begin{bmatrix}\n",
    "0 & 1 & 0 \\\\ 1 & 0 & 0 \\\\ 0 & 0 & 1\n",
    "\\end{bmatrix} \\rightarrow R_2\\leftrightarrow R_3 \\rightarrow\n",
    "\\begin{bmatrix}\n",
    "0 & 1 & 0 \\\\ 0 & 0 & 1 \\\\ 1 & 0 & 0\n",
    "\\end{bmatrix}\n",
    "\\end{equation*}\n",
    "\n",
    "Now eliminate the $(3,2)$ position:\n",
    "\\begin{equation*}\n",
    "\\left[\\begin{array}{rrrrr}{6} & {1} & {-3} \\\\ {\\fbox{-2/3}} & {\\frac{11}{3}} & {-4}  \\\\ \\fbox{1/2} & {-\\frac{5}{2}} & {\\frac{5}{2}}  \\end{array}\\right] \\rightarrow R_3=R_3-\\left(-\\frac{15}{22}\\right)R_2 \\rightarrow\n",
    "\\left[\\begin{array}{rrrrr}{6} & {1} & {-3} \\\\ {\\fbox{-2/3}} & {\\frac{11}{3}} & {-4}  \\\\ \\fbox{1/2} & \\fbox{-15/22} & {-\\frac{5}{22}} \\end{array}\\right]\n",
    "\\end{equation*}\n",
    "\n",
    "The algorithm is now complete with\n",
    "\\begin{equation*}\n",
    "P = \n",
    "\\begin{bmatrix}\n",
    "0 & 1 & 0 \\\\ 0 & 0 & 1 \\\\ 1 & 0 & 0\n",
    "\\end{bmatrix}, \\,\n",
    "L = \n",
    "\\begin{bmatrix}\n",
    "1 & 0 & 0 \\\\ {-2/3} & 1 & 0 \\\\ 1/2 & -15/22 & 1\n",
    "\\end{bmatrix}, \\,\n",
    "U = \n",
    "\\left[\\begin{array}{rrrrr}{6} & {1} & {-3} \\\\ {0} & {\\frac{11}{3}} & {-4}  \\\\ 0 & 0 & {-\\frac{5}{22}} \\end{array}\\right]\n",
    "\\end{equation*}\n",
    "It is easy to verify that $PA=LU$."
   ]
  },
  {
   "cell_type": "markdown",
   "id": "07273726",
   "metadata": {},
   "source": [
    "## Solving linear equations with PA=LU factorization"
   ]
  },
  {
   "cell_type": "markdown",
   "id": "243fa3e2",
   "metadata": {},
   "source": [
    "The linear system $A\\boldsymbol{x} = \\boldsymbol{b}$ can be rewritten as\n",
    "\\begin{equation*}\n",
    "PA\\boldsymbol{x} = P\\boldsymbol{b}\n",
    "\\end{equation*}\n",
    "Using the PA=LU factorization, the linear system reads\n",
    "\\begin{equation*}\n",
    "LU\\boldsymbol{x} = P\\boldsymbol{b}\n",
    "\\end{equation*}\n",
    "\n",
    "which can be written as two linear systems:\n",
    "\\begin{align*}\n",
    "L\\boldsymbol{c} &= P\\boldsymbol{b} \\\\\n",
    "U\\boldsymbol{x} &= \\boldsymbol{c}\n",
    "\\end{align*}"
   ]
  },
  {
   "cell_type": "markdown",
   "id": "c23f129f",
   "metadata": {},
   "source": [
    "The following Python function **PALU** performs PA=LU factorization. The $L$ and $U$ factors are stored in $A$ as in LU factorization, while the permutation matrix $P$ is returned."
   ]
  },
  {
   "cell_type": "code",
   "execution_count": 11,
   "id": "29392e23",
   "metadata": {},
   "outputs": [],
   "source": [
    "def PALU(A):\n",
    "    \"\"\"\n",
    "    PA=LU factorization with partial pivoting. \n",
    "    The coefficient matrix A is modified in place.\n",
    "    The lower triangular part of A represents the L matrix, the upper triangular part \n",
    "    (including the diagonal) represents U\n",
    "    A: the coefficient matrix of size n x n\n",
    "    output:\n",
    "    Permutation matrix $P$ is returned, along with $A$ that is changed in place\n",
    "    \"\"\"\n",
    "    if A.shape[0] != A.shape[1]:\n",
    "        print('Error: the given coefficient matrix is not square')\n",
    "        return   \n",
    "     \n",
    "    n = A.shape[0]\n",
    "    P = np.eye(n)\n",
    "\n",
    "    for j in range(n-1):\n",
    "        # find p\n",
    "        p = np.argmax(A[j:,j])        \n",
    "        if p+j != j:\n",
    "            # change rows p and j of A. Update P:\n",
    "            A[[p+j, j]] = A[[j, p+j]]\n",
    "            P[[p+j, j]] = P[[j, p+j]]   \n",
    "        for i in range(j+1, n):\n",
    "            # The multiplier\n",
    "            mp = A[i,j]/A[j,j]\n",
    "            A[i,j] = mp\n",
    "            for k in range(j+1,n):\n",
    "                A[i,k] = A[i,k] - mp*A[j,k]\n",
    "    return P"
   ]
  },
  {
   "cell_type": "markdown",
   "id": "9f124089",
   "metadata": {},
   "source": [
    "Applying **PALU** to the coefficient matrix in Example \\ref{example:PartialPivoting2} gives the same result."
   ]
  },
  {
   "cell_type": "code",
   "execution_count": 12,
   "id": "e2604d1c",
   "metadata": {},
   "outputs": [
    {
     "name": "stdout",
     "output_type": "stream",
     "text": [
      "Perform PA=LU factorization of A = : \n",
      "Before PA=LU factorization, A = \n",
      "[[ 3. -2.  1.]\n",
      " [ 6.  1. -3.]\n",
      " [-4.  3. -2.]]\n",
      "The PA=LU factorization result is \n",
      "After PA=LU factorization, A = \n",
      "[[ 6.          1.         -3.        ]\n",
      " [-0.66666667  3.66666667 -4.        ]\n",
      " [ 0.5        -0.68181818 -0.22727273]]\n",
      "The permutation matrix P = \n",
      "[[0. 1. 0.]\n",
      " [0. 0. 1.]\n",
      " [1. 0. 0.]]\n"
     ]
    }
   ],
   "source": [
    "A = np.array([[3., -2, 1], [6, 1, -3], [-4, 3, -2]])\n",
    "print('Perform PA=LU factorization of A = : ')\n",
    "print('Before PA=LU factorization, A = ')\n",
    "print(A)\n",
    "\n",
    "P = PALU(A)\n",
    "print('The PA=LU factorization result is ')\n",
    "print('After PA=LU factorization, A = ')\n",
    "print(A)\n",
    "print('The permutation matrix P = ')\n",
    "print(P)"
   ]
  },
  {
   "cell_type": "markdown",
   "id": "b15a8e05",
   "metadata": {},
   "source": [
    "We also use PA=LU factorization to solve the linear system in Example \\ref{example:PartialPivoting2}. Again, the same result is obtained."
   ]
  },
  {
   "cell_type": "code",
   "execution_count": 13,
   "id": "0aab314b",
   "metadata": {},
   "outputs": [
    {
     "name": "stdout",
     "output_type": "stream",
     "text": [
      "The solution is: \n",
      "[ 2.  3. -1.]\n"
     ]
    }
   ],
   "source": [
    "A = np.array([[3., -2, 1], [6, 1, -3], [-4, 3, -2]])\n",
    "b = np.array([-1., 18, 3])\n",
    "P = PALU(A)\n",
    "# First solve for c\n",
    "Pb = np.dot(P,b)\n",
    "forward_sub(A, Pb, True)\n",
    "# Solve for x\n",
    "back_sub(A, Pb)\n",
    "print('The solution is: ')\n",
    "print(Pb)"
   ]
  },
  {
   "cell_type": "markdown",
   "id": "b4d1c028",
   "metadata": {},
   "source": [
    "## Full pivoting and PAQ=LU factorization"
   ]
  },
  {
   "cell_type": "markdown",
   "id": "edae7254",
   "metadata": {},
   "source": [
    "The partial pivoting strategy for Gaussian elimination only considers candidates that are in the same column as the pivots. However, for the $(k,k)$ pivot position, $1\\le k\\le n$, if we consider the submatrix $(a_{ij}), i>=k, j\\ge k$, i.e.,  all positions that are not above and not to the left of the pivot, as candiates to be placed at the pivot position, the strategy is known as **full pivoting**. Full pivoting is more stable, since at each step, it considers a wider range of candidates for the pivot position, and the multipliers can be even smaller compared to partial pivoting."
   ]
  },
  {
   "cell_type": "markdown",
   "id": "566f29ad",
   "metadata": {},
   "source": [
    "The algorithm works as follows:\n",
    "\n",
    "1. The first step: instead of using $a_{11}$ as the pivot, select the $p$th row, and the $q$th column, where\n",
    "    \\begin{equation*}\n",
    "    |a_{pq}| = \\max_{1\\le i\\le n, 1\\le j\\le n}|a_{ij}|,\n",
    "    \\end{equation*}\n",
    "    exchange row $p$ and row $1$, and exchange column $q$ and column $1$, so now $a_{pq}$ is in the $(1,1)$ pivot position. Apply Gaussian elimination.\n",
    "\n",
    "2. The second step: instead of using $a_{22}$ as the pivot, select the $p$th row, and the $q$th column, where\n",
    "    \\begin{equation*}\n",
    "    |a_{pq}| = \\max_{2\\le i\\le n, 2\\le j\\le n}|a_{ij}|\n",
    "    \\end{equation*}\n",
    "    exchange row $p$ and row $2$, and exchange column $q$ and column $2$, so now $a_{pq}$ is in the $(2,2)$ pivot position. Apply Gaussian elimination.\n",
    "\n",
    "3. The rest of the pivot positions can be found in a similar fashion and so does the Gaussian elimination."
   ]
  },
  {
   "cell_type": "markdown",
   "id": "d46a8bee",
   "metadata": {},
   "source": [
    "Now we will have two permutation matrices $P$ and $Q$, which correspond to the row and column exchanges. The factorization corresponding to Gaussian elimination with full pivoting is in the form of\n",
    "\\begin{equation*}\n",
    "PAQ = LU\n",
    "\\end{equation*}\n",
    "which can be obtained in a similar fashion to the PA=LU factorization. The permutation matrix $Q$ is obtained by performing the same sequence of column exchanges on an identity matrix."
   ]
  },
  {
   "cell_type": "markdown",
   "id": "ff71de56",
   "metadata": {},
   "source": [
    "Below is the Python function for PAQ=LU factorization. The returned outputs are the two permutation matrices $P$ and $Q$."
   ]
  },
  {
   "cell_type": "code",
   "execution_count": 14,
   "id": "c30b8679",
   "metadata": {},
   "outputs": [],
   "source": [
    "def PAQLU(A):\n",
    "    \"\"\"\n",
    "    PAQ=LU factorization with full pivoting. \n",
    "    The coefficient matrix A is modified in place.\n",
    "    The lower triangular part of A represents the L matrix, the upper triangular part \n",
    "    (including the diagonal) represents U\n",
    "    A: the coefficient matrix of size n x n\n",
    "    output:\n",
    "    Permutation matrices $P$, $Q$ is returned, \n",
    "    along with $A$ that is changed in place\n",
    "    \"\"\"\n",
    "    if A.shape[0] != A.shape[1]:\n",
    "        print('Error: the given coefficient matrix is not square')\n",
    "        return   \n",
    "     \n",
    "    n = A.shape[0]\n",
    "    P = np.eye(n)\n",
    "    Q = np.eye(n)\n",
    "\n",
    "    for j in range(n-1):\n",
    "        # find p and q so that the (p,q) position has the largest\n",
    "        # value of the |A|\n",
    "        p,q = np.unravel_index(np.argmax(np.abs(A[j:,j:])), \n",
    "                               np.abs(A[j:,j:]).shape)         \n",
    "        if p+j != j:\n",
    "            # exchange rows p and j of A. Update P:\n",
    "            A[[p+j, j]] = A[[j, p+j]]\n",
    "            P[[p+j, j]] = P[[j, p+j]]   \n",
    "        if q+j != j:\n",
    "            # exchange columns q and j of A. Update Q:\n",
    "            A[:, [q+j, j]] = A[:, [j, q+j]]\n",
    "            Q[:, [q+j, j]] = Q[:, [j, q+j]] \n",
    "        for i in range(j+1, n):\n",
    "            # The multiplier\n",
    "            mp = A[i,j]/A[j,j]\n",
    "            A[i,j] = mp\n",
    "            for k in range(j+1,n):\n",
    "                A[i,k] = A[i,k] - mp*A[j,k]\n",
    "    return P, Q"
   ]
  },
  {
   "cell_type": "markdown",
   "id": "92d71795",
   "metadata": {},
   "source": [
    "Apply PAQ=LU factorization to the coefficient matrix in Example \\ref{example:PartialPivoting2}:"
   ]
  },
  {
   "cell_type": "code",
   "execution_count": 15,
   "id": "f7e98515",
   "metadata": {},
   "outputs": [
    {
     "name": "stdout",
     "output_type": "stream",
     "text": [
      "Perform PAQ=LU factorization of A = : \n",
      "Before PAQ=LU factorization, A = \n",
      "[[ 3. -2.  1.]\n",
      " [ 6.  1. -3.]\n",
      " [-4.  3. -2.]]\n",
      "The PAQ=LU factorization result is \n",
      "After PAQ=LU factorization, A = \n",
      "[[ 6.         -3.          1.        ]\n",
      " [-0.66666667 -4.          3.66666667]\n",
      " [ 0.5        -0.625      -0.20833333]]\n",
      "The permutation matrix P = \n",
      "[[0. 1. 0.]\n",
      " [0. 0. 1.]\n",
      " [1. 0. 0.]]\n",
      "The permutation matrix Q = \n",
      "[[1. 0. 0.]\n",
      " [0. 0. 1.]\n",
      " [0. 1. 0.]]\n"
     ]
    }
   ],
   "source": [
    "A = np.array([[3., -2, 1], [6, 1, -3], [-4, 3, -2]])\n",
    "print('Perform PAQ=LU factorization of A = : ')\n",
    "print('Before PAQ=LU factorization, A = ')\n",
    "print(A)\n",
    "\n",
    "P,Q = PAQLU(A)\n",
    "print('The PAQ=LU factorization result is ')\n",
    "print('After PAQ=LU factorization, A = ')\n",
    "print(A)\n",
    "print('The permutation matrix P = ')\n",
    "print(P)\n",
    "print('The permutation matrix Q = ')\n",
    "print(Q)"
   ]
  },
  {
   "cell_type": "markdown",
   "id": "02690493",
   "metadata": {},
   "source": [
    "Analytically, the PAQ=LU factorization for $A$ is:\n",
    "\\begin{equation*}\n",
    "\\begin{bmatrix}\n",
    "0 & 1 & 0 \\\\ 0 & 0 & 1 \\\\ 1 & 0 & 0\n",
    "\\end{bmatrix}\n",
    "\\begin{bmatrix}\n",
    "3 & -2 & 1 \\\\ 6 & 1 & -3 \\\\ -4 & 3 & -2\n",
    "\\end{bmatrix}\n",
    "\\begin{bmatrix}\n",
    "1 & 0 & 0 \\\\ 0 & 0 & 1 \\\\ 0 & 1 & 0\n",
    "\\end{bmatrix} = \n",
    "\\begin{bmatrix}\n",
    "1 & 0 & 0 \\\\ -\\frac{2}{3} & 1 & 0 \\\\ \\frac{1}{2} & -\\frac{5}{8} & 1\n",
    "\\end{bmatrix}\n",
    "\\begin{bmatrix}\n",
    "6 & -3 & 1 \\\\ 0 & -4 & \\frac{11}{3} \\\\ 0 & 0 & -\\frac{5}{24}\n",
    "\\end{bmatrix}\n",
    "\\end{equation*}\n"
   ]
  },
  {
   "cell_type": "markdown",
   "id": "8b8eaff7",
   "metadata": {},
   "source": [
    "\\begin{exercise}\\label{ex:AllKindsOfGE}\n",
    "For the linear system\n",
    "\\begin{align*}\n",
    "2x +2y -3z &= 1 \\\\\n",
    "4x -2y + 2z &= 4 \\\\\n",
    "2x +4y -z &=5\n",
    "\\end{align*}\n",
    "find the LU factorizaton, PA=LU factorization and PAQ=LU factorization of the coefficient matrix. Use LU factorization and PA=LU factorization to solve the linear system.\n",
    "\\end{exercise}"
   ]
  },
  {
   "cell_type": "markdown",
   "id": "8d5108cc",
   "metadata": {},
   "source": [
    "## Condition number"
   ]
  },
  {
   "cell_type": "markdown",
   "id": "89a97496",
   "metadata": {},
   "source": [
    "For a function of one variable, $y=f(x)$, where $x$ is the independent variable, and $y$ is the dependent variable, one is often interested how $y$ responds to a small change of $x$. If a small change in $x$ leads to a large change in $y$, then $y$ is said to be **sensitive** to $x$; otherwise $y$ is **insensitive** to $x$. \n",
    "\n",
    "In the problem of solving a linear system, similarly we are interested in how the change in the independent variable, $\\boldsymbol{b}$, affect the dependent variable $\\boldsymbol{x}$. Consider a perturbation of $\\boldsymbol{b}$, $\\hat{\\boldsymbol{b}}=\\boldsymbol{b}+\\delta\\boldsymbol{b}$, the ratio of the relative change in the magnitude (norm)  of $\\boldsymbol{x}$ to the relative change in the magnitude of $\\boldsymbol{b}$ can be expressed as\n",
    "\\begin{equation*}\n",
    "\\frac{\\frac{||\\delta\\boldsymbol{x}||}{||\\boldsymbol{x}||}}{\\frac{||\\delta\\boldsymbol{b}||}{||\\boldsymbol{b}||}} = \\frac{\\frac{||A^{-1}\\hat{\\boldsymbol{b}}-A^{-1}\\boldsymbol{b}||}{||\\boldsymbol{x}||}}{\\frac{||\\delta\\boldsymbol{b}||}{||\\boldsymbol{b}||}} =\n",
    "\\frac{\\frac{||A^{-1}\\delta\\boldsymbol{b}||}{||\\boldsymbol{x}||}}{\\frac{||\\delta\\boldsymbol{b}||}{||\\boldsymbol{b}||}} = \n",
    "\\frac{||A^{-1}\\delta\\boldsymbol{b}||}{||\\delta\\boldsymbol{b}||}\\frac{||\\boldsymbol{b}||}{||\\boldsymbol{x}||} = \n",
    "\\frac{||A^{-1}\\delta\\boldsymbol{b}||}{||\\delta\\boldsymbol{b}||}\\frac{||\\boldsymbol{b}||}{||A^{-1}\\boldsymbol{b}||}\n",
    "\\end{equation*}\n",
    "Here $||\\delta\\boldsymbol{x}||$ is called **forward error**, $\\frac{||\\delta\\boldsymbol{x}||}{||\\boldsymbol{x}||}$ is called **relative forward error**, $||\\delta\\boldsymbol{b}||$ is called **backward error**, $\\frac{||\\delta\\boldsymbol{b}||}{||\\boldsymbol{b}||}$ is called **relative backward error**, and the quantity $\\frac{\\frac{||\\delta\\boldsymbol{x}||}{||\\boldsymbol{x}||}}{\\frac{||\\delta\\boldsymbol{b}||}{||\\boldsymbol{b}||}}$ is called **error magnification error**. \n",
    "\n",
    "To find the maximum of error magnification error, notice that\n",
    "\\begin{equation*}\n",
    "\\max_{\\boldsymbol{b}, \\delta\\boldsymbol{b}}\\frac{\\frac{||\\delta\\boldsymbol{x}||}{||\\boldsymbol{x}||}}{\\frac{||\\delta\\boldsymbol{b}||}{||\\boldsymbol{b}||}} = \\max_{\\boldsymbol{b}, \\delta\\boldsymbol{b}}\\frac{||A^{-1}\\delta\\boldsymbol{b}||}{||\\delta\\boldsymbol{b}||}\\frac{||\\boldsymbol{b}||}{||A^{-1}\\boldsymbol{b}||} = \n",
    "\\max_{\\delta\\boldsymbol{b}}\\frac{||A^{-1}\\delta\\boldsymbol{b}||}{||\\delta\\boldsymbol{b}||} \\max_{\\boldsymbol{b}}\\frac{||\\boldsymbol{b}||}{||A^{-1}\\boldsymbol{b}||} = ||A^{-1}||_m\\cdot||A||_m\n",
    "\\end{equation*}\n",
    "where the notation $||\\cdot||_m$ denotes the $||\\cdot||$ (vector norm) induced matrix norm."
   ]
  },
  {
   "cell_type": "markdown",
   "id": "ac342cab",
   "metadata": {},
   "source": [
    "\\begin{definition}[Condition number]\\label{def:condition_number}\n",
    "The quantity $||A^{-1}||_m\\cdot||A||_m$ is called the **condition number** of matrix $A$.\n",
    "\\end{definition}"
   ]
  },
  {
   "cell_type": "markdown",
   "id": "90194713",
   "metadata": {},
   "source": [
    "A large condition number indicates that a small change in $\\boldsymbol{b}$ incurs a large change in the solution to the linear system $\\boldsymbol{x}$. Such matrices are called **ill-conditioned**; otherwise, the matrices are called **well-conditioned**. Solving a linear system whose coefficient matrix is ill-conditioned is subjected to large error. Supposing the condition number of matrix $A$ is $O(10^k)$, then about $k$ digits of accuracy is lost in solving a linear system that has $A$ as the coefficient matrix. In double precision, this means about $16-k$ digits of accuracy is expected."
   ]
  },
  {
   "cell_type": "markdown",
   "id": "32cbfc81",
   "metadata": {},
   "source": [
    "\\begin{example}\\label{example:HilbertMatrix}\n",
    "\n",
    "Consider the $8\\times 8$ Hilbert matrix\n",
    "\\begin{equation*}\n",
    "H = \n",
    "\\begin{bmatrix}\n",
    "1 & \\frac{1}{2} & \\frac{1}{3} & \\frac{1}{4} & \\frac{1}{5} & \\frac{1}{6} & \\frac{1}{7} & \\frac{1}{8}\\\\\n",
    "\\frac{1}{2} & \\frac{1}{3} & \\frac{1}{4} & \\frac{1}{5} & \\frac{1}{6} & \\frac{1}{7} & \\frac{1}{8} & \\frac{1}{9}\\\\\n",
    "\\frac{1}{3} & \\frac{1}{4} & \\frac{1}{5} & \\frac{1}{6} & \\frac{1}{7} & \\frac{1}{8} & \\frac{1}{9} & \\frac{1}{10} \\\\\n",
    "\\frac{1}{4} & \\frac{1}{5} & \\frac{1}{6} & \\frac{1}{7} & \\frac{1}{8} & \\frac{1}{9} & \\frac{1}{10} & \\frac{1}{11} \\\\\n",
    "\\frac{1}{5} & \\frac{1}{6} & \\frac{1}{7} & \\frac{1}{8} & \\frac{1}{9} & \\frac{1}{10} & \\frac{1}{11} & \\frac{1}{12} \\\\\n",
    "\\frac{1}{6} & \\frac{1}{7} & \\frac{1}{8} & \\frac{1}{9} & \\frac{1}{10} & \\frac{1}{11} & \\frac{1}{12} & \\frac{1}{13} \\\\\n",
    "\\frac{1}{7} & \\frac{1}{8} & \\frac{1}{9} & \\frac{1}{10} & \\frac{1}{11} & \\frac{1}{12} & \\frac{1}{13} & \\frac{1}{14} \\\\\n",
    "\\frac{1}{8} & \\frac{1}{9} & \\frac{1}{10} & \\frac{1}{11} & \\frac{1}{12} & \\frac{1}{13} & \\frac{1}{14} & \\frac{1}{15}\n",
    "\\end{bmatrix}\n",
    "\\end{equation*}\n",
    "In general, the position $(i,j)$ of the Hilbert matrix has the value $\\frac{1}{i+j+1}$.\n",
    "\n",
    "Let the true solution be $\\boldsymbol{x}=[1,1,1,1,1,1,1,1]^T$, and create the right hand side vector $\\boldsymbol{b}=H\\boldsymbol{x}$. Use Python to solve the system $H\\boldsymbol{x}=\\boldsymbol{b}$. How accurate are the solutions?\n",
    "\\end{example}"
   ]
  },
  {
   "cell_type": "code",
   "execution_count": 16,
   "id": "9967c7b8",
   "metadata": {},
   "outputs": [
    {
     "name": "stdout",
     "output_type": "stream",
     "text": [
      "The condition number of H is: 1.525757557e+10\n",
      "The solution x is: \n",
      "[ 1.0000000000124938  0.9999999992609565  1.0000000102814219  0.9999999418227916  1.0000001619251886  1.0000001619251886  1.0000001619251886  1.0000001619251886]\n",
      "The error vector of the solution is: \n",
      "[1.2493783785316737e-11 7.3904349306985750e-10 1.0281421936042534e-08 5.8177208384080359e-08 1.6192518859092786e-07 1.6192518859092786e-07 1.6192518859092786e-07 1.6192518859092786e-07]\n"
     ]
    }
   ],
   "source": [
    "# Verify the effect of condition number\n",
    "n = 8\n",
    "H = np.zeros((n,n))\n",
    "for i in range(n):\n",
    "    for j in range(n):\n",
    "        H[i,j] = 1./((i+1)+(j+1)-1.)\n",
    "b = np.dot(H,np.ones(n,))\n",
    "\n",
    "print('The condition number of H is: {0:12.9e}'.format(np.linalg.cond(H)))\n",
    "\n",
    "x = np.linalg.solve(H, b)\n",
    "print('The solution x is: ')\n",
    "print(\"[{0:19.16f} {1:19.16f} {2:19.16f} {3:19.16f} \"\n",
    "      \"{4:19.16f} {4:19.16f} {4:19.16f} {4:19.16f}]\".format(x[0], x[1], x[2], \n",
    "      x[3], x[4], x[5], x[6], x[7]))\n",
    "print('The error vector of the solution is: ')\n",
    "print(\"[{0:19.16e} {1:19.16e} {2:19.16e} {3:19.16e} {4:19.16e} {4:19.16e} \"\n",
    "      \"{4:19.16e} {4:19.16e}]\".format(np.abs(x[0]-1), np.abs(x[1]-1), np.abs(x[2]-1), \n",
    "                                      np.abs(x[3]-1), np.abs(x[4]-1), np.abs(x[5]-1),\n",
    "                                      np.abs(x[6]-1), np.abs(x[7]-1)))"
   ]
  },
  {
   "cell_type": "markdown",
   "id": "feafd98f",
   "metadata": {},
   "source": [
    "The condition number of the $8\\times 8$ Hilbert matrix has a condition number of $10^{10}$, so $16-10=6$ digits of accuracy is expected to be lost, which is verified by the printed errors, the largest one of which is $1.62\\times 10^{-7}=0.162\\times 10^{-6}$."
   ]
  }
 ],
 "metadata": {
  "kernelspec": {
   "display_name": "Python 3 (ipykernel)",
   "language": "python",
   "name": "python3"
  },
  "language_info": {
   "codemirror_mode": {
    "name": "ipython",
    "version": 3
   },
   "file_extension": ".py",
   "mimetype": "text/x-python",
   "name": "python",
   "nbconvert_exporter": "python",
   "pygments_lexer": "ipython3",
   "version": "3.9.7"
  },
  "latex_envs": {
   "LaTeX_envs_menu_present": true,
   "autoclose": false,
   "autocomplete": true,
   "bibliofile": "biblio.bib",
   "cite_by": "apalike",
   "current_citInitial": 1,
   "eqLabelWithNumbers": true,
   "eqNumInitial": 1,
   "hotkeys": {
    "equation": "Ctrl-E",
    "itemize": "Ctrl-I"
   },
   "labels_anchors": false,
   "latex_user_defs": false,
   "report_style_numbering": false,
   "user_envs_cfg": false
  }
 },
 "nbformat": 4,
 "nbformat_minor": 5
}
