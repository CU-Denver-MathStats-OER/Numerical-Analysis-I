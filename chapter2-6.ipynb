{
 "cells": [
  {
   "cell_type": "markdown",
   "id": "82365420",
   "metadata": {},
   "source": [
    "# 2.6 Fixed-point iteration"
   ]
  },
  {
   "cell_type": "markdown",
   "id": "ea870a44",
   "metadata": {},
   "source": [
    "Many root-finding methods are based on the so-called fixed-point iteration, a method we discuss in this section.\n",
    "\\begin{definition}\\label{def:chap2_def37}\n",
    "A number $p$ is a fixed-point for a function $g(x)$ if $g(p)=p.$\n",
    "\\end{definition}\n",
    "\n",
    "\n",
    "We have two problems that are related to each other:\n",
    "- **Fixed-point problem**: Find $p$ such that $g(p)=p.$\n",
    "- **Root-finding problem**: Find $p$ such that $f(p)=0.$\n",
    "\n",
    "We can formulate a root-finding problem as a fixed-point problem, and vice versa. For example, assume we want to solve the root finding problem, $f(p)=0.$ Define $g(x)=x-f(x),$ and observe that if $p$ is a fixed-point of $g(x)$, that is, $g(p)=p-f(p)=p,$ then $p$ is a root of $f(x)$. Here the function $g$ is not unique: there are many ways one can represent the root-finding problem $f(p)=0$ as a fixed-point problem, and as we will learn later, not all will be useful to us in developing fixed-point iteration algorithms.\n",
    "\n",
    "The next theorem answers the following questions: When does a function $g$ have a fixed-point? If it has a fixed-point, is it unique?"
   ]
  },
  {
   "cell_type": "markdown",
   "id": "16c9926a",
   "metadata": {},
   "source": [
    "\\begin{theorem}\\label{theo:chap2_thm38}\n",
    "\\begin{enumerate}\n",
    "\n",
    "\\item If $g$ is a continuous function on $[a,b]$ and $g(x)\\in[a,b]$ for all $x\\in[a,b]$, then $g$ has at least one fixed-point in $[a,b]$.\n",
    "\\item If, in addition, $|g(x)-g(y)|\\leq\\lambda|x-y|$ for all $x,y\\in[a,b]$\n",
    "where $0<\\lambda<1,$ then the fixed-point is unique.\n",
    "\\end{enumerate}\n",
    "\\end{theorem}"
   ]
  },
  {
   "cell_type": "markdown",
   "id": "7d382777",
   "metadata": {},
   "source": [
    "\\begin{proof}\n",
    "Consider $f(x)=g(x)-x$. Assume $g(a)\\neq a$ and $g(b)\\neq b$ (otherwise\n",
    "the proof is over.) Then $f(a)=g(a)-a>0$ since $g(a)$ must be greater\n",
    "than $a$ if it's not equal to $a$. Similarly, $f(b)=g(b)-b<0$. Then\n",
    "from IVT, there exists $p\\in(a,b)$ such that $f(p)=0$, or $g(p)=p$.\n",
    "To prove part 2, suppose there are two different fixed-points $p,q$.\n",
    "Then\n",
    "\\begin{equation*}\n",
    "|p-q|=|g(p)-g(q)|\\leq\\lambda|p-q|<|p-q|\n",
    "\\end{equation*}\n",
    "which is a contradiction.\n",
    "\\end{proof}"
   ]
  },
  {
   "cell_type": "markdown",
   "id": "f453e27d",
   "metadata": {},
   "source": [
    "\\begin{remark}\\label{rem:chap2_rem39}\n",
    "Let $g$ be a differentiable function\n",
    "on $[a,b]$ such that $|g'(x)|\\leq k$ for all $x\\in(a,b)$ for some\n",
    "positive constant $k<1$. Then the hypothesis of part 2 of Theorem \\ref{theo:chap2_thm38} is satisfied with $\\lambda=k.$ Indeed,\n",
    "from the mean value theorem\n",
    "\\begin{equation*}\n",
    "|g(x)-g(y)|=|g'(\\xi)(x-y)|\\leq k|x-y|\n",
    "\\end{equation*}\n",
    " for all $x,y\\in[a,b]$.\n",
    "\\end{remark}"
   ]
  },
  {
   "cell_type": "markdown",
   "id": "2c78c734",
   "metadata": {},
   "source": [
    "The following theorem describes how we can find a fixed point."
   ]
  },
  {
   "cell_type": "markdown",
   "id": "70c72e99",
   "metadata": {},
   "source": [
    "\\begin{theorem}\\label{theo:chap2_thm40}\n",
    "If $g$ is a continuous function on $[a,b]$ satisfying the conditions\n",
    "\n",
    "1. $g(x)\\in[a,b]$ for all $x\\in[a,b]$,\n",
    "2. $|g(x)-g(y)|\\leq\\lambda|x-y|$, for $x,y\\in[a,b]$ where $0<\\lambda<1,$\n",
    "\n",
    "then the **fixed-point iteration**\n",
    "\\begin{equation*}\n",
    "p_{n}=g(p_{n-1}),n\\geq1\n",
    "\\end{equation*}\n",
    "converges to $p,$ the unique fixed-point of $g$ in $[a,b]$, for any\n",
    "starting point $p_{0}\\in[a,b]$.    \n",
    "\\end{theorem}"
   ]
  },
  {
   "cell_type": "markdown",
   "id": "f4267162",
   "metadata": {},
   "source": [
    "\\begin{proof}\n",
    "Since $p_{0}\\in[a,b]$ and $g(x)\\in[a,b]$ for all $x\\in[a,b]$,\n",
    "all iterates $p_{n}\\in[a,b]$. Observe that\n",
    "\\begin{equation*}\n",
    "|p-p_{n}|=|g(p)-g(p_{n-1})|\\leq\\lambda|p-p_{n-1}|.\n",
    "\\end{equation*}\n",
    "Then by induction, $|p-p_{n}|\\leq\\lambda^{n}|p-p_{0}|$. Since $0<\\lambda<1$,\n",
    "$\\lambda^{n}\\rightarrow0$ as $n\\rightarrow\\infty$, and thus $p_{n}\\rightarrow p$.\n",
    "\\end{proof}"
   ]
  },
  {
   "cell_type": "markdown",
   "id": "57d891aa",
   "metadata": {},
   "source": [
    "\\begin{remark}\\label{rem:chap2_rem41}\n",
    "Theorem \\ref{theo:chap2_thm40} still\n",
    "holds if the second condition $|g(x)-g(y)|\\leq\\lambda|x-y|$, is replaced\n",
    "by $|g'(x)|\\leq k$ for all $x\\in[a,b]$ where $0<k<1$. (See Remark \\ref{rem:chap2_rem39}).\n",
    "\\end{remark}\n"
   ]
  },
  {
   "cell_type": "markdown",
   "id": "96a870fc",
   "metadata": {},
   "source": [
    "\\begin{corollary}\\label{cor:chap2_cor42}\n",
    "If $g$ satisfies the hypothesis of Theorem \\ref{theo:chap2_thm40}, then the following error bounds hold.\n",
    "\n",
    "1. $|p-p_{n}|\\leq\\frac{\\lambda^{n}}{1-\\lambda}|p_{1}-p_{0}|$\n",
    "2. $|p-p_{n}|\\leq\\frac{1}{1-\\lambda}|p_{n+1}-p_{n}|$\n",
    "3. $|p-p_{n+1}|\\leq\\frac{\\lambda}{1-\\lambda}|p_{n+1}-p_{n}|$\n",
    "4. $|p-p_{n}|\\leq\\lambda^{n}\\max\\{p_{0}-a,b-p_{0}\\}$\n",
    "\\end{corollary}"
   ]
  },
  {
   "cell_type": "markdown",
   "id": "aa426125",
   "metadata": {},
   "source": [
    "\\begin{proof}\n",
    "We only show the proofs of the first two inequalities. Proofs of the other inequalities should be straightforward.\n",
    "\n",
    "1. By the triangle inequality property, we have\n",
    "   \\begin{equation*}\n",
    "    |p-p_0| \\le |p-p_1| + |p_1-p_0| \\le \\lambda |p-p_0| + |p_1-p_0|,\n",
    "   \\end{equation*}\n",
    "   which leads to\n",
    "   \\begin{equation*}\n",
    "   |p-p_0| \\le \\frac{|p_1-p_0|}{1-\\lambda}.\n",
    "   \\end{equation*}\n",
    "   Then we have from the proof of Theorem \\ref{theo:chap2_thm40} that\n",
    "   \\begin{equation*}\n",
    "   |p-p_n| \\le \\lambda^{n}|p-p_{0}| \\le \\frac{\\lambda^{n}}{1-\\lambda}|p_1-p_0|.\n",
    "   \\end{equation*}\n",
    "   \n",
    "2. Similarly,\n",
    "   \\begin{equation*}\n",
    "    |p-p_n| \\le |p-p_{n+1}| + |p_{n+1}-p_n| \\le \\lambda |p-p_n| + |p_{n+1}-p_n|.\n",
    "   \\end{equation*}\n",
    "   As a result, we have\n",
    "   \\begin{equation*}\n",
    "   |p-p_n| \\le \\frac{|p_{n+1}-p_n|}{1-\\lambda}.\n",
    "   \\end{equation*}\n",
    "\\end{proof}"
   ]
  },
  {
   "cell_type": "markdown",
   "id": "e00ff160",
   "metadata": {},
   "source": [
    "**Geometric interpretation of fixed-point iteration**\n",
    "\n",
    "In the following figures, take a starting value $p_0$ close to $p$, and mark the first few fixed-point iterations, $p_0,p_1,p_2$. Observe that the fixed-point iteration converges in the first graph, but diverges in the second one.\n",
    "![Fixed-point iteration: $|g'(p)|<1$.](images/fixedpt_conv.png)\n",
    "\n",
    "![Fixed-point iteration: $|g'(p)|>1$.](images/fixedpt_div.png)"
   ]
  },
  {
   "cell_type": "markdown",
   "id": "8b630b1d",
   "metadata": {},
   "source": [
    "\\begin{example}\\label{example:chap2_exa43}\n",
    "Consider the root-finding problem $x^{3}-2x^{2}-1=0$ on $[1,3].$\n",
    "\n",
    "1. Write the problem as a fixed-point problem, $g(x)=x$, for some $g$. Verify that the hypothesis of Theorem \\ref{theo:chap2_thm40} (or Remark \\ref{rem:chap2_rem41}) is satisfied so that the fixed-point iteration converges.\n",
    "2. Let $p_{0}=1.$ Use Corollary \\ref{cor:chap2_cor42} to find $n$ that ensures an estimate to $p$ accurate to within $10^{-4}$.\n",
    "\\end{example}"
   ]
  },
  {
   "cell_type": "markdown",
   "id": "b4d71b41",
   "metadata": {},
   "source": [
    "**Solution**\n",
    "\n",
    "1. There are several ways we can write this problem as $g(x)=x:$\n",
    "\n",
    "   a. Let $f(x)=x^{3}-2x^{2}-1$, and $p$ be its root, that is, $f(p)=0$. If we let $g(x)=x-f(x)$, then $g(p)=p-f(p)=p,$ so $p$ is a fixed-point of $g$. However, this choice for $g$ will not be helpful, since $g$ does not satisfy the first condition of Theorem \\ref{theo:chap2_thm40}: $g(x)\\notin[1,3]$ for all $x\\in[1,3]$ ($g(3)=-5\\notin[1,3]$).\n",
    "\n",
    "   b. Since $p$ is a root for $f$, we have $p^3=2p^2+1$, or $p=(2p^2+1)^{1/3}.$ Therefore, $p$ is the solution to the fixed-point problem $g(x)=x$ where $g(x)=(2x^2+1)^{1/3}$.\n",
    "\n",
    "   - $g$ is increasing on $[1,3]$ and $g(1)=1.44,g(3)=2.67$; thus $g(x)\\in[1,3]$ for all $x\\in[1,3]$. Therefore, $g$ satisfies the first condition of Theorem \\ref{theo:chap2_thm40}.\n",
    "   - $g'(x)=\\frac{4x}{3(2x^2+1)^{2/3}}$ and $g'(1)=0.64,g'(3)=0.56$ and $g'$ is decreasing on $[1,3]$. Therefore $g$ satisfies the condition in Remark \\ref{rem:chap2_rem41} with $k=0.64$.\n",
    "\n",
    "   Then, from Theorem \\ref{theo:chap2_thm40} and  Remark \\ref{rem:chap2_rem41}, the fixed-point iteration converges if $g(x)=(2x^2+1)^{1/3}$.\n",
    "\n",
    "2. Take $\\lambda=k=0.64$ in Corollary \\ref{cor:chap2_cor42} and use bound (4):\n",
    "   \\begin{equation*}\n",
    "   |p-p_{n}|\\leq(0.64)^{n}\\max\\{1-1,3-1\\}=2(0.64^{n}).\n",
    "   \\end{equation*}\n",
    "   We want $2(0.64^{n})<10^{-4}$, which implies $n\\log0.64<-4\\log10-\\log 2$, or $n>\\frac{-4\\log10-\\log 2}   {\\log0.64}\\approx22.19$. Therefore $n=23$ is the smallest number of iterations that ensures an absolute error of $10^{-4}$."
   ]
  },
  {
   "cell_type": "markdown",
   "id": "09402dea",
   "metadata": {},
   "source": [
    "## Python code for fixed-point iteration"
   ]
  },
  {
   "cell_type": "markdown",
   "id": "b85ff225",
   "metadata": {},
   "source": [
    "The following code starts with the initial guess $p_0$ (*pzero* in the code), computes $p_1=g(p_0)$, and checks if the stopping criterion $|p_1-p_0|<\\epsilon$ is satisfied. If it is satisfied the code terminates with the value $p_1$. Otherwise $p_1$ is set to $p_0$, and the next iteration is computed."
   ]
  },
  {
   "cell_type": "code",
   "execution_count": 1,
   "id": "a71637ba",
   "metadata": {},
   "outputs": [],
   "source": [
    "import numpy as np\n",
    "def fixedpt(g, pzero, eps, N):\n",
    "    n = 1\n",
    "    while n<N:\n",
    "        print(n)\n",
    "        pone = g(pzero)\n",
    "        if np.abs(pone-pzero)<eps:\n",
    "            print('p is ', pone, ' and the iteration number is ', n)\n",
    "            return\n",
    "        pzero = pone\n",
    "        n += 1\n",
    "    print('Did not converge. The last estimate is p = ', pzero)"
   ]
  },
  {
   "cell_type": "markdown",
   "id": "23148c67",
   "metadata": {},
   "source": [
    "Let's find the fixed-point of $g(x)=x$ where $g(x)=(2x^2+1)^{1/3}$,\n",
    "with $p_0=1$. We studied this problem in Example \\ref{example:chap2_exa43}  where we found that\n",
    "23 iterations guarantee an estimate accurate to within $10^{-4}$. We\n",
    "set $\\epsilon=10^{-4}$, and $N=30$, in the above code."
   ]
  },
  {
   "cell_type": "code",
   "execution_count": 2,
   "id": "bc8586d1",
   "metadata": {},
   "outputs": [
    {
     "name": "stdout",
     "output_type": "stream",
     "text": [
      "1\n",
      "2\n",
      "3\n",
      "4\n",
      "5\n",
      "6\n",
      "7\n",
      "8\n",
      "9\n",
      "10\n",
      "11\n",
      "12\n",
      "13\n",
      "14\n",
      "15\n",
      "16\n",
      "17\n",
      "18\n",
      "19\n",
      "p is  2.205472095330031  and the iteration number is  19\n"
     ]
    }
   ],
   "source": [
    "fixedpt(lambda x: (2*x**2+1)**(1/3), 1, 1e-4, 30)"
   ]
  },
  {
   "cell_type": "markdown",
   "id": "8c598e88",
   "metadata": {},
   "source": [
    "The exact value of the fixed-point, equivalently the root of\n",
    "$x^3-2x^2-1$, is 2.20556943. Then the exact error is:"
   ]
  },
  {
   "cell_type": "code",
   "execution_count": 3,
   "id": "bdfc4bab",
   "metadata": {},
   "outputs": [
    {
     "data": {
      "text/plain": [
       "-9.733466996930673e-05"
      ]
     },
     "execution_count": 3,
     "metadata": {},
     "output_type": "execute_result"
    }
   ],
   "source": [
    "2.205472095330031-2.20556943"
   ]
  },
  {
   "cell_type": "markdown",
   "id": "68ee65f6",
   "metadata": {},
   "source": [
    "A take home message and a word of caution:\n",
    "\n",
    "- The exact error, $|p_n-p|$, is guaranteed to be less than $10^{-4}$ after 23 iterations from Corollary \\ref{cor:chap2_cor42}, but as we observed in this example, this could happen before 23 iterations.\n",
    "- The stopping criterion used in the code is based on $|p_n-p_{n-1}|$, not $|p_n-p|$, so the iteration number that makes these quantities less than a tolerance $\\epsilon$ will not be the same in general."
   ]
  },
  {
   "cell_type": "markdown",
   "id": "f28709d7",
   "metadata": {},
   "source": [
    "\\begin{theorem}\\label{theo:chap2_thm44}\n",
    "Assume $p$ is a solution of $g(x)=x$,\n",
    "and suppose $g(x)$ is continuously differentiable in some interval\n",
    "about $p$ with $|g'(p)|<1$. Then the fixed-point iteration converges to $p$, provided $p_{0}$ is chosen sufficiently close to $p$. Moreover, the convergence is linear if $g'(p)\\neq 0$.\n",
    "\\end{theorem}"
   ]
  },
  {
   "cell_type": "markdown",
   "id": "69721095",
   "metadata": {},
   "source": [
    "\\begin{proof}\n",
    "Since $g'$ is continuous\n",
    "and $|g'(p)| < 1$, there exists an interval $I=[p-\\epsilon,p+\\epsilon]$\n",
    "such that $|g'(x)|\\leq k$ for all $x\\in I$, for some $k<1$. Then, from Remark \\ref{rem:chap2_rem39},\n",
    "we know $|g(x)-g(y)|\\leq k|x-y|$ for all $x,y\\in I$. Next, we argue\n",
    "that $g(x)\\in I$ if $x\\in I$. Indeed, if $|x-p|<\\epsilon,$ then\n",
    "\n",
    "\\begin{equation*}\n",
    "|g(x)-p|=|g(x)-g(p)|=|g'(\\xi)||x-p|<k\\epsilon<\\epsilon\n",
    "\\end{equation*}\n",
    "hence $g(x)\\in I.$ Now use Theorem \\ref{theo:chap2_thm40}, setting\n",
    "$[a,b]$ to $[p-\\epsilon,p+\\epsilon]$, to conclude the fixed-point iteration converges.\n",
    "\n",
    "To prove convergence is linear, we note\n",
    "\\begin{equation*}\n",
    "|p_{n+1}-p|=|g(p_n)-g(p)| = |g'(\\xi_n)| |p_n-p| \\leq k |p_n-p|\n",
    "\\end{equation*}\n",
    "which is the definition of linear convergence (with $k$ being a positive constant less than 1).\n",
    "\n",
    "We can actually prove something more:\n",
    "\\begin{equation*}\n",
    "\\lim_{n\\rightarrow\\infty}\\frac{|p_{n+1}-p|}{|p_{n}-p|} =\\lim_{n\\rightarrow\\infty}\\frac{|g(p_{n})-g(p)|}{|p_{n}-p|}=\\lim_{n\\rightarrow\\infty}\\frac{|g'(\\xi_{n})||p_{n}-p|}{|p_{n}-p|} =\\lim_{n\\rightarrow\\infty}|g'(\\xi_{n})|=|g'(p)|.\n",
    "\\end{equation*}\n",
    "The last equality follows since $g'$ is continuous, and $\\xi_{n}\\rightarrow p$, which is a consequence of $\\xi_{n}$ being between $p$ and $p_{n}$, and $p_{n}\\rightarrow p$, as $n\\rightarrow\\infty$.\n",
    "\\end{proof}"
   ]
  },
  {
   "cell_type": "markdown",
   "id": "64a93f32",
   "metadata": {},
   "source": [
    "\\begin{example}\\label{example:chap2_exa45}\n",
    "Let $g(x)=x+c(x^{2}-2),$ which has the fixed-point $p=\\sqrt{2}\\approx1.4142.$\n",
    "Pick a value for $c$ to ensure the convergence of fixed-point iteration.\n",
    "For the picked value $c$, determine the interval of convergence $I=[a,b],$\n",
    "that is, the interval for which any $p_{0}$ from the interval gives\n",
    "rise to a converging fixed-point iteration. Then write a Python code\n",
    "to test the results.\n",
    "\\end{example}"
   ]
  },
  {
   "cell_type": "markdown",
   "id": "ced2b8f1",
   "metadata": {},
   "source": [
    "**Solution.**\n",
    "\n",
    "Theorem \\ref{theo:chap2_thm44} requires $|g'(p)|<1.$ We have\n",
    "$g'(x)=1+2xc,$ and thus $g'(\\sqrt{2})=1+2\\sqrt{2}c$. Therefore\n",
    "\\begin{align*}\n",
    "|g'(\\sqrt{2})| & <1\\Rightarrow-1<1+2\\sqrt{2}c<1\\\\\n",
    " & \\Rightarrow-2<2\\sqrt{2}c<0\\\\\n",
    " & \\Rightarrow\\frac{-1}{\\sqrt{2}}<c<0.\n",
    "\\end{align*}\n",
    "Any $c$ from this interval works: let's pick $c=-1/4$.\n",
    "\n",
    "Now we need to find an interval $I=[\\sqrt{2}-\\epsilon,\\sqrt{2}+\\epsilon]$\n",
    "such that\n",
    "\\begin{equation*}\n",
    "|g'(x)|=|1+2xc|=\\left|1-\\frac{x}{2} \\right| \\leq k\n",
    "\\end{equation*}\n",
    "for some $k<1,$ for all $x\\in I$. Plot $g'(x)$ and observe that\n",
    "one choice is $\\epsilon=0.1$, so that $I=[\\sqrt{2}-0.1,\\sqrt{2}+0.1]=[1.3142,1.5142]$.\n",
    "Since $g'(x)$ is positive and decreasing on $I=[1.3142,1.5142]$, $|g'(x)|\\leq1-\\frac{1.3142}{2}=0.3429<1$, for any $x\\in I$. Then any starting value\n",
    "$p_{0}$ from $I$ gives convergence.\n",
    "\n",
    "\n",
    "For $c=-1/4$, the function becomes $g(x)=x-\\frac{x^2-2}{4}$. Pick\n",
    "$p_0=1.5$ as the starting point. Using the fixed-point iteration code of the previous example, we obtain:"
   ]
  },
  {
   "cell_type": "code",
   "execution_count": 4,
   "id": "59084bd8",
   "metadata": {},
   "outputs": [
    {
     "name": "stdout",
     "output_type": "stream",
     "text": [
      "1\n",
      "2\n",
      "3\n",
      "4\n",
      "5\n",
      "6\n",
      "7\n",
      "8\n",
      "9\n",
      "p is  1.414214788550556  and the iteration number is  9\n"
     ]
    }
   ],
   "source": [
    "fixedpt(lambda x: x-(x**2-2)/4, 1.5, 1e-5, 15)"
   ]
  },
  {
   "cell_type": "markdown",
   "id": "8a216177",
   "metadata": {},
   "source": [
    " The absolute error is:"
   ]
  },
  {
   "cell_type": "code",
   "execution_count": 5,
   "id": "246cea23",
   "metadata": {},
   "outputs": [
    {
     "data": {
      "text/plain": [
       "1.2261774609001463e-06"
      ]
     },
     "execution_count": 5,
     "metadata": {},
     "output_type": "execute_result"
    }
   ],
   "source": [
    "1.414214788550556-(2**.5)"
   ]
  },
  {
   "cell_type": "markdown",
   "id": "d171e3b6",
   "metadata": {},
   "source": [
    "Let's experiment with other starting values. Although $p_0=2$ is not in the\n",
    "interval of convergence $I$, we expect convergence since $g'(2)=0$, and thus we can find another interval around $p=\\sqrt{2}$ that contains $2$ such that $g'(x)$ is bounded by a constant less than $1$ on the interval."
   ]
  },
  {
   "cell_type": "code",
   "execution_count": 6,
   "id": "db440113",
   "metadata": {},
   "outputs": [
    {
     "name": "stdout",
     "output_type": "stream",
     "text": [
      "1\n",
      "2\n",
      "3\n",
      "4\n",
      "5\n",
      "6\n",
      "7\n",
      "8\n",
      "9\n",
      "10\n",
      "p is  1.414214788550556  and the iteration number is  10\n"
     ]
    }
   ],
   "source": [
    "fixedpt(lambda x: x-(x**2-2)/4, 2, 1e-5, 15)"
   ]
  },
  {
   "cell_type": "markdown",
   "id": "46452269",
   "metadata": {},
   "source": [
    "Let's try $p_0=-5$. Note that this is not only outside the interval of\n",
    "convergence $I$, but $g'(-5)=3.5>1$, so we do not expect\n",
    "convergence."
   ]
  },
  {
   "cell_type": "code",
   "execution_count": 7,
   "id": "b83c9735",
   "metadata": {},
   "outputs": [
    {
     "name": "stdout",
     "output_type": "stream",
     "text": [
      "1\n",
      "2\n",
      "3\n",
      "4\n",
      "5\n",
      "6\n",
      "7\n",
      "8\n",
      "9\n",
      "10\n",
      "11\n"
     ]
    },
    {
     "ename": "OverflowError",
     "evalue": "(34, 'Result too large')",
     "output_type": "error",
     "traceback": [
      "\u001b[1;31m---------------------------------------------------------------------------\u001b[0m",
      "\u001b[1;31mOverflowError\u001b[0m                             Traceback (most recent call last)",
      "\u001b[1;32m~\\AppData\\Local\\Temp/ipykernel_22908/3645725987.py\u001b[0m in \u001b[0;36m<module>\u001b[1;34m\u001b[0m\n\u001b[1;32m----> 1\u001b[1;33m \u001b[0mfixedpt\u001b[0m\u001b[1;33m(\u001b[0m\u001b[1;32mlambda\u001b[0m \u001b[0mx\u001b[0m\u001b[1;33m:\u001b[0m \u001b[0mx\u001b[0m\u001b[1;33m-\u001b[0m\u001b[1;33m(\u001b[0m\u001b[0mx\u001b[0m\u001b[1;33m**\u001b[0m\u001b[1;36m2\u001b[0m\u001b[1;33m-\u001b[0m\u001b[1;36m2\u001b[0m\u001b[1;33m)\u001b[0m\u001b[1;33m/\u001b[0m\u001b[1;36m4\u001b[0m\u001b[1;33m,\u001b[0m \u001b[1;33m-\u001b[0m\u001b[1;36m5\u001b[0m\u001b[1;33m,\u001b[0m \u001b[1;36m1e-5\u001b[0m\u001b[1;33m,\u001b[0m \u001b[1;36m15\u001b[0m\u001b[1;33m)\u001b[0m\u001b[1;33m\u001b[0m\u001b[1;33m\u001b[0m\u001b[0m\n\u001b[0m",
      "\u001b[1;32m~\\AppData\\Local\\Temp/ipykernel_22908/689667504.py\u001b[0m in \u001b[0;36mfixedpt\u001b[1;34m(g, pzero, eps, N)\u001b[0m\n\u001b[0;32m      4\u001b[0m     \u001b[1;32mwhile\u001b[0m \u001b[0mn\u001b[0m\u001b[1;33m<\u001b[0m\u001b[0mN\u001b[0m\u001b[1;33m:\u001b[0m\u001b[1;33m\u001b[0m\u001b[1;33m\u001b[0m\u001b[0m\n\u001b[0;32m      5\u001b[0m         \u001b[0mprint\u001b[0m\u001b[1;33m(\u001b[0m\u001b[0mn\u001b[0m\u001b[1;33m)\u001b[0m\u001b[1;33m\u001b[0m\u001b[1;33m\u001b[0m\u001b[0m\n\u001b[1;32m----> 6\u001b[1;33m         \u001b[0mpone\u001b[0m \u001b[1;33m=\u001b[0m \u001b[0mg\u001b[0m\u001b[1;33m(\u001b[0m\u001b[0mpzero\u001b[0m\u001b[1;33m)\u001b[0m\u001b[1;33m\u001b[0m\u001b[1;33m\u001b[0m\u001b[0m\n\u001b[0m\u001b[0;32m      7\u001b[0m         \u001b[1;32mif\u001b[0m \u001b[0mnp\u001b[0m\u001b[1;33m.\u001b[0m\u001b[0mabs\u001b[0m\u001b[1;33m(\u001b[0m\u001b[0mpone\u001b[0m\u001b[1;33m-\u001b[0m\u001b[0mpzero\u001b[0m\u001b[1;33m)\u001b[0m\u001b[1;33m<\u001b[0m\u001b[0meps\u001b[0m\u001b[1;33m:\u001b[0m\u001b[1;33m\u001b[0m\u001b[1;33m\u001b[0m\u001b[0m\n\u001b[0;32m      8\u001b[0m             \u001b[0mprint\u001b[0m\u001b[1;33m(\u001b[0m\u001b[1;34m'p is '\u001b[0m\u001b[1;33m,\u001b[0m \u001b[0mpone\u001b[0m\u001b[1;33m,\u001b[0m \u001b[1;34m' and the iteration number is '\u001b[0m\u001b[1;33m,\u001b[0m \u001b[0mn\u001b[0m\u001b[1;33m)\u001b[0m\u001b[1;33m\u001b[0m\u001b[1;33m\u001b[0m\u001b[0m\n",
      "\u001b[1;32m~\\AppData\\Local\\Temp/ipykernel_22908/3645725987.py\u001b[0m in \u001b[0;36m<lambda>\u001b[1;34m(x)\u001b[0m\n\u001b[1;32m----> 1\u001b[1;33m \u001b[0mfixedpt\u001b[0m\u001b[1;33m(\u001b[0m\u001b[1;32mlambda\u001b[0m \u001b[0mx\u001b[0m\u001b[1;33m:\u001b[0m \u001b[0mx\u001b[0m\u001b[1;33m-\u001b[0m\u001b[1;33m(\u001b[0m\u001b[0mx\u001b[0m\u001b[1;33m**\u001b[0m\u001b[1;36m2\u001b[0m\u001b[1;33m-\u001b[0m\u001b[1;36m2\u001b[0m\u001b[1;33m)\u001b[0m\u001b[1;33m/\u001b[0m\u001b[1;36m4\u001b[0m\u001b[1;33m,\u001b[0m \u001b[1;33m-\u001b[0m\u001b[1;36m5\u001b[0m\u001b[1;33m,\u001b[0m \u001b[1;36m1e-5\u001b[0m\u001b[1;33m,\u001b[0m \u001b[1;36m15\u001b[0m\u001b[1;33m)\u001b[0m\u001b[1;33m\u001b[0m\u001b[1;33m\u001b[0m\u001b[0m\n\u001b[0m",
      "\u001b[1;31mOverflowError\u001b[0m: (34, 'Result too large')"
     ]
    }
   ],
   "source": [
    "fixedpt(lambda x: x-(x**2-2)/4, -5, 1e-5, 15)"
   ]
  },
  {
   "cell_type": "markdown",
   "id": "98ec2bae",
   "metadata": {},
   "source": [
    "Let's verify the linear convergence of the fixed-point iteration numerically in this example. We write another version of the fixed-pointcode, **fixedpt2**, and we compute $\\frac{p_n-\\sqrt{2}}{p_{n-1}-\\sqrt{2}}$ for each $n$."
   ]
  },
  {
   "cell_type": "code",
   "execution_count": 8,
   "id": "a9849599",
   "metadata": {},
   "outputs": [],
   "source": [
    "import numpy as np\n",
    "import matplotlib.pyplot as plt\n",
    "%matplotlib inline"
   ]
  },
  {
   "cell_type": "code",
   "execution_count": 9,
   "id": "5eb44484",
   "metadata": {},
   "outputs": [],
   "source": [
    "def fixedpt2(g, pzero, eps, N):\n",
    "    n = 1\n",
    "    arr = np.array([])\n",
    "    error = 1.\n",
    "    while n<N and error>eps:\n",
    "        pone = g(pzero)\n",
    "        error = np.abs(pone-pzero)\n",
    "        arr = np.append(arr, (pone-2**0.5)/(pzero-2**0.5))\n",
    "        pzero = pone\n",
    "        n += 1\n",
    "    return arr"
   ]
  },
  {
   "cell_type": "code",
   "execution_count": 10,
   "id": "0c804949",
   "metadata": {},
   "outputs": [
    {
     "data": {
      "text/plain": [
       "array([0.27144661, 0.28707161, 0.291222  , 0.29240652, 0.29275091,\n",
       "       0.29285156, 0.29288102, 0.29288965, 0.29289217, 0.29289291,\n",
       "       0.29289313, 0.29289319])"
      ]
     },
     "execution_count": 10,
     "metadata": {},
     "output_type": "execute_result"
    }
   ],
   "source": [
    "arr = fixedpt2(lambda x: x-(x**2-2)/4, 1.5, 1e-7, 15)\n",
    "arr"
   ]
  },
  {
   "cell_type": "code",
   "execution_count": 11,
   "id": "723efbef",
   "metadata": {},
   "outputs": [
    {
     "data": {
      "image/png": "[encoded data removed]",
      "text/plain": [
       "<Figure size 432x288 with 1 Axes>"
      ]
     },
     "metadata": {
      "needs_background": "light"
     },
     "output_type": "display_data"
    }
   ],
   "source": [
    "plt.plot(arr);"
   ]
  },
  {
   "cell_type": "markdown",
   "id": "48747b85",
   "metadata": {},
   "source": [
    " The graph suggests the limit of\n",
    "$\\frac{p_n-\\sqrt{2}}{p_{n-1}-\\sqrt{2}}$ exists and it is around 0.295,\n",
    "supporting linear convergence."
   ]
  }
 ],
 "metadata": {
  "kernelspec": {
   "display_name": "Python 3 (ipykernel)",
   "language": "python",
   "name": "python3"
  },
  "language_info": {
   "codemirror_mode": {
    "name": "ipython",
    "version": 3
   },
   "file_extension": ".py",
   "mimetype": "text/x-python",
   "name": "python",
   "nbconvert_exporter": "python",
   "pygments_lexer": "ipython3",
   "version": "3.10.11"
  },
  "latex_envs": {
   "LaTeX_envs_menu_present": true,
   "autoclose": false,
   "autocomplete": true,
   "bibliofile": "biblio.bib",
   "cite_by": "apalike",
   "current_citInitial": 1,
   "eqLabelWithNumbers": true,
   "eqNumInitial": 1,
   "hotkeys": {
    "equation": "Ctrl-E",
    "itemize": "Ctrl-I"
   },
   "labels_anchors": false,
   "latex_user_defs": false,
   "report_style_numbering": false,
   "user_envs_cfg": false
  }
 },
 "nbformat": 4,
 "nbformat_minor": 5
}
