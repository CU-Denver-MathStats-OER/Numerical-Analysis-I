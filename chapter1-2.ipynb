{
 "cells": [
  {
   "cell_type": "markdown",
   "id": "0ae9c6aa",
   "metadata": {},
   "source": [
    "## 1.2 Python basics"
   ]
  },
  {
   "cell_type": "markdown",
   "id": "374a9d14",
   "metadata": {},
   "source": [
    "We recommend using the free and open-source Python package manager Anaconda (Individual Edition https://www.anaconda.com/products/individual). Go to the webpage and choose the installer according to your operating system. At the time of writing this book, Python Version 3.8 is installed by default, which is also the version we use in this book. There are different environments and editors to run Python. Here we will use the Jupyter environment, which will be ready after Anaconda is installed. There are several tutorials and other resources on Python at https://www.python.org/ where one can find up-to-date information on Python.\n",
    "\n",
    "The Jupyter environment uses the so-called Jupyter notebook where one can write and edit a Python code, run the code, and export the work into various file formats including Latex and pdf. Most of our interaction with Python will be through the Jupyter notebooks. Note that Anaconda, once installed, has already preinstalled a large number of commonly used Python packages, so it is not necessary to install new packages for the purpose of running the codes in this book.\n",
    "\n",
    "After installing Anaconda, open a Jupyter notebook by following Anaconda $\\rightarrow$ Jupyter Notebook $\\rightarrow$ new $\\rightarrow$ Python 3. Here is a screenshot of my notebook:\n",
    "\n",
    "![JupyterNotebook](./images/Notebook.png)"
   ]
  },
  {
   "cell_type": "markdown",
   "id": "a95f168f",
   "metadata": {},
   "source": [
    " Let's start with some basic computations."
   ]
  },
  {
   "cell_type": "code",
   "execution_count": 1,
   "id": "c6c91b63",
   "metadata": {
    "scrolled": true
   },
   "outputs": [
    {
     "data": {
      "text/plain": [
       "5"
      ]
     },
     "execution_count": 1,
     "metadata": {},
     "output_type": "execute_result"
    }
   ],
   "source": [
    "2+3"
   ]
  },
  {
   "cell_type": "markdown",
   "id": "4c35cadb",
   "metadata": {},
   "source": [
    "Now we import the **sin** and **log** function, as well as the $\\pi$ constant from the **math** package,"
   ]
  },
  {
   "cell_type": "code",
   "execution_count": 2,
   "id": "5adcfef0",
   "metadata": {
    "scrolled": true
   },
   "outputs": [],
   "source": [
    "from math import sin, pi, log"
   ]
  },
  {
   "cell_type": "markdown",
   "id": "a78c3723",
   "metadata": {},
   "source": [
    "and compute $\\sin{(\\pi/4)}$:"
   ]
  },
  {
   "cell_type": "code",
   "execution_count": 3,
   "id": "3da984ef",
   "metadata": {
    "scrolled": true
   },
   "outputs": [
    {
     "data": {
      "text/plain": [
       "0.7071067811865476"
      ]
     },
     "execution_count": 3,
     "metadata": {},
     "output_type": "execute_result"
    }
   ],
   "source": [
    "sin(pi/4)"
   ]
  },
  {
   "cell_type": "markdown",
   "id": "9b107596",
   "metadata": {},
   "source": [
    "One way to learn about a function is to search for it online in the\n",
    "Python documentation https://docs.python.org/3/. For example, the syntax\n",
    "for the logarithm function in the **math** package is $\\log (x[,b])$ where $b$ is the optional base. If $b$ is not provided, the natural logarithm of $x$ (to base $e$) is computed."
   ]
  },
  {
   "cell_type": "code",
   "execution_count": 4,
   "id": "69df1185",
   "metadata": {
    "scrolled": true
   },
   "outputs": [
    {
     "data": {
      "text/plain": [
       "2.0"
      ]
     },
     "execution_count": 4,
     "metadata": {},
     "output_type": "execute_result"
    }
   ],
   "source": [
    "log(4,2)"
   ]
  },
  {
   "cell_type": "markdown",
   "id": "83f6210d",
   "metadata": {},
   "source": [
    "### Numpy arrays"
   ]
  },
  {
   "cell_type": "markdown",
   "id": "e334929f",
   "metadata": {},
   "source": [
    "NumPy is a useful Python package for array data structure, random number generation, linear algebra algorithms, and so on. A NumPy array is a data structure that can be used to represent vectors and matrices, for which the computations are also made easier.  Import the NumPy package and define an alias (np) for it."
   ]
  },
  {
   "cell_type": "code",
   "execution_count": 5,
   "id": "20b8e81e",
   "metadata": {
    "scrolled": true
   },
   "outputs": [],
   "source": [
    "import numpy as np"
   ]
  },
  {
   "cell_type": "markdown",
   "id": "7987c511",
   "metadata": {},
   "source": [
    " Here is the basic syntax to create a $1$D NumPy array (representing a vector):"
   ]
  },
  {
   "cell_type": "code",
   "execution_count": 6,
   "id": "5b90a185",
   "metadata": {
    "scrolled": true
   },
   "outputs": [
    {
     "data": {
      "text/plain": [
       "array([10, 20, 30])"
      ]
     },
     "execution_count": 6,
     "metadata": {},
     "output_type": "execute_result"
    }
   ],
   "source": [
    "x = np.array([10, 20, 30])\n",
    "x"
   ]
  },
  {
   "cell_type": "markdown",
   "id": "0c42c4fb",
   "metadata": {},
   "source": [
    "The following line of code shows the entries of the created array are integers of 32 bits."
   ]
  },
  {
   "cell_type": "code",
   "execution_count": 7,
   "id": "10d51fcd",
   "metadata": {
    "scrolled": true
   },
   "outputs": [
    {
     "data": {
      "text/plain": [
       "dtype('int32')"
      ]
     },
     "execution_count": 7,
     "metadata": {},
     "output_type": "execute_result"
    }
   ],
   "source": [
    "x.dtype"
   ]
  },
  {
   "cell_type": "markdown",
   "id": "c75a9150",
   "metadata": {},
   "source": [
    "If we input a real, Python will change the type accordingly:"
   ]
  },
  {
   "cell_type": "code",
   "execution_count": 8,
   "id": "33950858",
   "metadata": {
    "scrolled": true
   },
   "outputs": [
    {
     "data": {
      "text/plain": [
       "array([10. , 20. , 30. ,  0.1])"
      ]
     },
     "execution_count": 8,
     "metadata": {},
     "output_type": "execute_result"
    }
   ],
   "source": [
    "x = np.array([10, 20, 30, 0.1])\n",
    "x"
   ]
  },
  {
   "cell_type": "code",
   "execution_count": 9,
   "id": "c293bb11",
   "metadata": {
    "scrolled": true
   },
   "outputs": [
    {
     "data": {
      "text/plain": [
       "dtype('float64')"
      ]
     },
     "execution_count": 9,
     "metadata": {},
     "output_type": "execute_result"
    }
   ],
   "source": [
    "x.dtype"
   ]
  },
  {
   "cell_type": "markdown",
   "id": "662c60b5",
   "metadata": {},
   "source": [
    "A 1D NumPy array does not assume a particular row or column arrangement of the data, and hence taking transpose for a 1D NumPy array is not valid. Here is another way to construct a 1D array, and some array operations:"
   ]
  },
  {
   "cell_type": "code",
   "execution_count": 10,
   "id": "fae2cede",
   "metadata": {
    "scrolled": true
   },
   "outputs": [
    {
     "data": {
      "text/plain": [
       "array([10, 20, 30, 40, 50])"
      ]
     },
     "execution_count": 10,
     "metadata": {},
     "output_type": "execute_result"
    }
   ],
   "source": [
    "x = np.array([10*i for i in range(1, 6)])\n",
    "x"
   ]
  },
  {
   "cell_type": "code",
   "execution_count": 11,
   "id": "c573176a",
   "metadata": {
    "scrolled": true
   },
   "outputs": [
    {
     "data": {
      "text/plain": [
       "50"
      ]
     },
     "execution_count": 11,
     "metadata": {},
     "output_type": "execute_result"
    }
   ],
   "source": [
    "x[-1]"
   ]
  },
  {
   "cell_type": "code",
   "execution_count": 12,
   "id": "89c63ef0",
   "metadata": {
    "scrolled": true
   },
   "outputs": [
    {
     "data": {
      "text/plain": [
       "10"
      ]
     },
     "execution_count": 12,
     "metadata": {},
     "output_type": "execute_result"
    }
   ],
   "source": [
    "min(x)"
   ]
  },
  {
   "cell_type": "code",
   "execution_count": 13,
   "id": "5a58ca5e",
   "metadata": {
    "scrolled": true
   },
   "outputs": [
    {
     "data": {
      "text/plain": [
       "150"
      ]
     },
     "execution_count": 13,
     "metadata": {},
     "output_type": "execute_result"
    }
   ],
   "source": [
    "np.sum(x)"
   ]
  },
  {
   "cell_type": "code",
   "execution_count": 14,
   "id": "994a6e23",
   "metadata": {
    "scrolled": true
   },
   "outputs": [
    {
     "data": {
      "text/plain": [
       "array([10, 20, 30, 40, 50, 99])"
      ]
     },
     "execution_count": 14,
     "metadata": {},
     "output_type": "execute_result"
    }
   ],
   "source": [
    "x = np.append(x, 99)\n",
    "x"
   ]
  },
  {
   "cell_type": "code",
   "execution_count": 15,
   "id": "3cb0d401",
   "metadata": {
    "scrolled": true
   },
   "outputs": [
    {
     "data": {
      "text/plain": [
       "40"
      ]
     },
     "execution_count": 15,
     "metadata": {},
     "output_type": "execute_result"
    }
   ],
   "source": [
    "x[3]"
   ]
  },
  {
   "cell_type": "code",
   "execution_count": 16,
   "id": "ae15b1ef",
   "metadata": {
    "scrolled": true
   },
   "outputs": [
    {
     "data": {
      "text/plain": [
       "6"
      ]
     },
     "execution_count": 16,
     "metadata": {},
     "output_type": "execute_result"
    }
   ],
   "source": [
    "x.size"
   ]
  },
  {
   "cell_type": "markdown",
   "id": "5e1d1527",
   "metadata": {},
   "source": [
    "The NumPy package has a wide range of mathematical functions such as $\\sin$, $\\log$, etc., which can be applied elementwise to an array:"
   ]
  },
  {
   "cell_type": "code",
   "execution_count": 17,
   "id": "af3c68ae",
   "metadata": {
    "scrolled": true
   },
   "outputs": [
    {
     "data": {
      "text/plain": [
       "array([1, 2, 3])"
      ]
     },
     "execution_count": 17,
     "metadata": {},
     "output_type": "execute_result"
    }
   ],
   "source": [
    "x = np.array([1,2,3])\n",
    "x"
   ]
  },
  {
   "cell_type": "code",
   "execution_count": 18,
   "id": "2b103d9f",
   "metadata": {
    "scrolled": true
   },
   "outputs": [
    {
     "data": {
      "text/plain": [
       "array([0.84147098, 0.90929743, 0.14112001])"
      ]
     },
     "execution_count": 18,
     "metadata": {},
     "output_type": "execute_result"
    }
   ],
   "source": [
    "np.sin(x)"
   ]
  },
  {
   "cell_type": "markdown",
   "id": "f5fd83f4",
   "metadata": {},
   "source": [
    "### Plotting"
   ]
  },
  {
   "cell_type": "markdown",
   "id": "d6f32d72",
   "metadata": {},
   "source": [
    "There are several packages for plotting functions and we will use the PyPlot package. The package is preinstalled in Anaconda. To start the package, use"
   ]
  },
  {
   "cell_type": "code",
   "execution_count": 19,
   "id": "a873a774",
   "metadata": {
    "scrolled": true
   },
   "outputs": [],
   "source": [
    "import matplotlib.pyplot as plt\n",
    "%matplotlib inline"
   ]
  },
  {
   "cell_type": "markdown",
   "id": "0633805b",
   "metadata": {},
   "source": [
    "The following piece of code is a simple example of plotting with PyPlot."
   ]
  },
  {
   "cell_type": "code",
   "execution_count": 20,
   "id": "ebc24210",
   "metadata": {
    "scrolled": true
   },
   "outputs": [
    {
     "data": {
      "image/png": "[encoded data removed]",
      "text/plain": [
       "<Figure size 432x288 with 1 Axes>"
      ]
     },
     "metadata": {
      "needs_background": "light"
     },
     "output_type": "display_data"
    }
   ],
   "source": [
    "x = np.linspace(0, 2*np.pi, 1000)\n",
    "y = np.sin(3*x)\n",
    "plt.plot(x, y, color='red', linewidth=2.0, linestyle='--')\n",
    "plt.title('The sine function');"
   ]
  },
  {
   "cell_type": "markdown",
   "id": "f7ec52cd",
   "metadata": {},
   "source": [
    "Let's plot two functions, $\\sin3x$ and $\\cos x$, and label them appropriately."
   ]
  },
  {
   "cell_type": "code",
   "execution_count": 21,
   "id": "7d9b5966",
   "metadata": {
    "scrolled": true
   },
   "outputs": [
    {
     "data": {
      "image/png": "[encoded data removed]",
      "text/plain": [
       "<Figure size 432x288 with 1 Axes>"
      ]
     },
     "metadata": {
      "needs_background": "light"
     },
     "output_type": "display_data"
    }
   ],
   "source": [
    "x = np.linspace(0, 2*np.pi, 1000)\n",
    "y = np.sin(3*x)\n",
    "z = np.cos(x)\n",
    "plt.plot(x, y, color='red', linewidth=2.0, linestyle='--', label='sin(3x)')\n",
    "plt.plot(x, z, color='blue', linewidth=1.0, linestyle='-', label='cos(x)')\n",
    "plt.legend(loc='upper center');"
   ]
  },
  {
   "cell_type": "markdown",
   "id": "c5c9500f",
   "metadata": {},
   "source": [
    "### Matrix operations"
   ]
  },
  {
   "cell_type": "markdown",
   "id": "a75cd46b",
   "metadata": {},
   "source": [
    "NumPy uses $2$D arrays to represent matrices. Let's create a $3\\times3$ matrix ($2$D array):"
   ]
  },
  {
   "cell_type": "code",
   "execution_count": 22,
   "id": "dd2e73e4",
   "metadata": {
    "scrolled": true
   },
   "outputs": [
    {
     "data": {
      "text/plain": [
       "array([[-1.  ,  0.26,  0.74],\n",
       "       [ 0.09, -1.  ,  0.26],\n",
       "       [ 1.  ,  1.  ,  1.  ]])"
      ]
     },
     "execution_count": 22,
     "metadata": {},
     "output_type": "execute_result"
    }
   ],
   "source": [
    "A = np.array([[-1, 0.26, 0.74], [0.09, -1, 0.26], [1,1,1]])\n",
    "A"
   ]
  },
  {
   "cell_type": "markdown",
   "id": "597d2bb6",
   "metadata": {},
   "source": [
    "Transpose of \\(A\\) is computed as:"
   ]
  },
  {
   "cell_type": "code",
   "execution_count": 23,
   "id": "f879eeb3",
   "metadata": {
    "scrolled": true
   },
   "outputs": [
    {
     "data": {
      "text/plain": [
       "array([[-1.  ,  0.09,  1.  ],\n",
       "       [ 0.26, -1.  ,  1.  ],\n",
       "       [ 0.74,  0.26,  1.  ]])"
      ]
     },
     "execution_count": 23,
     "metadata": {},
     "output_type": "execute_result"
    }
   ],
   "source": [
    "A.T"
   ]
  },
  {
   "cell_type": "markdown",
   "id": "1e343c7e",
   "metadata": {},
   "source": [
    "Here is its inverse."
   ]
  },
  {
   "cell_type": "code",
   "execution_count": 24,
   "id": "80e78b2b",
   "metadata": {
    "scrolled": true
   },
   "outputs": [
    {
     "data": {
      "text/plain": [
       "array([[-0.59693007,  0.22740193,  0.38260375],\n",
       "       [ 0.08053818, -0.82433201,  0.15472807],\n",
       "       [ 0.51639189,  0.59693007,  0.46266818]])"
      ]
     },
     "execution_count": 24,
     "metadata": {},
     "output_type": "execute_result"
    }
   ],
   "source": [
    "np.linalg.inv(A)"
   ]
  },
  {
   "cell_type": "markdown",
   "id": "80236a93",
   "metadata": {},
   "source": [
    "To compute the product of $A$ and the inverse of $A$, use:"
   ]
  },
  {
   "cell_type": "code",
   "execution_count": 25,
   "id": "d05a51ec",
   "metadata": {
    "scrolled": true
   },
   "outputs": [
    {
     "data": {
      "text/plain": [
       "array([[ 1.00000000e+00,  1.24617643e-17, -1.74319952e-17],\n",
       "       [-3.98224397e-17,  1.00000000e+00,  1.74319952e-17],\n",
       "       [ 0.00000000e+00,  0.00000000e+00,  1.00000000e+00]])"
      ]
     },
     "execution_count": 25,
     "metadata": {},
     "output_type": "execute_result"
    }
   ],
   "source": [
    "np.dot(A, np.linalg.inv(A))"
   ]
  },
  {
   "cell_type": "markdown",
   "id": "691cf396",
   "metadata": {},
   "source": [
    "Let's try matrix vector multiplication. Define some vector \\(v\\) as:"
   ]
  },
  {
   "cell_type": "code",
   "execution_count": 26,
   "id": "10a91def",
   "metadata": {
    "scrolled": true
   },
   "outputs": [
    {
     "data": {
      "text/plain": [
       "array([0, 0, 1])"
      ]
     },
     "execution_count": 26,
     "metadata": {},
     "output_type": "execute_result"
    }
   ],
   "source": [
    "v = np.array([0,0,1])\n",
    "v"
   ]
  },
  {
   "cell_type": "markdown",
   "id": "1bda6b84",
   "metadata": {},
   "source": [
    "Now try $\\text{np.dot}(A,v)$ to multiply them."
   ]
  },
  {
   "cell_type": "code",
   "execution_count": 27,
   "id": "92414b96",
   "metadata": {
    "scrolled": true
   },
   "outputs": [
    {
     "data": {
      "text/plain": [
       "array([0.74, 0.26, 1.  ])"
      ]
     },
     "execution_count": 27,
     "metadata": {},
     "output_type": "execute_result"
    }
   ],
   "source": [
    "np.dot(A, v)"
   ]
  },
  {
   "cell_type": "markdown",
   "id": "9b6cd085",
   "metadata": {},
   "source": [
    "To solve the matrix equation \\(Ax=v\\), type:"
   ]
  },
  {
   "cell_type": "code",
   "execution_count": 28,
   "id": "3c85e800",
   "metadata": {
    "scrolled": true
   },
   "outputs": [
    {
     "data": {
      "text/plain": [
       "array([0.38260375, 0.15472807, 0.46266818])"
      ]
     },
     "execution_count": 28,
     "metadata": {},
     "output_type": "execute_result"
    }
   ],
   "source": [
    "np.linalg.solve(A, v)"
   ]
  },
  {
   "cell_type": "markdown",
   "id": "852ccc8d",
   "metadata": {},
   "source": [
    "The solution to $Ax=v$ can be also computed as $x=A^{-1}v$ as\n",
    "follows:"
   ]
  },
  {
   "cell_type": "code",
   "execution_count": 29,
   "id": "ec44687a",
   "metadata": {
    "scrolled": true
   },
   "outputs": [
    {
     "data": {
      "text/plain": [
       "array([0.38260375, 0.15472807, 0.46266818])"
      ]
     },
     "execution_count": 29,
     "metadata": {},
     "output_type": "execute_result"
    }
   ],
   "source": [
    "np.dot(np.linalg.inv(A), v)"
   ]
  },
  {
   "cell_type": "markdown",
   "id": "dfc04663",
   "metadata": {},
   "source": [
    "Powers of \\(A\\) can be computed as:"
   ]
  },
  {
   "cell_type": "code",
   "execution_count": 30,
   "id": "0ef6f99b",
   "metadata": {
    "scrolled": true
   },
   "outputs": [
    {
     "data": {
      "text/plain": [
       "array([[-2.80229724,  0.39583437,  2.76651959],\n",
       "       [ 0.12572728, -1.39301724,  0.84621677],\n",
       "       [ 3.74250756,  3.24338756,  4.51654028]])"
      ]
     },
     "execution_count": 30,
     "metadata": {},
     "output_type": "execute_result"
    }
   ],
   "source": [
    "np.linalg.matrix_power(A, 5)"
   ]
  },
  {
   "cell_type": "markdown",
   "id": "5336cf78",
   "metadata": {},
   "source": [
    "### Logic operations"
   ]
  },
  {
   "cell_type": "markdown",
   "id": "814c6d67",
   "metadata": {},
   "source": [
    "Here are some basic logic operations:"
   ]
  },
  {
   "cell_type": "code",
   "execution_count": 31,
   "id": "22567c26",
   "metadata": {
    "scrolled": true
   },
   "outputs": [
    {
     "data": {
      "text/plain": [
       "False"
      ]
     },
     "execution_count": 31,
     "metadata": {},
     "output_type": "execute_result"
    }
   ],
   "source": [
    "2 == 3"
   ]
  },
  {
   "cell_type": "code",
   "execution_count": 32,
   "id": "bf613fee",
   "metadata": {
    "scrolled": true
   },
   "outputs": [
    {
     "data": {
      "text/plain": [
       "True"
      ]
     },
     "execution_count": 32,
     "metadata": {},
     "output_type": "execute_result"
    }
   ],
   "source": [
    "2 <= 3"
   ]
  },
  {
   "cell_type": "code",
   "execution_count": 33,
   "id": "f7e40a21",
   "metadata": {
    "scrolled": true
   },
   "outputs": [
    {
     "data": {
      "text/plain": [
       "True"
      ]
     },
     "execution_count": 33,
     "metadata": {},
     "output_type": "execute_result"
    }
   ],
   "source": [
    "(2==2) or (1<0)"
   ]
  },
  {
   "cell_type": "code",
   "execution_count": 34,
   "id": "8845cf56",
   "metadata": {
    "scrolled": true
   },
   "outputs": [
    {
     "data": {
      "text/plain": [
       "False"
      ]
     },
     "execution_count": 34,
     "metadata": {},
     "output_type": "execute_result"
    }
   ],
   "source": [
    "(2==2) and (1<0)"
   ]
  },
  {
   "cell_type": "code",
   "execution_count": 35,
   "id": "f781dd29",
   "metadata": {
    "scrolled": true
   },
   "outputs": [
    {
     "data": {
      "text/plain": [
       "True"
      ]
     },
     "execution_count": 35,
     "metadata": {},
     "output_type": "execute_result"
    }
   ],
   "source": [
    "(4 % 2) == 0 # Check if 4 is an even number"
   ]
  },
  {
   "cell_type": "code",
   "execution_count": 36,
   "id": "4bc45208",
   "metadata": {
    "scrolled": true
   },
   "outputs": [
    {
     "data": {
      "text/plain": [
       "False"
      ]
     },
     "execution_count": 36,
     "metadata": {},
     "output_type": "execute_result"
    }
   ],
   "source": [
    "(5 % 2) == 0"
   ]
  },
  {
   "cell_type": "code",
   "execution_count": 37,
   "id": "f8a3362a",
   "metadata": {
    "scrolled": true
   },
   "outputs": [
    {
     "data": {
      "text/plain": [
       "True"
      ]
     },
     "execution_count": 37,
     "metadata": {},
     "output_type": "execute_result"
    }
   ],
   "source": [
    "(5 % 2) == 1 # Check if 5 is an odd number"
   ]
  },
  {
   "cell_type": "markdown",
   "id": "c72daf63",
   "metadata": {},
   "source": [
    "### Defining functions"
   ]
  },
  {
   "cell_type": "markdown",
   "id": "39e97aed",
   "metadata": {},
   "source": [
    "There are two  ways to define a function. Here is the basic syntax:"
   ]
  },
  {
   "cell_type": "code",
   "execution_count": 38,
   "id": "8e91d7c6",
   "metadata": {
    "scrolled": true
   },
   "outputs": [],
   "source": [
    "def squareit(x):\n",
    "    return x**2"
   ]
  },
  {
   "cell_type": "code",
   "execution_count": 39,
   "id": "42c5d179",
   "metadata": {
    "scrolled": true
   },
   "outputs": [
    {
     "data": {
      "text/plain": [
       "9"
      ]
     },
     "execution_count": 39,
     "metadata": {},
     "output_type": "execute_result"
    }
   ],
   "source": [
    "squareit(3)"
   ]
  },
  {
   "cell_type": "markdown",
   "id": "3d1433ba",
   "metadata": {},
   "source": [
    "There is also a compact form to define a function, if the body of the function is a short, simple expression:"
   ]
  },
  {
   "cell_type": "code",
   "execution_count": 40,
   "id": "d926173d",
   "metadata": {
    "scrolled": true
   },
   "outputs": [],
   "source": [
    "cubeit = lambda x: x**3 "
   ]
  },
  {
   "cell_type": "code",
   "execution_count": 41,
   "id": "5e6fbfd9",
   "metadata": {
    "scrolled": true
   },
   "outputs": [
    {
     "data": {
      "text/plain": [
       "125"
      ]
     },
     "execution_count": 41,
     "metadata": {},
     "output_type": "execute_result"
    }
   ],
   "source": [
    "cubeit(5)"
   ]
  },
  {
   "cell_type": "markdown",
   "id": "eb040cfb",
   "metadata": {},
   "source": [
    "Suppose we want to pick the elements of an array that are greater than 0. This can be done using:"
   ]
  },
  {
   "cell_type": "code",
   "execution_count": 42,
   "id": "e0fc72eb",
   "metadata": {
    "scrolled": true
   },
   "outputs": [
    {
     "data": {
      "text/plain": [
       "array([3, 4, 5])"
      ]
     },
     "execution_count": 42,
     "metadata": {},
     "output_type": "execute_result"
    }
   ],
   "source": [
    "x = np.array([-2,3,4,5,-3,0])\n",
    "x[x>0]"
   ]
  },
  {
   "cell_type": "markdown",
   "id": "85f465cd",
   "metadata": {},
   "source": [
    "To count the number of elements that are greater than $0$ in the array above, use"
   ]
  },
  {
   "cell_type": "code",
   "execution_count": 43,
   "id": "4b4edf01",
   "metadata": {
    "scrolled": true
   },
   "outputs": [
    {
     "data": {
      "text/plain": [
       "3"
      ]
     },
     "execution_count": 43,
     "metadata": {},
     "output_type": "execute_result"
    }
   ],
   "source": [
    "x[x>0].size"
   ]
  },
  {
   "cell_type": "markdown",
   "id": "a5436be2",
   "metadata": {},
   "source": [
    "### Types"
   ]
  },
  {
   "cell_type": "markdown",
   "id": "39ac285c",
   "metadata": {},
   "source": [
    "In Python, there are several types for integers and floating-point\n",
    "numbers such as int8, int64, float32, float64, and more advanced types\n",
    "for Boolean variables and strings. When we write a\n",
    "function, we do not have to declare the type of its variables: Python\n",
    "figures what the correct type is when the code is compiled. This is\n",
    "called a dynamic type system. For example, consider the\n",
    "**squareit** function we defined before:"
   ]
  },
  {
   "cell_type": "code",
   "execution_count": 44,
   "id": "4007bd7d",
   "metadata": {
    "scrolled": true
   },
   "outputs": [],
   "source": [
    "def squareit(x):\n",
    "    return x**2"
   ]
  },
  {
   "cell_type": "markdown",
   "id": "52efa254",
   "metadata": {},
   "source": [
    "The type of $x$ is not declared in the function definition. We can\n",
    "call it with real or integer inputs, and Python will know what to do:"
   ]
  },
  {
   "cell_type": "code",
   "execution_count": 45,
   "id": "11164e85",
   "metadata": {
    "scrolled": true
   },
   "outputs": [
    {
     "data": {
      "text/plain": [
       "25"
      ]
     },
     "execution_count": 45,
     "metadata": {},
     "output_type": "execute_result"
    }
   ],
   "source": [
    "squareit(5)"
   ]
  },
  {
   "cell_type": "code",
   "execution_count": 46,
   "id": "4721cf17",
   "metadata": {
    "scrolled": true
   },
   "outputs": [
    {
     "data": {
      "text/plain": [
       "30.25"
      ]
     },
     "execution_count": 46,
     "metadata": {},
     "output_type": "execute_result"
    }
   ],
   "source": [
    "squareit(5.5)"
   ]
  },
  {
   "cell_type": "markdown",
   "id": "47a6a714",
   "metadata": {},
   "source": [
    "Now suppose the type of the input is a floating-point number. We can write another version of **squareit** that specifies the type."
   ]
  },
  {
   "cell_type": "code",
   "execution_count": 47,
   "id": "3b622a3a",
   "metadata": {
    "scrolled": true
   },
   "outputs": [],
   "source": [
    "def typesquareit(x: float):\n",
    "    return x**2"
   ]
  },
  {
   "cell_type": "markdown",
   "id": "b4469c05",
   "metadata": {},
   "source": [
    "The input $x$ is now statically typed. However, the purpose here is to add an annotation to remind the users of the input type that should be used. In fact, Python interpreter will not perform any type checking automatically, unless some additional packages are used. In other words, there will be no difference between the *squareit* and *typesquareit* functions."
   ]
  },
  {
   "cell_type": "code",
   "execution_count": 48,
   "id": "a0f5f0ad",
   "metadata": {
    "scrolled": true
   },
   "outputs": [
    {
     "data": {
      "text/plain": [
       "30.25"
      ]
     },
     "execution_count": 48,
     "metadata": {},
     "output_type": "execute_result"
    }
   ],
   "source": [
    "typesquareit(5.5)"
   ]
  },
  {
   "cell_type": "code",
   "execution_count": 49,
   "id": "eb4b671e",
   "metadata": {
    "scrolled": true
   },
   "outputs": [
    {
     "data": {
      "text/plain": [
       "25"
      ]
     },
     "execution_count": 49,
     "metadata": {},
     "output_type": "execute_result"
    }
   ],
   "source": [
    "typesquareit(5)"
   ]
  },
  {
   "cell_type": "markdown",
   "id": "ef75f313",
   "metadata": {},
   "source": [
    " It can be seen that the function *typesquareit* has no problem taking the integer $5$ as an input."
   ]
  },
  {
   "cell_type": "markdown",
   "id": "64172f73",
   "metadata": {},
   "source": [
    "### Control flow"
   ]
  },
  {
   "cell_type": "markdown",
   "id": "b2c36887",
   "metadata": {},
   "source": [
    "Let's create a NumPy array of 10 entries of floating-type. A simple way to do it is by using the function **np.zeros(n)**, which creates an array of size $n$, and sets each entry to zero. (A similar function is **np.ones(n)** which creates an array of size $n$ with each entry set to 1.)"
   ]
  },
  {
   "cell_type": "code",
   "execution_count": 50,
   "id": "0878f24b",
   "metadata": {
    "scrolled": true
   },
   "outputs": [
    {
     "data": {
      "text/plain": [
       "array([0., 0., 0., 0., 0., 0., 0., 0., 0., 0.])"
      ]
     },
     "execution_count": 50,
     "metadata": {},
     "output_type": "execute_result"
    }
   ],
   "source": [
    "values = np.zeros(10)\n",
    "values"
   ]
  },
  {
   "cell_type": "markdown",
   "id": "d8e0bb11",
   "metadata": {},
   "source": [
    "Now we will set the elements of the array to values of sin function."
   ]
  },
  {
   "cell_type": "code",
   "execution_count": 51,
   "id": "f9e585c0",
   "metadata": {
    "scrolled": true
   },
   "outputs": [],
   "source": [
    "for n in range(10):\n",
    "    values[n] = np.sin((n+1)**2)"
   ]
  },
  {
   "cell_type": "code",
   "execution_count": 52,
   "id": "3636ba99",
   "metadata": {
    "scrolled": true
   },
   "outputs": [
    {
     "data": {
      "text/plain": [
       "array([ 0.84147098, -0.7568025 ,  0.41211849, -0.28790332, -0.13235175,\n",
       "       -0.99177885, -0.95375265,  0.92002604, -0.62988799, -0.50636564])"
      ]
     },
     "execution_count": 52,
     "metadata": {},
     "output_type": "execute_result"
    }
   ],
   "source": [
    "values"
   ]
  },
  {
   "cell_type": "markdown",
   "id": "6b32516b",
   "metadata": {},
   "source": [
    "Here is another way to do this. Start with creating an empty array:"
   ]
  },
  {
   "cell_type": "code",
   "execution_count": 53,
   "id": "101e8585",
   "metadata": {
    "scrolled": true
   },
   "outputs": [],
   "source": [
    "newvalues = np.array([])"
   ]
  },
  {
   "cell_type": "markdown",
   "id": "6c73eeb0",
   "metadata": {},
   "source": [
    "Then use a **while** statement to generate the values, and append them to the array."
   ]
  },
  {
   "cell_type": "code",
   "execution_count": 54,
   "id": "d96c0547",
   "metadata": {
    "scrolled": true
   },
   "outputs": [
    {
     "data": {
      "text/plain": [
       "array([ 0.84147098, -0.7568025 ,  0.41211849, -0.28790332, -0.13235175,\n",
       "       -0.99177885, -0.95375265,  0.92002604, -0.62988799, -0.50636564])"
      ]
     },
     "execution_count": 54,
     "metadata": {},
     "output_type": "execute_result"
    }
   ],
   "source": [
    "n = 1\n",
    "while n<=10:\n",
    "    newvalues = np.append(newvalues, np.sin(n**2))\n",
    "    n += 1\n",
    "newvalues"
   ]
  },
  {
   "cell_type": "markdown",
   "id": "591e87c9",
   "metadata": {},
   "source": [
    "Here is how the **if** statement works:"
   ]
  },
  {
   "cell_type": "code",
   "execution_count": 55,
   "id": "62127426",
   "metadata": {
    "scrolled": true
   },
   "outputs": [],
   "source": [
    "def f(x, y):\n",
    "    if x < y:\n",
    "        print(x, ' is less than ', y)\n",
    "    elif x > y:\n",
    "        print(x, ' is greater than ', y)\n",
    "    else:\n",
    "        print(x, ' is equal to ', y)"
   ]
  },
  {
   "cell_type": "code",
   "execution_count": 56,
   "id": "4cb0bf00",
   "metadata": {
    "scrolled": true
   },
   "outputs": [
    {
     "name": "stdout",
     "output_type": "stream",
     "text": [
      "2  is less than  3\n"
     ]
    }
   ],
   "source": [
    "f(2, 3)"
   ]
  },
  {
   "cell_type": "code",
   "execution_count": 57,
   "id": "383ef83d",
   "metadata": {
    "scrolled": true
   },
   "outputs": [
    {
     "name": "stdout",
     "output_type": "stream",
     "text": [
      "3  is greater than  2\n"
     ]
    }
   ],
   "source": [
    "f(3, 2)"
   ]
  },
  {
   "cell_type": "code",
   "execution_count": 58,
   "id": "dbc0d5e3",
   "metadata": {
    "scrolled": true
   },
   "outputs": [
    {
     "name": "stdout",
     "output_type": "stream",
     "text": [
      "1  is equal to  1\n"
     ]
    }
   ],
   "source": [
    "f(1, 1)"
   ]
  },
  {
   "cell_type": "markdown",
   "id": "2926cb58",
   "metadata": {},
   "source": [
    "In the next example we use **if** and **while** to find all the odd numbers in $\\{1,\\ldots,10\\}$.  The empty array created in the first line is of int64 type."
   ]
  },
  {
   "cell_type": "code",
   "execution_count": 59,
   "id": "0c924264",
   "metadata": {
    "scrolled": true
   },
   "outputs": [
    {
     "data": {
      "text/plain": [
       "array([1, 3, 5, 7, 9], dtype=int64)"
      ]
     },
     "execution_count": 59,
     "metadata": {},
     "output_type": "execute_result"
    }
   ],
   "source": [
    "odds = np.array([]).astype('int64')\n",
    "n = 1\n",
    "while n <= 10:\n",
    "    if n%2 == 1:\n",
    "        odds = np.append(odds, n)\n",
    "    n += 1\n",
    "odds"
   ]
  },
  {
   "cell_type": "markdown",
   "id": "f573bef3",
   "metadata": {},
   "source": [
    "Here is an interesting property of the function **break**:"
   ]
  },
  {
   "cell_type": "code",
   "execution_count": 60,
   "id": "1416ea3d",
   "metadata": {
    "scrolled": true
   },
   "outputs": [
    {
     "name": "stdout",
     "output_type": "stream",
     "text": [
      "2\n"
     ]
    }
   ],
   "source": [
    "n = 1\n",
    "while n <= 20:\n",
    "    if n%2 == 0:\n",
    "        print(n)\n",
    "        break\n",
    "    n += 1"
   ]
  },
  {
   "cell_type": "markdown",
   "id": "790f3ef4",
   "metadata": {},
   "source": [
    " Why did the above execution stop at 2? Let's try\n",
    "removing **break**:"
   ]
  },
  {
   "cell_type": "code",
   "execution_count": 61,
   "id": "fc75fafd",
   "metadata": {
    "scrolled": true
   },
   "outputs": [
    {
     "name": "stdout",
     "output_type": "stream",
     "text": [
      "2\n",
      "4\n",
      "6\n",
      "8\n",
      "10\n",
      "12\n",
      "14\n",
      "16\n",
      "18\n",
      "20\n"
     ]
    }
   ],
   "source": [
    "n = 1\n",
    "while n <= 20:\n",
    "    if n%2 == 0:\n",
    "        print(n)\n",
    "    n += 1"
   ]
  },
  {
   "cell_type": "markdown",
   "id": "c79e2e00",
   "metadata": {},
   "source": [
    "The function **break** causes the code to exit the while loop once it is evaluated."
   ]
  },
  {
   "cell_type": "markdown",
   "id": "6dd0e543",
   "metadata": {},
   "source": [
    "### Random numbers"
   ]
  },
  {
   "cell_type": "markdown",
   "id": "68991e7a",
   "metadata": {},
   "source": [
    " These are $5$ uniform random numbers from $(0,1)$."
   ]
  },
  {
   "cell_type": "code",
   "execution_count": 62,
   "id": "6dfcfe24",
   "metadata": {
    "scrolled": true
   },
   "outputs": [],
   "source": [
    "import numpy as np"
   ]
  },
  {
   "cell_type": "code",
   "execution_count": 63,
   "id": "4007dd20",
   "metadata": {
    "scrolled": true
   },
   "outputs": [
    {
     "data": {
      "text/plain": [
       "array([0.11257888, 0.05465266, 0.61076198, 0.43649615, 0.11171325])"
      ]
     },
     "execution_count": 63,
     "metadata": {},
     "output_type": "execute_result"
    }
   ],
   "source": [
    "np.random.rand(5)"
   ]
  },
  {
   "cell_type": "markdown",
   "id": "ac0a2ce4",
   "metadata": {},
   "source": [
    "And these are random numbers from the standard normal distribution:"
   ]
  },
  {
   "cell_type": "code",
   "execution_count": 64,
   "id": "8d49caa7",
   "metadata": {
    "scrolled": true
   },
   "outputs": [
    {
     "data": {
      "text/plain": [
       "array([-0.62086288,  0.79246405, -1.16920659,  0.44365115, -0.76469021])"
      ]
     },
     "execution_count": 64,
     "metadata": {},
     "output_type": "execute_result"
    }
   ],
   "source": [
    "np.random.randn(5)"
   ]
  },
  {
   "cell_type": "markdown",
   "id": "1297662e",
   "metadata": {},
   "source": [
    "Here is a frequency histogram of $10^5$ random numbers from the standard normal\n",
    "distribution using $50$ bins:"
   ]
  },
  {
   "cell_type": "code",
   "execution_count": 65,
   "id": "559eb4d3",
   "metadata": {
    "scrolled": true
   },
   "outputs": [
    {
     "data": {
      "image/png": "[encoded data removed]",
      "text/plain": [
       "<Figure size 432x288 with 1 Axes>"
      ]
     },
     "metadata": {
      "needs_background": "light"
     },
     "output_type": "display_data"
    }
   ],
   "source": [
    "y = np.random.randn(10**5)\n",
    "plt.hist(y, 50);"
   ]
  },
  {
   "cell_type": "markdown",
   "id": "7ea1c20b",
   "metadata": {},
   "source": [
    "Sometimes we are interested in relative frequency histograms where the\n",
    "height of each bin is the relative frequency of the numbers in the bin.\n",
    "Adding the option \"density=true\" outputs a relative frequency histogram:"
   ]
  },
  {
   "cell_type": "code",
   "execution_count": 66,
   "id": "52f52d12",
   "metadata": {
    "scrolled": true
   },
   "outputs": [
    {
     "data": {
      "image/png": "[encoded data removed]",
      "text/plain": [
       "<Figure size 432x288 with 1 Axes>"
      ]
     },
     "metadata": {
      "needs_background": "light"
     },
     "output_type": "display_data"
    }
   ],
   "source": [
    "y = np.random.randn(10**5)\n",
    "plt.hist(y, 50, density=True);"
   ]
  },
  {
   "cell_type": "markdown",
   "id": "1a7d95b5",
   "metadata": {},
   "source": [
    "\\begin{exercise}\\label{ex:1.2-1}\n",
    "In Python you can compute the factorial of a positive integer $n$\n",
    "by the built-in function **factorial(n)}** from the subpackage *special*\n",
    "in SciPy (**scipy.special.factorial(n)**). Write your own\n",
    "version of this function, called $factorial2$, using a for loop.\n",
    "Use the **time.time()** function to compare the execution time of\n",
    "your version and the built-in version of the factorial function.\n",
    "\\end{exercise}"
   ]
  },
  {
   "cell_type": "markdown",
   "id": "47db6353",
   "metadata": {},
   "source": [
    "\\begin{exercise}\\label{ex:1.2-2}\n",
    "Write a Python code to estimate the value of  $\\pi$ using the following procedure: Place a circle of diameter one in the unit square. Generate 10,000 pairs of random numbers $(u,v)$ from the unit square. Count the number of pairs $(u,v)$ that fall into the circle, and call this number  $n$. Then  $n/10000$ is approximately the area of the circle. (This approach is known as the Monte Carlo method.)\n",
    "\\end{exercise}"
   ]
  },
  {
   "cell_type": "markdown",
   "id": "673868d6",
   "metadata": {},
   "source": [
    "\\begin{exercise}\\label{ex:1.2-3}\n",
    "Consider the following function\n",
    "\n",
    "\\begin{equation*}\n",
    "f(x,n)=\\sum_{i=1}^n \\prod _{j=1}^i x^{n-j+1}.\n",
    "\\end{equation*}\n",
    "\n",
    "a. Compute $f(2,3)$ by hand.\n",
    "\n",
    "b. Write a Python code that computes $f$. Verify $f(2,3)$ matches your answer above.\n",
    "\\end{exercise}"
   ]
  }
 ],
 "metadata": {
  "kernelspec": {
   "display_name": "Python 3 (ipykernel)",
   "language": "python",
   "name": "python3"
  },
  "language_info": {
   "codemirror_mode": {
    "name": "ipython",
    "version": 3
   },
   "file_extension": ".py",
   "mimetype": "text/x-python",
   "name": "python",
   "nbconvert_exporter": "python",
   "pygments_lexer": "ipython3",
   "version": "3.8.11"
  },
  "latex_envs": {
   "LaTeX_envs_menu_present": true,
   "autoclose": false,
   "autocomplete": true,
   "bibliofile": "biblio.bib",
   "cite_by": "apalike",
   "current_citInitial": 1,
   "eqLabelWithNumbers": true,
   "eqNumInitial": 1,
   "hotkeys": {
    "equation": "Ctrl-E",
    "itemize": "Ctrl-I"
   },
   "labels_anchors": false,
   "latex_user_defs": false,
   "report_style_numbering": false,
   "user_envs_cfg": false
  }
 },
 "nbformat": 4,
 "nbformat_minor": 5
}
