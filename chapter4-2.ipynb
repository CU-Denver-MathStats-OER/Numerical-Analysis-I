{
 "cells": [
  {
   "cell_type": "markdown",
   "id": "19d54822",
   "metadata": {},
   "source": [
    "# 4.2 High degree polynomial interpolation"
   ]
  },
  {
   "cell_type": "markdown",
   "id": "b329a7c9",
   "metadata": {},
   "source": [
    "Suppose we approximate $f(x)$ using its polynomial interpolant $p_{n}(x)$\n",
    "obtained from $(n+1$) data points. We then increase the number of\n",
    "data points, and update $p_{n}(x)$ accordingly. The central question\n",
    "we want to discuss is the following: as the number of nodes (data\n",
    "points) increases, does $p_{n}(x)$ become a better approximation\n",
    "to $f(x)$ on $[a,b]?$ We will investigate this question numerically, using a famous example: Runge's function, given by $f(x)=\\frac{1}{1+x^2}$.\n",
    "\n",
    "We will interpolate Runge's\n",
    "function using polynomials of various degrees, and plot the function,\n",
    "together with its interpolating polynomial and the data points. We are interested to see\n",
    "what happens as the number of data points, and hence the degree of the\n",
    "interpolating polynomial, increases."
   ]
  },
  {
   "cell_type": "code",
   "execution_count": null,
   "id": "76b6bbe4",
   "metadata": {},
   "outputs": [],
   "source": [
    "import numpy as np\n",
    "import matplotlib.pyplot as plt\n",
    "%matplotlib inline"
   ]
  },
  {
   "cell_type": "markdown",
   "id": "ba5f034a",
   "metadata": {},
   "source": [
    "We start with taking four equally spaced $x$-coordinates between -5 and\n",
    "5, and plot the corresponding interpolating polynomial and Runge's\n",
    "function. Matplotlib allows typing mathematics in captions of a plot using Latex. (Latex is a typesetting\n",
    "program this book is written with.) Latex commands need to be enclosed by a pair of dollar signs, in addition to a pair of quotation marks."
   ]
  },
  {
   "cell_type": "code",
   "execution_count": null,
   "id": "343b6fbc",
   "metadata": {},
   "outputs": [],
   "source": [
    "def newton(x, y, z):\n",
    "    m = x.size # here m is the number of data points, not the degree\n",
    "    # of the polynomial\n",
    "    a = diff(x, y)\n",
    "    sum = a[0]\n",
    "    pr = 1.0\n",
    "    for j in range(m-1):\n",
    "        pr *= (z-x[j])\n",
    "        sum += a[j+1]*pr\n",
    "    return sum"
   ]
  },
  {
   "cell_type": "code",
   "execution_count": null,
   "id": "945ca893",
   "metadata": {},
   "outputs": [],
   "source": [
    "def diff(x, y):\n",
    "    m = x.size # here m is the number of data points.\n",
    "    # the degree of the polynomial is m-1\n",
    "    a = np.zeros(m)\n",
    "    for i in range(m):\n",
    "        a[i] = y[i]\n",
    "    for j in range(1, m):\n",
    "        for i in np.flip(np.arange(j,m)):\n",
    "            a[i] = (a[i]-a[i-1]) / (x[i]-x[i-(j)])\n",
    "    return a"
   ]
  },
  {
   "cell_type": "code",
   "execution_count": null,
   "id": "d17bee14",
   "metadata": {},
   "outputs": [],
   "source": [
    "f = lambda x: 1/(1+x**2)\n",
    "xi = np.linspace(-5, 5, 4) # x-coordinates of the data, 4 points equally spaced from\n",
    "#-5 to 5 in increments of 10/3\n",
    "yi = f(xi) # the corresponding y-coordinates\n",
    "xaxis = np.linspace(-5, 5, 1000) \n",
    "runge = f(xaxis) # Runge's function values\n",
    "interp = newton(xi, yi, xaxis)\n",
    "plt.plot(xaxis, interp, label='interpolating poly')\n",
    "plt.plot(xaxis, runge, label=\"$f(x)=1/(1+x^2)$\")\n",
    "plt.plot(xi, yi, 'o', label='data')\n",
    "plt.legend(loc='upper right');"
   ]
  },
  {
   "cell_type": "markdown",
   "id": "72b75b16",
   "metadata": {},
   "source": [
    "Next, we increase the number of data points to 6."
   ]
  },
  {
   "cell_type": "code",
   "execution_count": null,
   "id": "00b39fa7",
   "metadata": {},
   "outputs": [],
   "source": [
    "xi = np.linspace(-5, 5, 6) # 6 equally spaced values from -5 to 5\n",
    "yi = f(xi) # the corresponding y-coordinates\n",
    "interp = newton(xi, yi, xaxis)\n",
    "plt.plot(xaxis, interp, label='interpolating poly')\n",
    "plt.plot(xaxis, runge, label=\"$f(x)=1/(1+x^2)$\")\n",
    "plt.plot(xi, yi, 'o', label='data')\n",
    "plt.legend(loc='upper right');"
   ]
  },
  {
   "cell_type": "markdown",
   "id": "f59016a3",
   "metadata": {},
   "source": [
    "The next two graphs plot interpolating polynomials on 11 and 21 equally\n",
    "spaced data."
   ]
  },
  {
   "cell_type": "code",
   "execution_count": null,
   "id": "02841e22",
   "metadata": {},
   "outputs": [],
   "source": [
    "xi = np.linspace(-5, 5, 11) # 11 equally spaced values from -5 to 5\n",
    "yi = f(xi) # the corresponding y-coordinates\n",
    "interp = newton(xi, yi, xaxis)\n",
    "plt.plot(xaxis, interp, label='interpolating poly')\n",
    "plt.plot(xaxis, runge, label=\"$f(x)=1/(1+x^2)$\")\n",
    "plt.plot(xi, yi, 'o', label='data')\n",
    "plt.legend(loc='upper center');"
   ]
  },
  {
   "cell_type": "code",
   "execution_count": null,
   "id": "c25c937d",
   "metadata": {},
   "outputs": [],
   "source": [
    "xi = np.linspace(-5, 5, 21) # 21 equally spaced values from -5 to 5\n",
    "yi = f(xi) # the corresponding y-coordinates\n",
    "interp = newton(xi, yi, xaxis)\n",
    "plt.plot(xaxis, interp, label='interpolating poly')\n",
    "plt.plot(xaxis, runge, label=\"$f(x)=1/(1+x^2)$\")\n",
    "plt.plot(xi, yi, 'o', label='data')\n",
    "plt.legend(loc='lower center');"
   ]
  },
  {
   "cell_type": "markdown",
   "id": "0d71275c",
   "metadata": {},
   "source": [
    "We observe that as the degree of the interpolating polynomial increases, the polynomial has large oscillations toward the end points of the interval. In fact, it can be shown that for any $x$ such that $3.64<|x|<5, \\sup_{n\\geq 0} |f(x)-p_n(x)|=\\infty$, where $f$ is Runge's function.\n",
    "\n",
    "This troublesome behavior of high degree interpolating polynomials improves significantly, if we consider data with $x$-coordinates that are \\textbf{not} equally spaced. Consider the interpolation error of Theorem 3 Chapter4-1:\n",
    "\\begin{equation*}\n",
    "f(x)-p_{n}(x)=\\frac{f^{(n+1)}(\\xi)}{(n+1)!}(x-x_{0})(x-x_{1})\\cdots(x-x_{n}).\n",
    "\\end{equation*}\n",
    "Perhaps surprisingly, the right-hand side of the above equation is not minimized when the nodes, $x_i$, are equally spaced! The set of nodes that minimizes the interpolation error is the roots of the so-called Chebyshev polynomials. The placing of these nodes is such that there are more nodes towards the end points of the interval, than the middle. We will learn about Chebyshev polynomials in Chapter 6. Using Chebyshev nodes in polynomial interpolation avoids the diverging behavior of polynomial interpolants as the degree increases, as observed in the case of Runge's function, for sufficiently smooth functions."
   ]
  },
  {
   "cell_type": "markdown",
   "id": "01ba0942",
   "metadata": {},
   "source": [
    "Below is a comparison of the interpolations using equally spaced and Chebyshev nodes as the number of data points increases. No deterioration of interpolation quality is observed in the case of Chebyshev nodes."
   ]
  },
  {
   "cell_type": "code",
   "execution_count": null,
   "id": "4e74f7fc",
   "metadata": {},
   "outputs": [],
   "source": [
    "from IPython.display import display\n",
    "from matplotlib.animation import FuncAnimation\n",
    "from IPython.display import HTML\n",
    "\n",
    "# Newton Divided Difference Interpolation Method\n",
    "def NewtonDivDiffInterp(x, y):\n",
    "    \"\"\"\n",
    "    Computes coefficients of interpolating polynomial\n",
    "    x: the x coordinate of the data points\n",
    "    y: the y coordinate of the data points\n",
    "    return: the coefficients $c$ of \n",
    "    \"\"\"\n",
    "    if x.size != y.size:\n",
    "        print('x and y should have the same size!')\n",
    "        stop\n",
    "    \n",
    "    n = x.size\n",
    "    v = np.zeros((n,n))\n",
    "    # Fill in y column\n",
    "    for j in range(n):\n",
    "        v[j,0] = y[j]\n",
    "        \n",
    "    # Fill in all the other columns i:\n",
    "    for i in range(1, n):\n",
    "        for j in range(0, n-i):\n",
    "            v[j,i] = (v[j+1,i-1]-v[j,i-1])/(x[j+i]-x[j])\n",
    "    \n",
    "    c = np.zeros(n,)\n",
    "    for i in range(n):\n",
    "        c[i] = v[0, i]\n",
    "        \n",
    "    return c\n",
    "\n",
    "def nest(d,c,x,b):\n",
    "    \"\"\"\n",
    "    Evaluates polynomial from nested form using Horner's Method\n",
    "    base points need to be passed in.\n",
    "    Input: \n",
    "    d: degree of polynomial\n",
    "    c: array of d+1 coefficients (constant term first)\n",
    "    x: x-coordinate at which to evaluate\n",
    "    \"\"\"\n",
    "    \n",
    "    y = c[d]\n",
    "    for i in range(d-1,-1,-1):\n",
    "        y = y*(x-b[i])+c[i]\n",
    "        \n",
    "    return y\n",
    "\n",
    "xf = np.linspace(-1, 1, 100)\n",
    "# use a dropdown or some other widgets to choose a range of functions\n",
    "yf = 1/(1+12*xf**2)\n",
    "\n",
    "fig, (ax1, ax2) = plt.subplots(1, 2, figsize=(12,6))\n",
    "ax1.set_xlim(-1, 1)\n",
    "ax2.set_xlim(-1, 1)\n",
    "def animate(i):\n",
    "    ax1.clear()\n",
    "    ax2.clear()\n",
    "    x = np.cos(((2*np.arange(1,i+1)-1)*np.pi)/(2*(i)))\n",
    "    y = 1./(1+12*x**2)\n",
    "    c = NewtonDivDiffInterp(x, y)\n",
    "    xp = np.linspace(-1, 1, 100)\n",
    "    yp = nest(i-1, c, xp, x)\n",
    "    ax1.plot(xf, yf, c='b')\n",
    "    ax1.plot(xp, yp, c='r')\n",
    "    ax1.plot(x, y, 'o')\n",
    "    ax1.set_title('Interpolation with '+ str(i) +' Chebyshev points')\n",
    "    ax1.legend(['f(x)', 'Interpolating poly', 'Data'])\n",
    "    \n",
    "    \n",
    "    x = np.linspace(-1, 1, i)\n",
    "    # change the following line for another function\n",
    "    y = 1./(1+12*x**2)\n",
    "    c = NewtonDivDiffInterp(x, y)\n",
    "    xp = np.linspace(-1, 1, 100)\n",
    "    yp = nest(i-1, c, xp, x)\n",
    "    ax2.plot(xf, yf, c='b')\n",
    "    ax2.plot(xp, yp, c='r')\n",
    "    ax2.plot(x, y, 'o')\n",
    "    ax2.set_title('Interpolation with '+ str(i) +' uniform points')\n",
    "    ax2.legend(['f(x)', 'Interpolating poly', 'Data'])\n",
    "\n",
    "plt.close()\n",
    "anim = FuncAnimation(fig, animate, frames=range(2,31), interval=1500)\n",
    "HTML(anim.to_jshtml())"
   ]
  },
  {
   "cell_type": "markdown",
   "id": "f9fcde8b",
   "metadata": {},
   "source": [
    "## Divided differences and derivatives"
   ]
  },
  {
   "cell_type": "markdown",
   "id": "31f8016d",
   "metadata": {},
   "source": [
    "The following theorem shows the similarity between divided differences\n",
    "and derivatives.\n",
    "\n",
    "\\begin{theorem}\\label{theo:chap3_thm58}\n",
    "Suppose $f\\in C^{n}[a,b]$ and\n",
    "$x_{0},x_{1},...,x_{n}$ are distinct numbers in $[a,b].$ Then there\n",
    "exists $\\xi\\in(a,b)$ such that\n",
    "\\begin{equation*}\n",
    "f[x_{0},...,x_{n}]=\\frac{f^{(n)}(\\xi)}{n!}.\n",
    "\\end{equation*}\n",
    "\\end{theorem}"
   ]
  },
  {
   "cell_type": "markdown",
   "id": "8e9f5c4f",
   "metadata": {},
   "source": [
    "To prove this theorem, we need the generalized Rolle's theorem."
   ]
  },
  {
   "cell_type": "markdown",
   "id": "99f51d15",
   "metadata": {},
   "source": [
    "\\begin{theorem}[Rolle's theorem]\\label{theo:chap3_thm59}\n",
    "Suppose $f$ is a differentiable function on $(a,b).$ If $f(a)=f(b),$\n",
    "then there exists $c\\in(a,b)$ such that $f'(c)=0$.\n",
    "\\end{theorem}\n"
   ]
  },
  {
   "cell_type": "markdown",
   "id": "f8ac7780",
   "metadata": {},
   "source": [
    "\\begin{theorem}[Generalized Rolle's theorem]\\label{theo:chap3_thm60}\n",
    "Suppose $f$ has $n$ derivatives on $(a,b).$ If $f(x)=0$ at $(n+1)$\n",
    "distinct numbers $x_{0},x_{1},...,x_{n}\\in[a,b]$, then there exists\n",
    "$c\\in(a,b)$ such that $f^{(n)}(c)=0$.\n",
    "\\end{theorem}"
   ]
  },
  {
   "cell_type": "markdown",
   "id": "aa8fa668",
   "metadata": {},
   "source": [
    "*Proof of Theorem \\ref{theo:chap3_thm58}*\n",
    "Consider the function $g(x)=p_{n}(x)-f(x).$ Observe that $g(x_{i})=0$\n",
    "for $i=0,1,...,n.$ From generalized Rolle's theorem, there exists\n",
    "$\\xi\\in(a,b)$ such that $g^{(n)}(\\xi)=0,$ which implies\n",
    "\\begin{equation*}\n",
    "p_{n}^{(n)}(\\xi)-f^{(n)}(\\xi)=0.\n",
    "\\end{equation*}\n",
    "Since $p_{n}(x)=f[x_{0}]+f[x_{0},x_{1}](x-x_{0})+\\cdots+f[x_{0},...,x_{n}](x-x_{0})\\cdots(x-x_{n-1})$,\n",
    "$p_{n}^{(n)}(x)$ equals $n!$ times the leading coefficient $f[x_{0},...,x_{n}].$\n",
    "Therefore\n",
    "\\begin{equation*}\n",
    "f^{(n)}(\\xi)=n!f[x_{0},...,x_{n}].\n",
    "\\end{equation*}"
   ]
  }
 ],
 "metadata": {
  "kernelspec": {
   "display_name": "Python 3 (ipykernel)",
   "language": "python",
   "name": "python3"
  },
  "language_info": {
   "codemirror_mode": {
    "name": "ipython",
    "version": 3
   },
   "file_extension": ".py",
   "mimetype": "text/x-python",
   "name": "python",
   "nbconvert_exporter": "python",
   "pygments_lexer": "ipython3",
   "version": "3.9.7"
  },
  "latex_envs": {
   "LaTeX_envs_menu_present": true,
   "autoclose": false,
   "autocomplete": true,
   "bibliofile": "biblio.bib",
   "cite_by": "apalike",
   "current_citInitial": 1,
   "eqLabelWithNumbers": true,
   "eqNumInitial": 1,
   "hotkeys": {
    "equation": "Ctrl-E",
    "itemize": "Ctrl-I"
   },
   "labels_anchors": false,
   "latex_user_defs": false,
   "report_style_numbering": false,
   "user_envs_cfg": false
  }
 },
 "nbformat": 4,
 "nbformat_minor": 5
}
