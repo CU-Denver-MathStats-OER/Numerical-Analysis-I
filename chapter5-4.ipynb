{
 "cells": [
  {
   "cell_type": "markdown",
   "id": "a40cea43",
   "metadata": {},
   "source": [
    "# 5.4 Multiple integrals"
   ]
  },
  {
   "cell_type": "markdown",
   "id": "7f3f9a14",
   "metadata": {},
   "source": [
    "The numerical quadrature methods we have discussed can be generalized\n",
    "to higher dimensional integrals. We will consider the two-dimensional\n",
    "integral\n",
    "\\begin{equation*}\n",
    "\\int\\int_{R}f(x,y)dA.\n",
    "\\end{equation*}\n",
    "The domain $R$ determines the difficulty in generalizing the one-dimensional\n",
    "formulas we learned before. The simplest case would be a rectangular\n",
    "domain $R=\\{(x,y)|a\\leq x\\leq b,c\\leq y\\leq d\\}$. We can then write\n",
    "the double integral as the iterated integral\n",
    "\\begin{equation*}\n",
    "\\int\\int_{R}f(x,y)dA=\\int_{a}^{b}\\left(\\int_{c}^{d}f(x,y)dy\\right)dx.\n",
    "\\end{equation*}\n",
    "Consider a numerical quadrature rule\n",
    "\\begin{equation*}\n",
    "\\int_{a}^{b}f(x)dx\\approx\\sum_{i=1}^{n}w_{i}f(x_{i}).\n",
    "\\end{equation*}\n",
    "Apply the rule using $n_{2}$ nodes to the inner integral to get the\n",
    "approximation\n",
    "\\begin{equation*}\n",
    "\\int_{a}^{b}\\left(\\sum_{j=1}^{n_{2}}w_{j}f(x,y_{j})\\right)dx\n",
    "\\end{equation*}\n",
    "where the $y_{j}$'s are the nodes. Rewrite, by interchanging the integral and summation, to get\n",
    "\\begin{equation*}\n",
    "\\sum_{j=1}^{n_{2}}w_{j}\\left(\\int_{a}^{b}f(x,y_{j})dx\\right)\n",
    "\\end{equation*}\n",
    "and apply the quadrature rule again, using $n_{1}$ nodes, to get\n",
    "the approximation\n",
    "\\begin{equation*}\n",
    "\\sum_{j=1}^{n_{2}}w_{j}\\left(\\sum_{i=1}^{n_{1}}w_{i}f(x_{i},y_{j})\\right).\n",
    "\\end{equation*}\n",
    "This gives the two-dimensional rule\n",
    "\\begin{equation*}\n",
    "\\int_{a}^{b}\\left(\\int_{c}^{d}f(x,y)dy\\right)dx\\approx\\sum_{j=1}^{n_{2}}\\sum_{i=1}^{n_{1}}w_{i}w_{j}f(x_{i},y_{j}).\n",
    "\\end{equation*}\n",
    "For simplicity, we ignored the error term in the above derivation;\n",
    "however, its inclusion is straightforward.\n",
    "\n",
    "For an example, let's derive the two-dimensional Gauss-Legendre rule for the integral\n",
    "\\begin{equation}\\label{eq:multiint-1}\n",
    "\\int_{0}^{1}\\int_{0}^{1}f(x,y)dydx\n",
    "\\end{equation}\n",
    "\n",
    "using two nodes for each axis. Note that each integral has to be transformed to\n",
    "$(-1,1).$ Start with the inner integral $\\int_{0}^{1}f(x,y)dy$ and use\n",
    "\\begin{equation*}\n",
    "t=2y-1, dt=2dy\n",
    "\\end{equation*}\n",
    "to transform it to\n",
    "\\begin{equation*}\n",
    "\\frac{1}{2}\\int_{-1}^{1}f\\left(x,\\frac{t+1}{2}\\right)dt\n",
    "\\end{equation*}\n",
    "and apply Gauss-Legendre rule with two nodes to get the approximation\n",
    "\\begin{equation*}\n",
    "\\frac{1}{2}\\left(f\\left(x,\\frac{-1/\\sqrt{3}+1}{2}\\right)+f\\left(x,\\frac{1/\\sqrt{3}+1}{2}\\right)\\right).\n",
    "\\end{equation*}\n",
    "Substitute this approximation in \\eqref{eq:multiint-1} for the inner integral to get\n",
    "\\begin{equation*}\n",
    "\\int_{0}^{1} \\frac{1}{2}\\left(f\\left(x,\\frac{-1/\\sqrt{3}+1}{2}\\right)+f\\left(x,\\frac{1/\\sqrt{3}+1}{2}\\right)\\right) dx.\n",
    "\\end{equation*}\n",
    "Now transform this integral to the domain $(-1,1)$ using\n",
    "\\begin{equation*}\n",
    "s=2x-1, ds=2dx\n",
    "\\end{equation*}\n",
    "to get\n",
    "\\begin{equation*}\n",
    "\\frac{1}{4} \\int_{-1}^{1}\\left(f\\left(\\frac{s+1}{2},\\frac{-1/\\sqrt{3}+1}{2}\\right)+f\\left(\\frac{s+1}{2},\\frac{1/\\sqrt{3}+1}{2}\\right)\\right) ds.\n",
    "\\end{equation*}\n",
    "Apply the Gauss-Legendre rule again to get\n",
    "\\begin{align}\n",
    "\\frac{1}{4}  \\Biggl[ & f\\left(\\frac{-1/\\sqrt{3}+1}{2},\\frac{-1/\\sqrt{3}+1}{2}\\right)+f\\left(\\frac{-1/\\sqrt{3}+1}{2},\\frac{1/\\sqrt{3}+1}{2}\\right) \\nonumber \\\\\n",
    "&+f\\left(\\frac{1/\\sqrt{3}+1}{2},\\frac{-1/\\sqrt{3}+1}{2}\\right)+f\\left(\\frac{1/\\sqrt{3}+1}{2},\\frac{1/\\sqrt{3}+1}{2}\\right)  \\Biggr].\\label{eq:compGaussresult}\n",
    "\\end{align}"
   ]
  },
  {
   "cell_type": "markdown",
   "id": "9c969a1b",
   "metadata": {},
   "source": [
    "The following figure displays the nodes used in this calculation."
   ]
  },
  {
   "cell_type": "markdown",
   "id": "f5966370",
   "metadata": {},
   "source": [
    "![Nodes of double Gauss-Legendre rule.](./images/Gaussiannodes.png)"
   ]
  },
  {
   "cell_type": "markdown",
   "id": "b03d2681",
   "metadata": {},
   "source": [
    "Next we derive the two-dimensional Simpson's\n",
    "rule for the same integral, $\\int_{0}^{1}\\int_{0}^{1}f(x,y)dydx,$ using $n=2$, which corresponds to three nodes in the Simpson's rule (recall that $n$ is the number of nodes in Gauss-Legendre rule, but $n+1$ is the number of nodes in Newton-Cotes formulas).\n",
    "\n",
    "The inner integral is approximated as\n",
    "\\begin{equation*}\n",
    "\\int_0^1 f(x,y)dy \\approx \\frac{1}{6} \\left( f(x,0)+4f(x,0.5)+f(x,1) \\right).\n",
    "\\end{equation*}\n",
    "Substitute this approximation for the inner integral in $\\int_{0}^{1}\\left(\\int_{0}^{1}f(x,y)dy\\right)dx$ to get\n",
    "\\begin{equation*}\n",
    "\\frac{1}{6} \\int_0^1 \\left( f(x,0)+4f(x,0.5)+f(x,1) \\right) dx.\n",
    "\\end{equation*}\n",
    "Apply Simpson's rule again to this integral with $n=2$ to obtain the final approximation:\n",
    "\n",
    "\\begin{equation}\\label{eq:compSimpresult}\n",
    "\\frac{1}{6} \\Biggl[ \\frac{1}{6} \\biggl( f(0,0)+4f(0,0.5)+f(0,1)+4(f(0.5,0)+4f(0.5,0.5)+f(0.5,1))\n",
    "+f(1,0)+4f(1,0.5)+f(1,1) \\biggr) \\Biggr].\n",
    "\\end{equation}"
   ]
  },
  {
   "cell_type": "markdown",
   "id": "cd755de2",
   "metadata": {},
   "source": [
    "The following figure displays the nodes used in the above calculation.\n",
    "\n",
    "![Nodes of double Simpson's rule](./images/d_SimpsonNodes.png)"
   ]
  },
  {
   "cell_type": "markdown",
   "id": "61daebed",
   "metadata": {},
   "source": [
    "For a specific example, consider the integral\n",
    "\\begin{equation*}\n",
    "\\int_0^1 \\int_0^1 \\left(\\frac{\\pi}{2} \\sin \\pi x \\right)\\left(\\frac{\\pi}{2} \\sin \\pi y \\right) dy dx.\n",
    "\\end{equation*}\n",
    "This integral can be evaluated exactly, and its value is 1. It is used as a test integral for numerical quadrature rules. Evaluating Equations \\eqref{eq:compGaussresult} and \\eqref{eq:compSimpresult} with $f(x,y)= \\left(\\frac{\\pi}{2} \\sin \\pi x \\right)\\left(\\frac{\\pi}{2} \\sin \\pi y \\right)$, we obtain the approximations given in the table below:\n",
    "\n",
    "\\begin{equation*}\n",
    "\\begin{array}{ccc}\n",
    "\\text{Simpson's rule (9 nodes)} & \\text{Gauss-Legendre (4 nodes)} & \\text{Exact integral}\\\\\n",
    "\\hline\n",
    "1.0966& 0.93685 & 1\\\\\n",
    "\\hline\n",
    "\\end{array}\n",
    "\\end{equation*}\n",
    "\n",
    "The Gauss-Legendre rule gives a slightly better estimate than Simpson's rule, but using less than half the number of nodes.\n",
    "\n",
    "The approach we have discussed can be extended to regions that are\n",
    "not rectangular, and to higher dimensions. More details, including algorithms for double and triple integrals using Simpson's and\n",
    "Gauss-Legendre rule, can be found in Burden et al. [2016].\n",
    "\n",
    "There is however, an obvious disadvantage of the way we have generalized\n",
    "one-dimensional quadrature rules to higher dimensions. Imagine a numerical\n",
    "integration problem where the dimension is 360; such high dimensions\n",
    "appear in some problems from financial engineering. Even if we used\n",
    "two nodes for each dimension, the total number of nodes would be $2^{360}$,\n",
    "which is about $10^{100},$ a number too large. In very large dimensions,\n",
    "the only general method for numerical integration is the Monte Carlo\n",
    "method. In Monte Carlo, we generate pseudorandom numbers from the\n",
    "domain, and evaluate the function average at those points. In other\n",
    "words,\n",
    "\\begin{equation*}\n",
    "\\int_{R}f(\\boldsymbol{x})d\\boldsymbol{x}\\approx\\frac{\\text{Vol}(R)}{n}\\sum_{i=1}^{n}f(\\boldsymbol{x}_{i})\n",
    "\\end{equation*}\n",
    "where $\\boldsymbol{x}_{i}$ are pseudorandom vectors uniformly distributed in $R$.\n",
    "For the two-dimensional integral we discussed before, the Monte Carlo\n",
    "estimate is\n",
    "\\begin{equation}\\label{eq:MC_est}\n",
    "\\int_{a}^{b}\\int_{c}^{d}f(x,y)dydx\\approx\\frac{(b-a)(d-c)}{n}\\sum_{i=1}^{n}f(a+(b-a)x_{i},c+(d-c)y_{i})\n",
    "\\end{equation}\n",
    "where $x_{i},y_{i}$ are pseudorandom numbers from $(0,1)$. In Python, the function **np.random.rand()** generates a pseudorandom number from the uniform distribution between 0 and 1. The following code takes the endpoints of the intervals $a,b,c,d$, and the number of nodes $n$ (which is called the sample size in the Monte Carlo literature) as inputs, and returns the estimate for the integral using Equation \\eqref{eq:MC_est}."
   ]
  },
  {
   "cell_type": "code",
   "execution_count": null,
   "id": "e69b630e",
   "metadata": {},
   "outputs": [],
   "source": [
    "import numpy as np"
   ]
  },
  {
   "cell_type": "code",
   "execution_count": null,
   "id": "a119d729",
   "metadata": {},
   "outputs": [],
   "source": [
    "def mc(f, a, b, c, d, n):\n",
    "    sum = 0.\n",
    "    for i in range(n):\n",
    "        sum += f(a+(b-a)*np.random.rand(),\n",
    "                 c+(d-c)*np.random.rand())*(b-a)*(d-c)\n",
    "    return sum/n"
   ]
  },
  {
   "cell_type": "markdown",
   "id": "a8355935",
   "metadata": {},
   "source": [
    "Now we use Monte Carlo to estimate the integral $\\int_0^1 \\int_0^1 \\left(\\frac{\\pi}{2} \\sin \\pi x \\right)\\left(\\frac{\\pi}{2} \\sin \\pi y \\right) dy dx$:"
   ]
  },
  {
   "cell_type": "code",
   "execution_count": null,
   "id": "774e4d6e",
   "metadata": {},
   "outputs": [],
   "source": [
    "mc(lambda x,y: (np.pi**2/4)*np.sin(np.pi*x)*np.sin(np.pi*y),\n",
    "   0, 1, 0, 1, 500)"
   ]
  },
  {
   "cell_type": "markdown",
   "id": "9a21ce28",
   "metadata": {},
   "source": [
    "With $n=500$,\n",
    "we obtain a Monte Carlo estimate of 0.944178. An advantage of the Monte Carlo method is its simplicity: the above code can be easily generalized to higher dimensions.\n",
    "A disadvantage of Monte Carlo is its slow rate of convergence,\n",
    "which is $O(1/\\sqrt{n}$). The following figure displays\n",
    "500 pseudorandom vectors from the unit square."
   ]
  },
  {
   "cell_type": "markdown",
   "id": "55e47c70",
   "metadata": {},
   "source": [
    "![Monte Carlo: 500 pseudorandom vectors](./images/randomplot.png)"
   ]
  },
  {
   "cell_type": "markdown",
   "id": "a0601cdb",
   "metadata": {},
   "source": [
    "\\begin{example}\\label{example:chap4_exa81}\n",
    "Capstick and Keister [1996] discuss some high dimensional test integrals, some with analytical solutions, motivated by physical applications such as the calculation of quantum mechanical matrix elements in atomic, nuclear, and particle physics. One of the integrals with a known solution is\n",
    "\n",
    "\\begin{equation*}\n",
    "\\int_{\\mathbb{R}^s} \\cos (||\\boldsymbol{t}||)) e^{-||\\boldsymbol{t}||^2} dt_1 dt_2 \\dotsb dt_s\n",
    "\\end{equation*}\n",
    "where $||\\boldsymbol{t}||=(t_1^2+\\dotsc +t_s^2)^{1/2}$. This integral can be transformed to an integral over the $s$-dimensional unit cube as\n",
    "\\begin{equation}\\label{eq:capstick_test}\n",
    "\\pi^{s/2} \\int_{(0,1)^s} \\cos \\left[ \\left( \\frac{(F^{-1}(x_1))^2+\\dotsc +(F^{-1}(x_s))^2}{2} \\right)^{1/2} \\right] dx_1 dx_2 \\dotsb dx_s\n",
    "\\end{equation}\n",
    "where $F^{-1}$ is the inverse of the cumulative distribution function of the standard normal distribution:\n",
    "\\begin{equation*}\n",
    "F(x)=\\frac{1}{(2\\pi)^{1/2}} \\int_{-\\infty}^x e^{-w^2/2}dw.\n",
    "\\end{equation*}\n",
    "We will estimate the integral \\eqref{eq:capstick_test} by Monte Carlo as\n",
    "\\begin{equation*}\n",
    "\\frac{\\pi^{s/2}}{n} \\sum_{i=1}^n \\cos \\left[ \\left( \\frac{(F^{-1}(x^{(i)}_1))^2+\\dotsc +(F^{-1}(x^{(i)}_s))^2}{2} \\right)^{1/2} \\right]\n",
    "\\end{equation*}\n",
    "where $\\boldsymbol{x}^{(i)}=(x^{(i)}_1, \\dotsc, x^{(i)}_s)$ is an $s$-dimensional vector of uniform random numbers between 0 and 1.\n",
    "\\end{example}"
   ]
  },
  {
   "cell_type": "code",
   "execution_count": null,
   "id": "76dbb93d",
   "metadata": {},
   "outputs": [],
   "source": [
    "import numpy as np"
   ]
  },
  {
   "cell_type": "code",
   "execution_count": null,
   "id": "155c9f4b",
   "metadata": {},
   "outputs": [],
   "source": [
    "import matplotlib.pyplot as plt\n",
    "%matplotlib inline"
   ]
  },
  {
   "cell_type": "markdown",
   "id": "a283e7ca",
   "metadata": {},
   "source": [
    "The following algorithm, known as the Beasley-Springer-Moro algorithm Glasserman [2013], gives\n",
    "an approximation to $F^{-1}(x)$."
   ]
  },
  {
   "cell_type": "code",
   "execution_count": null,
   "id": "aedd427e",
   "metadata": {},
   "outputs": [],
   "source": [
    "def invNormal(u):\n",
    "    # Beasley-Springer-Moro algorithm\n",
    "    a0 = 2.50662823884\n",
    "    a1 = -18.61500062529\n",
    "    a2 = 41.39119773534\n",
    "    a3 = -25.44106049637\n",
    "    b0 = -8.47351093090\n",
    "    b1 = 23.08336743743\n",
    "    b2 = -21.06224101826\n",
    "    b3 = 3.13082909833\n",
    "    c0 = 0.3374754822726147\n",
    "    c1 = 0.9761690190917186\n",
    "    c2 = 0.1607979714918209\n",
    "    c3 = 0.0276438810333863\n",
    "    c4 = 0.0038405729373609\n",
    "    c5 = 0.0003951896511919\n",
    "    c6 = 0.0000321767881768\n",
    "    c7 = 0.0000002888167364\n",
    "    c8 = 0.0000003960315187\n",
    "    \n",
    "    y = u-0.5\n",
    "    if np.abs(y)<0.42:\n",
    "        r = y*y\n",
    "        x = y*(((a3*r+a2)*r+a1)*r+a0)/((((b3*r+b2)*r+b1)*r+b0)*r+1)\n",
    "    else:\n",
    "        r = u\n",
    "        if y>0:\n",
    "            r = 1-u\n",
    "        r = np.log(-np.log(r))\n",
    "        x = c0+r*(c1+r*(c2+r*(c3+r*(c4+r*(c5+r*(c6+r*(c7+r*c8)))))))\n",
    "        if y<0:\n",
    "            x = -x\n",
    "    return x"
   ]
  },
  {
   "cell_type": "markdown",
   "id": "ae044f46",
   "metadata": {},
   "source": [
    "The following is the Monte Carlo estimate of the integral. It takes the\n",
    "dimension $s$ and the sample size $n$ as inputs."
   ]
  },
  {
   "cell_type": "code",
   "execution_count": null,
   "id": "8b516c81",
   "metadata": {},
   "outputs": [],
   "source": [
    "def mc(s, n):\n",
    "    est = 0\n",
    "    for j in range(n):\n",
    "        sum = 0\n",
    "        for i in range(s):\n",
    "            sum += (invNormal(np.random.rand()))**2\n",
    "        est += np.cos((sum/2)**0.5)\n",
    "    return np.pi**(s/2)*est/n"
   ]
  },
  {
   "cell_type": "markdown",
   "id": "5769052d",
   "metadata": {},
   "source": [
    "The exact value of the integral for $s=25$ is $1.356914\\times 10^6$. The\n",
    "following code computes the relative error of the Monte Carlo estimate\n",
    "with sample size $n$."
   ]
  },
  {
   "cell_type": "code",
   "execution_count": null,
   "id": "757def5c",
   "metadata": {},
   "outputs": [],
   "source": [
    "relerror = lambda n: np.abs(mc(25,n)+1.356914*10**6)/(1.356914*10**6)"
   ]
  },
  {
   "cell_type": "markdown",
   "id": "d5c2f270",
   "metadata": {},
   "source": [
    "Let's plot the relative error of some Monte Carlo estimates. First, we\n",
    "generate sample sizes from 50,000 to 1,000,000 in increments of 50,000."
   ]
  },
  {
   "cell_type": "code",
   "execution_count": null,
   "id": "38767aeb",
   "metadata": {},
   "outputs": [],
   "source": [
    "samples = [n for n in range(50000,1000001, 50000)]"
   ]
  },
  {
   "cell_type": "markdown",
   "id": "da96a0e7",
   "metadata": {},
   "source": [
    "For each sample size, we compute the relative error, and then plot the\n",
    "results."
   ]
  },
  {
   "cell_type": "code",
   "execution_count": null,
   "id": "ac9807e3",
   "metadata": {},
   "outputs": [],
   "source": [
    "error = [relerror(n) for n in samples]"
   ]
  },
  {
   "cell_type": "code",
   "execution_count": null,
   "id": "95ae3760",
   "metadata": {},
   "outputs": [],
   "source": [
    "plt.plot(samples, error)\n",
    "plt.xlabel('Sample size (n)')\n",
    "plt.ylabel('Relative error');"
   ]
  },
  {
   "cell_type": "markdown",
   "id": "6037775b",
   "metadata": {},
   "source": [
    "![Monte Carlo relative error for the integral \\eqref{eq:capstick_test}.](./images/mc_capstick.png)"
   ]
  },
  {
   "cell_type": "markdown",
   "id": "f9dfd969",
   "metadata": {},
   "source": [
    "**References**"
   ]
  },
  {
   "cell_type": "markdown",
   "id": "491ed7be",
   "metadata": {},
   "source": [
    "R.L. Burden, D. Faires, and A.M. Burden. Numerical Analysis. Cengate, 10th edition, 2016.\n",
    "\n",
    "S. Capstick and B.D. Keister. Multidimensional quadrature algorithms at higher degree and/or dimension. Journal of Computational Physics, 123:267–273, 1996.\n",
    "\n",
    "P. Glasserman. Monte Carlo methods in Financial Engineering. Springer, 2013."
   ]
  }
 ],
 "metadata": {
  "kernelspec": {
   "display_name": "Python 3 (ipykernel)",
   "language": "python",
   "name": "python3"
  },
  "language_info": {
   "codemirror_mode": {
    "name": "ipython",
    "version": 3
   },
   "file_extension": ".py",
   "mimetype": "text/x-python",
   "name": "python",
   "nbconvert_exporter": "python",
   "pygments_lexer": "ipython3",
   "version": "3.10.11"
  },
  "latex_envs": {
   "LaTeX_envs_menu_present": true,
   "autoclose": false,
   "autocomplete": true,
   "bibliofile": "biblio.bib",
   "cite_by": "apalike",
   "current_citInitial": 1,
   "eqLabelWithNumbers": true,
   "eqNumInitial": 1,
   "hotkeys": {
    "equation": "Ctrl-E",
    "itemize": "Ctrl-I"
   },
   "labels_anchors": false,
   "latex_user_defs": false,
   "report_style_numbering": false,
   "user_envs_cfg": false
  }
 },
 "nbformat": 4,
 "nbformat_minor": 5
}
