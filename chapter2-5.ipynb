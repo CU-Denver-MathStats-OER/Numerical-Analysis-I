{
 "cells": [
  {
   "cell_type": "markdown",
   "id": "f1c415c3",
   "metadata": {},
   "source": [
    "# 2.5 Muller's method"
   ]
  },
  {
   "cell_type": "markdown",
   "id": "d65e51cb",
   "metadata": {},
   "source": [
    "The secant method uses a linear function that passes through $(p_{0},f(p_{0}))$\n",
    "and $(p_{1},f(p_{1}))$ to find the next iterate $p_{2}.$ Muller's\n",
    "method takes three initial approximations, passes a parabola (quadratic\n",
    "polynomial) through $(p_{0},f(p_{0})),$ $(p_{1},f(p_{1}))$, $(p_{2},f(p_{2}))$,\n",
    "and uses **one** of the roots of the polynomial as the next iterate.\n",
    "\n",
    "Let the quadratic polynomial be written in the following form"
   ]
  },
  {
   "cell_type": "markdown",
   "id": "6d2a726f",
   "metadata": {},
   "source": [
    "\\begin{equation}\\label{eq:muller poly}\n",
    "P(x)=a(x-p_{2})^{2}+b(x-p_{2})+c.\n",
    "\\end{equation}\n",
    "\n",
    "Solve the following equations for $a,b,c$\n",
    "\\begin{align*}\n",
    "P(p_{0})=f(p_{0}) & =a(p_{0}-p_{2})^{2}+b(p_{0}-p_{2})+c\\\\\n",
    "P(p_{1})=f(p_{1}) & =a(p_{1}-p_{2})^{2}+b(p_{1}-p_{2})+c\\\\\n",
    "P(p_{2})=f(p_{2}) & =c\n",
    "\\end{align*}\n",
    "to get\n",
    "\\begin{align}\\label{eq:mullercoeff}\n",
    "c & =f(p_{2}) \\nonumber \\\\\n",
    "b & = \\frac{(p_0-p_2)(f(p_1)-f(p_2))}{(p_1-p_2)(p_0-p_1)}-\\frac{(p_1-p_2)(f(p_0)-f(p_2))}{(p_0-p_2)(p_0-p_1)}\\\\\n",
    "%b & =\\frac{(p_{0}-p_{2})^{2}\\left(f(p_{1})-f(p_{2})\\right)-(p_{1}-p_{2})^{2}\\left(f(p_{0})-f(p_{2})\\right)}{(p_{0}-p_{2})(p_{1}-p_{2})(p_{0}-p_{1})}\\\\\n",
    "a &= \\frac{f(p_0)-f(p_2)}{(p_0-p_2)(p_0-p_1)}-\\frac{f(p_1)-f(p_2)}{(p_1-p_2)(p_0-p_1)}.\\nonumber\n",
    "%a & =\\frac{(p_{1}-p_{2})\\left(f(p_{0})-f(p_{2})\\right)-(p_{0}-p_{2})\\left(f(p_{1})-f(p_{2})\\right)}{(p_{0}-p_{2})(p_{1}-p_{2})(p_{0}-p_{1})}.\n",
    "\\end{align}\n",
    "\n",
    "Now that we have determined $P(x)$, the next step is to solve $P(x)=0$, and set the next iterate $p_{3}$ to its solution. To this end, put\n",
    "$w=x-p_{2}$ in \\eqref{eq:muller poly} to rewrite the quadratic equation as\n",
    "\\begin{equation*}\n",
    "aw^{2}+bw+c=0.\n",
    "\\end{equation*}\n",
    "From the quadratic formula, we obtain the roots\n",
    "\\begin{equation}\\label{eq:muller_sqrt}\n",
    "\\hat{w}=\\hat{x}-p_{2}=\\frac{-2c}{b\\pm\\sqrt{b^{2}-4ac}}.\n",
    "\\end{equation}\n",
    "\n",
    "Let $\\Delta=b^2-4ac$. We have two roots (which could be complex numbers), $-2c/(b+\\sqrt{\\Delta})$ and $-2c/(b-\\sqrt{\\Delta})$, and we need to pick one of them. We will pick the root that is closer to $p_2$, in other words, the root that makes $|\\hat{x}-p_2|$ the smallest. (If the numbers are complex, the absolute value means the norm of the complex number.) Therefore we have\n",
    "\\begin{equation}\\label{eq:muller_abs}\n",
    "\\hat{x}-p_2 =\n",
    "\\begin{cases}\n",
    "\\frac{-2c}{b+\\sqrt{\\Delta}} & \\text{if } |b+\\sqrt{\\Delta}|>|b-\\sqrt{\\Delta}|\\\\\n",
    "\\frac{-2c}{b-\\sqrt{\\Delta}} & \\text{if } |b+\\sqrt{\\Delta}|\\leq |b-\\sqrt{\\Delta}|\n",
    "\\end{cases}.\n",
    "\\end{equation}\n",
    "\n",
    "The next iterate of Muller's method, $p_3$, is set to the value of $\\hat{x}$ obtained from the above calculation, that is,\n",
    "\\begin{equation*}\n",
    "p_3=\\hat{x} =\n",
    "\\begin{cases}\n",
    "p_2-\\frac{2c}{b+\\sqrt{\\Delta}} & \\text{if } |b+\\sqrt{\\Delta}|>|b-\\sqrt{\\Delta}|\\\\\n",
    "p_2-\\frac{2c}{b-\\sqrt{\\Delta}} & \\text{if } |b+\\sqrt{\\Delta}|\\leq |b-\\sqrt{\\Delta}|\n",
    "\\end{cases}.\n",
    "\\end{equation*}"
   ]
  },
  {
   "cell_type": "markdown",
   "id": "84b9bd39",
   "metadata": {},
   "source": [
    "\\begin{remark}\\label{rem:chap2_rem36}\n",
    "\\begin{enumerate}\n",
    "\n",
    "\\item Muller's method can find real as well as complex roots.\n",
    "\\item The convergence of Muller's method is superlinear, that is,\n",
    "   \\begin{equation*}\n",
    "   \\lim_{n\\rightarrow\\infty}\\frac{|p-p_{n+1}|}{|p-p_{n}|^{\\alpha}}=\\left|\\frac{f^{(3)}(p)}{6f'(p)}\\right|^{\\frac{\\alpha-1}{2}}\n",
    "   \\end{equation*} \n",
    "   where $\\alpha\\approx1.84$, provided $f\\in C^{3}[a,b],p\\in(a,b)$, and $f'(p)\\neq0$.\n",
    "\\item Muller's method converges for a variety of starting values even though pathological examples that do not yield convergence can be found (for example, when the three starting values fall on a line).\n",
    "\\end{enumerate}\n",
    "\\end{remark}"
   ]
  },
  {
   "cell_type": "markdown",
   "id": "af690b35",
   "metadata": {},
   "source": [
    "## Python code for Muller's method"
   ]
  },
  {
   "cell_type": "markdown",
   "id": "3c0c2d2f",
   "metadata": {},
   "source": [
    "The following Python code takes initial guesses $p_0,p_1,p_2$ (written as *pzero, pone, ptwo* in the code), computes the coefficients $a,b,c$ from Equation (2), and sets the root $p_3$ to $p$. It then updates the three initial guesses as the last three iterates, and continues until the stopping criterion is satisfied.\n",
    "\n",
    "We need to compute the square root, and the absolute value, of possibly complex numbers in Equations \\eqref{eq:muller_sqrt}  and \\eqref{eq:muller_abs}. The Python function for the square root of a possibly complex number $z$ is $\\text{complex(z)}^{0.5}$, and its absolute value is **np.abs(z)**."
   ]
  },
  {
   "cell_type": "code",
   "execution_count": 3,
   "id": "e78a427a",
   "metadata": {},
   "outputs": [],
   "source": [
    "import numpy as np\n",
    "def muller(f, pzero, pone, ptwo, eps, N):\n",
    "    n = 1\n",
    "    p = 0\n",
    "    while n <= N:\n",
    "        c = f(ptwo)\n",
    "        b1 = (pzero-ptwo) * (f(pone)-f(ptwo)) / ((pone-ptwo)*(pzero-pone))\n",
    "        b2 = (pone-ptwo) * (f(pzero)-f(ptwo)) / ((pzero-ptwo)*(pzero-pone))\n",
    "        b = b1 - b2\n",
    "        a1 = (f(pzero)-f(ptwo)) / ((pzero-ptwo)*(pzero-pone))\n",
    "        a2 = (f(pone)-f(ptwo)) / ((pone-ptwo)*(pzero-pone))\n",
    "        a = a1 - a2\n",
    "        d = (complex(b**2-4*a*c))**0.5\n",
    "        if np.abs(b-d) < np.abs(b+d):\n",
    "            inc = 2*c/(b+d)\n",
    "        else:\n",
    "            inc = 2*c/(b-d)\n",
    "        p = ptwo - inc\n",
    "        if np.isclose(f(p), 0) or np.abs(p-ptwo)<eps:\n",
    "            print('p is ', p, ' and the iteration number is ', n)\n",
    "            return\n",
    "        pzero = pone\n",
    "        pone = ptwo\n",
    "        ptwo = p\n",
    "        n += 1\n",
    "    y = f(p)\n",
    "    print('Method did not converge. The last iteration gives ', \n",
    "          p, ' with function value ', y)"
   ]
  },
  {
   "cell_type": "markdown",
   "id": "85ebc86e",
   "metadata": {},
   "source": [
    " The polynomial $x^5+2x^3-5x-2$ has three real roots, and two complex\n",
    "roots that are conjugates. Let's find them all, by experimenting with\n",
    "various initial guesses."
   ]
  },
  {
   "cell_type": "code",
   "execution_count": 4,
   "id": "851b503e",
   "metadata": {},
   "outputs": [
    {
     "name": "stdout",
     "output_type": "stream",
     "text": [
      "p is  (1.3196411677283386+0j)  and the iteration number is  4\n"
     ]
    }
   ],
   "source": [
    "muller(lambda x: x**5+2*x**3-5*x-2, 0.5, 1.0, 1.5, 1e-5, 10)"
   ]
  },
  {
   "cell_type": "code",
   "execution_count": 5,
   "id": "db0a3a99",
   "metadata": {
    "scrolled": true
   },
   "outputs": [
    {
     "name": "stdout",
     "output_type": "stream",
     "text": [
      "p is  (-0.43641313299908585+0j)  and the iteration number is  5\n"
     ]
    }
   ],
   "source": [
    "muller(lambda x: x**5+2*x**3-5*x-2, 0.5, 0, -0.1, 1e-5, 10)"
   ]
  },
  {
   "cell_type": "code",
   "execution_count": 6,
   "id": "6950dec2",
   "metadata": {},
   "outputs": [
    {
     "name": "stdout",
     "output_type": "stream",
     "text": [
      "p is  (-1+0j)  and the iteration number is  1\n"
     ]
    }
   ],
   "source": [
    "muller(lambda x: x**5+2*x**3-5*x-2, 0, -0.1, -1, 1e-5, 10)"
   ]
  },
  {
   "cell_type": "code",
   "execution_count": 7,
   "id": "7f20d5f5",
   "metadata": {},
   "outputs": [
    {
     "name": "stdout",
     "output_type": "stream",
     "text": [
      "p is  (0.05838598289491982+1.8626227582154478j)  and the iteration number is  18\n"
     ]
    }
   ],
   "source": [
    "muller(lambda x: x**5+2*x**3-5*x-2, 5, 10, 15, 1e-5, 20)"
   ]
  }
 ],
 "metadata": {
  "kernelspec": {
   "display_name": "Python 3 (ipykernel)",
   "language": "python",
   "name": "python3"
  },
  "language_info": {
   "codemirror_mode": {
    "name": "ipython",
    "version": 3
   },
   "file_extension": ".py",
   "mimetype": "text/x-python",
   "name": "python",
   "nbconvert_exporter": "python",
   "pygments_lexer": "ipython3",
   "version": "3.9.7"
  },
  "latex_envs": {
   "LaTeX_envs_menu_present": true,
   "autoclose": false,
   "autocomplete": true,
   "bibliofile": "biblio.bib",
   "cite_by": "apalike",
   "current_citInitial": 1,
   "eqLabelWithNumbers": true,
   "eqNumInitial": 1,
   "hotkeys": {
    "equation": "Ctrl-E",
    "itemize": "Ctrl-I"
   },
   "labels_anchors": false,
   "latex_user_defs": false,
   "report_style_numbering": false,
   "user_envs_cfg": false
  }
 },
 "nbformat": 4,
 "nbformat_minor": 5
}
