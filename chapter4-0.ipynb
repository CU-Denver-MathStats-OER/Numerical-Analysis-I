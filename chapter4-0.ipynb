{
 "cells": [
  {
   "cell_type": "markdown",
   "id": "b44d3722",
   "metadata": {},
   "source": [
    "# Chapter 4 Interpolation"
   ]
  },
  {
   "cell_type": "markdown",
   "id": "60ac2661",
   "metadata": {},
   "source": [
    "In this chapter, we will study the following problem: given data $(x_{i},y_{i}),i=0,1,...,n$,\n",
    "find a function $f$ such that $f(x_{i})=y_{i}.$ This problem is called the interpolation problem, and $f$ is called\n",
    "the interpolating function, or interpolant, for the given data.\n",
    "\n",
    "Interpolation is used, for example, when we use mathematical software to plot a smooth curve through discrete data points, when we want to find the in-between values in a table, or when we differentiate or integrate black-box type functions.\n",
    "\n",
    "How do we choose $f$? Or, what kind of function do we want $f$ to be? There are several options. Examples of functions used in interpolation are polynomials, piecewise polynomials, rational functions, trigonometric functions, and exponential functions. As we try to find a good choice for $f$ for our data, some questions to consider are whether we want $f$ to inherit the properties of the data (for example, if the data is periodic, should we use a trigonometric function as $f$?), and how we want $f$ to behave between data points. In general $f$ should be easy to evaluate, and easy to integrate \\& differentiate.\n",
    "\n",
    "Here is a general framework for the interpolation problem. We are given data, and we pick a family of functions from which the interpolant $f$ will be chosen:\n",
    "\n",
    "- Data: $(x_{i},y_{i}),i=0,1,...,n$\n",
    "- Family: Polynomials, trigonometric functions, etc.\n",
    "\n",
    "Suppose the family of functions selected forms a vector space. Pick\n",
    "a basis for the vector space: $\\phi_{0}(x),\\phi_{1}(x),...,\\phi_{n}(x).$\n",
    "Then the interpolating function can be written as a linear combination\n",
    "of the basis vectors (functions):\n",
    "\\begin{equation*}\n",
    "f(x)=\\sum_{k=0}^{n}a_{k}\\phi_{k}(x).\n",
    "\\end{equation*}\n",
    "We want $f$ to pass through the data points, that is, $f(x_i)=y_i$. Then determine $a_{k}$ so that:\n",
    "\\begin{equation*}\n",
    "f(x_{i})=\\sum_{k=0}^{n}a_{k}\\phi_{k}(x_{i})=y_{i},i=0,1,...,n,\n",
    "\\end{equation*}\n",
    "which is a system of $n+1$ equations with $n+1$ unknowns.\n",
    "Using matrices, the problem is to solve the matrix equation\n",
    "\\begin{equation*}\n",
    "Aa=y\n",
    "\\end{equation*}\n",
    "for $a$,  where\n",
    "\\begin{equation*}\n",
    "A=\\begin{bmatrix}\\phi_{0}(x_{0}) & ... & \\phi_{n}(x_{0})\\\\\n",
    "\\phi_{0}(x_{1}) & ... & \\phi_{n}(x_{1})\\\\\n",
    "\\vdots  & \\vdots & \\vdots \\\\\n",
    "\\phi_{0}(x_{n}) & ... & \\phi_{n}(x_{n})\n",
    "\\end{bmatrix},a=\\begin{bmatrix}a_{0}\\\\\n",
    "a_{1}\\\\\n",
    "\\vdots\\\\\n",
    "a_{n}\n",
    "\\end{bmatrix},y=\\begin{bmatrix}y_{0}\\\\\n",
    "y_{1}\\\\\n",
    "\\vdots\\\\\n",
    "y_{n}\n",
    "\\end{bmatrix}.\n",
    "\\end{equation*}"
   ]
  },
  {
   "cell_type": "code",
   "execution_count": null,
   "id": "aa19fc3e",
   "metadata": {},
   "outputs": [],
   "source": []
  }
 ],
 "metadata": {
  "kernelspec": {
   "display_name": "Python 3 (ipykernel)",
   "language": "python",
   "name": "python3"
  },
  "language_info": {
   "codemirror_mode": {
    "name": "ipython",
    "version": 3
   },
   "file_extension": ".py",
   "mimetype": "text/x-python",
   "name": "python",
   "nbconvert_exporter": "python",
   "pygments_lexer": "ipython3",
   "version": "3.9.7"
  },
  "latex_envs": {
   "LaTeX_envs_menu_present": true,
   "autoclose": false,
   "autocomplete": true,
   "bibliofile": "biblio.bib",
   "cite_by": "apalike",
   "current_citInitial": 1,
   "eqLabelWithNumbers": true,
   "eqNumInitial": 1,
   "hotkeys": {
    "equation": "Ctrl-E",
    "itemize": "Ctrl-I"
   },
   "labels_anchors": false,
   "latex_user_defs": false,
   "report_style_numbering": false,
   "user_envs_cfg": false
  }
 },
 "nbformat": 4,
 "nbformat_minor": 5
}
