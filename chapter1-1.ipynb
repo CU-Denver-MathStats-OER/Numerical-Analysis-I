{
 "cells": [
  {
   "cell_type": "markdown",
   "id": "649b7f8c",
   "metadata": {},
   "source": [
    "## 1.1 Review of Calculus"
   ]
  },
  {
   "cell_type": "markdown",
   "id": "ffbc9377",
   "metadata": {},
   "source": [
    "There are several concepts and facts from Calculus that we need in Numerical Analysis. In this section we will list some definitions and theorems that will be needed later. For the most part functions in this book refer to real valued functions defined on real numbers $\\mathbf{R}$, or an interval $(a,b)\\subset\\mathbf{R}$."
   ]
  },
  {
   "cell_type": "markdown",
   "id": "736ba73c",
   "metadata": {},
   "source": [
    "\\begin{definition}\n",
    "1. A function $f$ has the limit $L$ at $x_{0}$, written as $\\lim_{x\\rightarrow x_{0}}f(x)=L,$ if for any $\\epsilon>0,$ there exists $\\delta>0$ such that $|f(x)-L|<\\epsilon$ whenever $0<|x-x_{0}|<\\delta$.\n",
    "\n",
    "2. A function $f$ is continuous at $x_{0}$ if $\\lim_{x\\rightarrow x_{0}}f(x)=f(x_{0}),$ and $f$ is continuous on a set $A$ if it is continuous at each $x_{0}\\in A$.\n",
    "\n",
    "3. Let $\\{x_{n}\\}_{n=1}^{\\infty}$ be an infinite sequence of real numbers. The sequence has the limit $x,$ i.e., $\\lim_{n\\rightarrow\\infty}x_{n}=x$ (or, written as $x_{n}\\rightarrow x$ as $n\\rightarrow\\infty)$ if for any $\\epsilon>0,$ there exists an integer $N>0$ such that $|x_{n}-x|<\\epsilon$ whenever $n>N$.\n",
    "\\end{definition}"
   ]
  },
  {
   "cell_type": "markdown",
   "id": "7ed46c0f",
   "metadata": {},
   "source": [
    "\\begin{theorem}\n",
    "The following are equivalent for a real valued function $f$:\n",
    "\n",
    "1. $f$ is continuous at $x_{0}$\n",
    "2. If $\\{x_{n}\\}_{n=1}^{\\infty}$ is any sequence converging to $x_{0},$\n",
    "then $\\lim_{n\\rightarrow\\infty}f(x_{n})=f(x_{0})$.\n",
    "\\end{theorem}\n"
   ]
  },
  {
   "cell_type": "markdown",
   "id": "2b6f18a4",
   "metadata": {},
   "source": [
    "\\begin{definition}\n",
    "We say $f(x)$ is differentiable at $x_{0}$ if\n",
    "\\begin{equation*}\n",
    "f'(x_{0})=\\lim_{x\\rightarrow x_{0}}\\frac{f(x)-f(x_{0})}{x-x_{0}}=\\lim_{h\\rightarrow0}\\frac{f(x_{0}+h)-f(x_{0})}{h}\n",
    "\\end{equation*}\n",
    "exists.\n",
    "\\end{definition}"
   ]
  },
  {
   "cell_type": "markdown",
   "id": "e12e3366",
   "metadata": {},
   "source": [
    "**Notation:**\n",
    "\n",
    "$C^{n}(A)$ denotes the set of all functions $f$ such that $f$ and its first $n$ derivatives are continuous on $A.$ If $f$ is only continuous on\n",
    "$A$, then we write $f\\in C^{0}(A).$ $C^{\\infty}(A)$ consists of\n",
    "functions that have derivatives of all orders, for example, $f(x)=\\sin x$\n",
    "or $f(x)=e^{x}$."
   ]
  },
  {
   "cell_type": "markdown",
   "id": "c55e1a93",
   "metadata": {},
   "source": [
    "The following well-known theorems of Calculus will often be used in the remainder of the book.\n",
    "\n",
    "\\begin{theorem}[Mean value theorem]\n",
    "If $f\\in C^{0}[a,b]$ and $f$ is differentiable on $(a,b)$, then there exists $c\\in(a,b)$ such that $f'(c)=\\frac{f(b)-f(a)}{b-a}$.\n",
    "\\end{theorem}"
   ]
  },
  {
   "cell_type": "markdown",
   "id": "c6de8021",
   "metadata": {},
   "source": [
    "\\begin{theorem}[Extreme value theorem]\n",
    "If $f\\in C^{0}[a,b]$ then the function attains a minimum and maximum\n",
    "value over $[a,b].$ If $f$ is differentiable on $(a,b),$ then the\n",
    "extreme values occur either at the endpoints $a,b$ or where $f'$\n",
    "is zero.\n",
    "\\end{theorem}"
   ]
  },
  {
   "cell_type": "markdown",
   "id": "ec80c970",
   "metadata": {},
   "source": [
    "\\begin{theorem}[Intermediate value theorem]\n",
    "If $f\\in C^{0}[a,b]$ and $K$ is any number between $f(a)$ and\n",
    "$f(b)$, then there exists $c\\in(a,b)$ with $f(c)=K$.\n",
    "\\end{theorem}"
   ]
  },
  {
   "cell_type": "markdown",
   "id": "23010e11",
   "metadata": {},
   "source": [
    "\\begin{theorem}[Taylor's theorem]\n",
    "Suppose $f\\in C^{n}[a,b]$ and $f^{(n+1)}$ exists on $(a,b),$\n",
    "and $x_{0}\\in(a,b).$ Then, for $x\\in (a,b)$\n",
    "\\begin{equation*}\n",
    "f(x)=P_{n}(x)+R_{n}(x)\n",
    "\\end{equation*}\n",
    "where $P_{n}$ is the $n$th order Taylor polynomial\n",
    "\\begin{equation*}\n",
    "P_{n}(x)=f(x_{0})+f'(x_{0})(x-x_{0})+f''(x_{0})\\frac{(x-x_{0})^{2}}{2!}+...+f^{(n)}(x_{0})\\frac{(x-x_{0})^{n}}{n!}\n",
    "\\end{equation*}\n",
    "and $R_{n}$ is the remainder term\n",
    "\\begin{equation*}\n",
    "R_{n}(x)=f^{(n+1)}(\\xi)\\frac{(x-x_{0})^{n+1}}{(n+1)!}\n",
    "\\end{equation*}\n",
    "for some $\\xi$ between $x$ and $x_{0}$.\n",
    "\\end{theorem}"
   ]
  },
  {
   "cell_type": "markdown",
   "id": "29735aef",
   "metadata": {},
   "source": [
    "\\begin{example}\n",
    "Let $f(x)=x\\cos x -x.$\n",
    "\n",
    "1. Find $P_{3}(x)$ about $x_{0}=\\pi/2$ and use it to approximate $f(0.8).$\n",
    "2. Compute the exact value for $f(0.8)$, and the error $|f(0.8)-P_{3}(0.8)|.$\n",
    "3. Use the remainder term $R_{3}(x)$ to find an upper bound for the error $|f(0.8)-P_{3}(0.8)|.$ Compare the upper bound with the actual error found in part 2.    \n",
    "\\end{example}\n",
    "\n",
    "\n",
    "\n",
    "**Solution.**\n",
    "1. First note that $f(\\pi/2)=-\\pi/2$.\n",
    "    Differentiating $f$ we get:\n",
    "    \\begin{align*}\n",
    "    f'(x) & =\\cos x - x \\sin x -1 \\Rightarrow f'(\\pi/2)=-\\pi/2-1\\\\\n",
    "    f''(x) & =-2\\sin x -x \\cos x \\Rightarrow f''(\\pi/2)=-2\\\\\n",
    "    f'''(x) & =-3 \\cos x+x \\sin x\\Rightarrow f'''(\\pi/2)=\\pi/2.\n",
    "    \\end{align*}\n",
    "    Therefore\n",
    "    \\begin{equation*}\n",
    "    P_{3}(x)=-\\pi/2-(\\pi/2+1)(x-\\pi/2)-(x-\\pi/2)^2+\\frac{\\pi}{12} (x-\\pi/2)^3.\n",
    "    \\end{equation*}\n",
    "    Then we approximate $f(0.8)$ by\n",
    "    $P_{3}(0.8)=-0.3033$ (using 4-digits with rounding).\n",
    "    \n",
    "2. The exact value is $f(0.8)=-0.2426$ and the absolute error is $|f(0.8)-P_{3}(0.8)|=0.06062$.\n",
    "\n",
    "3. To find an upper bound for the error, write\n",
    "    \\begin{equation*}\n",
    "    |f(0.8)-P_{3}(0.8)|=|R_{3}(0.8)|\n",
    "    \\end{equation*}\n",
    "    where\n",
    "    \\begin{equation*}\n",
    "    R_{3}(0.8)=f^{(4)}(\\xi)\\frac{(0.8-\\pi/2)^{4}}{4!}\n",
    "    \\end{equation*}\n",
    "    and $\\xi$ is between $0.8$ and $\\pi/2$. We need to differentiate $f$\n",
    "    one more time: $f^{(4)}(x)=4\\sin x +x \\cos x.$\n",
    "    Since $0.8<\\xi<\\pi/2$, we can find an upper bound for $f^{(4)}(x),$\n",
    "    and thus an upper bound for $R_{3}(0.8),$ using triangle inequality:\n",
    "    \\begin{align*}\n",
    "    \\left|R_{3}(0.8)\\right| & =\\left|f^{(4)}(\\xi)\\frac{(0.8-\\pi/2)^{4}}{4!}\\right|=\\left|4 \\sin\\xi + \\xi \\cos \\xi\\right|(0.01471)\\\\\n",
    "     & \\leq 0.05883 | \\sin \\xi | + 0.01471 |\\xi| |\\cos \\xi|.\n",
    "    \\end{align*}\n",
    "    Note that on $0.8<\\xi<\\pi/2$, $\\sin\\xi$ is a positive increasing\n",
    "    function, and $|\\sin(\\xi)|<\\sin(\\pi/2)=1$. For the second term, we can\n",
    "    find an upper bound by observing $|\\xi|$ attains a maximum\n",
    "    value of $\\pi/2$ on $0.8<\\xi<\\pi/2$, and $\\cos\\xi$, which is a decreasing positive function on $0.8<\\xi<\\pi/2$, has a maximum value\n",
    "    of $\\cos{(0.8)}=0.6967$. Putting these together, we\n",
    "    get\n",
    "    \\begin{equation*}\n",
    "    \\left|R_{3}(0.8)\\right| < 0.05883 (1) + (0.01471) (\\pi/2) (0.6967) \\approx 0.07493.\n",
    "    \\end{equation*}\n",
    "    Therefore, our estimate for the actual error (which is 0.06062 from part 2) is 0.07493."
   ]
  },
  {
   "cell_type": "markdown",
   "id": "12093fe6",
   "metadata": {},
   "source": [
    "\\begin{exercise}\\label{ex:1.1-1}\n",
    "Find the second order Taylor polynomial for $f(x)=e^{x}\\sin x$ about $x_{0}=0$.\n",
    "\n",
    "a. Compute $P_{2}(0.4)$ to approximate $f(0.4)$. Use the remainder term $R_{2}(0.4)$ to find an upper bound for the error $|P_{2}(0.4)-f(0.4)|$. Compare the upper bound with the actual error.\n",
    "\n",
    "b. Compute $\\int_{0}^{1}P_{2}(x)dx$ to approximate $\\int_{0}^{1}f(x)dx$. Find an upper bound for the error using $\\int_{0}^{1}R_{2}(x)dx$,\n",
    "and compare it to the actual error.\n",
    "\\end{exercise}"
   ]
  }
 ],
 "metadata": {
  "kernelspec": {
   "display_name": "Python 3 (ipykernel)",
   "language": "python",
   "name": "python3"
  },
  "language_info": {
   "codemirror_mode": {
    "name": "ipython",
    "version": 3
   },
   "file_extension": ".py",
   "mimetype": "text/x-python",
   "name": "python",
   "nbconvert_exporter": "python",
   "pygments_lexer": "ipython3",
   "version": "3.9.7"
  },
  "latex_envs": {
   "LaTeX_envs_menu_present": true,
   "autoclose": false,
   "autocomplete": true,
   "bibliofile": "biblio.bib",
   "cite_by": "apalike",
   "current_citInitial": 1,
   "eqLabelWithNumbers": true,
   "eqNumInitial": 1,
   "hotkeys": {
    "equation": "Ctrl-E",
    "itemize": "Ctrl-I"
   },
   "labels_anchors": false,
   "latex_user_defs": false,
   "report_style_numbering": false,
   "user_envs_cfg": false
  }
 },
 "nbformat": 4,
 "nbformat_minor": 5
}
