{
 "cells": [
  {
   "cell_type": "markdown",
   "id": "482c2adc",
   "metadata": {},
   "source": [
    "# 2.2 Bisection method"
   ]
  },
  {
   "cell_type": "markdown",
   "id": "d5e9febd",
   "metadata": {},
   "source": [
    "Let's recall the Intermediate Value Theorem (IVT): If a continuous\n",
    "function $f$ defined on $[a,b]$ satisfies $f(a)f(b)<0,$ then\n",
    "there exists $p\\in[a,b]$ such that $f(p)=0.$\n",
    "\n",
    "Here is the idea behind the method. At each iteration, divide the\n",
    "interval $[a,b]$ into two subintervals and evaluate $f$ at the midpoint.\n",
    "Discard the subinterval that does not contain the root and continue\n",
    "with the other interval."
   ]
  },
  {
   "cell_type": "markdown",
   "id": "c794e4e9",
   "metadata": {},
   "source": [
    "\\begin{example}\\label{example:chap2_exa26}\n",
    "Compute the first three iterations by hand for the function plotted in the following figure.\n",
    "![](images/bisection_eg.png)\n",
    "*Step 1*: To start, we need to pick an interval $[a,b]$ that contains the root, that is, $f(a)f(b)<0$. From the plot, it is clear that $[0,4]$ is a possible choice. In the next few steps, we will be working with a sequence of intervals. For convenience, let's label them as $[a,b]=[a_1,b_1],[a_2,b_2],[a_3,b_3],$ etc. Our first interval is then $[a_1,b_1]=[0,4]$. Next we find the midpoint of the interval, $p_1=4/2=2,$ and use it to obtain two subintervals $[0,2]$ and $[2,4]$. Only one of them contains the root, and that is $[2,4]$.\n",
    "\n",
    "*Step 2*: From the previous step, our current interval is $[a_2,b_2]=[2,4]$. We find the midpoint [^1] $p_2=\\frac{2+4}{2}=3$, and form the subintervals $[2,3],[3,4]$. The one that contains the root is $[3,4]$.\n",
    "\n",
    "*Step 3*: We have $[a_3,b_3]=[3,4]$. The midpoint is $p_3=3.5$. We are now pretty close to the root visually, and we stop the calculations!\n",
    "\\end{example}"
   ]
  },
  {
   "cell_type": "markdown",
   "id": "fe319e06",
   "metadata": {},
   "source": [
    "In this simple example, we did not consider\n",
    "- Stopping criteria\n",
    "- It's possible that the stopping criterion is not satisfied in a reasonable amount of time. We need a maximum number of iterations we are willing to run the code with."
   ]
  },
  {
   "cell_type": "markdown",
   "id": "4f7d0d13",
   "metadata": {},
   "source": [
    "\\begin{remark}\\label{rem:chap2_rem27}\n",
    "\\begin{itemize}\n",
    "\n",
    "\\item A numerically more stable formula to compute the midpoint is $a+\\frac{b-a}{2}$ (see Example 7 in Chapter 1-3).\n",
    "\\item There is a convenient stopping criterion for the bisection method\n",
    "   that was not mentioned before. One can stop when the interval $[a,b]$\n",
    "   at step $n$ is such that $|a-b|<\\epsilon$. This is similar to the\n",
    "   first stopping criterion discussed earlier, but not the same. One can also use more than one stopping criterion; an example    is in the Python code that follows.\n",
    "\\end{itemize}\n",
    "\\end{remark}"
   ]
  },
  {
   "cell_type": "markdown",
   "id": "f0cf9533",
   "metadata": {},
   "source": [
    "## Python code for the bisection method"
   ]
  },
  {
   "cell_type": "markdown",
   "id": "3c6b77e1",
   "metadata": {},
   "source": [
    "In Example \\ref{example:chap2_exa26}, we kept track of the intervals and midpoints obtained from the bisection method, by labeling them as $[a_1,b_1],[a_2,b_2],...,$ and $p_1,p_2,...$. So at step $n$ of the method, we know we are working on the interval $[a_n, b_n]$ and its midpoint is $p_n$. This approach will be useful when we study the convergence of the method in the next theorem. However, keeping track of the intervals and midpoints is not needed in the computer code. Instead, in the Python code below, we will let $[a,b]$ be the current interval we are working on, and when we obtain a new interval in the following step, we will simply call the new interval $[a,b]$, overwriting the old one. Similarly, we will call the midpoint $p$, and update it at each step."
   ]
  },
  {
   "cell_type": "code",
   "execution_count": 1,
   "id": "7f2a4fd2",
   "metadata": {},
   "outputs": [],
   "source": [
    "import numpy as np"
   ]
  },
  {
   "cell_type": "code",
   "execution_count": 2,
   "id": "ec391047",
   "metadata": {},
   "outputs": [],
   "source": [
    "def bisection(f, a, b, eps, N):\n",
    "    \"\"\"\n",
    "    Perform the bisection method\n",
    "    input:\n",
    "    f: function, the function f\n",
    "    a, b: float, the left and right ends\n",
    "    eps: float, the tolerance; once (b-a)<eps, stop\n",
    "    N: int, the maximum number of steps to run the algorithm\n",
    "    \"\"\"\n",
    "    n = 1\n",
    "    p = 0. # to ensure the value of p carries out of the while loop\n",
    "    while n <= N:\n",
    "        p = a + (b-a)/2\n",
    "        if np.isclose(f(p), 0) or np.abs(a-b)<eps:\n",
    "            print('p is ', p, ' and the iteration number is ', n)\n",
    "            return\n",
    "        if f(a)*f(p) < 0:\n",
    "            b = p\n",
    "        else:\n",
    "            a = p\n",
    "        n += 1\n",
    "    y = f(p)\n",
    "    print('Method did not converge. The last iteration gives ', \n",
    "          p, ' with function value ', y)"
   ]
  },
  {
   "cell_type": "markdown",
   "id": "3d25ed32",
   "metadata": {},
   "source": [
    " Let's use the bisection method to find the root of\n",
    "$f(x)=x^5+2x^3-5x-2$, with $\\epsilon=10^{-4}$. Note that $[0,2]$\n",
    "contains a root, since $f(0)<0$ and $f(2)>0$. We set $N=20$ below."
   ]
  },
  {
   "cell_type": "code",
   "execution_count": 3,
   "id": "0a77cc1b",
   "metadata": {},
   "outputs": [
    {
     "name": "stdout",
     "output_type": "stream",
     "text": [
      "p is  1.319671630859375  and the iteration number is  16\n"
     ]
    }
   ],
   "source": [
    "bisection(lambda x: x**5+2*x**3-5*x-2, 0, 2, 1e-4, 20)"
   ]
  },
  {
   "cell_type": "markdown",
   "id": "cdf679b4",
   "metadata": {},
   "source": [
    " The value of the function at the estimated root is:"
   ]
  },
  {
   "cell_type": "code",
   "execution_count": 4,
   "id": "11a2ca4f",
   "metadata": {},
   "outputs": [
    {
     "data": {
      "text/plain": [
       "0.000627945623044468"
      ]
     },
     "execution_count": 4,
     "metadata": {},
     "output_type": "execute_result"
    }
   ],
   "source": [
    "x = 1.319671630859375\n",
    "x**5+2*x**3-5*x-2"
   ]
  },
  {
   "cell_type": "markdown",
   "id": "eb26838c",
   "metadata": {},
   "source": [
    " Let's see what happens if \\(N\\) is set too small and the method does not\n",
    "converge."
   ]
  },
  {
   "cell_type": "code",
   "execution_count": 5,
   "id": "4129f430",
   "metadata": {},
   "outputs": [
    {
     "name": "stdout",
     "output_type": "stream",
     "text": [
      "Method did not converge. The last iteration gives  1.3125  with function value  -0.14562511444091797\n"
     ]
    }
   ],
   "source": [
    "bisection(lambda x: x**5+2*x**3-5*x-2, 0, 2, 1e-4, 5)"
   ]
  },
  {
   "cell_type": "markdown",
   "id": "f60e27d5",
   "metadata": {},
   "source": [
    "\\begin{theorem}\\label{theo:chap2_thm28}\n",
    "Suppose that $f\\in C^0[a,b]$ and $f(a)f(b)<0$. The bisection method\n",
    "generates a sequence $\\{p_{n}\\}$ approximating a zero $p$ of $f(x)$\n",
    "with\n",
    "\\begin{equation*}\n",
    "|p_{n}-p|\\leq\\frac{{b-a}}{2^{n}},n\\geq1.\n",
    "\\end{equation*}\n",
    "\\end{theorem}"
   ]
  },
  {
   "cell_type": "markdown",
   "id": "b4309f1a",
   "metadata": {},
   "source": [
    "\\begin{proof}\n",
    "Let the sequences $\\{a_{n}\\}$ and $\\{b_{n}\\}$ denote the left-end\n",
    "and right-end points of the subintervals generated by the bisection\n",
    "method. Since at each step the interval is halved, we have\n",
    "\\begin{equation*}\n",
    "b_{n}-a_{n}=\\frac{1}{2}(b_{n-1}-a_{n-1}).\n",
    "\\end{equation*}\n",
    "By mathematical induction, we get\n",
    "\\begin{equation*}\n",
    "b_{n}-a_{n}=\\frac{1}{2}(b_{n-1}-a_{n-1})=\\frac{1}{2^{2}}(b_{n-2}-a_{n-2})=...=\\frac{1}{2^{n-1}}(b_{1}-a_{1}).\n",
    "\\end{equation*}\n",
    "Therefore $b_{n}-a_{n}=\\frac{1}{2^{n-1}}(b-a).$ Observe that\n",
    "\\begin{equation}\\label{eq:bisection_bound}\n",
    "|p_{n}-p|\\leq\\frac{1}{2}(b_{n}-a_{n})=\\frac{1}{2^{n}}(b-a)\n",
    "\\end{equation}\n",
    "and thus $|p_{n}-p|\\rightarrow0$ as $n\\rightarrow\\infty$.\n",
    "\\end{proof}"
   ]
  },
  {
   "cell_type": "markdown",
   "id": "3eb8ec65",
   "metadata": {},
   "source": [
    "\\begin{corollary}\\label{cor:chap2_cor29}\n",
    "The bisection method has linear convergence.\n",
    "\\end{corollary}"
   ]
  },
  {
   "cell_type": "markdown",
   "id": "73bbb6c1",
   "metadata": {},
   "source": [
    "\\begin{proof}\n",
    "The bisection method does not satisfy Eqn. (1) in Chapter 2-1 for any $C<1$, but it satisfies a variant of Eqn. (2) in Chapter 2-1 with $C=1/2$ from the previous theorem.\n",
    "\\end{proof}"
   ]
  },
  {
   "cell_type": "markdown",
   "id": "2d1cb0d5",
   "metadata": {},
   "source": [
    "**Finding the number of iterations to obtain a specified accuracy:**  Can we find $n$ that will ensure $|p_{n}-p|\\leq10^{-L}$\n",
    "for some given $L$?"
   ]
  },
  {
   "cell_type": "markdown",
   "id": "d0b6d519",
   "metadata": {},
   "source": [
    "We have, from the proof of the previous theorem (see \\eqref{eq:bisection_bound}) : $|p_{n}-p|\\leq \\frac{1}{2^{n}}(b-a)$.\n",
    "Therefore, we can make $|p_{n}-p|\\leq10^{-L}$, by choosing $n$ large enough so that the upper bound $\\frac{1}{2^{n}}(b-a)$ is less than $10^{-L}:$\n",
    "\\begin{equation*}\n",
    "\\frac{1}{2^{n}}(b-a)\\leq10^{-L}\\Rightarrow n\\geq\\log_{2}\\left(\\frac{b-a}{10^{-L}}\\right).\n",
    "\\end{equation*}"
   ]
  },
  {
   "cell_type": "markdown",
   "id": "32a7a29a",
   "metadata": {},
   "source": [
    "\\begin{example}\\label{example:chap2_exa30}\n",
    "Determine the number of iterations necessary to solve $f(x)=x^5+2x^{3}-5x-2=0$\n",
    "with accuracy $10^{-4},a=0,b=2$.\n",
    "\\end{example}"
   ]
  },
  {
   "cell_type": "markdown",
   "id": "1ee61078",
   "metadata": {},
   "source": [
    "**Solution.**\n",
    "\n",
    "Since $n\\geq\\log_{2}\\left(\\frac{2}{10^{-4}}\\right)=4\\log_{2}10+1=14.3$,\n",
    "the number of required iterations is 15."
   ]
  },
  {
   "cell_type": "markdown",
   "id": "32127f56",
   "metadata": {},
   "source": [
    "**Exercise 2.2-1**\n",
    "\n",
    "Find the root of $f(x)=x^{3}+4x^{2}-10$ using the bisection method, with the following specifications:\n",
    "\n",
    "a. Modify the Python code for the bisection method so that the only stopping criterion is whether $f(p)=0$ (remove the other criterion from the code). Also, add a print statement to the code, so that every time a new $p$ is computed, Python prints the value of $p$ and the iteration number.\n",
    "\n",
    "b. Find the number of iterations $N$ necessary to obtain an accuracy of $10^{-4}$ for the root, using the theoretical results of Chapter 2-2. (The function $f(x)$ has one real root in $(1,2)$, so set $a=1,b=2$.)\n",
    "\n",
    "c. Run the code using the value for $N$ obtained in part (b) to compute $p_{1},p_{2},...,p_{N}$ (set $a=1,b=2$ in the modified Python code).\n",
    "\n",
    "d. The actual root, correct to six digits, is $p=1.36523$. Find the absolute error when $p_N$ is used to approximate the actual root, that is, find $|p-p_N|$. Compare this error, with the upper bound for the error used in part (b)."
   ]
  },
  {
   "cell_type": "markdown",
   "id": "5195275a",
   "metadata": {},
   "source": [
    "**Exercise 2.2-2**\n",
    "\n",
    "Find an approximation to $25^{1/3}$ correct to within $10^{-5}$\n",
    "using the bisection algorithm, following the steps below:\n",
    "\n",
    "a. First express the problem as $f(x)=0$ with $p=25^{1/3}$ the root.\n",
    "\n",
    "b. Find an interval $(a,b)$ that contains the root, using Intermediate Value Theorem.\n",
    "\n",
    "c. Determine, analytically, the number of iterations necessary to obtain the accuracy of $10^{-5}$.\n",
    "\n",
    "d. Use the Python code for the bisection method to compute the iterate from (c), and compare the actual absolute error with $10^{-5}$."
   ]
  },
  {
   "cell_type": "markdown",
   "id": "0d7561de",
   "metadata": {},
   "source": [
    "[^1]: Notice how we label the midpoints, as well as the endpoints of the interval, with the step number."
   ]
  }
 ],
 "metadata": {
  "kernelspec": {
   "display_name": "Python 3 (ipykernel)",
   "language": "python",
   "name": "python3"
  },
  "language_info": {
   "codemirror_mode": {
    "name": "ipython",
    "version": 3
   },
   "file_extension": ".py",
   "mimetype": "text/x-python",
   "name": "python",
   "nbconvert_exporter": "python",
   "pygments_lexer": "ipython3",
   "version": "3.9.7"
  },
  "latex_envs": {
   "LaTeX_envs_menu_present": true,
   "autoclose": false,
   "autocomplete": true,
   "bibliofile": "biblio.bib",
   "cite_by": "apalike",
   "current_citInitial": 1,
   "eqLabelWithNumbers": true,
   "eqNumInitial": 1,
   "hotkeys": {
    "equation": "Ctrl-E",
    "itemize": "Ctrl-I"
   },
   "labels_anchors": false,
   "latex_user_defs": false,
   "report_style_numbering": false,
   "user_envs_cfg": false
  }
 },
 "nbformat": 4,
 "nbformat_minor": 5
}
